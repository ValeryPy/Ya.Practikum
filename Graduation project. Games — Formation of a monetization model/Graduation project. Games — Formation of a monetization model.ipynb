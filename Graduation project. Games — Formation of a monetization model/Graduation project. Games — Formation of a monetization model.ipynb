{
 "cells": [
  {
   "cell_type": "markdown",
   "id": "970d2416",
   "metadata": {},
   "source": [
    "# Игры — Формирование модели монетизации"
   ]
  },
  {
   "cell_type": "markdown",
   "id": "5c21e8ae",
   "metadata": {},
   "source": [
    "## Описание проекта"
   ]
  },
  {
   "cell_type": "markdown",
   "id": "09be5055",
   "metadata": {},
   "source": [
    "**Основная задача проекта** - сформировать модель монетизации игрового приложения.\n",
    "\n",
    "Многие игры зарабатывают с помощью рекламы. И все они сталкиваются с противоречием;\n",
    "\n",
    "- Пользователь разозлится и уйдёт, если начать показывать ему рекламу раньше, чем игра его затянет.\n",
    "- Но  чем позже создатели игры включат рекламу, тем меньше они заработают.\n",
    " \n",
    "**Этапы проекта:**\n",
    "\n",
    "1. Провести исследовательский анализ данных;\n",
    "\n",
    "2. Проанализировать влияние событий на совершение целевого действия\n",
    "\n",
    "3. Оценить окупаемость рекламы\n",
    "\n",
    "4. Проверить статистические гипотезы:\n",
    "\n",
    "    - Проверить гипотезу различия времени прохождения уровня между пользователями, которые заканчивают уровень через реализацию проекта, и пользователями, которые заканчивают уровень победой над другим игроком.\n",
    "    - Проверить статистически значимые различия в количестве рекламных показов по старой модели и по новой модели."
   ]
  },
  {
   "cell_type": "markdown",
   "id": "aefbef3f",
   "metadata": {},
   "source": [
    "### Описание данных"
   ]
  },
  {
   "cell_type": "markdown",
   "id": "70e31d28",
   "metadata": {},
   "source": [
    "В датасете содержатся данные первых пользователей приложения — когорты пользователей, которые начали пользоваться приложением в период с 4 по 10 мая включительно.\n",
    "\n",
    "Датасет *game_actions.csv*:\n",
    "\n",
    "- `event_datetime` — время события;\n",
    "- `event` — одно из трёх событий:\n",
    "    1. `building` — объект построен,\n",
    "    2. `finished_stage_1` — первый уровень завершён,\n",
    "    3. `project` — проект завершён;\n",
    "- `building_type` — один из трёх типов здания:\n",
    "    1. `assembly_shop` — сборочный цех,\n",
    "    2. `spaceport` — космопорт,\n",
    "    3. `research_center` — исследовательский центр;\n",
    "- `user_id` — идентификатор пользователя;\n",
    "- `project_type` — тип реализованного проекта;\n",
    "\n",
    "Помимо основного датасета есть два датасета с информацией о рекламных активностях. Они также помогут в решении задачи.\n",
    "\n",
    "Датасет *ad_costs.csv* содержит колонки:\n",
    "\n",
    "- `day` - день, в который был совершен клик по объявлению\n",
    "- `source` - источник трафика\n",
    "- `cost` - стоимость кликов\n",
    "\n",
    "Датасет user_source.csv содержит колонки:\n",
    "\n",
    "- `user_id` - идентификатор пользователя\n",
    "- `source` - источников, с которого пришёл пользователь, установивший приложение"
   ]
  },
  {
   "cell_type": "markdown",
   "id": "ec500b21",
   "metadata": {},
   "source": [
    "## Вывод"
   ]
  },
  {
   "cell_type": "markdown",
   "id": "bfb8dc13",
   "metadata": {},
   "source": [
    "- В среднем, скорость прохождения уровня при стратегии, по которой происходит победа над противником выше. \n",
    "\n",
    "- Количество рекламы по новой модели должно увеличиться, не сильно влияя на вовлеченность. \n",
    "        \n",
    "**Вывод по исследованию:**\n",
    "\n",
    "   Исходя из полученных данных мы делаем вывод, что привязка монетизации к демонстрации рекламы во время нахождения игрока в режиме строительства сохраняет за заказчиком контроль окупаемости, но без проведения эксперимента мы не можем сделать выводы о сохранении вовлеченности игроков при такой модели.  \n",
    "    \n",
    "   Была предложена модель, при которой демонстрация рекламы частично производится на экране строительства (когда, например, игрок строит `spaceport` и когда игрок сам контролирует возможность просмотра рекламы и получает за это выгоду). Опять-таки для такой модели так же нужно провести эксперимент. \n",
    "    \n",
    "   Есть еще одна побочная модель, при которой игрок смотрит рекламу ограниченно и монетизация производится только за счет решения игрока. Она должна быть столько же выгодной и при этом увлекать игрока, потому что показы он контролирует сам. \n",
    "    "
   ]
  },
  {
   "cell_type": "markdown",
   "id": "b910a1eb",
   "metadata": {},
   "source": [
    "## Шаг 1. Загрузка данных и подготовка их к анализу"
   ]
  },
  {
   "cell_type": "markdown",
   "id": "b29becb8",
   "metadata": {},
   "source": [
    "### Импорт библиотек"
   ]
  },
  {
   "cell_type": "code",
   "execution_count": 1,
   "id": "6a2b8437",
   "metadata": {},
   "outputs": [],
   "source": [
    "import pandas as pd #для обработки и анализа данных\n",
    "import numpy as np #поддержка таблиц и математических функций\n",
    "import datetime as dt #для работы с датой и временем\n",
    "from datetime import datetime \n",
    "from datetime import timedelta#для проведений манипуляций и расчетов со временем и отображения продолжительности\n",
    "from matplotlib import pyplot as plt #для визуализации данных\n",
    "import seaborn as sns\n",
    "import scipy.stats as sts#для статистических расчетов\n",
    "import math as mth #для работы с математическими функциями и константами"
   ]
  },
  {
   "cell_type": "markdown",
   "id": "581d9fa8",
   "metadata": {},
   "source": [
    "### Загрузка данных"
   ]
  },
  {
   "cell_type": "code",
   "execution_count": 2,
   "id": "376a99ac",
   "metadata": {},
   "outputs": [],
   "source": [
    "#Загрузка данных:\n",
    "ad_costs = pd.read_csv(r'C:\\Users\\Leron\\Desktop\\my\\project\\all_projects\\ad_costs.csv')\n",
    "game_actions = pd.read_csv(r'C:\\Users\\Leron\\Desktop\\my\\project\\all_projects\\game_actions.csv')\n",
    "user_source = pd.read_csv(r'C:\\Users\\Leron\\Desktop\\my\\project\\all_projects\\user_source.csv')\n",
    "# Cимвол r - префикс, который указывает, что специальные символы в виде\\ не должны оцениваться.\n",
    "# Ошибка, которая может возникнуть без использования этого префикса связана с тем, что в Windows и Linux\n",
    "# разные разделители путей."
   ]
  },
  {
   "cell_type": "code",
   "execution_count": 3,
   "id": "c1132294",
   "metadata": {},
   "outputs": [
    {
     "data": {
      "text/html": [
       "<div>\n",
       "<style scoped>\n",
       "    .dataframe tbody tr th:only-of-type {\n",
       "        vertical-align: middle;\n",
       "    }\n",
       "\n",
       "    .dataframe tbody tr th {\n",
       "        vertical-align: top;\n",
       "    }\n",
       "\n",
       "    .dataframe thead th {\n",
       "        text-align: right;\n",
       "    }\n",
       "</style>\n",
       "<table border=\"1\" class=\"dataframe\">\n",
       "  <thead>\n",
       "    <tr style=\"text-align: right;\">\n",
       "      <th></th>\n",
       "      <th>source</th>\n",
       "      <th>day</th>\n",
       "      <th>cost</th>\n",
       "    </tr>\n",
       "  </thead>\n",
       "  <tbody>\n",
       "    <tr>\n",
       "      <th>0</th>\n",
       "      <td>facebook_ads</td>\n",
       "      <td>2020-05-03</td>\n",
       "      <td>935.882786</td>\n",
       "    </tr>\n",
       "    <tr>\n",
       "      <th>1</th>\n",
       "      <td>facebook_ads</td>\n",
       "      <td>2020-05-04</td>\n",
       "      <td>548.354480</td>\n",
       "    </tr>\n",
       "    <tr>\n",
       "      <th>2</th>\n",
       "      <td>facebook_ads</td>\n",
       "      <td>2020-05-05</td>\n",
       "      <td>260.185754</td>\n",
       "    </tr>\n",
       "    <tr>\n",
       "      <th>3</th>\n",
       "      <td>facebook_ads</td>\n",
       "      <td>2020-05-06</td>\n",
       "      <td>177.982200</td>\n",
       "    </tr>\n",
       "    <tr>\n",
       "      <th>4</th>\n",
       "      <td>facebook_ads</td>\n",
       "      <td>2020-05-07</td>\n",
       "      <td>111.766796</td>\n",
       "    </tr>\n",
       "    <tr>\n",
       "      <th>5</th>\n",
       "      <td>facebook_ads</td>\n",
       "      <td>2020-05-08</td>\n",
       "      <td>68.009276</td>\n",
       "    </tr>\n",
       "    <tr>\n",
       "      <th>6</th>\n",
       "      <td>facebook_ads</td>\n",
       "      <td>2020-05-09</td>\n",
       "      <td>38.723350</td>\n",
       "    </tr>\n",
       "    <tr>\n",
       "      <th>7</th>\n",
       "      <td>instagram_new_adverts</td>\n",
       "      <td>2020-05-03</td>\n",
       "      <td>943.204717</td>\n",
       "    </tr>\n",
       "    <tr>\n",
       "      <th>8</th>\n",
       "      <td>instagram_new_adverts</td>\n",
       "      <td>2020-05-04</td>\n",
       "      <td>502.925451</td>\n",
       "    </tr>\n",
       "    <tr>\n",
       "      <th>9</th>\n",
       "      <td>instagram_new_adverts</td>\n",
       "      <td>2020-05-05</td>\n",
       "      <td>313.970984</td>\n",
       "    </tr>\n",
       "    <tr>\n",
       "      <th>10</th>\n",
       "      <td>instagram_new_adverts</td>\n",
       "      <td>2020-05-06</td>\n",
       "      <td>173.071145</td>\n",
       "    </tr>\n",
       "    <tr>\n",
       "      <th>11</th>\n",
       "      <td>instagram_new_adverts</td>\n",
       "      <td>2020-05-07</td>\n",
       "      <td>109.915254</td>\n",
       "    </tr>\n",
       "    <tr>\n",
       "      <th>12</th>\n",
       "      <td>instagram_new_adverts</td>\n",
       "      <td>2020-05-08</td>\n",
       "      <td>71.578739</td>\n",
       "    </tr>\n",
       "    <tr>\n",
       "      <th>13</th>\n",
       "      <td>instagram_new_adverts</td>\n",
       "      <td>2020-05-09</td>\n",
       "      <td>46.775400</td>\n",
       "    </tr>\n",
       "    <tr>\n",
       "      <th>14</th>\n",
       "      <td>yandex_direct</td>\n",
       "      <td>2020-05-03</td>\n",
       "      <td>969.139394</td>\n",
       "    </tr>\n",
       "    <tr>\n",
       "      <th>15</th>\n",
       "      <td>yandex_direct</td>\n",
       "      <td>2020-05-04</td>\n",
       "      <td>554.651494</td>\n",
       "    </tr>\n",
       "    <tr>\n",
       "      <th>16</th>\n",
       "      <td>yandex_direct</td>\n",
       "      <td>2020-05-05</td>\n",
       "      <td>308.232990</td>\n",
       "    </tr>\n",
       "    <tr>\n",
       "      <th>17</th>\n",
       "      <td>yandex_direct</td>\n",
       "      <td>2020-05-06</td>\n",
       "      <td>180.917099</td>\n",
       "    </tr>\n",
       "    <tr>\n",
       "      <th>18</th>\n",
       "      <td>yandex_direct</td>\n",
       "      <td>2020-05-07</td>\n",
       "      <td>114.429338</td>\n",
       "    </tr>\n",
       "    <tr>\n",
       "      <th>19</th>\n",
       "      <td>yandex_direct</td>\n",
       "      <td>2020-05-08</td>\n",
       "      <td>62.961630</td>\n",
       "    </tr>\n",
       "    <tr>\n",
       "      <th>20</th>\n",
       "      <td>yandex_direct</td>\n",
       "      <td>2020-05-09</td>\n",
       "      <td>42.779505</td>\n",
       "    </tr>\n",
       "    <tr>\n",
       "      <th>21</th>\n",
       "      <td>youtube_channel_reklama</td>\n",
       "      <td>2020-05-03</td>\n",
       "      <td>454.224943</td>\n",
       "    </tr>\n",
       "    <tr>\n",
       "      <th>22</th>\n",
       "      <td>youtube_channel_reklama</td>\n",
       "      <td>2020-05-04</td>\n",
       "      <td>259.073224</td>\n",
       "    </tr>\n",
       "    <tr>\n",
       "      <th>23</th>\n",
       "      <td>youtube_channel_reklama</td>\n",
       "      <td>2020-05-05</td>\n",
       "      <td>147.041741</td>\n",
       "    </tr>\n",
       "    <tr>\n",
       "      <th>24</th>\n",
       "      <td>youtube_channel_reklama</td>\n",
       "      <td>2020-05-06</td>\n",
       "      <td>88.506074</td>\n",
       "    </tr>\n",
       "    <tr>\n",
       "      <th>25</th>\n",
       "      <td>youtube_channel_reklama</td>\n",
       "      <td>2020-05-07</td>\n",
       "      <td>55.740645</td>\n",
       "    </tr>\n",
       "    <tr>\n",
       "      <th>26</th>\n",
       "      <td>youtube_channel_reklama</td>\n",
       "      <td>2020-05-08</td>\n",
       "      <td>40.217907</td>\n",
       "    </tr>\n",
       "    <tr>\n",
       "      <th>27</th>\n",
       "      <td>youtube_channel_reklama</td>\n",
       "      <td>2020-05-09</td>\n",
       "      <td>23.314669</td>\n",
       "    </tr>\n",
       "  </tbody>\n",
       "</table>\n",
       "</div>"
      ],
      "text/plain": [
       "                     source         day        cost\n",
       "0              facebook_ads  2020-05-03  935.882786\n",
       "1              facebook_ads  2020-05-04  548.354480\n",
       "2              facebook_ads  2020-05-05  260.185754\n",
       "3              facebook_ads  2020-05-06  177.982200\n",
       "4              facebook_ads  2020-05-07  111.766796\n",
       "5              facebook_ads  2020-05-08   68.009276\n",
       "6              facebook_ads  2020-05-09   38.723350\n",
       "7     instagram_new_adverts  2020-05-03  943.204717\n",
       "8     instagram_new_adverts  2020-05-04  502.925451\n",
       "9     instagram_new_adverts  2020-05-05  313.970984\n",
       "10    instagram_new_adverts  2020-05-06  173.071145\n",
       "11    instagram_new_adverts  2020-05-07  109.915254\n",
       "12    instagram_new_adverts  2020-05-08   71.578739\n",
       "13    instagram_new_adverts  2020-05-09   46.775400\n",
       "14            yandex_direct  2020-05-03  969.139394\n",
       "15            yandex_direct  2020-05-04  554.651494\n",
       "16            yandex_direct  2020-05-05  308.232990\n",
       "17            yandex_direct  2020-05-06  180.917099\n",
       "18            yandex_direct  2020-05-07  114.429338\n",
       "19            yandex_direct  2020-05-08   62.961630\n",
       "20            yandex_direct  2020-05-09   42.779505\n",
       "21  youtube_channel_reklama  2020-05-03  454.224943\n",
       "22  youtube_channel_reklama  2020-05-04  259.073224\n",
       "23  youtube_channel_reklama  2020-05-05  147.041741\n",
       "24  youtube_channel_reklama  2020-05-06   88.506074\n",
       "25  youtube_channel_reklama  2020-05-07   55.740645\n",
       "26  youtube_channel_reklama  2020-05-08   40.217907\n",
       "27  youtube_channel_reklama  2020-05-09   23.314669"
      ]
     },
     "metadata": {},
     "output_type": "display_data"
    }
   ],
   "source": [
    "#Просмотр содержания ad_costs:\n",
    "\n",
    "display(ad_costs)"
   ]
  },
  {
   "cell_type": "code",
   "execution_count": 4,
   "id": "9ae3b2f7",
   "metadata": {},
   "outputs": [
    {
     "data": {
      "text/html": [
       "<div>\n",
       "<style scoped>\n",
       "    .dataframe tbody tr th:only-of-type {\n",
       "        vertical-align: middle;\n",
       "    }\n",
       "\n",
       "    .dataframe tbody tr th {\n",
       "        vertical-align: top;\n",
       "    }\n",
       "\n",
       "    .dataframe thead th {\n",
       "        text-align: right;\n",
       "    }\n",
       "</style>\n",
       "<table border=\"1\" class=\"dataframe\">\n",
       "  <thead>\n",
       "    <tr style=\"text-align: right;\">\n",
       "      <th></th>\n",
       "      <th>event_datetime</th>\n",
       "      <th>event</th>\n",
       "      <th>building_type</th>\n",
       "      <th>user_id</th>\n",
       "      <th>project_type</th>\n",
       "    </tr>\n",
       "  </thead>\n",
       "  <tbody>\n",
       "    <tr>\n",
       "      <th>0</th>\n",
       "      <td>2020-05-04 00:00:01</td>\n",
       "      <td>building</td>\n",
       "      <td>assembly_shop</td>\n",
       "      <td>55e92310-cb8e-4754-b622-597e124b03de</td>\n",
       "      <td>NaN</td>\n",
       "    </tr>\n",
       "    <tr>\n",
       "      <th>1</th>\n",
       "      <td>2020-05-04 00:00:03</td>\n",
       "      <td>building</td>\n",
       "      <td>assembly_shop</td>\n",
       "      <td>c07b1c10-f477-44dc-81dc-ec82254b1347</td>\n",
       "      <td>NaN</td>\n",
       "    </tr>\n",
       "    <tr>\n",
       "      <th>2</th>\n",
       "      <td>2020-05-04 00:00:16</td>\n",
       "      <td>building</td>\n",
       "      <td>assembly_shop</td>\n",
       "      <td>6edd42cc-e753-4ff6-a947-2107cd560710</td>\n",
       "      <td>NaN</td>\n",
       "    </tr>\n",
       "    <tr>\n",
       "      <th>3</th>\n",
       "      <td>2020-05-04 00:00:16</td>\n",
       "      <td>building</td>\n",
       "      <td>assembly_shop</td>\n",
       "      <td>92c69003-d60a-444a-827f-8cc51bf6bf4c</td>\n",
       "      <td>NaN</td>\n",
       "    </tr>\n",
       "    <tr>\n",
       "      <th>4</th>\n",
       "      <td>2020-05-04 00:00:35</td>\n",
       "      <td>building</td>\n",
       "      <td>assembly_shop</td>\n",
       "      <td>cdc6bb92-0ccb-4490-9866-ef142f09139d</td>\n",
       "      <td>NaN</td>\n",
       "    </tr>\n",
       "    <tr>\n",
       "      <th>...</th>\n",
       "      <td>...</td>\n",
       "      <td>...</td>\n",
       "      <td>...</td>\n",
       "      <td>...</td>\n",
       "      <td>...</td>\n",
       "    </tr>\n",
       "    <tr>\n",
       "      <th>135635</th>\n",
       "      <td>2020-06-05 00:08:06</td>\n",
       "      <td>building</td>\n",
       "      <td>research_center</td>\n",
       "      <td>f21d179f-1c4b-437e-b9c6-ab1976907195</td>\n",
       "      <td>NaN</td>\n",
       "    </tr>\n",
       "    <tr>\n",
       "      <th>135636</th>\n",
       "      <td>2020-06-05 02:25:12</td>\n",
       "      <td>finished_stage_1</td>\n",
       "      <td>NaN</td>\n",
       "      <td>515c1952-99aa-4bca-a7ea-d0449eb5385a</td>\n",
       "      <td>NaN</td>\n",
       "    </tr>\n",
       "    <tr>\n",
       "      <th>135637</th>\n",
       "      <td>2020-06-05 08:57:52</td>\n",
       "      <td>building</td>\n",
       "      <td>research_center</td>\n",
       "      <td>ed3e7d02-8a96-4be7-9998-e9813ff9c316</td>\n",
       "      <td>NaN</td>\n",
       "    </tr>\n",
       "    <tr>\n",
       "      <th>135638</th>\n",
       "      <td>2020-06-05 12:12:27</td>\n",
       "      <td>finished_stage_1</td>\n",
       "      <td>NaN</td>\n",
       "      <td>32572adb-900f-4b5d-a453-1eb1e6d88d8b</td>\n",
       "      <td>NaN</td>\n",
       "    </tr>\n",
       "    <tr>\n",
       "      <th>135639</th>\n",
       "      <td>2020-06-05 12:32:49</td>\n",
       "      <td>finished_stage_1</td>\n",
       "      <td>NaN</td>\n",
       "      <td>f21d179f-1c4b-437e-b9c6-ab1976907195</td>\n",
       "      <td>NaN</td>\n",
       "    </tr>\n",
       "  </tbody>\n",
       "</table>\n",
       "<p>135640 rows × 5 columns</p>\n",
       "</div>"
      ],
      "text/plain": [
       "             event_datetime             event    building_type  \\\n",
       "0       2020-05-04 00:00:01          building    assembly_shop   \n",
       "1       2020-05-04 00:00:03          building    assembly_shop   \n",
       "2       2020-05-04 00:00:16          building    assembly_shop   \n",
       "3       2020-05-04 00:00:16          building    assembly_shop   \n",
       "4       2020-05-04 00:00:35          building    assembly_shop   \n",
       "...                     ...               ...              ...   \n",
       "135635  2020-06-05 00:08:06          building  research_center   \n",
       "135636  2020-06-05 02:25:12  finished_stage_1              NaN   \n",
       "135637  2020-06-05 08:57:52          building  research_center   \n",
       "135638  2020-06-05 12:12:27  finished_stage_1              NaN   \n",
       "135639  2020-06-05 12:32:49  finished_stage_1              NaN   \n",
       "\n",
       "                                     user_id project_type  \n",
       "0       55e92310-cb8e-4754-b622-597e124b03de          NaN  \n",
       "1       c07b1c10-f477-44dc-81dc-ec82254b1347          NaN  \n",
       "2       6edd42cc-e753-4ff6-a947-2107cd560710          NaN  \n",
       "3       92c69003-d60a-444a-827f-8cc51bf6bf4c          NaN  \n",
       "4       cdc6bb92-0ccb-4490-9866-ef142f09139d          NaN  \n",
       "...                                      ...          ...  \n",
       "135635  f21d179f-1c4b-437e-b9c6-ab1976907195          NaN  \n",
       "135636  515c1952-99aa-4bca-a7ea-d0449eb5385a          NaN  \n",
       "135637  ed3e7d02-8a96-4be7-9998-e9813ff9c316          NaN  \n",
       "135638  32572adb-900f-4b5d-a453-1eb1e6d88d8b          NaN  \n",
       "135639  f21d179f-1c4b-437e-b9c6-ab1976907195          NaN  \n",
       "\n",
       "[135640 rows x 5 columns]"
      ]
     },
     "metadata": {},
     "output_type": "display_data"
    }
   ],
   "source": [
    "#Просмотр содержания game_actions:\n",
    "display(game_actions)"
   ]
  },
  {
   "cell_type": "code",
   "execution_count": 5,
   "id": "07522b1e",
   "metadata": {},
   "outputs": [
    {
     "data": {
      "text/html": [
       "<div>\n",
       "<style scoped>\n",
       "    .dataframe tbody tr th:only-of-type {\n",
       "        vertical-align: middle;\n",
       "    }\n",
       "\n",
       "    .dataframe tbody tr th {\n",
       "        vertical-align: top;\n",
       "    }\n",
       "\n",
       "    .dataframe thead th {\n",
       "        text-align: right;\n",
       "    }\n",
       "</style>\n",
       "<table border=\"1\" class=\"dataframe\">\n",
       "  <thead>\n",
       "    <tr style=\"text-align: right;\">\n",
       "      <th></th>\n",
       "      <th>user_id</th>\n",
       "      <th>source</th>\n",
       "    </tr>\n",
       "  </thead>\n",
       "  <tbody>\n",
       "    <tr>\n",
       "      <th>0</th>\n",
       "      <td>0001f83c-c6ac-4621-b7f0-8a28b283ac30</td>\n",
       "      <td>facebook_ads</td>\n",
       "    </tr>\n",
       "    <tr>\n",
       "      <th>1</th>\n",
       "      <td>00151b4f-ba38-44a8-a650-d7cf130a0105</td>\n",
       "      <td>yandex_direct</td>\n",
       "    </tr>\n",
       "    <tr>\n",
       "      <th>2</th>\n",
       "      <td>001aaea6-3d14-43f1-8ca8-7f48820f17aa</td>\n",
       "      <td>youtube_channel_reklama</td>\n",
       "    </tr>\n",
       "    <tr>\n",
       "      <th>3</th>\n",
       "      <td>001d39dc-366c-4021-9604-6a3b9ff01e25</td>\n",
       "      <td>instagram_new_adverts</td>\n",
       "    </tr>\n",
       "    <tr>\n",
       "      <th>4</th>\n",
       "      <td>002f508f-67b6-479f-814b-b05f00d4e995</td>\n",
       "      <td>facebook_ads</td>\n",
       "    </tr>\n",
       "    <tr>\n",
       "      <th>...</th>\n",
       "      <td>...</td>\n",
       "      <td>...</td>\n",
       "    </tr>\n",
       "    <tr>\n",
       "      <th>13571</th>\n",
       "      <td>ffef4fed-164c-40e1-bde1-3980f76d0fb5</td>\n",
       "      <td>instagram_new_adverts</td>\n",
       "    </tr>\n",
       "    <tr>\n",
       "      <th>13572</th>\n",
       "      <td>fffab3da-da0e-4e30-ae62-10d0a2e24a4e</td>\n",
       "      <td>facebook_ads</td>\n",
       "    </tr>\n",
       "    <tr>\n",
       "      <th>13573</th>\n",
       "      <td>fffb626c-5ab6-47c9-8113-2062a2f18494</td>\n",
       "      <td>yandex_direct</td>\n",
       "    </tr>\n",
       "    <tr>\n",
       "      <th>13574</th>\n",
       "      <td>ffff194a-56b7-4c12-860d-3485242ae7f5</td>\n",
       "      <td>instagram_new_adverts</td>\n",
       "    </tr>\n",
       "    <tr>\n",
       "      <th>13575</th>\n",
       "      <td>ffff69cc-fec1-4fd3-9f98-93be1112a6b8</td>\n",
       "      <td>facebook_ads</td>\n",
       "    </tr>\n",
       "  </tbody>\n",
       "</table>\n",
       "<p>13576 rows × 2 columns</p>\n",
       "</div>"
      ],
      "text/plain": [
       "                                    user_id                   source\n",
       "0      0001f83c-c6ac-4621-b7f0-8a28b283ac30             facebook_ads\n",
       "1      00151b4f-ba38-44a8-a650-d7cf130a0105            yandex_direct\n",
       "2      001aaea6-3d14-43f1-8ca8-7f48820f17aa  youtube_channel_reklama\n",
       "3      001d39dc-366c-4021-9604-6a3b9ff01e25    instagram_new_adverts\n",
       "4      002f508f-67b6-479f-814b-b05f00d4e995             facebook_ads\n",
       "...                                     ...                      ...\n",
       "13571  ffef4fed-164c-40e1-bde1-3980f76d0fb5    instagram_new_adverts\n",
       "13572  fffab3da-da0e-4e30-ae62-10d0a2e24a4e             facebook_ads\n",
       "13573  fffb626c-5ab6-47c9-8113-2062a2f18494            yandex_direct\n",
       "13574  ffff194a-56b7-4c12-860d-3485242ae7f5    instagram_new_adverts\n",
       "13575  ffff69cc-fec1-4fd3-9f98-93be1112a6b8             facebook_ads\n",
       "\n",
       "[13576 rows x 2 columns]"
      ]
     },
     "metadata": {},
     "output_type": "display_data"
    },
    {
     "name": "stdout",
     "output_type": "stream",
     "text": [
      "<class 'pandas.core.frame.DataFrame'>\n",
      "RangeIndex: 13576 entries, 0 to 13575\n",
      "Data columns (total 2 columns):\n",
      " #   Column   Non-Null Count  Dtype \n",
      "---  ------   --------------  ----- \n",
      " 0   user_id  13576 non-null  object\n",
      " 1   source   13576 non-null  object\n",
      "dtypes: object(2)\n",
      "memory usage: 212.2+ KB\n"
     ]
    }
   ],
   "source": [
    "#Просмотр содержания и типов данных для user_source:\n",
    "display(user_source)\n",
    "user_source.info()"
   ]
  },
  {
   "cell_type": "markdown",
   "id": "7415aa46",
   "metadata": {},
   "source": [
    "### Выполнение предобработки"
   ]
  },
  {
   "cell_type": "markdown",
   "id": "b4406e4b",
   "metadata": {},
   "source": [
    "####  Проверка на наличие дубликатов и пропусков. Удаление дубликатов."
   ]
  },
  {
   "cell_type": "code",
   "execution_count": 6,
   "id": "97bed305",
   "metadata": {},
   "outputs": [
    {
     "name": "stdout",
     "output_type": "stream",
     "text": [
      "Дубликаты ad_costs: 0\n",
      "Дубликаты game_actions: 1\n",
      "Дубликаты user_source: 0\n"
     ]
    }
   ],
   "source": [
    "#поиск явных дубликатов:\n",
    "print(f'Дубликаты ad_costs: {ad_costs.duplicated().sum()}')\n",
    "print(f'Дубликаты game_actions: {game_actions.duplicated().sum()}')\n",
    "print(f'Дубликаты user_source: {user_source.duplicated().sum()}')"
   ]
  },
  {
   "cell_type": "code",
   "execution_count": 7,
   "id": "2ff5d9e4",
   "metadata": {},
   "outputs": [
    {
     "data": {
      "text/html": [
       "<div>\n",
       "<style scoped>\n",
       "    .dataframe tbody tr th:only-of-type {\n",
       "        vertical-align: middle;\n",
       "    }\n",
       "\n",
       "    .dataframe tbody tr th {\n",
       "        vertical-align: top;\n",
       "    }\n",
       "\n",
       "    .dataframe thead th {\n",
       "        text-align: right;\n",
       "    }\n",
       "</style>\n",
       "<table border=\"1\" class=\"dataframe\">\n",
       "  <thead>\n",
       "    <tr style=\"text-align: right;\">\n",
       "      <th></th>\n",
       "      <th>event_datetime</th>\n",
       "      <th>event</th>\n",
       "      <th>building_type</th>\n",
       "      <th>user_id</th>\n",
       "      <th>project_type</th>\n",
       "    </tr>\n",
       "  </thead>\n",
       "  <tbody>\n",
       "    <tr>\n",
       "      <th>74891</th>\n",
       "      <td>2020-05-10 18:41:56</td>\n",
       "      <td>building</td>\n",
       "      <td>research_center</td>\n",
       "      <td>c9af55d2-b0ae-4bb4-b3d5-f32aa9ac03af</td>\n",
       "      <td>NaN</td>\n",
       "    </tr>\n",
       "  </tbody>\n",
       "</table>\n",
       "</div>"
      ],
      "text/plain": [
       "            event_datetime     event    building_type  \\\n",
       "74891  2020-05-10 18:41:56  building  research_center   \n",
       "\n",
       "                                    user_id project_type  \n",
       "74891  c9af55d2-b0ae-4bb4-b3d5-f32aa9ac03af          NaN  "
      ]
     },
     "metadata": {},
     "output_type": "display_data"
    },
    {
     "data": {
      "text/html": [
       "<div>\n",
       "<style scoped>\n",
       "    .dataframe tbody tr th:only-of-type {\n",
       "        vertical-align: middle;\n",
       "    }\n",
       "\n",
       "    .dataframe tbody tr th {\n",
       "        vertical-align: top;\n",
       "    }\n",
       "\n",
       "    .dataframe thead th {\n",
       "        text-align: right;\n",
       "    }\n",
       "</style>\n",
       "<table border=\"1\" class=\"dataframe\">\n",
       "  <thead>\n",
       "    <tr style=\"text-align: right;\">\n",
       "      <th></th>\n",
       "      <th>event_datetime</th>\n",
       "      <th>event</th>\n",
       "      <th>building_type</th>\n",
       "      <th>user_id</th>\n",
       "      <th>project_type</th>\n",
       "    </tr>\n",
       "  </thead>\n",
       "  <tbody>\n",
       "    <tr>\n",
       "      <th>74890</th>\n",
       "      <td>2020-05-10 18:41:56</td>\n",
       "      <td>building</td>\n",
       "      <td>research_center</td>\n",
       "      <td>c9af55d2-b0ae-4bb4-b3d5-f32aa9ac03af</td>\n",
       "      <td>NaN</td>\n",
       "    </tr>\n",
       "  </tbody>\n",
       "</table>\n",
       "</div>"
      ],
      "text/plain": [
       "            event_datetime     event    building_type  \\\n",
       "74890  2020-05-10 18:41:56  building  research_center   \n",
       "\n",
       "                                    user_id project_type  \n",
       "74890  c9af55d2-b0ae-4bb4-b3d5-f32aa9ac03af          NaN  "
      ]
     },
     "metadata": {},
     "output_type": "display_data"
    }
   ],
   "source": [
    "#проверка найденных явных дубликатов:\n",
    "display(game_actions[game_actions.duplicated(keep='first')])\n",
    "display(game_actions[game_actions.duplicated(keep='last')])"
   ]
  },
  {
   "cell_type": "code",
   "execution_count": 8,
   "id": "28998b9b",
   "metadata": {},
   "outputs": [
    {
     "name": "stdout",
     "output_type": "stream",
     "text": [
      "Дубликаты game_actions: 0\n"
     ]
    }
   ],
   "source": [
    "#удаление явных дубликатов:\n",
    "game_actions = game_actions[~game_actions.duplicated(keep=False)]\n",
    "print(f'Дубликаты game_actions: {game_actions.duplicated().sum()}')"
   ]
  },
  {
   "cell_type": "code",
   "execution_count": 9,
   "id": "2ab8bac0",
   "metadata": {},
   "outputs": [
    {
     "data": {
      "text/plain": [
       "event_datetime         0\n",
       "event                  0\n",
       "building_type       7683\n",
       "user_id                0\n",
       "project_type      133772\n",
       "dtype: int64"
      ]
     },
     "execution_count": 9,
     "metadata": {},
     "output_type": "execute_result"
    }
   ],
   "source": [
    "#проверка на наличие пропусков в game_actions: 'satellite_orbital_assembly'\n",
    "game_actions.isnull().sum()"
   ]
  },
  {
   "cell_type": "markdown",
   "id": "ec86057a",
   "metadata": {},
   "source": [
    "Пропуски есть в двух столбцах. Посмотрим, что эти пропуски из себя предстваляют."
   ]
  },
  {
   "cell_type": "code",
   "execution_count": 10,
   "id": "0739f552",
   "metadata": {},
   "outputs": [
    {
     "name": "stdout",
     "output_type": "stream",
     "text": [
      "\u001b[1m\n",
      " Уникальные значения событий в датасете с пропусками в столбце 'building_type':\u001b[0m ['finished_stage_1' 'project']\n",
      "\u001b[1m\n",
      " Уникальные значения 'project_type' в датасете без пропусков в столбце 'project_type': \u001b[0m ['satellite_orbital_assembly'] \u001b[1m\n",
      "\n",
      " Уникальные значения событий в датасете без пропусков в столбце 'project_type': \u001b[0m ['project']\n"
     ]
    }
   ],
   "source": [
    "#Проверка пропусков:\n",
    "#в building type пропусков не так много, посмотрим на датасет только с пропусками из этого столбца:\n",
    "check_building = game_actions[game_actions['building_type'].isnull()]\n",
    "#в зproject_type пропусков - преимущественное количество, посмотрим на датасет без них:\n",
    "check_project = game_actions[game_actions['project_type'].notnull()]\n",
    "\n",
    "print('\\033[1m' + f\"\\n Уникальные значения событий в датасете с пропусками в столбце 'building_type':\\033[0m {check_building['event'].unique()}\")\n",
    "print('\\033[1m' + f\"\\n Уникальные значения 'project_type' в датасете без пропусков в столбце 'project_type': \\033[0m {check_project['project_type'].unique()}\",\n",
    "      '\\033[1m' + f\"\\n\\n Уникальные значения событий в датасете без пропусков в столбце 'project_type': \\033[0m {check_project['event'].unique()}\")"
   ]
  },
  {
   "cell_type": "markdown",
   "id": "11c23234",
   "metadata": {},
   "source": [
    "Судя по всему, удалять или как-то менять значения в столбцах с пропусками не стоит. Этих данных нет по причине. В типе здания просто не должен быть указан тип, т.к. события постройки здания просто не было, а в типе проекта просто не было завершенного проекта. "
   ]
  },
  {
   "cell_type": "code",
   "execution_count": 11,
   "id": "f3cb9c2d",
   "metadata": {},
   "outputs": [
    {
     "data": {
      "text/plain": [
       "source    0\n",
       "day       0\n",
       "cost      0\n",
       "dtype: int64"
      ]
     },
     "execution_count": 11,
     "metadata": {},
     "output_type": "execute_result"
    }
   ],
   "source": [
    "#проверка на наличие пропусков в ad_costs:\n",
    "ad_costs.isnull().sum()"
   ]
  },
  {
   "cell_type": "code",
   "execution_count": 12,
   "id": "26299ddb",
   "metadata": {},
   "outputs": [
    {
     "data": {
      "text/plain": [
       "user_id    0\n",
       "source     0\n",
       "dtype: int64"
      ]
     },
     "execution_count": 12,
     "metadata": {},
     "output_type": "execute_result"
    }
   ],
   "source": [
    "#проверка на наличие пропусков в user_source:\n",
    "user_source.isnull().sum()"
   ]
  },
  {
   "cell_type": "markdown",
   "id": "1ba83b04",
   "metadata": {},
   "source": [
    "В остальных датасетах проблем с пропусками не замечено. \n",
    "\n",
    "Данные являются логами, так что сомневаться в отсутствии неявных дубликатов не приходится. "
   ]
  },
  {
   "cell_type": "markdown",
   "id": "a1c7b69c",
   "metadata": {},
   "source": [
    "#### Проверка и изменение типов данных"
   ]
  },
  {
   "cell_type": "code",
   "execution_count": 13,
   "id": "0a9671de",
   "metadata": {},
   "outputs": [
    {
     "name": "stdout",
     "output_type": "stream",
     "text": [
      "\u001b[1mПроверка основной информации и типов данных по датасетам:\n",
      "\u001b[0m\n",
      "<class 'pandas.core.frame.DataFrame'>\n",
      "RangeIndex: 28 entries, 0 to 27\n",
      "Data columns (total 3 columns):\n",
      " #   Column  Non-Null Count  Dtype  \n",
      "---  ------  --------------  -----  \n",
      " 0   source  28 non-null     object \n",
      " 1   day     28 non-null     object \n",
      " 2   cost    28 non-null     float64\n",
      "dtypes: float64(1), object(2)\n",
      "memory usage: 800.0+ bytes\n",
      "\n",
      " \n",
      "\n",
      "<class 'pandas.core.frame.DataFrame'>\n",
      "Int64Index: 135638 entries, 0 to 135639\n",
      "Data columns (total 5 columns):\n",
      " #   Column          Non-Null Count   Dtype \n",
      "---  ------          --------------   ----- \n",
      " 0   event_datetime  135638 non-null  object\n",
      " 1   event           135638 non-null  object\n",
      " 2   building_type   127955 non-null  object\n",
      " 3   user_id         135638 non-null  object\n",
      " 4   project_type    1866 non-null    object\n",
      "dtypes: object(5)\n",
      "memory usage: 6.2+ MB\n",
      "\n",
      " \n",
      "\n",
      "<class 'pandas.core.frame.DataFrame'>\n",
      "RangeIndex: 13576 entries, 0 to 13575\n",
      "Data columns (total 2 columns):\n",
      " #   Column   Non-Null Count  Dtype \n",
      "---  ------   --------------  ----- \n",
      " 0   user_id  13576 non-null  object\n",
      " 1   source   13576 non-null  object\n",
      "dtypes: object(2)\n",
      "memory usage: 212.2+ KB\n"
     ]
    }
   ],
   "source": [
    "#Проверка основной информации и типов данных по датасетам:\n",
    "print('\\033[1m' + \"Проверка основной информации и типов данных по датасетам:\\n\" + '\\033[0m')\n",
    "ad_costs.info();\n",
    "print(\"\\n \\n\")\n",
    "game_actions.info();\n",
    "print(\"\\n \\n\")\n",
    "user_source.info();"
   ]
  },
  {
   "cell_type": "code",
   "execution_count": 14,
   "id": "86bd8be1",
   "metadata": {},
   "outputs": [],
   "source": [
    "#заменим тип данных в ad_costs в колонке \"day\":\n",
    "ad_costs['day'] = pd.to_datetime(ad_costs['day'])\n",
    "#ad_costs.info() #убрать хештег в начале кода для проверки\n",
    "#display(ad_costs) #убрать хештег в начале кода для проверки\n",
    "\n",
    "#заменим тип данных в game_actions в колонке \"event_datetime\":\n",
    "game_actions['event_datetime'] = pd.to_datetime(game_actions['event_datetime'])\n",
    "#game_actions.info() #убрать хештег в начале кода для проверки\n",
    "#display(game_actions) #убрать хештег в начале кода для проверки"
   ]
  },
  {
   "cell_type": "markdown",
   "id": "cfbe8880",
   "metadata": {},
   "source": [
    "Изменение типа object на datetime позволяет нам производить в дальнейшем манипуляции с этой колонкой. Иначе работать с колонкой будет проблематично."
   ]
  },
  {
   "cell_type": "markdown",
   "id": "365426e9",
   "metadata": {},
   "source": [
    "#### Создание дополнительных столбцов для анализа в датасете game_actions"
   ]
  },
  {
   "cell_type": "markdown",
   "id": "d0504dcb",
   "metadata": {},
   "source": [
    "Для упрощения анализа, создадим в датасете game_actions дополнительные столбцы."
   ]
  },
  {
   "cell_type": "code",
   "execution_count": 15,
   "id": "3de62daf",
   "metadata": {},
   "outputs": [
    {
     "name": "stderr",
     "output_type": "stream",
     "text": [
      "C:\\Users\\Leron\\AppData\\Local\\Temp\\ipykernel_6260\\1860058612.py:8: FutureWarning: Indexing with multiple keys (implicitly converted to a tuple of keys) will be deprecated, use a list instead.\n",
      "  df_min = df1.groupby(['user_id', 'date'])['event_datetime', 'event', 'building_type'].min().reset_index()\n",
      "C:\\Users\\Leron\\AppData\\Local\\Temp\\ipykernel_6260\\1860058612.py:9: FutureWarning: Indexing with multiple keys (implicitly converted to a tuple of keys) will be deprecated, use a list instead.\n",
      "  df_max = df1.groupby(['user_id', 'date'])['event_datetime', 'event', 'building_type'].max().reset_index()\n"
     ]
    },
    {
     "data": {
      "text/html": [
       "<div>\n",
       "<style scoped>\n",
       "    .dataframe tbody tr th:only-of-type {\n",
       "        vertical-align: middle;\n",
       "    }\n",
       "\n",
       "    .dataframe tbody tr th {\n",
       "        vertical-align: top;\n",
       "    }\n",
       "\n",
       "    .dataframe thead th {\n",
       "        text-align: right;\n",
       "    }\n",
       "</style>\n",
       "<table border=\"1\" class=\"dataframe\">\n",
       "  <thead>\n",
       "    <tr style=\"text-align: right;\">\n",
       "      <th></th>\n",
       "      <th>event_datetime</th>\n",
       "      <th>event</th>\n",
       "      <th>building_type</th>\n",
       "      <th>user_id</th>\n",
       "      <th>project_type</th>\n",
       "      <th>date</th>\n",
       "      <th>source</th>\n",
       "      <th>first_daily_action</th>\n",
       "      <th>last_daily_action</th>\n",
       "    </tr>\n",
       "  </thead>\n",
       "  <tbody>\n",
       "    <tr>\n",
       "      <th>0</th>\n",
       "      <td>2020-05-04 00:00:01</td>\n",
       "      <td>building</td>\n",
       "      <td>assembly_shop</td>\n",
       "      <td>55e92310-cb8e-4754-b622-597e124b03de</td>\n",
       "      <td>NaN</td>\n",
       "      <td>2020-05-04</td>\n",
       "      <td>youtube_channel_reklama</td>\n",
       "      <td>building_assembly_shop</td>\n",
       "      <td>building_assembly_shop</td>\n",
       "    </tr>\n",
       "    <tr>\n",
       "      <th>1</th>\n",
       "      <td>2020-05-05 05:20:15</td>\n",
       "      <td>building</td>\n",
       "      <td>assembly_shop</td>\n",
       "      <td>55e92310-cb8e-4754-b622-597e124b03de</td>\n",
       "      <td>NaN</td>\n",
       "      <td>2020-05-05</td>\n",
       "      <td>youtube_channel_reklama</td>\n",
       "      <td>building_assembly_shop</td>\n",
       "      <td>building_assembly_shop</td>\n",
       "    </tr>\n",
       "    <tr>\n",
       "      <th>2</th>\n",
       "      <td>2020-05-05 19:24:02</td>\n",
       "      <td>building</td>\n",
       "      <td>assembly_shop</td>\n",
       "      <td>55e92310-cb8e-4754-b622-597e124b03de</td>\n",
       "      <td>NaN</td>\n",
       "      <td>2020-05-05</td>\n",
       "      <td>youtube_channel_reklama</td>\n",
       "      <td>building_assembly_shop</td>\n",
       "      <td>building_assembly_shop</td>\n",
       "    </tr>\n",
       "    <tr>\n",
       "      <th>3</th>\n",
       "      <td>2020-05-05 20:59:19</td>\n",
       "      <td>building</td>\n",
       "      <td>assembly_shop</td>\n",
       "      <td>55e92310-cb8e-4754-b622-597e124b03de</td>\n",
       "      <td>NaN</td>\n",
       "      <td>2020-05-05</td>\n",
       "      <td>youtube_channel_reklama</td>\n",
       "      <td>building_assembly_shop</td>\n",
       "      <td>building_assembly_shop</td>\n",
       "    </tr>\n",
       "    <tr>\n",
       "      <th>4</th>\n",
       "      <td>2020-05-06 00:52:56</td>\n",
       "      <td>building</td>\n",
       "      <td>assembly_shop</td>\n",
       "      <td>55e92310-cb8e-4754-b622-597e124b03de</td>\n",
       "      <td>NaN</td>\n",
       "      <td>2020-05-06</td>\n",
       "      <td>youtube_channel_reklama</td>\n",
       "      <td>building_assembly_shop</td>\n",
       "      <td>building_assembly_shop</td>\n",
       "    </tr>\n",
       "    <tr>\n",
       "      <th>5</th>\n",
       "      <td>2020-05-08 08:16:51</td>\n",
       "      <td>building</td>\n",
       "      <td>assembly_shop</td>\n",
       "      <td>55e92310-cb8e-4754-b622-597e124b03de</td>\n",
       "      <td>NaN</td>\n",
       "      <td>2020-05-08</td>\n",
       "      <td>youtube_channel_reklama</td>\n",
       "      <td>building_assembly_shop</td>\n",
       "      <td>building_assembly_shop</td>\n",
       "    </tr>\n",
       "    <tr>\n",
       "      <th>6</th>\n",
       "      <td>2020-05-10 20:27:01</td>\n",
       "      <td>building</td>\n",
       "      <td>assembly_shop</td>\n",
       "      <td>55e92310-cb8e-4754-b622-597e124b03de</td>\n",
       "      <td>NaN</td>\n",
       "      <td>2020-05-10</td>\n",
       "      <td>youtube_channel_reklama</td>\n",
       "      <td>building_assembly_shop</td>\n",
       "      <td>building_assembly_shop</td>\n",
       "    </tr>\n",
       "    <tr>\n",
       "      <th>7</th>\n",
       "      <td>2020-05-04 00:00:03</td>\n",
       "      <td>building</td>\n",
       "      <td>assembly_shop</td>\n",
       "      <td>c07b1c10-f477-44dc-81dc-ec82254b1347</td>\n",
       "      <td>NaN</td>\n",
       "      <td>2020-05-04</td>\n",
       "      <td>facebook_ads</td>\n",
       "      <td>building_assembly_shop</td>\n",
       "      <td>building_assembly_shop</td>\n",
       "    </tr>\n",
       "    <tr>\n",
       "      <th>8</th>\n",
       "      <td>2020-05-06 23:49:25</td>\n",
       "      <td>building</td>\n",
       "      <td>assembly_shop</td>\n",
       "      <td>c07b1c10-f477-44dc-81dc-ec82254b1347</td>\n",
       "      <td>NaN</td>\n",
       "      <td>2020-05-06</td>\n",
       "      <td>facebook_ads</td>\n",
       "      <td>building_assembly_shop</td>\n",
       "      <td>building_assembly_shop</td>\n",
       "    </tr>\n",
       "    <tr>\n",
       "      <th>9</th>\n",
       "      <td>2020-05-07 03:56:30</td>\n",
       "      <td>building</td>\n",
       "      <td>spaceport</td>\n",
       "      <td>c07b1c10-f477-44dc-81dc-ec82254b1347</td>\n",
       "      <td>NaN</td>\n",
       "      <td>2020-05-07</td>\n",
       "      <td>facebook_ads</td>\n",
       "      <td>building_assembly_shop</td>\n",
       "      <td>building_spaceport</td>\n",
       "    </tr>\n",
       "    <tr>\n",
       "      <th>10</th>\n",
       "      <td>2020-05-07 07:58:20</td>\n",
       "      <td>building</td>\n",
       "      <td>assembly_shop</td>\n",
       "      <td>c07b1c10-f477-44dc-81dc-ec82254b1347</td>\n",
       "      <td>NaN</td>\n",
       "      <td>2020-05-07</td>\n",
       "      <td>facebook_ads</td>\n",
       "      <td>building_assembly_shop</td>\n",
       "      <td>building_spaceport</td>\n",
       "    </tr>\n",
       "    <tr>\n",
       "      <th>11</th>\n",
       "      <td>2020-05-07 08:30:13</td>\n",
       "      <td>building</td>\n",
       "      <td>assembly_shop</td>\n",
       "      <td>c07b1c10-f477-44dc-81dc-ec82254b1347</td>\n",
       "      <td>NaN</td>\n",
       "      <td>2020-05-07</td>\n",
       "      <td>facebook_ads</td>\n",
       "      <td>building_assembly_shop</td>\n",
       "      <td>building_spaceport</td>\n",
       "    </tr>\n",
       "    <tr>\n",
       "      <th>12</th>\n",
       "      <td>2020-05-09 09:30:40</td>\n",
       "      <td>building</td>\n",
       "      <td>assembly_shop</td>\n",
       "      <td>c07b1c10-f477-44dc-81dc-ec82254b1347</td>\n",
       "      <td>NaN</td>\n",
       "      <td>2020-05-09</td>\n",
       "      <td>facebook_ads</td>\n",
       "      <td>building_assembly_shop</td>\n",
       "      <td>building_assembly_shop</td>\n",
       "    </tr>\n",
       "    <tr>\n",
       "      <th>13</th>\n",
       "      <td>2020-05-10 02:18:34</td>\n",
       "      <td>building</td>\n",
       "      <td>assembly_shop</td>\n",
       "      <td>c07b1c10-f477-44dc-81dc-ec82254b1347</td>\n",
       "      <td>NaN</td>\n",
       "      <td>2020-05-10</td>\n",
       "      <td>facebook_ads</td>\n",
       "      <td>building_assembly_shop</td>\n",
       "      <td>building_assembly_shop</td>\n",
       "    </tr>\n",
       "    <tr>\n",
       "      <th>14</th>\n",
       "      <td>2020-05-11 23:16:25</td>\n",
       "      <td>building</td>\n",
       "      <td>research_center</td>\n",
       "      <td>c07b1c10-f477-44dc-81dc-ec82254b1347</td>\n",
       "      <td>NaN</td>\n",
       "      <td>2020-05-11</td>\n",
       "      <td>facebook_ads</td>\n",
       "      <td>building_research_center</td>\n",
       "      <td>building_research_center</td>\n",
       "    </tr>\n",
       "    <tr>\n",
       "      <th>15</th>\n",
       "      <td>2020-05-12 04:26:44</td>\n",
       "      <td>building</td>\n",
       "      <td>research_center</td>\n",
       "      <td>c07b1c10-f477-44dc-81dc-ec82254b1347</td>\n",
       "      <td>NaN</td>\n",
       "      <td>2020-05-12</td>\n",
       "      <td>facebook_ads</td>\n",
       "      <td>building_research_center</td>\n",
       "      <td>building_research_center</td>\n",
       "    </tr>\n",
       "    <tr>\n",
       "      <th>16</th>\n",
       "      <td>2020-05-13 05:45:37</td>\n",
       "      <td>building</td>\n",
       "      <td>spaceport</td>\n",
       "      <td>c07b1c10-f477-44dc-81dc-ec82254b1347</td>\n",
       "      <td>NaN</td>\n",
       "      <td>2020-05-13</td>\n",
       "      <td>facebook_ads</td>\n",
       "      <td>building_</td>\n",
       "      <td>projectspaceport</td>\n",
       "    </tr>\n",
       "    <tr>\n",
       "      <th>17</th>\n",
       "      <td>2020-05-13 06:53:03</td>\n",
       "      <td>project</td>\n",
       "      <td>NaN</td>\n",
       "      <td>c07b1c10-f477-44dc-81dc-ec82254b1347</td>\n",
       "      <td>satellite_orbital_assembly</td>\n",
       "      <td>2020-05-13</td>\n",
       "      <td>facebook_ads</td>\n",
       "      <td>building_</td>\n",
       "      <td>projectspaceport</td>\n",
       "    </tr>\n",
       "    <tr>\n",
       "      <th>18</th>\n",
       "      <td>2020-05-14 07:07:27</td>\n",
       "      <td>building</td>\n",
       "      <td>spaceport</td>\n",
       "      <td>c07b1c10-f477-44dc-81dc-ec82254b1347</td>\n",
       "      <td>NaN</td>\n",
       "      <td>2020-05-14</td>\n",
       "      <td>facebook_ads</td>\n",
       "      <td>building_spaceport</td>\n",
       "      <td>building_spaceport</td>\n",
       "    </tr>\n",
       "    <tr>\n",
       "      <th>19</th>\n",
       "      <td>2020-05-15 05:29:13</td>\n",
       "      <td>finished_stage_1</td>\n",
       "      <td>NaN</td>\n",
       "      <td>c07b1c10-f477-44dc-81dc-ec82254b1347</td>\n",
       "      <td>NaN</td>\n",
       "      <td>2020-05-15</td>\n",
       "      <td>facebook_ads</td>\n",
       "      <td>finished_stage_1</td>\n",
       "      <td>finished_stage_1</td>\n",
       "    </tr>\n",
       "    <tr>\n",
       "      <th>20</th>\n",
       "      <td>2020-05-04 00:00:16</td>\n",
       "      <td>building</td>\n",
       "      <td>assembly_shop</td>\n",
       "      <td>6edd42cc-e753-4ff6-a947-2107cd560710</td>\n",
       "      <td>NaN</td>\n",
       "      <td>2020-05-04</td>\n",
       "      <td>instagram_new_adverts</td>\n",
       "      <td>building_assembly_shop</td>\n",
       "      <td>building_assembly_shop</td>\n",
       "    </tr>\n",
       "    <tr>\n",
       "      <th>21</th>\n",
       "      <td>2020-05-07 02:05:04</td>\n",
       "      <td>building</td>\n",
       "      <td>assembly_shop</td>\n",
       "      <td>6edd42cc-e753-4ff6-a947-2107cd560710</td>\n",
       "      <td>NaN</td>\n",
       "      <td>2020-05-07</td>\n",
       "      <td>instagram_new_adverts</td>\n",
       "      <td>building_assembly_shop</td>\n",
       "      <td>building_assembly_shop</td>\n",
       "    </tr>\n",
       "    <tr>\n",
       "      <th>22</th>\n",
       "      <td>2020-05-07 04:19:08</td>\n",
       "      <td>building</td>\n",
       "      <td>assembly_shop</td>\n",
       "      <td>6edd42cc-e753-4ff6-a947-2107cd560710</td>\n",
       "      <td>NaN</td>\n",
       "      <td>2020-05-07</td>\n",
       "      <td>instagram_new_adverts</td>\n",
       "      <td>building_assembly_shop</td>\n",
       "      <td>building_assembly_shop</td>\n",
       "    </tr>\n",
       "    <tr>\n",
       "      <th>23</th>\n",
       "      <td>2020-05-07 06:38:53</td>\n",
       "      <td>building</td>\n",
       "      <td>assembly_shop</td>\n",
       "      <td>6edd42cc-e753-4ff6-a947-2107cd560710</td>\n",
       "      <td>NaN</td>\n",
       "      <td>2020-05-07</td>\n",
       "      <td>instagram_new_adverts</td>\n",
       "      <td>building_assembly_shop</td>\n",
       "      <td>building_assembly_shop</td>\n",
       "    </tr>\n",
       "    <tr>\n",
       "      <th>24</th>\n",
       "      <td>2020-05-08 07:14:40</td>\n",
       "      <td>building</td>\n",
       "      <td>assembly_shop</td>\n",
       "      <td>6edd42cc-e753-4ff6-a947-2107cd560710</td>\n",
       "      <td>NaN</td>\n",
       "      <td>2020-05-08</td>\n",
       "      <td>instagram_new_adverts</td>\n",
       "      <td>building_assembly_shop</td>\n",
       "      <td>building_assembly_shop</td>\n",
       "    </tr>\n",
       "    <tr>\n",
       "      <th>25</th>\n",
       "      <td>2020-05-08 07:58:15</td>\n",
       "      <td>building</td>\n",
       "      <td>assembly_shop</td>\n",
       "      <td>6edd42cc-e753-4ff6-a947-2107cd560710</td>\n",
       "      <td>NaN</td>\n",
       "      <td>2020-05-08</td>\n",
       "      <td>instagram_new_adverts</td>\n",
       "      <td>building_assembly_shop</td>\n",
       "      <td>building_assembly_shop</td>\n",
       "    </tr>\n",
       "    <tr>\n",
       "      <th>26</th>\n",
       "      <td>2020-05-09 22:51:59</td>\n",
       "      <td>building</td>\n",
       "      <td>spaceport</td>\n",
       "      <td>6edd42cc-e753-4ff6-a947-2107cd560710</td>\n",
       "      <td>NaN</td>\n",
       "      <td>2020-05-09</td>\n",
       "      <td>instagram_new_adverts</td>\n",
       "      <td>building_spaceport</td>\n",
       "      <td>building_spaceport</td>\n",
       "    </tr>\n",
       "    <tr>\n",
       "      <th>27</th>\n",
       "      <td>2020-05-10 07:03:03</td>\n",
       "      <td>building</td>\n",
       "      <td>spaceport</td>\n",
       "      <td>6edd42cc-e753-4ff6-a947-2107cd560710</td>\n",
       "      <td>NaN</td>\n",
       "      <td>2020-05-10</td>\n",
       "      <td>instagram_new_adverts</td>\n",
       "      <td>building_spaceport</td>\n",
       "      <td>building_spaceport</td>\n",
       "    </tr>\n",
       "    <tr>\n",
       "      <th>28</th>\n",
       "      <td>2020-05-11 17:43:08</td>\n",
       "      <td>building</td>\n",
       "      <td>research_center</td>\n",
       "      <td>6edd42cc-e753-4ff6-a947-2107cd560710</td>\n",
       "      <td>NaN</td>\n",
       "      <td>2020-05-11</td>\n",
       "      <td>instagram_new_adverts</td>\n",
       "      <td>building_research_center</td>\n",
       "      <td>building_research_center</td>\n",
       "    </tr>\n",
       "    <tr>\n",
       "      <th>29</th>\n",
       "      <td>2020-05-13 01:45:29</td>\n",
       "      <td>building</td>\n",
       "      <td>spaceport</td>\n",
       "      <td>6edd42cc-e753-4ff6-a947-2107cd560710</td>\n",
       "      <td>NaN</td>\n",
       "      <td>2020-05-13</td>\n",
       "      <td>instagram_new_adverts</td>\n",
       "      <td>building_spaceport</td>\n",
       "      <td>building_spaceport</td>\n",
       "    </tr>\n",
       "    <tr>\n",
       "      <th>30</th>\n",
       "      <td>2020-05-14 06:17:09</td>\n",
       "      <td>building</td>\n",
       "      <td>spaceport</td>\n",
       "      <td>6edd42cc-e753-4ff6-a947-2107cd560710</td>\n",
       "      <td>NaN</td>\n",
       "      <td>2020-05-14</td>\n",
       "      <td>instagram_new_adverts</td>\n",
       "      <td>building_spaceport</td>\n",
       "      <td>building_spaceport</td>\n",
       "    </tr>\n",
       "    <tr>\n",
       "      <th>31</th>\n",
       "      <td>2020-05-15 19:08:25</td>\n",
       "      <td>building</td>\n",
       "      <td>research_center</td>\n",
       "      <td>6edd42cc-e753-4ff6-a947-2107cd560710</td>\n",
       "      <td>NaN</td>\n",
       "      <td>2020-05-15</td>\n",
       "      <td>instagram_new_adverts</td>\n",
       "      <td>building_research_center</td>\n",
       "      <td>building_research_center</td>\n",
       "    </tr>\n",
       "    <tr>\n",
       "      <th>32</th>\n",
       "      <td>2020-05-16 11:51:58</td>\n",
       "      <td>finished_stage_1</td>\n",
       "      <td>NaN</td>\n",
       "      <td>6edd42cc-e753-4ff6-a947-2107cd560710</td>\n",
       "      <td>NaN</td>\n",
       "      <td>2020-05-16</td>\n",
       "      <td>instagram_new_adverts</td>\n",
       "      <td>finished_stage_1</td>\n",
       "      <td>finished_stage_1</td>\n",
       "    </tr>\n",
       "    <tr>\n",
       "      <th>33</th>\n",
       "      <td>2020-05-04 00:00:16</td>\n",
       "      <td>building</td>\n",
       "      <td>assembly_shop</td>\n",
       "      <td>92c69003-d60a-444a-827f-8cc51bf6bf4c</td>\n",
       "      <td>NaN</td>\n",
       "      <td>2020-05-04</td>\n",
       "      <td>facebook_ads</td>\n",
       "      <td>building_assembly_shop</td>\n",
       "      <td>building_assembly_shop</td>\n",
       "    </tr>\n",
       "    <tr>\n",
       "      <th>34</th>\n",
       "      <td>2020-05-05 06:44:23</td>\n",
       "      <td>building</td>\n",
       "      <td>assembly_shop</td>\n",
       "      <td>92c69003-d60a-444a-827f-8cc51bf6bf4c</td>\n",
       "      <td>NaN</td>\n",
       "      <td>2020-05-05</td>\n",
       "      <td>facebook_ads</td>\n",
       "      <td>building_assembly_shop</td>\n",
       "      <td>building_assembly_shop</td>\n",
       "    </tr>\n",
       "    <tr>\n",
       "      <th>35</th>\n",
       "      <td>2020-05-05 07:33:34</td>\n",
       "      <td>building</td>\n",
       "      <td>assembly_shop</td>\n",
       "      <td>92c69003-d60a-444a-827f-8cc51bf6bf4c</td>\n",
       "      <td>NaN</td>\n",
       "      <td>2020-05-05</td>\n",
       "      <td>facebook_ads</td>\n",
       "      <td>building_assembly_shop</td>\n",
       "      <td>building_assembly_shop</td>\n",
       "    </tr>\n",
       "    <tr>\n",
       "      <th>36</th>\n",
       "      <td>2020-05-05 17:09:30</td>\n",
       "      <td>building</td>\n",
       "      <td>assembly_shop</td>\n",
       "      <td>92c69003-d60a-444a-827f-8cc51bf6bf4c</td>\n",
       "      <td>NaN</td>\n",
       "      <td>2020-05-05</td>\n",
       "      <td>facebook_ads</td>\n",
       "      <td>building_assembly_shop</td>\n",
       "      <td>building_assembly_shop</td>\n",
       "    </tr>\n",
       "    <tr>\n",
       "      <th>37</th>\n",
       "      <td>2020-05-09 06:44:39</td>\n",
       "      <td>building</td>\n",
       "      <td>spaceport</td>\n",
       "      <td>92c69003-d60a-444a-827f-8cc51bf6bf4c</td>\n",
       "      <td>NaN</td>\n",
       "      <td>2020-05-09</td>\n",
       "      <td>facebook_ads</td>\n",
       "      <td>building_spaceport</td>\n",
       "      <td>building_spaceport</td>\n",
       "    </tr>\n",
       "    <tr>\n",
       "      <th>38</th>\n",
       "      <td>2020-05-10 10:14:40</td>\n",
       "      <td>building</td>\n",
       "      <td>spaceport</td>\n",
       "      <td>92c69003-d60a-444a-827f-8cc51bf6bf4c</td>\n",
       "      <td>NaN</td>\n",
       "      <td>2020-05-10</td>\n",
       "      <td>facebook_ads</td>\n",
       "      <td>building_assembly_shop</td>\n",
       "      <td>building_spaceport</td>\n",
       "    </tr>\n",
       "    <tr>\n",
       "      <th>39</th>\n",
       "      <td>2020-05-10 21:58:08</td>\n",
       "      <td>building</td>\n",
       "      <td>assembly_shop</td>\n",
       "      <td>92c69003-d60a-444a-827f-8cc51bf6bf4c</td>\n",
       "      <td>NaN</td>\n",
       "      <td>2020-05-10</td>\n",
       "      <td>facebook_ads</td>\n",
       "      <td>building_assembly_shop</td>\n",
       "      <td>building_spaceport</td>\n",
       "    </tr>\n",
       "    <tr>\n",
       "      <th>40</th>\n",
       "      <td>2020-05-12 00:48:28</td>\n",
       "      <td>building</td>\n",
       "      <td>research_center</td>\n",
       "      <td>92c69003-d60a-444a-827f-8cc51bf6bf4c</td>\n",
       "      <td>NaN</td>\n",
       "      <td>2020-05-12</td>\n",
       "      <td>facebook_ads</td>\n",
       "      <td>building_research_center</td>\n",
       "      <td>building_spaceport</td>\n",
       "    </tr>\n",
       "    <tr>\n",
       "      <th>41</th>\n",
       "      <td>2020-05-12 03:55:00</td>\n",
       "      <td>building</td>\n",
       "      <td>spaceport</td>\n",
       "      <td>92c69003-d60a-444a-827f-8cc51bf6bf4c</td>\n",
       "      <td>NaN</td>\n",
       "      <td>2020-05-12</td>\n",
       "      <td>facebook_ads</td>\n",
       "      <td>building_research_center</td>\n",
       "      <td>building_spaceport</td>\n",
       "    </tr>\n",
       "    <tr>\n",
       "      <th>42</th>\n",
       "      <td>2020-05-12 04:29:54</td>\n",
       "      <td>building</td>\n",
       "      <td>research_center</td>\n",
       "      <td>92c69003-d60a-444a-827f-8cc51bf6bf4c</td>\n",
       "      <td>NaN</td>\n",
       "      <td>2020-05-12</td>\n",
       "      <td>facebook_ads</td>\n",
       "      <td>building_research_center</td>\n",
       "      <td>building_spaceport</td>\n",
       "    </tr>\n",
       "    <tr>\n",
       "      <th>43</th>\n",
       "      <td>2020-05-04 00:00:35</td>\n",
       "      <td>building</td>\n",
       "      <td>assembly_shop</td>\n",
       "      <td>cdc6bb92-0ccb-4490-9866-ef142f09139d</td>\n",
       "      <td>NaN</td>\n",
       "      <td>2020-05-04</td>\n",
       "      <td>yandex_direct</td>\n",
       "      <td>building_assembly_shop</td>\n",
       "      <td>building_assembly_shop</td>\n",
       "    </tr>\n",
       "    <tr>\n",
       "      <th>44</th>\n",
       "      <td>2020-05-04 09:08:39</td>\n",
       "      <td>building</td>\n",
       "      <td>assembly_shop</td>\n",
       "      <td>cdc6bb92-0ccb-4490-9866-ef142f09139d</td>\n",
       "      <td>NaN</td>\n",
       "      <td>2020-05-04</td>\n",
       "      <td>yandex_direct</td>\n",
       "      <td>building_assembly_shop</td>\n",
       "      <td>building_assembly_shop</td>\n",
       "    </tr>\n",
       "    <tr>\n",
       "      <th>45</th>\n",
       "      <td>2020-05-05 12:28:36</td>\n",
       "      <td>building</td>\n",
       "      <td>spaceport</td>\n",
       "      <td>cdc6bb92-0ccb-4490-9866-ef142f09139d</td>\n",
       "      <td>NaN</td>\n",
       "      <td>2020-05-05</td>\n",
       "      <td>yandex_direct</td>\n",
       "      <td>building_spaceport</td>\n",
       "      <td>building_spaceport</td>\n",
       "    </tr>\n",
       "    <tr>\n",
       "      <th>46</th>\n",
       "      <td>2020-05-07 09:04:46</td>\n",
       "      <td>building</td>\n",
       "      <td>spaceport</td>\n",
       "      <td>cdc6bb92-0ccb-4490-9866-ef142f09139d</td>\n",
       "      <td>NaN</td>\n",
       "      <td>2020-05-07</td>\n",
       "      <td>yandex_direct</td>\n",
       "      <td>building_spaceport</td>\n",
       "      <td>building_spaceport</td>\n",
       "    </tr>\n",
       "    <tr>\n",
       "      <th>47</th>\n",
       "      <td>2020-05-10 03:56:03</td>\n",
       "      <td>building</td>\n",
       "      <td>assembly_shop</td>\n",
       "      <td>cdc6bb92-0ccb-4490-9866-ef142f09139d</td>\n",
       "      <td>NaN</td>\n",
       "      <td>2020-05-10</td>\n",
       "      <td>yandex_direct</td>\n",
       "      <td>building_assembly_shop</td>\n",
       "      <td>building_spaceport</td>\n",
       "    </tr>\n",
       "    <tr>\n",
       "      <th>48</th>\n",
       "      <td>2020-05-10 19:10:46</td>\n",
       "      <td>building</td>\n",
       "      <td>spaceport</td>\n",
       "      <td>cdc6bb92-0ccb-4490-9866-ef142f09139d</td>\n",
       "      <td>NaN</td>\n",
       "      <td>2020-05-10</td>\n",
       "      <td>yandex_direct</td>\n",
       "      <td>building_assembly_shop</td>\n",
       "      <td>building_spaceport</td>\n",
       "    </tr>\n",
       "    <tr>\n",
       "      <th>49</th>\n",
       "      <td>2020-05-11 14:18:05</td>\n",
       "      <td>finished_stage_1</td>\n",
       "      <td>NaN</td>\n",
       "      <td>cdc6bb92-0ccb-4490-9866-ef142f09139d</td>\n",
       "      <td>NaN</td>\n",
       "      <td>2020-05-11</td>\n",
       "      <td>yandex_direct</td>\n",
       "      <td>finished_stage_1</td>\n",
       "      <td>finished_stage_1</td>\n",
       "    </tr>\n",
       "  </tbody>\n",
       "</table>\n",
       "</div>"
      ],
      "text/plain": [
       "        event_datetime             event    building_type  \\\n",
       "0  2020-05-04 00:00:01          building    assembly_shop   \n",
       "1  2020-05-05 05:20:15          building    assembly_shop   \n",
       "2  2020-05-05 19:24:02          building    assembly_shop   \n",
       "3  2020-05-05 20:59:19          building    assembly_shop   \n",
       "4  2020-05-06 00:52:56          building    assembly_shop   \n",
       "5  2020-05-08 08:16:51          building    assembly_shop   \n",
       "6  2020-05-10 20:27:01          building    assembly_shop   \n",
       "7  2020-05-04 00:00:03          building    assembly_shop   \n",
       "8  2020-05-06 23:49:25          building    assembly_shop   \n",
       "9  2020-05-07 03:56:30          building        spaceport   \n",
       "10 2020-05-07 07:58:20          building    assembly_shop   \n",
       "11 2020-05-07 08:30:13          building    assembly_shop   \n",
       "12 2020-05-09 09:30:40          building    assembly_shop   \n",
       "13 2020-05-10 02:18:34          building    assembly_shop   \n",
       "14 2020-05-11 23:16:25          building  research_center   \n",
       "15 2020-05-12 04:26:44          building  research_center   \n",
       "16 2020-05-13 05:45:37          building        spaceport   \n",
       "17 2020-05-13 06:53:03           project              NaN   \n",
       "18 2020-05-14 07:07:27          building        spaceport   \n",
       "19 2020-05-15 05:29:13  finished_stage_1              NaN   \n",
       "20 2020-05-04 00:00:16          building    assembly_shop   \n",
       "21 2020-05-07 02:05:04          building    assembly_shop   \n",
       "22 2020-05-07 04:19:08          building    assembly_shop   \n",
       "23 2020-05-07 06:38:53          building    assembly_shop   \n",
       "24 2020-05-08 07:14:40          building    assembly_shop   \n",
       "25 2020-05-08 07:58:15          building    assembly_shop   \n",
       "26 2020-05-09 22:51:59          building        spaceport   \n",
       "27 2020-05-10 07:03:03          building        spaceport   \n",
       "28 2020-05-11 17:43:08          building  research_center   \n",
       "29 2020-05-13 01:45:29          building        spaceport   \n",
       "30 2020-05-14 06:17:09          building        spaceport   \n",
       "31 2020-05-15 19:08:25          building  research_center   \n",
       "32 2020-05-16 11:51:58  finished_stage_1              NaN   \n",
       "33 2020-05-04 00:00:16          building    assembly_shop   \n",
       "34 2020-05-05 06:44:23          building    assembly_shop   \n",
       "35 2020-05-05 07:33:34          building    assembly_shop   \n",
       "36 2020-05-05 17:09:30          building    assembly_shop   \n",
       "37 2020-05-09 06:44:39          building        spaceport   \n",
       "38 2020-05-10 10:14:40          building        spaceport   \n",
       "39 2020-05-10 21:58:08          building    assembly_shop   \n",
       "40 2020-05-12 00:48:28          building  research_center   \n",
       "41 2020-05-12 03:55:00          building        spaceport   \n",
       "42 2020-05-12 04:29:54          building  research_center   \n",
       "43 2020-05-04 00:00:35          building    assembly_shop   \n",
       "44 2020-05-04 09:08:39          building    assembly_shop   \n",
       "45 2020-05-05 12:28:36          building        spaceport   \n",
       "46 2020-05-07 09:04:46          building        spaceport   \n",
       "47 2020-05-10 03:56:03          building    assembly_shop   \n",
       "48 2020-05-10 19:10:46          building        spaceport   \n",
       "49 2020-05-11 14:18:05  finished_stage_1              NaN   \n",
       "\n",
       "                                 user_id                project_type  \\\n",
       "0   55e92310-cb8e-4754-b622-597e124b03de                         NaN   \n",
       "1   55e92310-cb8e-4754-b622-597e124b03de                         NaN   \n",
       "2   55e92310-cb8e-4754-b622-597e124b03de                         NaN   \n",
       "3   55e92310-cb8e-4754-b622-597e124b03de                         NaN   \n",
       "4   55e92310-cb8e-4754-b622-597e124b03de                         NaN   \n",
       "5   55e92310-cb8e-4754-b622-597e124b03de                         NaN   \n",
       "6   55e92310-cb8e-4754-b622-597e124b03de                         NaN   \n",
       "7   c07b1c10-f477-44dc-81dc-ec82254b1347                         NaN   \n",
       "8   c07b1c10-f477-44dc-81dc-ec82254b1347                         NaN   \n",
       "9   c07b1c10-f477-44dc-81dc-ec82254b1347                         NaN   \n",
       "10  c07b1c10-f477-44dc-81dc-ec82254b1347                         NaN   \n",
       "11  c07b1c10-f477-44dc-81dc-ec82254b1347                         NaN   \n",
       "12  c07b1c10-f477-44dc-81dc-ec82254b1347                         NaN   \n",
       "13  c07b1c10-f477-44dc-81dc-ec82254b1347                         NaN   \n",
       "14  c07b1c10-f477-44dc-81dc-ec82254b1347                         NaN   \n",
       "15  c07b1c10-f477-44dc-81dc-ec82254b1347                         NaN   \n",
       "16  c07b1c10-f477-44dc-81dc-ec82254b1347                         NaN   \n",
       "17  c07b1c10-f477-44dc-81dc-ec82254b1347  satellite_orbital_assembly   \n",
       "18  c07b1c10-f477-44dc-81dc-ec82254b1347                         NaN   \n",
       "19  c07b1c10-f477-44dc-81dc-ec82254b1347                         NaN   \n",
       "20  6edd42cc-e753-4ff6-a947-2107cd560710                         NaN   \n",
       "21  6edd42cc-e753-4ff6-a947-2107cd560710                         NaN   \n",
       "22  6edd42cc-e753-4ff6-a947-2107cd560710                         NaN   \n",
       "23  6edd42cc-e753-4ff6-a947-2107cd560710                         NaN   \n",
       "24  6edd42cc-e753-4ff6-a947-2107cd560710                         NaN   \n",
       "25  6edd42cc-e753-4ff6-a947-2107cd560710                         NaN   \n",
       "26  6edd42cc-e753-4ff6-a947-2107cd560710                         NaN   \n",
       "27  6edd42cc-e753-4ff6-a947-2107cd560710                         NaN   \n",
       "28  6edd42cc-e753-4ff6-a947-2107cd560710                         NaN   \n",
       "29  6edd42cc-e753-4ff6-a947-2107cd560710                         NaN   \n",
       "30  6edd42cc-e753-4ff6-a947-2107cd560710                         NaN   \n",
       "31  6edd42cc-e753-4ff6-a947-2107cd560710                         NaN   \n",
       "32  6edd42cc-e753-4ff6-a947-2107cd560710                         NaN   \n",
       "33  92c69003-d60a-444a-827f-8cc51bf6bf4c                         NaN   \n",
       "34  92c69003-d60a-444a-827f-8cc51bf6bf4c                         NaN   \n",
       "35  92c69003-d60a-444a-827f-8cc51bf6bf4c                         NaN   \n",
       "36  92c69003-d60a-444a-827f-8cc51bf6bf4c                         NaN   \n",
       "37  92c69003-d60a-444a-827f-8cc51bf6bf4c                         NaN   \n",
       "38  92c69003-d60a-444a-827f-8cc51bf6bf4c                         NaN   \n",
       "39  92c69003-d60a-444a-827f-8cc51bf6bf4c                         NaN   \n",
       "40  92c69003-d60a-444a-827f-8cc51bf6bf4c                         NaN   \n",
       "41  92c69003-d60a-444a-827f-8cc51bf6bf4c                         NaN   \n",
       "42  92c69003-d60a-444a-827f-8cc51bf6bf4c                         NaN   \n",
       "43  cdc6bb92-0ccb-4490-9866-ef142f09139d                         NaN   \n",
       "44  cdc6bb92-0ccb-4490-9866-ef142f09139d                         NaN   \n",
       "45  cdc6bb92-0ccb-4490-9866-ef142f09139d                         NaN   \n",
       "46  cdc6bb92-0ccb-4490-9866-ef142f09139d                         NaN   \n",
       "47  cdc6bb92-0ccb-4490-9866-ef142f09139d                         NaN   \n",
       "48  cdc6bb92-0ccb-4490-9866-ef142f09139d                         NaN   \n",
       "49  cdc6bb92-0ccb-4490-9866-ef142f09139d                         NaN   \n",
       "\n",
       "          date                   source        first_daily_action  \\\n",
       "0   2020-05-04  youtube_channel_reklama    building_assembly_shop   \n",
       "1   2020-05-05  youtube_channel_reklama    building_assembly_shop   \n",
       "2   2020-05-05  youtube_channel_reklama    building_assembly_shop   \n",
       "3   2020-05-05  youtube_channel_reklama    building_assembly_shop   \n",
       "4   2020-05-06  youtube_channel_reklama    building_assembly_shop   \n",
       "5   2020-05-08  youtube_channel_reklama    building_assembly_shop   \n",
       "6   2020-05-10  youtube_channel_reklama    building_assembly_shop   \n",
       "7   2020-05-04             facebook_ads    building_assembly_shop   \n",
       "8   2020-05-06             facebook_ads    building_assembly_shop   \n",
       "9   2020-05-07             facebook_ads    building_assembly_shop   \n",
       "10  2020-05-07             facebook_ads    building_assembly_shop   \n",
       "11  2020-05-07             facebook_ads    building_assembly_shop   \n",
       "12  2020-05-09             facebook_ads    building_assembly_shop   \n",
       "13  2020-05-10             facebook_ads    building_assembly_shop   \n",
       "14  2020-05-11             facebook_ads  building_research_center   \n",
       "15  2020-05-12             facebook_ads  building_research_center   \n",
       "16  2020-05-13             facebook_ads                building_    \n",
       "17  2020-05-13             facebook_ads                building_    \n",
       "18  2020-05-14             facebook_ads        building_spaceport   \n",
       "19  2020-05-15             facebook_ads         finished_stage_1    \n",
       "20  2020-05-04    instagram_new_adverts    building_assembly_shop   \n",
       "21  2020-05-07    instagram_new_adverts    building_assembly_shop   \n",
       "22  2020-05-07    instagram_new_adverts    building_assembly_shop   \n",
       "23  2020-05-07    instagram_new_adverts    building_assembly_shop   \n",
       "24  2020-05-08    instagram_new_adverts    building_assembly_shop   \n",
       "25  2020-05-08    instagram_new_adverts    building_assembly_shop   \n",
       "26  2020-05-09    instagram_new_adverts        building_spaceport   \n",
       "27  2020-05-10    instagram_new_adverts        building_spaceport   \n",
       "28  2020-05-11    instagram_new_adverts  building_research_center   \n",
       "29  2020-05-13    instagram_new_adverts        building_spaceport   \n",
       "30  2020-05-14    instagram_new_adverts        building_spaceport   \n",
       "31  2020-05-15    instagram_new_adverts  building_research_center   \n",
       "32  2020-05-16    instagram_new_adverts         finished_stage_1    \n",
       "33  2020-05-04             facebook_ads    building_assembly_shop   \n",
       "34  2020-05-05             facebook_ads    building_assembly_shop   \n",
       "35  2020-05-05             facebook_ads    building_assembly_shop   \n",
       "36  2020-05-05             facebook_ads    building_assembly_shop   \n",
       "37  2020-05-09             facebook_ads        building_spaceport   \n",
       "38  2020-05-10             facebook_ads    building_assembly_shop   \n",
       "39  2020-05-10             facebook_ads    building_assembly_shop   \n",
       "40  2020-05-12             facebook_ads  building_research_center   \n",
       "41  2020-05-12             facebook_ads  building_research_center   \n",
       "42  2020-05-12             facebook_ads  building_research_center   \n",
       "43  2020-05-04            yandex_direct    building_assembly_shop   \n",
       "44  2020-05-04            yandex_direct    building_assembly_shop   \n",
       "45  2020-05-05            yandex_direct        building_spaceport   \n",
       "46  2020-05-07            yandex_direct        building_spaceport   \n",
       "47  2020-05-10            yandex_direct    building_assembly_shop   \n",
       "48  2020-05-10            yandex_direct    building_assembly_shop   \n",
       "49  2020-05-11            yandex_direct         finished_stage_1    \n",
       "\n",
       "           last_daily_action  \n",
       "0     building_assembly_shop  \n",
       "1     building_assembly_shop  \n",
       "2     building_assembly_shop  \n",
       "3     building_assembly_shop  \n",
       "4     building_assembly_shop  \n",
       "5     building_assembly_shop  \n",
       "6     building_assembly_shop  \n",
       "7     building_assembly_shop  \n",
       "8     building_assembly_shop  \n",
       "9         building_spaceport  \n",
       "10        building_spaceport  \n",
       "11        building_spaceport  \n",
       "12    building_assembly_shop  \n",
       "13    building_assembly_shop  \n",
       "14  building_research_center  \n",
       "15  building_research_center  \n",
       "16          projectspaceport  \n",
       "17          projectspaceport  \n",
       "18        building_spaceport  \n",
       "19         finished_stage_1   \n",
       "20    building_assembly_shop  \n",
       "21    building_assembly_shop  \n",
       "22    building_assembly_shop  \n",
       "23    building_assembly_shop  \n",
       "24    building_assembly_shop  \n",
       "25    building_assembly_shop  \n",
       "26        building_spaceport  \n",
       "27        building_spaceport  \n",
       "28  building_research_center  \n",
       "29        building_spaceport  \n",
       "30        building_spaceport  \n",
       "31  building_research_center  \n",
       "32         finished_stage_1   \n",
       "33    building_assembly_shop  \n",
       "34    building_assembly_shop  \n",
       "35    building_assembly_shop  \n",
       "36    building_assembly_shop  \n",
       "37        building_spaceport  \n",
       "38        building_spaceport  \n",
       "39        building_spaceport  \n",
       "40        building_spaceport  \n",
       "41        building_spaceport  \n",
       "42        building_spaceport  \n",
       "43    building_assembly_shop  \n",
       "44    building_assembly_shop  \n",
       "45        building_spaceport  \n",
       "46        building_spaceport  \n",
       "47        building_spaceport  \n",
       "48        building_spaceport  \n",
       "49         finished_stage_1   "
      ]
     },
     "metadata": {},
     "output_type": "display_data"
    }
   ],
   "source": [
    "game_actions['date'] = game_actions['event_datetime'].dt.date #создание колонки date в датафрейме game_actions \n",
    "df = game_actions.merge(user_source, on='user_id', how = 'outer') #объединяем датафрейм game_actions с user_source \n",
    "                                                                    #для создания колонки source\n",
    "#создадим колонки 'first_daily_action' и 'last_daily_action'\n",
    "df1 = df.copy()    \n",
    "df1['building_type'] = df1['building_type'].fillna(' ')  #заполним пробелы \n",
    "#поиск минимальных дейттаймов \n",
    "df_min = df1.groupby(['user_id', 'date'])['event_datetime', 'event', 'building_type'].min().reset_index()\n",
    "df_max = df1.groupby(['user_id', 'date'])['event_datetime', 'event', 'building_type'].max().reset_index()\n",
    "\n",
    "#для создания пробелов в колонках:\n",
    "df_min['event'] = df_min['event'].replace({'building':'building_'})\n",
    "df_max['event'] = df_max['event'].replace({'building':'building_'})\n",
    "\n",
    "\n",
    "df_min['first_daily_action'] = df_min['event'] + df_min['building_type']\n",
    "df_max['last_daily_action'] = df_max['event'] + df_max['building_type']\n",
    "\n",
    "df_min = df_min.drop(columns=['event', 'building_type', 'event_datetime'])\n",
    "df_max = df_max.drop(columns=['event', 'building_type', 'event_datetime'])\n",
    "#создаем датафрейм:\n",
    "df2 = df_min.merge(df_max, on = ['user_id', 'date'], how='right')\n",
    "df = df.merge(df2, on = ['user_id', 'date'], how='outer')\n",
    "\n",
    "display(df.head(50))"
   ]
  },
  {
   "cell_type": "markdown",
   "id": "0e81d9f9",
   "metadata": {},
   "source": [
    "Функции для обработки профилей:"
   ]
  },
  {
   "cell_type": "code",
   "execution_count": 16,
   "id": "4445ffa9",
   "metadata": {},
   "outputs": [],
   "source": [
    "# Функция для создания профилей пользователей\n",
    "def get_profiles(df, ad_costs):\n",
    "\n",
    "    # находим параметры первых посещений\n",
    "    profiles = (\n",
    "        df.sort_values(by=['user_id', 'event_datetime'])\n",
    "        .groupby('user_id')\n",
    "        .agg(\n",
    "            {\n",
    "                'event_datetime': 'first',\n",
    "                'date': 'last',\n",
    "                'event':'count',\n",
    "                'source': 'first',\n",
    "                'last_daily_action':'last'\n",
    "            }\n",
    "        )\n",
    "        .rename(columns={'event_datetime': 'first_act', 'date':'last_act', 'event':'event_ammount', 'last_daily_action':'last_event'})\n",
    "        .reset_index()\n",
    "    )\n",
    "\n",
    "    # для когортного анализа определяем дату первого посещения\n",
    "    profiles['day'] = profiles['first_act'].dt.date\n",
    "    profiles['day'] = pd.to_datetime(profiles['day'])#, format=\"%Y-%m-%d\")\n",
    "\n",
    "\n",
    "    # считаем количество уникальных пользователей\n",
    "    # с одинаковыми источником и датой привлечения\n",
    "    new_users = (\n",
    "        profiles.groupby(['day', 'source'])\n",
    "        .agg({'user_id': 'nunique'})\n",
    "        .rename(columns={'user_id': 'unique_users'})\n",
    "        .reset_index()\n",
    "    )\n",
    "\n",
    "    \n",
    "    \n",
    "    # объединяем траты на рекламу и число привлечённых пользователей\n",
    "    ad_costs = ad_costs.merge(new_users, on=['day', 'source'], how='left')\n",
    "\n",
    "    # делим рекламные расходы на число привлечённых пользователей\n",
    "    ad_costs['acquisition_cost'] = ad_costs['cost'] / ad_costs['unique_users']\n",
    "\n",
    "    # добавляем стоимость привлечения в профили\n",
    "    profiles = profiles.merge(\n",
    "        ad_costs[['day', 'source', 'acquisition_cost']],\n",
    "        on=['day', 'source'],\n",
    "        how='left',\n",
    "    )\n",
    "\n",
    "    # стоимость привлечения органических пользователей равна нулю\n",
    "    profiles['acquisition_cost'] = profiles['acquisition_cost'].fillna(0)\n",
    "\n",
    "    return profiles\n",
    "\n",
    "    \n",
    "    "
   ]
  },
  {
   "cell_type": "markdown",
   "id": "8337fd9c",
   "metadata": {},
   "source": [
    "## Шаг 2. Изучение и проверка данных"
   ]
  },
  {
   "cell_type": "markdown",
   "id": "6fc95f5f",
   "metadata": {},
   "source": [
    "### Проверить, за какой период распологаем данными."
   ]
  },
  {
   "cell_type": "code",
   "execution_count": 17,
   "id": "c4639bd7",
   "metadata": {},
   "outputs": [
    {
     "name": "stdout",
     "output_type": "stream",
     "text": [
      "Период, которым распологает весь датасет: 2020-05-04 00:00:01 - 2020-06-05 12:32:49\n",
      "Период набора тестовой когорты: 2020-05-04 00:00:01 - 2020-05-10 23:59:52\n"
     ]
    }
   ],
   "source": [
    "print(f\"Период, которым распологает весь датасет: {df['event_datetime'].min()} - {df['event_datetime'].max()}\") \n",
    "first_meet = df.loc[df.groupby(['user_id'])['event_datetime'].idxmin()]\n",
    "print(f\"Период набора тестовой когорты: {first_meet['event_datetime'].min()} - {first_meet['event_datetime'].max()}\") \n"
   ]
  },
  {
   "cell_type": "code",
   "execution_count": 18,
   "id": "856ebbe1",
   "metadata": {},
   "outputs": [
    {
     "data": {
      "text/plain": [
       "<Figure size 1500x2000 with 0 Axes>"
      ]
     },
     "metadata": {},
     "output_type": "display_data"
    },
    {
     "data": {
      "image/png": "[encoded data removed]",
      "text/plain": [
       "<Figure size 640x480 with 1 Axes>"
      ]
     },
     "metadata": {},
     "output_type": "display_data"
    }
   ],
   "source": [
    "#Посмотрим визуализацию количества событий по времени:\n",
    "\n",
    "event_cnt = df.groupby('date')[['event']].count() #Группируем события по датам, чтобы посмотреть, как они распределены по времени\n",
    "\n",
    "plt.style.use('seaborn-pastel'); #Выбираем стиль визуализации\n",
    "fig = plt.figure(figsize=(15, 20));\n",
    "event_cnt.plot(kind='bar');\n",
    "\n",
    "plt.title('Распределение событий по времени');\n",
    "plt.xlabel('Дата');\n",
    "plt.ylabel('Количество событий');"
   ]
  },
  {
   "cell_type": "markdown",
   "id": "6d244f19",
   "metadata": {},
   "source": [
    "Похоже, что количество событий под конец датасета сходит на нет. По визуализации все в норме. Количество посетителей в тестовой когорте у нас ограниченное, все они либо завершают уровень, либо просто прекращают пользоваться приложением. \n",
    "\n",
    "Есть подьем 2020-05-10. 2020-05-10 был последний набор пользователей. Там совершали события и новые пользователи и пользователи, которые уже играют в игру со старта набора тестовой когорты. Поэтому количество событий в эту дату самое высокое. "
   ]
  },
  {
   "cell_type": "markdown",
   "id": "31b76b44",
   "metadata": {},
   "source": [
    "### Сколько всего событий в логе?"
   ]
  },
  {
   "cell_type": "code",
   "execution_count": 19,
   "id": "d3bd0eb1",
   "metadata": {},
   "outputs": [
    {
     "name": "stdout",
     "output_type": "stream",
     "text": [
      "\n",
      " Общее количество событий: 135638 \n",
      "\n",
      "\n",
      " Количество событий типа \"building\": 127955 \n",
      "\n",
      "\n",
      " Количество событий типа \"finished_stage_1\": 5817 \n",
      "\n",
      "\n",
      " Количество событий типа \"project\": 1866\n"
     ]
    }
   ],
   "source": [
    "#Посчитаем количество событий в логе с помощью loc. Разделим датафрейм по типу событий:\n",
    "building = df[df['event']=='building']\n",
    "finished_stage_1 = df[df['event']=='finished_stage_1']\n",
    "project = df[df['event']=='project']\n",
    "\n",
    "print('\\n Общее количество событий:', df['event'].count(),\n",
    "      '\\n\\n\\n Количество событий типа \"building\":', building['event'].count(),\n",
    "      '\\n\\n\\n Количество событий типа \"finished_stage_1\":', finished_stage_1['event'].count(),\n",
    "      '\\n\\n\\n Количество событий типа \"project\":', project['event'].count())"
   ]
  },
  {
   "cell_type": "markdown",
   "id": "d8381b26",
   "metadata": {},
   "source": [
    "Количество событий типа building превалирует. Построим визуализацию для наглядности:"
   ]
  },
  {
   "cell_type": "code",
   "execution_count": 20,
   "id": "3ea41434",
   "metadata": {},
   "outputs": [
    {
     "data": {
      "image/png": "[encoded data removed]",
      "text/plain": [
       "<Figure size 400x400 with 1 Axes>"
      ]
     },
     "metadata": {},
     "output_type": "display_data"
    }
   ],
   "source": [
    "event = pd.DataFrame()\n",
    "event['users_ammount'] = df.groupby('event')['user_id'].count()\n",
    "event['percent'] = ((event['users_ammount']/df['event'].count())*100)\n",
    "event.sort_values(by = 'percent', ascending=False)\n",
    "\n",
    "event_int = event['percent'].plot(kind='pie', subplots=True, figsize=(4,4), \n",
    "                            autopct=\"%.2f\", fontsize=7, legend = False, \n",
    "                            title = 'Частота событий');"
   ]
  },
  {
   "cell_type": "markdown",
   "id": "5dbca94d",
   "metadata": {},
   "source": [
    "Не удивительно, что заказчик остерегается того, что пользователи уйдут при просмотре рекламы, но так же не удивительно, почему он хочет использовать тип \"building\" для монетизации. "
   ]
  },
  {
   "cell_type": "markdown",
   "id": "7fea445f",
   "metadata": {},
   "source": [
    "### Сколько всего пользователей в логе? "
   ]
  },
  {
   "cell_type": "markdown",
   "id": "db566f5d",
   "metadata": {},
   "source": [
    "Общее количество уникальных пользователей должно совпадать с количеством строчек в датасете user_source, но мы проверим:"
   ]
  },
  {
   "cell_type": "code",
   "execution_count": 21,
   "id": "4ab9673a",
   "metadata": {},
   "outputs": [
    {
     "name": "stdout",
     "output_type": "stream",
     "text": [
      "\n",
      " Общее количество уникальных пользователей:\n",
      "\n",
      " user_id    13576\n",
      "dtype: int64 \n",
      "\n",
      "<class 'pandas.core.frame.DataFrame'>\n",
      "RangeIndex: 13576 entries, 0 to 13575\n",
      "Data columns (total 2 columns):\n",
      " #   Column   Non-Null Count  Dtype \n",
      "---  ------   --------------  ----- \n",
      " 0   user_id  13576 non-null  object\n",
      " 1   source   13576 non-null  object\n",
      "dtypes: object(2)\n",
      "memory usage: 212.2+ KB\n"
     ]
    }
   ],
   "source": [
    "print('\\n Общее количество уникальных пользователей:\\n\\n', df.agg({'user_id':'nunique'}),'\\n');\n",
    "user_source.info()"
   ]
  },
  {
   "cell_type": "code",
   "execution_count": 22,
   "id": "0c0e5f8d",
   "metadata": {},
   "outputs": [
    {
     "name": "stdout",
     "output_type": "stream",
     "text": [
      "Количество уникальных пользователей в user_source и df совпадает. Игроков: 13576\n"
     ]
    }
   ],
   "source": [
    "list_users = user_source['user_id'].unique()\n",
    "check_df = df[df['user_id'].isin(list_users)]\n",
    "sum_users = int(check_df.agg({'user_id':'nunique'}))\n",
    "\n",
    "if ((check_df['user_id'].count()) == (df['user_id'].count())):\n",
    "    print('Количество уникальных пользователей в user_source и df совпадает. Игроков:', sum_users)\n",
    "else:\n",
    "    print('Количество уникальных пользователей в user_source и df не совпадает.')"
   ]
  },
  {
   "cell_type": "markdown",
   "id": "5aa59731",
   "metadata": {},
   "source": [
    "Все верно, количество уникальных пользователей совпадает с количеством строчек в  в датасете user_source."
   ]
  },
  {
   "cell_type": "markdown",
   "id": "967fc247",
   "metadata": {},
   "source": [
    "### Определить даты, в которые привлекалось больше всего пользователей."
   ]
  },
  {
   "cell_type": "markdown",
   "id": "8e27ab6d",
   "metadata": {},
   "source": [
    "Построим профили пользователей, а затем построим по ним визуализацию. Так будет проще работать."
   ]
  },
  {
   "cell_type": "code",
   "execution_count": 23,
   "id": "fb958988",
   "metadata": {},
   "outputs": [
    {
     "data": {
      "text/html": [
       "<div>\n",
       "<style scoped>\n",
       "    .dataframe tbody tr th:only-of-type {\n",
       "        vertical-align: middle;\n",
       "    }\n",
       "\n",
       "    .dataframe tbody tr th {\n",
       "        vertical-align: top;\n",
       "    }\n",
       "\n",
       "    .dataframe thead th {\n",
       "        text-align: right;\n",
       "    }\n",
       "</style>\n",
       "<table border=\"1\" class=\"dataframe\">\n",
       "  <thead>\n",
       "    <tr style=\"text-align: right;\">\n",
       "      <th></th>\n",
       "      <th>user_id</th>\n",
       "      <th>first_act</th>\n",
       "      <th>last_act</th>\n",
       "      <th>event_ammount</th>\n",
       "      <th>source</th>\n",
       "      <th>last_event</th>\n",
       "      <th>day</th>\n",
       "      <th>acquisition_cost</th>\n",
       "    </tr>\n",
       "  </thead>\n",
       "  <tbody>\n",
       "    <tr>\n",
       "      <th>11656</th>\n",
       "      <td>dc2e179f-6e80-4340-bb8f-4cf148c9c090</td>\n",
       "      <td>2020-05-04 08:53:04</td>\n",
       "      <td>2020-05-12</td>\n",
       "      <td>15</td>\n",
       "      <td>instagram_new_adverts</td>\n",
       "      <td>building_spaceport</td>\n",
       "      <td>2020-05-04</td>\n",
       "      <td>0.346367</td>\n",
       "    </tr>\n",
       "    <tr>\n",
       "      <th>5657</th>\n",
       "      <td>6977049e-5cf2-4e5a-b62e-d350b2e330af</td>\n",
       "      <td>2020-05-04 14:56:37</td>\n",
       "      <td>2020-05-23</td>\n",
       "      <td>10</td>\n",
       "      <td>yandex_direct</td>\n",
       "      <td>building_spaceport</td>\n",
       "      <td>2020-05-04</td>\n",
       "      <td>0.266916</td>\n",
       "    </tr>\n",
       "    <tr>\n",
       "      <th>5656</th>\n",
       "      <td>6970f7c4-13ea-4d0e-b2ce-79dfaa9f2e4a</td>\n",
       "      <td>2020-05-04 06:43:50</td>\n",
       "      <td>2020-05-15</td>\n",
       "      <td>13</td>\n",
       "      <td>yandex_direct</td>\n",
       "      <td>project</td>\n",
       "      <td>2020-05-04</td>\n",
       "      <td>0.266916</td>\n",
       "    </tr>\n",
       "    <tr>\n",
       "      <th>11344</th>\n",
       "      <td>d6e3e5b2-0431-40ea-b337-214dc98683ce</td>\n",
       "      <td>2020-05-04 03:23:23</td>\n",
       "      <td>2020-05-15</td>\n",
       "      <td>12</td>\n",
       "      <td>instagram_new_adverts</td>\n",
       "      <td>finished_stage_1</td>\n",
       "      <td>2020-05-04</td>\n",
       "      <td>0.346367</td>\n",
       "    </tr>\n",
       "    <tr>\n",
       "      <th>11345</th>\n",
       "      <td>d6ef49dd-dec8-4877-96bd-185526def1da</td>\n",
       "      <td>2020-05-04 05:26:37</td>\n",
       "      <td>2020-05-12</td>\n",
       "      <td>13</td>\n",
       "      <td>yandex_direct</td>\n",
       "      <td>finished_stage_1</td>\n",
       "      <td>2020-05-04</td>\n",
       "      <td>0.266916</td>\n",
       "    </tr>\n",
       "  </tbody>\n",
       "</table>\n",
       "</div>"
      ],
      "text/plain": [
       "                                    user_id           first_act    last_act  \\\n",
       "11656  dc2e179f-6e80-4340-bb8f-4cf148c9c090 2020-05-04 08:53:04  2020-05-12   \n",
       "5657   6977049e-5cf2-4e5a-b62e-d350b2e330af 2020-05-04 14:56:37  2020-05-23   \n",
       "5656   6970f7c4-13ea-4d0e-b2ce-79dfaa9f2e4a 2020-05-04 06:43:50  2020-05-15   \n",
       "11344  d6e3e5b2-0431-40ea-b337-214dc98683ce 2020-05-04 03:23:23  2020-05-15   \n",
       "11345  d6ef49dd-dec8-4877-96bd-185526def1da 2020-05-04 05:26:37  2020-05-12   \n",
       "\n",
       "       event_ammount                 source          last_event         day  \\\n",
       "11656             15  instagram_new_adverts  building_spaceport  2020-05-04   \n",
       "5657              10          yandex_direct  building_spaceport  2020-05-04   \n",
       "5656              13          yandex_direct            project   2020-05-04   \n",
       "11344             12  instagram_new_adverts   finished_stage_1   2020-05-04   \n",
       "11345             13          yandex_direct   finished_stage_1   2020-05-04   \n",
       "\n",
       "       acquisition_cost  \n",
       "11656          0.346367  \n",
       "5657           0.266916  \n",
       "5656           0.266916  \n",
       "11344          0.346367  \n",
       "11345          0.266916  "
      ]
     },
     "metadata": {},
     "output_type": "display_data"
    }
   ],
   "source": [
    "#cоставляем профили пользователей\n",
    "profiles = get_profiles(df, ad_costs)\n",
    "profiles['day'] = profiles['day'].dt.date\n",
    "display(profiles.sort_values(by='day').head(5))"
   ]
  },
  {
   "cell_type": "code",
   "execution_count": 24,
   "id": "1905c6e8",
   "metadata": {},
   "outputs": [
    {
     "data": {
      "text/plain": [
       "<Figure size 1500x1500 with 0 Axes>"
      ]
     },
     "metadata": {},
     "output_type": "display_data"
    },
    {
     "data": {
      "image/png": "[encoded data removed]",
      "text/plain": [
       "<Figure size 640x480 with 1 Axes>"
      ]
     },
     "metadata": {},
     "output_type": "display_data"
    }
   ],
   "source": [
    "#Посмотрим визуализацию количества привлечения новых пользователей во времени:\n",
    "\n",
    "users_cnt = profiles.groupby('day')[['user_id']].count() #Группируем пользователей по датам, чтобы посмотреть, как они распределены по датам\n",
    "users_cnt = users_cnt.sort_values(by='user_id', ascending=False).reset_index()\n",
    "\n",
    "\n",
    "fig = plt.figure(figsize=(15, 15));\n",
    "users_cnt.plot(kind='bar', x='day', y='user_id');\n",
    "\n",
    "plt.title('Распределение привлечения пользователей по датам', fontsize = 15);\n",
    "plt.xlabel('Дата', fontsize = 15);\n",
    "plt.ylabel('Количество новых пользователей', fontsize = 15);\n",
    "\n",
    "plt.show()"
   ]
  },
  {
   "cell_type": "markdown",
   "id": "389747f2",
   "metadata": {},
   "source": [
    "Больше всего пользователей пришло в первый день рекламной кампании. Здесь нечему удивляться, все заинтересованные пользователи сразу перезодят по ссылкам. К тому же все зависит от количества вложений в каждый день рекламной кампании. \n",
    "\n",
    "Так же, возможно, был взят не очень удачный промежуток для анализа. Он не будет достаточно показательным, потому что экспериментальная когорта пользователей была набрана в майские праздники. Это вполне могло повлиять на количество привлеченных пользователей от 7-10 мая - все идут на шашлыки. С другой стороны в это время у интровертов больше времени на игры. "
   ]
  },
  {
   "cell_type": "markdown",
   "id": "4ed91f83",
   "metadata": {},
   "source": [
    "### Из каких рекламных источников пришло больше всего пользователей?"
   ]
  },
  {
   "cell_type": "code",
   "execution_count": 25,
   "id": "e10cc716",
   "metadata": {},
   "outputs": [
    {
     "data": {
      "text/plain": [
       "<Figure size 1500x1500 with 0 Axes>"
      ]
     },
     "metadata": {},
     "output_type": "display_data"
    },
    {
     "data": {
      "image/png": "[encoded data removed]",
      "text/plain": [
       "<Figure size 640x480 with 1 Axes>"
      ]
     },
     "metadata": {},
     "output_type": "display_data"
    }
   ],
   "source": [
    "#Посмотрим визуализацию количества привлечения новых пользователей по источникам:\n",
    "\n",
    "users_cnt = profiles.groupby('source')[['user_id']].count() #Группируем пользователей по источникам, чтобы посмотреть, как они распределены\n",
    "fig = plt.figure(figsize=(15, 15));\n",
    "users_cnt.plot(kind='bar');\n",
    "\n",
    "plt.title('Распределение привлечения пользователей по источникам');\n",
    "plt.xlabel('Источник');\n",
    "plt.ylabel('Количество новых пользователей');\n",
    "plt.xticks(rotation=40, fontsize=7);"
   ]
  },
  {
   "cell_type": "markdown",
   "id": "1f6a5803",
   "metadata": {},
   "source": [
    "Скорее всего из яндек директа пришло больше всего пользователей, потому что помимо показов рекламы в поисковой системе, у них так же есть сервисы-партнеры, где он может демонстрировать рекламу. "
   ]
  },
  {
   "cell_type": "markdown",
   "id": "2a632af1",
   "metadata": {},
   "source": [
    "### Вовлеченность пользователей"
   ]
  },
  {
   "cell_type": "markdown",
   "id": "291f0307",
   "metadata": {},
   "source": [
    "Хорошо бы посмотреть на вовлеченность пользователей, пришедших из разных источников. Хотя бы по имеющимся данным. \n",
    "Сначала посчитаем пользователей, которые в целом вовлечены в игровой процесс:"
   ]
  },
  {
   "cell_type": "markdown",
   "id": "2f11ae0e",
   "metadata": {},
   "source": [
    "#### Количество пользователей, завершивших уровень"
   ]
  },
  {
   "cell_type": "code",
   "execution_count": 26,
   "id": "db37e30b",
   "metadata": {},
   "outputs": [
    {
     "name": "stdout",
     "output_type": "stream",
     "text": [
      "\n",
      " Общее количество пользователей, совершивших целевое действие: 7683 \n",
      " Это составляет 56.59% от общего количества уникальных пользователей.\n"
     ]
    }
   ],
   "source": [
    "#Рассчитаем количество пользователей, завершивших уровень:\n",
    "cnt_1 = df[df['event']=='finished_stage_1']\n",
    "cnt_2 = df[df['project_type']=='satellite_orbital_assembly']\n",
    "\n",
    "cnt= cnt_1['event'].count() + cnt_2['event'].count()\n",
    "cnt_merge = cnt_1.merge(cnt_2, on='user_id', how='right')\n",
    "# Посчитаем, какую долю от общего количества составляют эти пользователи:\n",
    "percent = (cnt / profiles['user_id'].count()) * 100\n",
    "\n",
    "\n",
    "\n",
    "print('\\n Общее количество пользователей, совершивших целевое действие:', cnt,\n",
    "      '\\n Это составляет {p:.2f}% от общего количества уникальных пользователей.'.format(p=percent))"
   ]
  },
  {
   "cell_type": "markdown",
   "id": "67a53731",
   "metadata": {},
   "source": [
    "#### Затраты на рекламу"
   ]
  },
  {
   "cell_type": "code",
   "execution_count": 27,
   "id": "37ac2701",
   "metadata": {},
   "outputs": [
    {
     "data": {
      "text/html": [
       "<div>\n",
       "<style scoped>\n",
       "    .dataframe tbody tr th:only-of-type {\n",
       "        vertical-align: middle;\n",
       "    }\n",
       "\n",
       "    .dataframe tbody tr th {\n",
       "        vertical-align: top;\n",
       "    }\n",
       "\n",
       "    .dataframe thead th {\n",
       "        text-align: right;\n",
       "    }\n",
       "</style>\n",
       "<table border=\"1\" class=\"dataframe\">\n",
       "  <thead>\n",
       "    <tr style=\"text-align: right;\">\n",
       "      <th></th>\n",
       "      <th>source</th>\n",
       "      <th>cost</th>\n",
       "    </tr>\n",
       "  </thead>\n",
       "  <tbody>\n",
       "    <tr>\n",
       "      <th>0</th>\n",
       "      <td>facebook_ads</td>\n",
       "      <td>2140.904643</td>\n",
       "    </tr>\n",
       "    <tr>\n",
       "      <th>1</th>\n",
       "      <td>instagram_new_adverts</td>\n",
       "      <td>2161.441691</td>\n",
       "    </tr>\n",
       "    <tr>\n",
       "      <th>2</th>\n",
       "      <td>yandex_direct</td>\n",
       "      <td>2233.111449</td>\n",
       "    </tr>\n",
       "    <tr>\n",
       "      <th>3</th>\n",
       "      <td>youtube_channel_reklama</td>\n",
       "      <td>1068.119204</td>\n",
       "    </tr>\n",
       "  </tbody>\n",
       "</table>\n",
       "</div>"
      ],
      "text/plain": [
       "                    source         cost\n",
       "0             facebook_ads  2140.904643\n",
       "1    instagram_new_adverts  2161.441691\n",
       "2            yandex_direct  2233.111449\n",
       "3  youtube_channel_reklama  1068.119204"
      ]
     },
     "metadata": {},
     "output_type": "display_data"
    },
    {
     "data": {
      "image/png": "[encoded data removed]",
      "text/plain": [
       "<Figure size 300x300 with 1 Axes>"
      ]
     },
     "metadata": {},
     "output_type": "display_data"
    }
   ],
   "source": [
    "source_sum = ad_costs.groupby('source')['cost'].sum()\n",
    "fig = plt.figure(figsize=(3, 3));\n",
    "source_sum .plot(kind='bar', fontsize=7);\n",
    "\n",
    "plt.title('Общая сумма расходов на маркетинг по источникам');\n",
    "plt.xlabel('Ресурс');\n",
    "plt.ylabel('Сумма');\n",
    "\n",
    "display(source_sum.reset_index())\n",
    "plt.xticks(rotation=40, fontsize=7);"
   ]
  },
  {
   "cell_type": "markdown",
   "id": "4eccab1b",
   "metadata": {},
   "source": [
    "Теперь считаем саму вовлеченность по источникам: "
   ]
  },
  {
   "cell_type": "markdown",
   "id": "164afd15",
   "metadata": {},
   "source": [
    "#### Посчитаем вовлеченность пользователей"
   ]
  },
  {
   "cell_type": "code",
   "execution_count": 28,
   "id": "884bf41d",
   "metadata": {},
   "outputs": [
    {
     "data": {
      "text/html": [
       "<div>\n",
       "<style scoped>\n",
       "    .dataframe tbody tr th:only-of-type {\n",
       "        vertical-align: middle;\n",
       "    }\n",
       "\n",
       "    .dataframe tbody tr th {\n",
       "        vertical-align: top;\n",
       "    }\n",
       "\n",
       "    .dataframe thead th {\n",
       "        text-align: right;\n",
       "    }\n",
       "</style>\n",
       "<table border=\"1\" class=\"dataframe\">\n",
       "  <thead>\n",
       "    <tr style=\"text-align: right;\">\n",
       "      <th></th>\n",
       "      <th>завершили_уровень</th>\n",
       "      <th>привлечено</th>\n",
       "      <th>отток</th>\n",
       "    </tr>\n",
       "    <tr>\n",
       "      <th>source</th>\n",
       "      <th></th>\n",
       "      <th></th>\n",
       "      <th></th>\n",
       "    </tr>\n",
       "  </thead>\n",
       "  <tbody>\n",
       "    <tr>\n",
       "      <th>youtube_channel_reklama</th>\n",
       "      <td>1538</td>\n",
       "      <td>2686</td>\n",
       "      <td>1148</td>\n",
       "    </tr>\n",
       "    <tr>\n",
       "      <th>facebook_ads</th>\n",
       "      <td>1541</td>\n",
       "      <td>2726</td>\n",
       "      <td>1185</td>\n",
       "    </tr>\n",
       "    <tr>\n",
       "      <th>instagram_new_adverts</th>\n",
       "      <td>1942</td>\n",
       "      <td>3347</td>\n",
       "      <td>1405</td>\n",
       "    </tr>\n",
       "    <tr>\n",
       "      <th>yandex_direct</th>\n",
       "      <td>2662</td>\n",
       "      <td>4817</td>\n",
       "      <td>2155</td>\n",
       "    </tr>\n",
       "  </tbody>\n",
       "</table>\n",
       "</div>"
      ],
      "text/plain": [
       "                         завершили_уровень  привлечено  отток\n",
       "source                                                       \n",
       "youtube_channel_reklama               1538        2686   1148\n",
       "facebook_ads                          1541        2726   1185\n",
       "instagram_new_adverts                 1942        3347   1405\n",
       "yandex_direct                         2662        4817   2155"
      ]
     },
     "metadata": {},
     "output_type": "display_data"
    }
   ],
   "source": [
    "sources_1 = cnt_1.groupby('source')['user_id'].count()\n",
    "sources_2 = cnt_2.groupby('source')['user_id'].count()\n",
    "sources = sources_1 + sources_2\n",
    "sources = pd.DataFrame(sources)\n",
    "sources['привлечено'] = profiles.groupby('source')[['user_id']].count()\n",
    "sources['отток'] = sources['привлечено'] - sources['user_id']\n",
    "sources = sources.rename(columns={'user_id':'завершили_уровень'})\n",
    "\n",
    "display(sources.sort_values(by = 'привлечено'))"
   ]
  },
  {
   "cell_type": "code",
   "execution_count": 29,
   "id": "47468f29",
   "metadata": {},
   "outputs": [
    {
     "data": {
      "text/plain": [
       "<Figure size 1000x1000 with 0 Axes>"
      ]
     },
     "metadata": {},
     "output_type": "display_data"
    },
    {
     "data": {
      "image/png": "[encoded data removed]",
      "text/plain": [
       "<Figure size 640x480 with 1 Axes>"
      ]
     },
     "metadata": {},
     "output_type": "display_data"
    }
   ],
   "source": [
    "fig = plt.figure(figsize=(10, 10));\n",
    "sources.sort_values(by = 'привлечено', ascending = False).plot(kind='bar', fontsize=7);\n",
    "\n",
    "plt.title('Общая сумма расходов на маркетинг по источникам');\n",
    "plt.xlabel('Ресурс');\n",
    "plt.ylabel('Сумма');\n",
    "\n",
    "plt.xticks(rotation=40, fontsize=7);"
   ]
  },
  {
   "cell_type": "markdown",
   "id": "74e1f3bf",
   "metadata": {},
   "source": [
    "В целом затраты на рекламу по выбранным источникам себя оправдывают. Посмотрим так же на CAC."
   ]
  },
  {
   "cell_type": "markdown",
   "id": "86db6e08",
   "metadata": {},
   "source": [
    "#### CAC"
   ]
  },
  {
   "cell_type": "code",
   "execution_count": 30,
   "id": "0ceefac8",
   "metadata": {},
   "outputs": [
    {
     "data": {
      "image/png": "[encoded data removed]",
      "text/plain": [
       "<Figure size 2000x500 with 1 Axes>"
      ]
     },
     "metadata": {},
     "output_type": "display_data"
    }
   ],
   "source": [
    "data = ad_costs.pivot_table(index='day', columns ='source', values = 'cost', aggfunc='sum')\n",
    "\n",
    "\n",
    "plt1 = data.plot(figsize=(20,5))\n",
    "\n",
    "plt1.set_title('Изменение расходов по дням', fontsize = 22);"
   ]
  },
  {
   "cell_type": "code",
   "execution_count": 31,
   "id": "4c76f7ac",
   "metadata": {},
   "outputs": [
    {
     "data": {
      "text/html": [
       "<div>\n",
       "<style scoped>\n",
       "    .dataframe tbody tr th:only-of-type {\n",
       "        vertical-align: middle;\n",
       "    }\n",
       "\n",
       "    .dataframe tbody tr th {\n",
       "        vertical-align: top;\n",
       "    }\n",
       "\n",
       "    .dataframe thead th {\n",
       "        text-align: right;\n",
       "    }\n",
       "</style>\n",
       "<table border=\"1\" class=\"dataframe\">\n",
       "  <thead>\n",
       "    <tr style=\"text-align: right;\">\n",
       "      <th></th>\n",
       "      <th>source</th>\n",
       "      <th>cost</th>\n",
       "      <th>user_id</th>\n",
       "      <th>acquisition_cost</th>\n",
       "    </tr>\n",
       "  </thead>\n",
       "  <tbody>\n",
       "    <tr>\n",
       "      <th>0</th>\n",
       "      <td>facebook_ads</td>\n",
       "      <td>2140.904643</td>\n",
       "      <td>2726</td>\n",
       "      <td>0.785365</td>\n",
       "    </tr>\n",
       "    <tr>\n",
       "      <th>1</th>\n",
       "      <td>instagram_new_adverts</td>\n",
       "      <td>2161.441691</td>\n",
       "      <td>3347</td>\n",
       "      <td>0.645785</td>\n",
       "    </tr>\n",
       "    <tr>\n",
       "      <th>2</th>\n",
       "      <td>yandex_direct</td>\n",
       "      <td>2233.111449</td>\n",
       "      <td>4817</td>\n",
       "      <td>0.463590</td>\n",
       "    </tr>\n",
       "    <tr>\n",
       "      <th>3</th>\n",
       "      <td>youtube_channel_reklama</td>\n",
       "      <td>1068.119204</td>\n",
       "      <td>2686</td>\n",
       "      <td>0.397662</td>\n",
       "    </tr>\n",
       "  </tbody>\n",
       "</table>\n",
       "</div>"
      ],
      "text/plain": [
       "                    source         cost  user_id  acquisition_cost\n",
       "0             facebook_ads  2140.904643     2726          0.785365\n",
       "1    instagram_new_adverts  2161.441691     3347          0.645785\n",
       "2            yandex_direct  2233.111449     4817          0.463590\n",
       "3  youtube_channel_reklama  1068.119204     2686          0.397662"
      ]
     },
     "metadata": {},
     "output_type": "display_data"
    },
    {
     "name": "stdout",
     "output_type": "stream",
     "text": [
      "Cредний CAC по всему датафрейму: 0.5731002471448883\n"
     ]
    }
   ],
   "source": [
    "user_source_1 = user_source.groupby('source')['user_id'].count()\n",
    "add_ad_costs = ad_costs.groupby('source')['cost'].sum().reset_index()\n",
    "add_ad_costs = add_ad_costs.merge(user_source_1, on = 'source', how = 'left')\n",
    "\n",
    "add_ad_costs['acquisition_cost'] = add_ad_costs['cost']/add_ad_costs['user_id']\n",
    "display(add_ad_costs)\n",
    "add_ad_costs['mean_cost'] = add_ad_costs['acquisition_cost'].mean()\n",
    "total_mean = add_ad_costs['mean_cost'].mean()\n",
    "print('Cредний CAC по всему датафрейму: {}'.format(total_mean))"
   ]
  },
  {
   "cell_type": "markdown",
   "id": "0acfc30e",
   "metadata": {},
   "source": [
    "По имеющимся данным сложно сказать что-то конкретное, кроме того, что, виузально кажется, что маркетинговый отдел очень грамотно распорядился с проведением рекламной компании. В рамках этого проекта нет цели улучшить деятельность маркетингового отдела, но лишний раз проверить, можно ли что-то улучшить здесь будет не лишним. "
   ]
  },
  {
   "cell_type": "markdown",
   "id": "b20c2492",
   "metadata": {},
   "source": [
    "### Сколько в среднем событий приходится на пользователя?"
   ]
  },
  {
   "cell_type": "code",
   "execution_count": 32,
   "id": "92d992d0",
   "metadata": {},
   "outputs": [
    {
     "name": "stdout",
     "output_type": "stream",
     "text": [
      "\n",
      " Среднее количество событий в час на всех пользователей: 162 \n",
      " Среднее количество событий в минуту: 3 \n",
      " Среднее количество пользователей в час на все события: 120 \n",
      " Среднее количество пользователей в минуту на все события: 2 \n",
      " Среднее количество событий в час на 1 пользователя: 1 \n",
      " Среднее количество событий с построкой в день на 1 пользователя: 1\n"
     ]
    },
    {
     "data": {
      "text/html": [
       "<div>\n",
       "<style scoped>\n",
       "    .dataframe tbody tr th:only-of-type {\n",
       "        vertical-align: middle;\n",
       "    }\n",
       "\n",
       "    .dataframe tbody tr th {\n",
       "        vertical-align: top;\n",
       "    }\n",
       "\n",
       "    .dataframe thead th {\n",
       "        text-align: right;\n",
       "    }\n",
       "</style>\n",
       "<table border=\"1\" class=\"dataframe\">\n",
       "  <thead>\n",
       "    <tr style=\"text-align: right;\">\n",
       "      <th></th>\n",
       "      <th>date</th>\n",
       "      <th>event</th>\n",
       "      <th>building_type</th>\n",
       "      <th>user_id</th>\n",
       "      <th>events_per_h</th>\n",
       "      <th>events_per_min</th>\n",
       "      <th>users_per_h</th>\n",
       "      <th>users_per_min</th>\n",
       "      <th>time_user</th>\n",
       "      <th>day_user</th>\n",
       "      <th>time_building</th>\n",
       "      <th>sum_building</th>\n",
       "      <th>sum_building_h</th>\n",
       "    </tr>\n",
       "  </thead>\n",
       "  <tbody>\n",
       "    <tr>\n",
       "      <th>0</th>\n",
       "      <td>2020-05-04</td>\n",
       "      <td>8171</td>\n",
       "      <td>8170</td>\n",
       "      <td>5860</td>\n",
       "      <td>340.416667</td>\n",
       "      <td>5.673611</td>\n",
       "      <td>244.166667</td>\n",
       "      <td>4.069444</td>\n",
       "      <td>1.394198</td>\n",
       "      <td>1.394198</td>\n",
       "      <td>340.416667</td>\n",
       "      <td>571.90</td>\n",
       "      <td>23.829167</td>\n",
       "    </tr>\n",
       "    <tr>\n",
       "      <th>1</th>\n",
       "      <td>2020-05-05</td>\n",
       "      <td>9055</td>\n",
       "      <td>9052</td>\n",
       "      <td>6382</td>\n",
       "      <td>377.166667</td>\n",
       "      <td>6.286111</td>\n",
       "      <td>265.916667</td>\n",
       "      <td>4.431944</td>\n",
       "      <td>1.418364</td>\n",
       "      <td>1.418364</td>\n",
       "      <td>377.166667</td>\n",
       "      <td>633.64</td>\n",
       "      <td>26.401667</td>\n",
       "    </tr>\n",
       "    <tr>\n",
       "      <th>2</th>\n",
       "      <td>2020-05-06</td>\n",
       "      <td>9925</td>\n",
       "      <td>9921</td>\n",
       "      <td>6854</td>\n",
       "      <td>413.375000</td>\n",
       "      <td>6.889583</td>\n",
       "      <td>285.583333</td>\n",
       "      <td>4.759722</td>\n",
       "      <td>1.447476</td>\n",
       "      <td>1.447476</td>\n",
       "      <td>413.375000</td>\n",
       "      <td>694.47</td>\n",
       "      <td>28.936250</td>\n",
       "    </tr>\n",
       "    <tr>\n",
       "      <th>3</th>\n",
       "      <td>2020-05-07</td>\n",
       "      <td>10858</td>\n",
       "      <td>10847</td>\n",
       "      <td>7384</td>\n",
       "      <td>451.958333</td>\n",
       "      <td>7.532639</td>\n",
       "      <td>307.666667</td>\n",
       "      <td>5.127778</td>\n",
       "      <td>1.468987</td>\n",
       "      <td>1.468987</td>\n",
       "      <td>451.958333</td>\n",
       "      <td>759.29</td>\n",
       "      <td>31.637083</td>\n",
       "    </tr>\n",
       "    <tr>\n",
       "      <th>4</th>\n",
       "      <td>2020-05-08</td>\n",
       "      <td>12059</td>\n",
       "      <td>12030</td>\n",
       "      <td>7891</td>\n",
       "      <td>501.250000</td>\n",
       "      <td>8.354167</td>\n",
       "      <td>328.791667</td>\n",
       "      <td>5.479861</td>\n",
       "      <td>1.524522</td>\n",
       "      <td>1.524522</td>\n",
       "      <td>501.250000</td>\n",
       "      <td>842.10</td>\n",
       "      <td>35.087500</td>\n",
       "    </tr>\n",
       "  </tbody>\n",
       "</table>\n",
       "</div>"
      ],
      "text/plain": [
       "         date  event  building_type  user_id  events_per_h  events_per_min  \\\n",
       "0  2020-05-04   8171           8170     5860    340.416667        5.673611   \n",
       "1  2020-05-05   9055           9052     6382    377.166667        6.286111   \n",
       "2  2020-05-06   9925           9921     6854    413.375000        6.889583   \n",
       "3  2020-05-07  10858          10847     7384    451.958333        7.532639   \n",
       "4  2020-05-08  12059          12030     7891    501.250000        8.354167   \n",
       "\n",
       "   users_per_h  users_per_min  time_user  day_user  time_building  \\\n",
       "0   244.166667       4.069444   1.394198  1.394198     340.416667   \n",
       "1   265.916667       4.431944   1.418364  1.418364     377.166667   \n",
       "2   285.583333       4.759722   1.447476  1.447476     413.375000   \n",
       "3   307.666667       5.127778   1.468987  1.468987     451.958333   \n",
       "4   328.791667       5.479861   1.524522  1.524522     501.250000   \n",
       "\n",
       "   sum_building  sum_building_h  \n",
       "0        571.90       23.829167  \n",
       "1        633.64       26.401667  \n",
       "2        694.47       28.936250  \n",
       "3        759.29       31.637083  \n",
       "4        842.10       35.087500  "
      ]
     },
     "metadata": {},
     "output_type": "display_data"
    }
   ],
   "source": [
    "#Считаем количество событий по датам:\n",
    "midle_event_1 = df.groupby('date')['event'].count().reset_index()\n",
    "#Считаем количество уникальных пользователей по датам:\n",
    "midle_event_2 = df.groupby('date').agg({'user_id':'nunique'}).reset_index()\n",
    "#Считаем количество построек:\n",
    "midle_event_3 = df.groupby('date')['building_type'].count().reset_index()\n",
    "#Соединяем все в единый датасет:\n",
    "midle_event = midle_event_1.merge(midle_event_3, on='date', how='outer')\n",
    "midle_event = midle_event.merge(midle_event_2, on='date', how='outer')\n",
    "\n",
    "#Считаем количество единиц зданий, построенных в течение разного времяни:\n",
    "midle_event['events_per_h'] = midle_event['building_type']/24\n",
    "midle_event['events_per_min'] = midle_event['building_type']/24/60\n",
    "\n",
    "#Считаем количество пользователей, активных в течение разного времяни:\n",
    "midle_event['users_per_h'] = midle_event['user_id']/24\n",
    "midle_event['users_per_min'] = midle_event['user_id']/24/60\n",
    "\n",
    "#Считаем какое количество зданий приходится на одного пользователя в разные промежутки времени:\n",
    "midle_event['time_user'] = midle_event['events_per_h']/midle_event['users_per_h']\n",
    "midle_event['day_user'] = midle_event['building_type']/midle_event['user_id']\n",
    "\n",
    "\n",
    "midle_event['time_building'] = midle_event['building_type']/24\n",
    "midle_event['sum_building'] = midle_event['building_type']*0.07\n",
    "midle_event['sum_building_h'] = midle_event['time_building']*0.07\n",
    "\n",
    "\n",
    "#display(midle_event)\n",
    "print('\\n Среднее количество событий в час на всех пользователей:', round(midle_event['events_per_h'].mean()),\n",
    "     '\\n Среднее количество событий в минуту:', round(midle_event['events_per_min'].mean()),\n",
    "     '\\n Среднее количество пользователей в час на все события:', round(midle_event['users_per_h'].mean()),\n",
    "     '\\n Среднее количество пользователей в минуту на все события:', round(midle_event['users_per_min'].mean()),\n",
    "     '\\n Среднее количество событий в час на 1 пользователя:', round(midle_event['time_user'].mean()),\n",
    "     '\\n Среднее количество событий с построкой в день на 1 пользователя:', round(midle_event['day_user'].mean()))\n",
    "\n",
    "display(midle_event.head(5))"
   ]
  },
  {
   "cell_type": "markdown",
   "id": "26558101",
   "metadata": {},
   "source": [
    "В среднем пользователь совершает одно событие с постройкой в день. "
   ]
  },
  {
   "cell_type": "markdown",
   "id": "588cfe95",
   "metadata": {},
   "source": [
    "## Шаг 3. Исследование базовой модели монетизации. "
   ]
  },
  {
   "cell_type": "code",
   "execution_count": 33,
   "id": "a9c3cfa7",
   "metadata": {},
   "outputs": [
    {
     "name": "stdout",
     "output_type": "stream",
     "text": [
      "\n",
      " Срок окупаемости затрат при базовой модели: 25 дней \n",
      " \n",
      " Прибыль за исследуемый период: 1353 \n",
      " \n",
      " Сумма затрат на рекламу по исследоваемому периоду: 7604 \n",
      " \n",
      " Процент окупаемости: 118 %\n"
     ]
    }
   ],
   "source": [
    "#Фильтруем датасет по типу событий и группируем для подсчета:\n",
    "building_df = df[df['event']=='building']\n",
    "building_df = building_df.groupby(['date'])['event'].count().reset_index()\n",
    "#Считаем, сколько заработала базовая модель:\n",
    "building_df['sum_money'] = building_df['event']*0.07\n",
    "#Прибыль за исследуемый период\n",
    "expenses_payback = building_df['sum_money'].sum() - ad_costs['cost'].sum()\n",
    "#Процент окупаемости:\n",
    "payback_percent = (building_df['sum_money'].sum()/ad_costs['cost'].sum())*100\n",
    "#Срок окупаемости затрат при базовой модел\n",
    "payback_period = round((ad_costs['cost'].sum()/building_df['sum_money'].sum())*30)\n",
    "\n",
    "print('\\n Срок окупаемости затрат при базовой модели:',  payback_period, 'дней',\n",
    "      '\\n \\n Прибыль за исследуемый период:', round(expenses_payback),\n",
    "      '\\n \\n Сумма затрат на рекламу по исследоваемому периоду:', round(ad_costs['cost'].sum()),\n",
    "      '\\n \\n Процент окупаемости:', round(payback_percent), '%')"
   ]
  },
  {
   "cell_type": "markdown",
   "id": "1e020744",
   "metadata": {},
   "source": [
    "Окупаемая модель. "
   ]
  },
  {
   "cell_type": "code",
   "execution_count": 34,
   "id": "65bedf32",
   "metadata": {},
   "outputs": [
    {
     "data": {
      "text/html": [
       "<div>\n",
       "<style scoped>\n",
       "    .dataframe tbody tr th:only-of-type {\n",
       "        vertical-align: middle;\n",
       "    }\n",
       "\n",
       "    .dataframe tbody tr th {\n",
       "        vertical-align: top;\n",
       "    }\n",
       "\n",
       "    .dataframe thead th {\n",
       "        text-align: right;\n",
       "    }\n",
       "</style>\n",
       "<table border=\"1\" class=\"dataframe\">\n",
       "  <thead>\n",
       "    <tr style=\"text-align: right;\">\n",
       "      <th></th>\n",
       "      <th>event</th>\n",
       "      <th>user_id</th>\n",
       "      <th>user_percent</th>\n",
       "    </tr>\n",
       "  </thead>\n",
       "  <tbody>\n",
       "    <tr>\n",
       "      <th>0</th>\n",
       "      <td>building</td>\n",
       "      <td>13576</td>\n",
       "      <td>100.000000</td>\n",
       "    </tr>\n",
       "    <tr>\n",
       "      <th>1</th>\n",
       "      <td>finished_stage_1</td>\n",
       "      <td>5817</td>\n",
       "      <td>42.847672</td>\n",
       "    </tr>\n",
       "    <tr>\n",
       "      <th>2</th>\n",
       "      <td>project</td>\n",
       "      <td>1866</td>\n",
       "      <td>13.744844</td>\n",
       "    </tr>\n",
       "  </tbody>\n",
       "</table>\n",
       "</div>"
      ],
      "text/plain": [
       "              event  user_id  user_percent\n",
       "0          building    13576    100.000000\n",
       "1  finished_stage_1     5817     42.847672\n",
       "2           project     1866     13.744844"
      ]
     },
     "metadata": {},
     "output_type": "display_data"
    }
   ],
   "source": [
    "event_check = df.groupby('event').agg({'user_id':'nunique'}).reset_index()\n",
    "event_check['user_percent'] = (event_check['user_id']/profiles['user_id'].count())*100\n",
    "\n",
    "display(event_check)"
   ]
  },
  {
   "cell_type": "markdown",
   "id": "f4beb09c",
   "metadata": {},
   "source": [
    "На данный момент по базовой модели реклама за 1 месяц окупается с прибылью в 18% от первоначальных затрат. Окупаются затраты на рекламу за 25 дней. \n",
    "\n",
    "Мы так же учитываем то, что только 56.59% пользователей доходят до конца первого уровня - это без рекламы. Мы не знаем, как скажется реклама при каждой постройке здания на вовлеченность пользователя.\n",
    "\n",
    "Исходя из того, как распределены события в логах (94% событий - это постройка), мы можем сделать вывод, что привязать окупаемость к другому типу событий мы не можем. \n",
    "\n",
    "Посмотрим, какие категории зданий строятся чаще всего в целом и во времени. А так же на каких зданиях будет больше всего монетизироваться базовая модель."
   ]
  },
  {
   "cell_type": "code",
   "execution_count": 35,
   "id": "e0470aad",
   "metadata": {},
   "outputs": [
    {
     "data": {
      "text/html": [
       "<div>\n",
       "<style scoped>\n",
       "    .dataframe tbody tr th:only-of-type {\n",
       "        vertical-align: middle;\n",
       "    }\n",
       "\n",
       "    .dataframe tbody tr th {\n",
       "        vertical-align: top;\n",
       "    }\n",
       "\n",
       "    .dataframe thead th {\n",
       "        text-align: right;\n",
       "    }\n",
       "</style>\n",
       "<table border=\"1\" class=\"dataframe\">\n",
       "  <thead>\n",
       "    <tr style=\"text-align: right;\">\n",
       "      <th></th>\n",
       "      <th>event_ammount</th>\n",
       "      <th>user_ammount</th>\n",
       "      <th>sum_payback</th>\n",
       "      <th>frequency_hour</th>\n",
       "      <th>prc_payback_exp</th>\n",
       "      <th>prc_payback_profit</th>\n",
       "    </tr>\n",
       "    <tr>\n",
       "      <th>building_type</th>\n",
       "      <th></th>\n",
       "      <th></th>\n",
       "      <th></th>\n",
       "      <th></th>\n",
       "      <th></th>\n",
       "      <th></th>\n",
       "    </tr>\n",
       "  </thead>\n",
       "  <tbody>\n",
       "    <tr>\n",
       "      <th>assembly_shop</th>\n",
       "      <td>54494</td>\n",
       "      <td>13576</td>\n",
       "      <td>3814.58</td>\n",
       "      <td>70.955729</td>\n",
       "      <td>50.168230</td>\n",
       "      <td>42.588410</td>\n",
       "    </tr>\n",
       "    <tr>\n",
       "      <th>research_center</th>\n",
       "      <td>14136</td>\n",
       "      <td>7671</td>\n",
       "      <td>989.52</td>\n",
       "      <td>18.406250</td>\n",
       "      <td>13.013875</td>\n",
       "      <td>11.047634</td>\n",
       "    </tr>\n",
       "    <tr>\n",
       "      <th>spaceport</th>\n",
       "      <td>59325</td>\n",
       "      <td>13231</td>\n",
       "      <td>4152.75</td>\n",
       "      <td>77.246094</td>\n",
       "      <td>54.615742</td>\n",
       "      <td>46.363956</td>\n",
       "    </tr>\n",
       "  </tbody>\n",
       "</table>\n",
       "</div>"
      ],
      "text/plain": [
       "                 event_ammount  user_ammount  sum_payback  frequency_hour  \\\n",
       "building_type                                                               \n",
       "assembly_shop            54494         13576      3814.58       70.955729   \n",
       "research_center          14136          7671       989.52       18.406250   \n",
       "spaceport                59325         13231      4152.75       77.246094   \n",
       "\n",
       "                 prc_payback_exp  prc_payback_profit  \n",
       "building_type                                         \n",
       "assembly_shop          50.168230           42.588410  \n",
       "research_center        13.013875           11.047634  \n",
       "spaceport              54.615742           46.363956  "
      ]
     },
     "metadata": {},
     "output_type": "display_data"
    },
    {
     "data": {
      "image/png": "[encoded data removed]",
      "text/plain": [
       "<Figure size 1500x400 with 1 Axes>"
      ]
     },
     "metadata": {},
     "output_type": "display_data"
    }
   ],
   "source": [
    "building_type = pd.DataFrame()\n",
    "\n",
    "building_type['event_ammount'] = df.groupby('building_type')['event'].count()\n",
    "building_type['user_ammount'] = df.groupby(['building_type']).agg({'user_id':'nunique'})\n",
    "\n",
    "\n",
    "\n",
    "building_type['sum_payback'] = (building_type['event_ammount']) * 0.07\n",
    "\n",
    "building_type['frequency_hour'] = building_type['event_ammount']/32/24\n",
    "building_type['prc_payback_exp'] = building_type['sum_payback']/ad_costs['cost'].sum()*100\n",
    "building_type['prc_payback_profit'] = building_type['sum_payback']/building_type['sum_payback'].sum()*100\n",
    "\n",
    "\n",
    "\n",
    "\n",
    "building_int = building_type['prc_payback_profit'].plot(kind='pie', subplots=True, figsize=(15,4), \n",
    "                            autopct=\"%.2f\", fontsize=7, legend = False, \n",
    "                            title = 'Процент заработка на базовой модели');\n",
    "\n",
    "display(building_type)\n"
   ]
  },
  {
   "cell_type": "markdown",
   "id": "0f13a4be",
   "metadata": {},
   "source": [
    "Чаще всего строится `spaceport`, соответственно, большая часть окупится за счет постройки spaceportов и `аssembly_shop`. Эта информация будет полезна, если все-таки часть базовой модели останется в игре. "
   ]
  },
  {
   "cell_type": "code",
   "execution_count": 36,
   "id": "a0f15f60",
   "metadata": {},
   "outputs": [
    {
     "data": {
      "image/png": "[encoded data removed]",
      "text/plain": [
       "<Figure size 1500x500 with 1 Axes>"
      ]
     },
     "metadata": {},
     "output_type": "display_data"
    }
   ],
   "source": [
    "fig = plt.figure(figsize=(15, 5));\n",
    "sns.barplot(x='date', y='sum_building', data=midle_event)\n",
    "plt.title('Распределение монетизации по датам', fontsize = 15);\n",
    "plt.xlabel('Дата', fontsize = 15);\n",
    "plt.ylabel('Размер заработка', fontsize = 15);\n",
    "plt.xticks(rotation=45);"
   ]
  },
  {
   "cell_type": "markdown",
   "id": "01be2b0a",
   "metadata": {},
   "source": [
    "Монетизация по базовой модели окупит все рекламные затраты за 25 дней. Это хорошая модель, но вопрос в том, чтобы сохранить вовлеченность пользователей.  "
   ]
  },
  {
   "cell_type": "markdown",
   "id": "9d451c3d",
   "metadata": {},
   "source": [
    "## Шаг 4. Оценить окупаемость рекламы по новой модели"
   ]
  },
  {
   "cell_type": "markdown",
   "id": "9a1d3f41",
   "metadata": {},
   "source": [
    "У нас достаточно жесткие рамки для реализации новой модели. Контракты с рекламодателями уже составлены, а внедрение новых механик монетизации потребуют много времени. Поэтому у нас не так много вариантов.\n",
    "\n",
    "Мы можем использовать базовую модель, но поставить на нее ограничение: например, демонстрация рекламы в режиме строительства начинается с 3 постройки.\n",
    "\n",
    "Такая модель потребует немного больше времени на окупаемость, но должна не так критично влиять на вовлеченность пользователей.\n",
    "\n",
    "Посчитаем, какое количество зданий в начале игры мы можем поставить на \"cooldown\" перед началом демонстрации:"
   ]
  },
  {
   "cell_type": "code",
   "execution_count": 37,
   "id": "43bf2cdb",
   "metadata": {},
   "outputs": [
    {
     "name": "stdout",
     "output_type": "stream",
     "text": [
      "\n",
      " Общее количество построенных зданий и демонстраций:127955\n",
      "\n",
      " Среднее количество зданий на пользователя за весь период:9\n",
      "\n",
      " Сумма выручки от зданий по старой модели:8957\n",
      "\n",
      " Сумма затрат на рекламу:7604\n",
      "\n",
      " Каждое 1.18 здание необходимо для того, чтобы реклама окупилась по базовой модели.\n",
      "\n",
      " Среднее количество демонстраций рекламы по новой модели:8\n",
      "\n",
      " Сумма выручки за тот же период по новой модели:8007\n",
      "\n",
      " Общее количество демонстраций при новой модели:114379\n",
      "\n",
      " Срок окупаемости затрат при новой модели: 28 дней\n"
     ]
    }
   ],
   "source": [
    "#Фильтруем датасет по необходимому виду событий:\n",
    "buildings = df.query('event == \"building\"')\n",
    "\n",
    "#Считаем количество событий (и демонстраций) на каждого пользователя за весь период:\n",
    "users_buildings = buildings.groupby('user_id')['event'].count().reset_index()\n",
    "print('\\n Общее количество построенных зданий и демонстраций:{}'.format(buildings['event'].count()))\n",
    "print('\\n Среднее количество зданий на пользователя за весь период:{}'.format(round(users_buildings['event'].mean())))\n",
    "\n",
    "#Считаем какие здания необходимы для окупаемости:\n",
    "need_buildings = (buildings['event'].count()*0.07)/ad_costs['cost'].sum()\n",
    "print('\\n Сумма выручки от зданий по старой модели:{}'.format(round(buildings['event'].count()*0.07)))\n",
    "print('\\n Сумма затрат на рекламу:{}'.format(round(ad_costs['cost'].sum())))\n",
    "print('\\n Каждое {} здание необходимо для того, чтобы реклама окупилась по базовой модели.'.format(round(need_buildings, 2)))\n",
    "\n",
    "#Сколько будет демонстрироваться рекламы на одного пользователя по новой модели:\n",
    "new_model =  ((need_buildings - round(need_buildings)) * (users_buildings['event'].mean()))\n",
    "new_model_1 = round(users_buildings['event'].mean() - new_model)\n",
    "print('\\n Среднее количество демонстраций рекламы по новой модели:{}'.format(new_model_1))\n",
    "\n",
    "#Проверяем окупаемость:\n",
    "users_buildings['event'] = (users_buildings['event'] - 1).clip(0)\n",
    "payback_sum = ((users_buildings['event'].sum()))*0.07\n",
    "print('\\n Сумма выручки за тот же период по новой модели:{}'.format(round(payback_sum)))\n",
    "users_buildings['payback'] = users_buildings['event']*0.07\n",
    "sum_event = users_buildings['event'].sum()\n",
    "print('\\n Общее количество демонстраций при новой модели:{}'.format(round(sum_event)))\n",
    "days = (ad_costs['cost'].sum()/users_buildings['payback'].sum())*30\n",
    "print('\\n Срок окупаемости затрат при новой модели:', round(days), 'дней')\n"
   ]
  },
  {
   "cell_type": "markdown",
   "id": "27c8c518",
   "metadata": {},
   "source": [
    "## По базовой модели критично почти каждое здание для окупаемости. \n",
    "\n",
    "При модификации этой модели, демонстрация рекламы производится с одним пропуском (т.е. для новых игроков просмотр рекламы начинается с постройки 2 здания), что увеличивает срок окупаемости с 25 дней, на 28 дней. Однако модифицированная модель направлена на удержание пользователя и окупает затраты на рекламу. "
   ]
  },
  {
   "cell_type": "code",
   "execution_count": 38,
   "id": "07b4f449",
   "metadata": {},
   "outputs": [
    {
     "name": "stdout",
     "output_type": "stream",
     "text": [
      "total income 7060.340000000001\n"
     ]
    }
   ],
   "source": [
    "# код ревьюера\n",
    "rev_N = 2\n",
    "rev_game_actions = pd.read_csv(r'C:\\Users\\Leron\\Desktop\\my\\project\\all_projects\\rev_game_actions.csv')\n",
    "\n",
    "rev_buildings = rev_game_actions[rev_game_actions[\"event\"] == \"building\"].groupby(\"user_id\")[\"event\"].count().reset_index()\n",
    "rev_buildings[\"watch\"] = rev_buildings.apply(lambda x: max(x[\"event\"] - rev_N, 0), axis=1)\n",
    "rev_income = rev_buildings[\"watch\"].sum()*0.07\n",
    "print(f\"total income {rev_income}\")\n",
    "\n",
    "del rev_N\n",
    "del rev_game_actions\n",
    "del rev_buildings\n",
    "del rev_income"
   ]
  },
  {
   "cell_type": "markdown",
   "id": "cf77d5c8",
   "metadata": {},
   "source": [
    "## Шаг 5. Проверка гипотез."
   ]
  },
  {
   "cell_type": "markdown",
   "id": "9ea57580",
   "metadata": {},
   "source": [
    "#### Проверить гипотезу различия времени прохождения уровня между пользователями, которые заканчивают уровень через реализацию проекта, и пользователями, которые заканчивают уровень победой над другим игроком."
   ]
  },
  {
   "cell_type": "markdown",
   "id": "d37fedfa",
   "metadata": {},
   "source": [
    "       H0 = Среднее время прохождения уровня не различается\n",
    "       H1 = Среднее время прохождения уровня различается\n",
    "       "
   ]
  },
  {
   "cell_type": "code",
   "execution_count": 39,
   "id": "99c49874",
   "metadata": {},
   "outputs": [],
   "source": [
    "#Фильруем данные по победам:\n",
    "build = df.query('project_type == \"satellite_orbital_assembly\"')['user_id'].to_list()\n",
    "war = df.query('(event == \"finished_stage_1\") and (user_id != @build)')['user_id'].to_list()\n",
    "\n",
    "#Формируем датасеты для вычисления первой и последней даты интересующих событий:\n",
    "hypo_1_p1 = df.groupby('user_id')['event_datetime'].min().reset_index().rename(columns = {'event_datetime' : 'datetime_min'})\n",
    "hypo_1_p2 = df.groupby('user_id')['event_datetime'].max().reset_index().rename(columns = {'event_datetime' : 'datetime_max'})\n",
    "\n",
    "#Соединяем полученные данные в единый датасет:\n",
    "hypo_1 = hypo_1_p1.merge(hypo_1_p2, how = 'left')\n",
    "hypo_1['days'] = (hypo_1['datetime_max'] - hypo_1['datetime_min']).astype('timedelta64[D]')"
   ]
  },
  {
   "cell_type": "code",
   "execution_count": 40,
   "id": "51608f5c",
   "metadata": {},
   "outputs": [],
   "source": [
    "#Фильтруем полученный датасет по типу побед:\n",
    "builder = hypo_1.query('user_id == @build')\n",
    "warrior = hypo_1.query('user_id == @war')"
   ]
  },
  {
   "cell_type": "code",
   "execution_count": 41,
   "id": "97ffbc3e",
   "metadata": {},
   "outputs": [
    {
     "name": "stdout",
     "output_type": "stream",
     "text": [
      "p-значение:  1.8882835392369192e-97\n",
      "Отвергаем нулевую гипотезу, время прохождения уровня различается\n",
      "В среднем: 11 дней при победе над врагом и 13 дней при реализации проекта\n"
     ]
    }
   ],
   "source": [
    "#Проводим t-тест:\n",
    "\n",
    "alpha = 0.05\n",
    "\n",
    "results = sts.ttest_ind(builder['days'], warrior['days'])\n",
    "pvalue = results.pvalue\n",
    "print('p-значение: ', pvalue)\n",
    "\n",
    "if (pvalue < alpha):\n",
    "    print(\"Отвергаем нулевую гипотезу, время прохождения уровня различается\")\n",
    "else:\n",
    "    print(\"Не получилось отвергнуть нулевую гипотезу, время прохождения уровня не различается\")\n",
    "\n",
    "print('В среднем: {:.0f} дней при победе над врагом и {:.0f} дней при реализации проекта' \\\n",
    "                  .format(hypo_1.query('user_id == @war')['days'].mean(), \\\n",
    "                          hypo_1.query('user_id == @build')['days'].mean()))"
   ]
  },
  {
   "cell_type": "markdown",
   "id": "fa3186d1",
   "metadata": {},
   "source": [
    "#### Проверить статистически значимые различия в количестве рекламных показов по старой модели и по новой."
   ]
  },
  {
   "cell_type": "markdown",
   "id": "636a6ea7",
   "metadata": {},
   "source": [
    "       H0 = Среднее количество рекламных показов не различается\n",
    "       H1 = Среднее количество рекламных показов различается"
   ]
  },
  {
   "cell_type": "code",
   "execution_count": 42,
   "id": "5d49de6d",
   "metadata": {},
   "outputs": [],
   "source": [
    "#Фильтруем датасет по типу событий и создаем датасет по базовой модели для проверки гипотезы:\n",
    "building_model = df.query('event == \"building\"')\n",
    "base_model = building_model.groupby('user_id')['event'].count().reset_index()\n",
    "\n",
    "#Формируем датасет для новой модели:\n",
    "new_model = building_model.groupby('user_id')['event'].count().reset_index()\n",
    "new_model['event'] = new_model['event']-1"
   ]
  },
  {
   "cell_type": "code",
   "execution_count": 43,
   "id": "ed7a6fcb",
   "metadata": {},
   "outputs": [
    {
     "name": "stdout",
     "output_type": "stream",
     "text": [
      "p-значение:  3.2139192066734483e-100\n",
      "Отвергаем нулевую гипотезу, количество рекламных показов различается\n",
      "В среднем: 9 рекламных показов у одного игрока по базовой модели и 8 рекламных показов у одного игрока по новой модели\n"
     ]
    }
   ],
   "source": [
    "#Проводим t-тест:\n",
    "\n",
    "alpha = 0.05\n",
    "\n",
    "results = sts.ttest_ind(base_model['event'], new_model['event'])\n",
    "print('p-значение: ', results.pvalue)\n",
    "\n",
    "if (results.pvalue < alpha):\n",
    "    print(\"Отвергаем нулевую гипотезу, количество рекламных показов различается\")\n",
    "else:\n",
    "    print(\"Не получилось отвергнуть нулевую гипотезу, количество построек у игроков не различается\")\n",
    "print('В среднем: {:.0f} рекламных показов у одного игрока по базовой модели и {:.0f} рекламных показов у одного игрока по новой модели' \\\n",
    "                  .format(round(base_model['event'].mean(), 2), \\\n",
    "                          round(new_model['event'].mean(), 2)))"
   ]
  },
  {
   "cell_type": "markdown",
   "id": "4b5f01f6",
   "metadata": {},
   "source": [
    "## Вывод"
   ]
  },
  {
   "cell_type": "markdown",
   "id": "d66e0747",
   "metadata": {},
   "source": [
    "- Гипотеза подтверждается:\n",
    "\n",
    "        Имеются статистически значимые различия во времени прохождения уровня по разным стратегиям. В среднем, скорость прохождения уровня при стратегии, по которой происходит победа над противником выше. \n",
    "\n",
    "- Гипотеза подтверждается:\n",
    "\n",
    "        Имеются статистически значимые различия в количестве рекламныйх показов по старой и новой модели. Количество рекламы по новой модели должно уменьшиться. \n",
    "        \n",
    "**Вывод по исследованию:**\n",
    "\n",
    "    Исходя из полученных данных мы делаем вывод, что привязка монетизации к демонстрации рекламы во время нахождения игрока в режиме строительства сохраняет за заказчиком контроль окупаемости, но без проведения эксперимента мы не можем сделать выводы о сохранении вовлеченности игроков при такой модели.  \n",
    "    \n",
    "    Была предложена модификация базовой модели, при которой рекламные показы начинаются с 2-ого появления игрока в режиме строительства (или с пропуском 1 рекламы). Исходя из полученных данных мы делаем вывод, что окупаемость по времени смещается и снижает количество рекламных показов на одного игрока. Опять-таки для такой модели так же нужно провести эксперимент. \n",
    "   \n",
    "    Если говорить по анализу источников, то первостепенное предпочтение стоит отдать `yandex_direct` т.к. он использует больше сервисов, привлекает больше игроков и вовлеченных пользователей от него больше. Непонятно, насколько количество внедренных денег влияет на \"отдачу\" источника - причиной такого скачка может быть именно то, что в яндекс.директ вложили больше всего денег, по сравнению с другими источниками. Для более подробного анализа требуется больше данных. \n",
    "\n",
    "\n",
    "- Рекомендации для дальнейшего развития монетизации с привязкой к изменению механики монетизации: \n",
    "\n",
    "        Можно попробовать реализовать модель, при которой демонстрация рекламы происходит лимитировано в течение дня. Конечно же будет хорошо, чтобы игрок за просмотр рекламы получал какой-то профит, опять-таки мог лимитированно смотреть рекламу для получения выгоды. Примеры профита: алмазы, части уникальных строений или предметов, уникальные ресурсы, ускорение времени постройки зданий.\n",
    "\n",
    "        Обязательную рекламу можно оставить на постройке части зданий и на остальные события."
   ]
  },
  {
   "cell_type": "markdown",
   "id": "b3edc55a",
   "metadata": {},
   "source": [
    "## Материалы"
   ]
  },
  {
   "cell_type": "markdown",
   "id": "4a60b49d",
   "metadata": {},
   "source": [
    "https://disk.yandex.ru/i/cDalYrInq9gSkA - презентация"
   ]
  }
 ],
 "metadata": {
  "ExecuteTimeLog": [
   {
    "duration": 1505,
    "start_time": "2023-02-07T07:44:45.802Z"
   },
   {
    "duration": 800,
    "start_time": "2023-02-07T07:44:47.309Z"
   },
   {
    "duration": 1151,
    "start_time": "2023-02-07T07:44:52.991Z"
   },
   {
    "duration": 246,
    "start_time": "2023-02-07T07:44:54.144Z"
   },
   {
    "duration": 13,
    "start_time": "2023-02-07T07:44:54.392Z"
   },
   {
    "duration": 19,
    "start_time": "2023-02-07T07:44:54.407Z"
   },
   {
    "duration": 23,
    "start_time": "2023-02-07T07:44:54.428Z"
   },
   {
    "duration": 88,
    "start_time": "2023-02-07T07:44:54.453Z"
   },
   {
    "duration": 3,
    "start_time": "2023-02-07T07:44:54.543Z"
   },
   {
    "duration": 174,
    "start_time": "2023-02-07T07:44:54.548Z"
   },
   {
    "duration": 25,
    "start_time": "2023-02-07T07:44:54.724Z"
   },
   {
    "duration": 33,
    "start_time": "2023-02-07T07:44:54.752Z"
   },
   {
    "duration": 17,
    "start_time": "2023-02-07T07:44:54.787Z"
   },
   {
    "duration": 23,
    "start_time": "2023-02-07T07:44:54.806Z"
   },
   {
    "duration": 73,
    "start_time": "2023-02-07T07:44:54.831Z"
   },
   {
    "duration": 35,
    "start_time": "2023-02-07T07:44:54.906Z"
   },
   {
    "duration": 28244,
    "start_time": "2023-02-07T07:44:54.942Z"
   },
   {
    "duration": 10,
    "start_time": "2023-02-07T07:45:23.188Z"
   },
   {
    "duration": 1246,
    "start_time": "2023-02-07T07:45:23.200Z"
   },
   {
    "duration": 375,
    "start_time": "2023-02-07T07:45:24.448Z"
   },
   {
    "duration": 67,
    "start_time": "2023-02-07T07:45:24.825Z"
   },
   {
    "duration": 129,
    "start_time": "2023-02-07T07:45:24.895Z"
   },
   {
    "duration": 41,
    "start_time": "2023-02-07T07:45:25.026Z"
   },
   {
    "duration": 257,
    "start_time": "2023-02-07T07:45:25.069Z"
   },
   {
    "duration": 194,
    "start_time": "2023-02-07T07:45:25.328Z"
   },
   {
    "duration": 180,
    "start_time": "2023-02-07T07:45:25.524Z"
   },
   {
    "duration": 35,
    "start_time": "2023-02-07T07:45:25.706Z"
   },
   {
    "duration": 202,
    "start_time": "2023-02-07T07:45:25.743Z"
   },
   {
    "duration": 16,
    "start_time": "2023-02-07T07:45:25.947Z"
   },
   {
    "duration": 173,
    "start_time": "2023-02-07T07:45:25.968Z"
   },
   {
    "duration": 1642,
    "start_time": "2023-02-07T07:45:26.143Z"
   },
   {
    "duration": 244,
    "start_time": "2023-02-07T07:45:27.788Z"
   },
   {
    "duration": 12,
    "start_time": "2023-02-07T07:45:28.034Z"
   },
   {
    "duration": 152,
    "start_time": "2023-02-07T07:45:28.049Z"
   },
   {
    "duration": 57,
    "start_time": "2023-02-07T07:45:28.202Z"
   },
   {
    "duration": 49,
    "start_time": "2023-02-07T07:45:28.261Z"
   },
   {
    "duration": 139,
    "start_time": "2023-02-07T07:45:28.312Z"
   },
   {
    "duration": 393,
    "start_time": "2023-02-07T07:45:28.453Z"
   },
   {
    "duration": 91,
    "start_time": "2023-02-07T07:45:28.848Z"
   },
   {
    "duration": 451,
    "start_time": "2023-02-07T07:45:28.941Z"
   },
   {
    "duration": 385,
    "start_time": "2023-02-07T07:45:29.394Z"
   },
   {
    "duration": 82,
    "start_time": "2023-02-07T07:45:29.792Z"
   },
   {
    "duration": 17,
    "start_time": "2023-02-07T07:45:29.876Z"
   },
   {
    "duration": 39,
    "start_time": "2023-02-07T07:45:29.894Z"
   },
   {
    "duration": 98,
    "start_time": "2023-02-07T07:45:29.936Z"
   },
   {
    "duration": 8,
    "start_time": "2023-02-07T07:45:30.036Z"
   },
   {
    "duration": 4,
    "start_time": "2023-02-07T07:45:49.921Z"
   },
   {
    "duration": 6,
    "start_time": "2023-02-07T07:46:27.626Z"
   },
   {
    "duration": 51,
    "start_time": "2023-02-07T12:42:32.796Z"
   },
   {
    "duration": 7,
    "start_time": "2023-02-07T12:45:33.266Z"
   },
   {
    "duration": 1441,
    "start_time": "2023-02-07T12:45:36.622Z"
   },
   {
    "duration": 869,
    "start_time": "2023-02-07T12:45:38.066Z"
   },
   {
    "duration": 18,
    "start_time": "2023-02-07T12:45:38.937Z"
   },
   {
    "duration": 14,
    "start_time": "2023-02-07T12:45:38.958Z"
   },
   {
    "duration": 39,
    "start_time": "2023-02-07T12:45:38.974Z"
   },
   {
    "duration": 125,
    "start_time": "2023-02-07T12:45:39.015Z"
   },
   {
    "duration": 2,
    "start_time": "2023-02-07T12:45:39.142Z"
   },
   {
    "duration": 174,
    "start_time": "2023-02-07T12:45:39.152Z"
   },
   {
    "duration": 34,
    "start_time": "2023-02-07T12:45:39.328Z"
   },
   {
    "duration": 26,
    "start_time": "2023-02-07T12:45:39.365Z"
   },
   {
    "duration": 5,
    "start_time": "2023-02-07T12:45:39.393Z"
   },
   {
    "duration": 13,
    "start_time": "2023-02-07T12:45:39.399Z"
   },
   {
    "duration": 65,
    "start_time": "2023-02-07T12:45:39.414Z"
   },
   {
    "duration": 35,
    "start_time": "2023-02-07T12:45:39.481Z"
   },
   {
    "duration": 26893,
    "start_time": "2023-02-07T12:45:39.519Z"
   },
   {
    "duration": 6,
    "start_time": "2023-02-07T12:46:06.414Z"
   },
   {
    "duration": 1257,
    "start_time": "2023-02-07T12:46:06.421Z"
   },
   {
    "duration": 340,
    "start_time": "2023-02-07T12:46:07.679Z"
   },
   {
    "duration": 62,
    "start_time": "2023-02-07T12:46:08.020Z"
   },
   {
    "duration": 112,
    "start_time": "2023-02-07T12:46:08.084Z"
   },
   {
    "duration": 30,
    "start_time": "2023-02-07T12:46:08.198Z"
   },
   {
    "duration": 77,
    "start_time": "2023-02-07T12:46:08.230Z"
   },
   {
    "duration": 0,
    "start_time": "2023-02-07T12:46:08.310Z"
   },
   {
    "duration": 0,
    "start_time": "2023-02-07T12:46:08.311Z"
   },
   {
    "duration": 0,
    "start_time": "2023-02-07T12:46:08.313Z"
   },
   {
    "duration": 0,
    "start_time": "2023-02-07T12:46:08.314Z"
   },
   {
    "duration": 0,
    "start_time": "2023-02-07T12:46:08.315Z"
   },
   {
    "duration": 0,
    "start_time": "2023-02-07T12:46:08.316Z"
   },
   {
    "duration": 0,
    "start_time": "2023-02-07T12:46:08.317Z"
   },
   {
    "duration": 0,
    "start_time": "2023-02-07T12:46:08.318Z"
   },
   {
    "duration": 0,
    "start_time": "2023-02-07T12:46:08.319Z"
   },
   {
    "duration": 0,
    "start_time": "2023-02-07T12:46:08.320Z"
   },
   {
    "duration": 0,
    "start_time": "2023-02-07T12:46:08.321Z"
   },
   {
    "duration": 0,
    "start_time": "2023-02-07T12:46:08.353Z"
   },
   {
    "duration": 0,
    "start_time": "2023-02-07T12:46:08.354Z"
   },
   {
    "duration": 0,
    "start_time": "2023-02-07T12:46:08.355Z"
   },
   {
    "duration": 0,
    "start_time": "2023-02-07T12:46:08.356Z"
   },
   {
    "duration": 0,
    "start_time": "2023-02-07T12:46:08.357Z"
   },
   {
    "duration": 0,
    "start_time": "2023-02-07T12:46:08.358Z"
   },
   {
    "duration": 0,
    "start_time": "2023-02-07T12:46:08.359Z"
   },
   {
    "duration": 0,
    "start_time": "2023-02-07T12:46:08.360Z"
   },
   {
    "duration": 0,
    "start_time": "2023-02-07T12:46:08.361Z"
   },
   {
    "duration": 0,
    "start_time": "2023-02-07T12:46:08.362Z"
   },
   {
    "duration": 0,
    "start_time": "2023-02-07T12:46:08.362Z"
   },
   {
    "duration": 0,
    "start_time": "2023-02-07T12:46:08.363Z"
   },
   {
    "duration": 1160,
    "start_time": "2023-02-07T12:47:51.210Z"
   },
   {
    "duration": 1127,
    "start_time": "2023-02-07T12:48:22.446Z"
   },
   {
    "duration": 1200,
    "start_time": "2023-02-07T12:49:17.730Z"
   },
   {
    "duration": 12,
    "start_time": "2023-02-07T12:49:44.276Z"
   },
   {
    "duration": 7,
    "start_time": "2023-02-07T12:49:54.706Z"
   },
   {
    "duration": 5,
    "start_time": "2023-02-07T12:50:11.367Z"
   },
   {
    "duration": 32,
    "start_time": "2023-02-07T12:51:25.359Z"
   },
   {
    "duration": 31,
    "start_time": "2023-02-07T12:51:55.841Z"
   },
   {
    "duration": 60,
    "start_time": "2023-02-07T12:52:06.545Z"
   },
   {
    "duration": 85,
    "start_time": "2023-02-07T12:55:16.485Z"
   },
   {
    "duration": 73,
    "start_time": "2023-02-07T12:55:34.419Z"
   },
   {
    "duration": 61,
    "start_time": "2023-02-07T12:55:56.302Z"
   },
   {
    "duration": 73,
    "start_time": "2023-02-07T12:58:36.878Z"
   },
   {
    "duration": 4,
    "start_time": "2023-02-07T12:58:49.744Z"
   },
   {
    "duration": 321,
    "start_time": "2023-02-07T12:58:49.749Z"
   },
   {
    "duration": 9,
    "start_time": "2023-02-07T12:58:50.072Z"
   },
   {
    "duration": 19,
    "start_time": "2023-02-07T12:58:50.083Z"
   },
   {
    "duration": 18,
    "start_time": "2023-02-07T12:58:50.104Z"
   },
   {
    "duration": 90,
    "start_time": "2023-02-07T12:58:50.124Z"
   },
   {
    "duration": 3,
    "start_time": "2023-02-07T12:58:50.216Z"
   },
   {
    "duration": 154,
    "start_time": "2023-02-07T12:58:50.220Z"
   },
   {
    "duration": 31,
    "start_time": "2023-02-07T12:58:50.376Z"
   },
   {
    "duration": 36,
    "start_time": "2023-02-07T12:58:50.409Z"
   },
   {
    "duration": 7,
    "start_time": "2023-02-07T12:58:50.447Z"
   },
   {
    "duration": 13,
    "start_time": "2023-02-07T12:58:50.455Z"
   },
   {
    "duration": 55,
    "start_time": "2023-02-07T12:58:50.470Z"
   },
   {
    "duration": 29,
    "start_time": "2023-02-07T12:58:50.527Z"
   },
   {
    "duration": 27389,
    "start_time": "2023-02-07T12:58:50.557Z"
   },
   {
    "duration": 6,
    "start_time": "2023-02-07T12:59:17.948Z"
   },
   {
    "duration": 1187,
    "start_time": "2023-02-07T12:59:17.955Z"
   },
   {
    "duration": 366,
    "start_time": "2023-02-07T12:59:19.144Z"
   },
   {
    "duration": 82,
    "start_time": "2023-02-07T12:59:19.512Z"
   },
   {
    "duration": 120,
    "start_time": "2023-02-07T12:59:19.597Z"
   },
   {
    "duration": 39,
    "start_time": "2023-02-07T12:59:19.719Z"
   },
   {
    "duration": 55,
    "start_time": "2023-02-07T12:59:19.760Z"
   },
   {
    "duration": 241,
    "start_time": "2023-02-07T12:59:19.817Z"
   },
   {
    "duration": 184,
    "start_time": "2023-02-07T12:59:20.060Z"
   },
   {
    "duration": 169,
    "start_time": "2023-02-07T12:59:20.246Z"
   },
   {
    "duration": 37,
    "start_time": "2023-02-07T12:59:20.417Z"
   },
   {
    "duration": 222,
    "start_time": "2023-02-07T12:59:20.455Z"
   },
   {
    "duration": 15,
    "start_time": "2023-02-07T12:59:20.679Z"
   },
   {
    "duration": 113,
    "start_time": "2023-02-07T12:59:20.698Z"
   },
   {
    "duration": 1541,
    "start_time": "2023-02-07T12:59:20.813Z"
   },
   {
    "duration": 230,
    "start_time": "2023-02-07T12:59:22.356Z"
   },
   {
    "duration": 11,
    "start_time": "2023-02-07T12:59:22.588Z"
   },
   {
    "duration": 143,
    "start_time": "2023-02-07T12:59:22.602Z"
   },
   {
    "duration": 64,
    "start_time": "2023-02-07T12:59:22.747Z"
   },
   {
    "duration": 50,
    "start_time": "2023-02-07T12:59:22.813Z"
   },
   {
    "duration": 151,
    "start_time": "2023-02-07T12:59:22.865Z"
   },
   {
    "duration": 368,
    "start_time": "2023-02-07T12:59:23.017Z"
   },
   {
    "duration": 98,
    "start_time": "2023-02-07T12:59:23.387Z"
   },
   {
    "duration": 394,
    "start_time": "2023-02-07T12:59:23.487Z"
   },
   {
    "duration": 478,
    "start_time": "2023-02-07T12:59:23.883Z"
   },
   {
    "duration": 91,
    "start_time": "2023-02-07T12:59:24.363Z"
   },
   {
    "duration": 11,
    "start_time": "2023-02-07T12:59:24.456Z"
   },
   {
    "duration": 15,
    "start_time": "2023-02-07T12:59:24.468Z"
   },
   {
    "duration": 111,
    "start_time": "2023-02-07T12:59:24.485Z"
   },
   {
    "duration": 7,
    "start_time": "2023-02-07T12:59:24.597Z"
   },
   {
    "duration": 17,
    "start_time": "2023-02-07T13:00:58.335Z"
   },
   {
    "duration": 172,
    "start_time": "2023-02-07T13:01:39.090Z"
   },
   {
    "duration": 16,
    "start_time": "2023-02-07T13:01:50.051Z"
   },
   {
    "duration": 17,
    "start_time": "2023-02-07T13:01:55.921Z"
   },
   {
    "duration": 185,
    "start_time": "2023-02-07T13:01:59.715Z"
   },
   {
    "duration": 157,
    "start_time": "2023-02-07T13:02:09.946Z"
   },
   {
    "duration": 193,
    "start_time": "2023-02-07T13:02:15.511Z"
   },
   {
    "duration": 159,
    "start_time": "2023-02-07T13:02:23.851Z"
   },
   {
    "duration": 166,
    "start_time": "2023-02-07T13:02:26.455Z"
   },
   {
    "duration": 158,
    "start_time": "2023-02-07T13:02:40.775Z"
   },
   {
    "duration": 73,
    "start_time": "2023-02-07T13:04:11.873Z"
   },
   {
    "duration": 21,
    "start_time": "2023-02-07T13:07:27.442Z"
   },
   {
    "duration": 181,
    "start_time": "2023-02-07T13:07:33.867Z"
   },
   {
    "duration": 16,
    "start_time": "2023-02-07T13:08:16.459Z"
   },
   {
    "duration": 172,
    "start_time": "2023-02-07T13:08:22.882Z"
   },
   {
    "duration": 94,
    "start_time": "2023-02-07T13:09:41.826Z"
   },
   {
    "duration": 16,
    "start_time": "2023-02-07T13:09:54.671Z"
   },
   {
    "duration": 134,
    "start_time": "2023-02-07T13:10:02.166Z"
   },
   {
    "duration": 20,
    "start_time": "2023-02-07T13:10:13.627Z"
   },
   {
    "duration": 1190,
    "start_time": "2023-02-07T13:10:26.216Z"
   },
   {
    "duration": 1163,
    "start_time": "2023-02-07T13:12:02.726Z"
   },
   {
    "duration": 20,
    "start_time": "2023-02-07T13:12:13.894Z"
   },
   {
    "duration": 1198,
    "start_time": "2023-02-07T13:12:38.539Z"
   },
   {
    "duration": 19,
    "start_time": "2023-02-07T13:12:43.543Z"
   },
   {
    "duration": 22,
    "start_time": "2023-02-07T13:13:17.905Z"
   },
   {
    "duration": 313,
    "start_time": "2023-02-07T13:13:21.971Z"
   },
   {
    "duration": 166,
    "start_time": "2023-02-07T13:13:34.013Z"
   },
   {
    "duration": 180,
    "start_time": "2023-02-07T13:14:18.652Z"
   },
   {
    "duration": 13,
    "start_time": "2023-02-07T13:15:48.447Z"
   },
   {
    "duration": 17,
    "start_time": "2023-02-07T13:15:51.218Z"
   },
   {
    "duration": 162,
    "start_time": "2023-02-07T13:15:53.076Z"
   },
   {
    "duration": 75,
    "start_time": "2023-02-07T13:17:26.639Z"
   },
   {
    "duration": 13,
    "start_time": "2023-02-07T13:17:31.017Z"
   },
   {
    "duration": 13,
    "start_time": "2023-02-07T13:17:57.927Z"
   },
   {
    "duration": 17,
    "start_time": "2023-02-07T13:18:32.617Z"
   },
   {
    "duration": 16,
    "start_time": "2023-02-07T13:19:32.504Z"
   },
   {
    "duration": 67,
    "start_time": "2023-02-07T13:20:41.151Z"
   },
   {
    "duration": 69,
    "start_time": "2023-02-07T13:20:51.298Z"
   },
   {
    "duration": 65,
    "start_time": "2023-02-07T13:20:56.448Z"
   },
   {
    "duration": 90,
    "start_time": "2023-02-07T13:21:20.958Z"
   },
   {
    "duration": 103,
    "start_time": "2023-02-07T13:21:27.681Z"
   },
   {
    "duration": 59,
    "start_time": "2023-02-07T13:21:48.294Z"
   },
   {
    "duration": 76,
    "start_time": "2023-02-07T13:21:59.124Z"
   },
   {
    "duration": 14,
    "start_time": "2023-02-07T13:22:51.415Z"
   },
   {
    "duration": 16,
    "start_time": "2023-02-07T13:23:20.906Z"
   },
   {
    "duration": 23,
    "start_time": "2023-02-07T13:23:51.444Z"
   },
   {
    "duration": 13,
    "start_time": "2023-02-07T13:24:02.303Z"
   },
   {
    "duration": 12,
    "start_time": "2023-02-07T13:24:34.976Z"
   },
   {
    "duration": 16,
    "start_time": "2023-02-07T13:25:06.310Z"
   },
   {
    "duration": 11,
    "start_time": "2023-02-07T13:26:38.177Z"
   },
   {
    "duration": 6,
    "start_time": "2023-02-07T13:28:59.667Z"
   },
   {
    "duration": 4,
    "start_time": "2023-02-07T13:29:02.564Z"
   },
   {
    "duration": 440,
    "start_time": "2023-02-07T13:29:02.570Z"
   },
   {
    "duration": 10,
    "start_time": "2023-02-07T13:29:03.012Z"
   },
   {
    "duration": 15,
    "start_time": "2023-02-07T13:29:03.024Z"
   },
   {
    "duration": 29,
    "start_time": "2023-02-07T13:29:03.041Z"
   },
   {
    "duration": 89,
    "start_time": "2023-02-07T13:29:03.072Z"
   },
   {
    "duration": 3,
    "start_time": "2023-02-07T13:29:03.163Z"
   },
   {
    "duration": 171,
    "start_time": "2023-02-07T13:29:03.167Z"
   },
   {
    "duration": 30,
    "start_time": "2023-02-07T13:29:03.340Z"
   },
   {
    "duration": 35,
    "start_time": "2023-02-07T13:29:03.372Z"
   },
   {
    "duration": 11,
    "start_time": "2023-02-07T13:29:03.409Z"
   },
   {
    "duration": 11,
    "start_time": "2023-02-07T13:29:03.422Z"
   },
   {
    "duration": 72,
    "start_time": "2023-02-07T13:29:03.434Z"
   },
   {
    "duration": 32,
    "start_time": "2023-02-07T13:29:03.508Z"
   },
   {
    "duration": 27038,
    "start_time": "2023-02-07T13:29:03.542Z"
   },
   {
    "duration": 7,
    "start_time": "2023-02-07T13:29:30.581Z"
   },
   {
    "duration": 1258,
    "start_time": "2023-02-07T13:29:30.590Z"
   },
   {
    "duration": 345,
    "start_time": "2023-02-07T13:29:31.853Z"
   },
   {
    "duration": 68,
    "start_time": "2023-02-07T13:29:32.200Z"
   },
   {
    "duration": 113,
    "start_time": "2023-02-07T13:29:32.270Z"
   },
   {
    "duration": 29,
    "start_time": "2023-02-07T13:29:32.385Z"
   },
   {
    "duration": 78,
    "start_time": "2023-02-07T13:29:32.415Z"
   },
   {
    "duration": 212,
    "start_time": "2023-02-07T13:29:32.495Z"
   },
   {
    "duration": 179,
    "start_time": "2023-02-07T13:29:32.709Z"
   },
   {
    "duration": 167,
    "start_time": "2023-02-07T13:29:32.890Z"
   },
   {
    "duration": 30,
    "start_time": "2023-02-07T13:29:33.059Z"
   },
   {
    "duration": 140,
    "start_time": "2023-02-07T13:29:33.090Z"
   },
   {
    "duration": 25,
    "start_time": "2023-02-07T13:29:33.231Z"
   },
   {
    "duration": 278,
    "start_time": "2023-02-07T13:29:33.260Z"
   },
   {
    "duration": 1523,
    "start_time": "2023-02-07T13:29:33.539Z"
   },
   {
    "duration": 255,
    "start_time": "2023-02-07T13:29:35.064Z"
   },
   {
    "duration": 18,
    "start_time": "2023-02-07T13:29:35.321Z"
   },
   {
    "duration": 14,
    "start_time": "2023-02-07T13:29:35.352Z"
   },
   {
    "duration": 158,
    "start_time": "2023-02-07T13:29:35.367Z"
   },
   {
    "duration": 72,
    "start_time": "2023-02-07T13:29:35.526Z"
   },
   {
    "duration": 36,
    "start_time": "2023-02-07T13:29:35.599Z"
   },
   {
    "duration": 164,
    "start_time": "2023-02-07T13:29:35.637Z"
   },
   {
    "duration": 412,
    "start_time": "2023-02-07T13:29:35.803Z"
   },
   {
    "duration": 108,
    "start_time": "2023-02-07T13:29:36.217Z"
   },
   {
    "duration": 405,
    "start_time": "2023-02-07T13:29:36.327Z"
   },
   {
    "duration": 523,
    "start_time": "2023-02-07T13:29:36.734Z"
   },
   {
    "duration": 107,
    "start_time": "2023-02-07T13:29:37.259Z"
   },
   {
    "duration": 16,
    "start_time": "2023-02-07T13:29:37.368Z"
   },
   {
    "duration": 21,
    "start_time": "2023-02-07T13:29:37.388Z"
   },
   {
    "duration": 148,
    "start_time": "2023-02-07T13:29:37.412Z"
   },
   {
    "duration": 8,
    "start_time": "2023-02-07T13:29:37.562Z"
   },
   {
    "duration": 18,
    "start_time": "2023-02-07T13:31:35.942Z"
   },
   {
    "duration": 13,
    "start_time": "2023-02-07T13:37:40.120Z"
   },
   {
    "duration": 12,
    "start_time": "2023-02-07T13:42:42.535Z"
   },
   {
    "duration": 31,
    "start_time": "2023-02-07T13:43:09.566Z"
   },
   {
    "duration": 3,
    "start_time": "2023-02-07T13:43:29.876Z"
   },
   {
    "duration": 318,
    "start_time": "2023-02-07T13:43:29.882Z"
   },
   {
    "duration": 10,
    "start_time": "2023-02-07T13:43:30.202Z"
   },
   {
    "duration": 20,
    "start_time": "2023-02-07T13:43:30.214Z"
   },
   {
    "duration": 27,
    "start_time": "2023-02-07T13:43:30.236Z"
   },
   {
    "duration": 96,
    "start_time": "2023-02-07T13:43:30.265Z"
   },
   {
    "duration": 3,
    "start_time": "2023-02-07T13:43:30.363Z"
   },
   {
    "duration": 222,
    "start_time": "2023-02-07T13:43:30.368Z"
   },
   {
    "duration": 35,
    "start_time": "2023-02-07T13:43:30.592Z"
   },
   {
    "duration": 62,
    "start_time": "2023-02-07T13:43:30.629Z"
   },
   {
    "duration": 42,
    "start_time": "2023-02-07T13:43:30.696Z"
   },
   {
    "duration": 52,
    "start_time": "2023-02-07T13:43:30.740Z"
   },
   {
    "duration": 92,
    "start_time": "2023-02-07T13:43:30.793Z"
   },
   {
    "duration": 81,
    "start_time": "2023-02-07T13:43:30.889Z"
   },
   {
    "duration": 29524,
    "start_time": "2023-02-07T13:43:30.973Z"
   },
   {
    "duration": 7,
    "start_time": "2023-02-07T13:44:00.499Z"
   },
   {
    "duration": 1420,
    "start_time": "2023-02-07T13:44:00.508Z"
   },
   {
    "duration": 464,
    "start_time": "2023-02-07T13:44:01.930Z"
   },
   {
    "duration": 88,
    "start_time": "2023-02-07T13:44:02.395Z"
   },
   {
    "duration": 124,
    "start_time": "2023-02-07T13:44:02.486Z"
   },
   {
    "duration": 46,
    "start_time": "2023-02-07T13:44:02.612Z"
   },
   {
    "duration": 96,
    "start_time": "2023-02-07T13:44:02.660Z"
   },
   {
    "duration": 265,
    "start_time": "2023-02-07T13:44:02.758Z"
   },
   {
    "duration": 215,
    "start_time": "2023-02-07T13:44:03.025Z"
   },
   {
    "duration": 186,
    "start_time": "2023-02-07T13:44:03.243Z"
   },
   {
    "duration": 45,
    "start_time": "2023-02-07T13:44:03.431Z"
   },
   {
    "duration": 165,
    "start_time": "2023-02-07T13:44:03.478Z"
   },
   {
    "duration": 23,
    "start_time": "2023-02-07T13:44:03.645Z"
   },
   {
    "duration": 203,
    "start_time": "2023-02-07T13:44:03.672Z"
   },
   {
    "duration": 1591,
    "start_time": "2023-02-07T13:44:03.878Z"
   },
   {
    "duration": 436,
    "start_time": "2023-02-07T13:44:05.471Z"
   },
   {
    "duration": 19,
    "start_time": "2023-02-07T13:44:05.909Z"
   },
   {
    "duration": 172,
    "start_time": "2023-02-07T13:44:05.930Z"
   },
   {
    "duration": 80,
    "start_time": "2023-02-07T13:44:06.104Z"
   },
   {
    "duration": 49,
    "start_time": "2023-02-07T13:44:06.186Z"
   },
   {
    "duration": 202,
    "start_time": "2023-02-07T13:44:06.236Z"
   },
   {
    "duration": 425,
    "start_time": "2023-02-07T13:44:06.441Z"
   },
   {
    "duration": 112,
    "start_time": "2023-02-07T13:44:06.868Z"
   },
   {
    "duration": 403,
    "start_time": "2023-02-07T13:44:06.982Z"
   },
   {
    "duration": 491,
    "start_time": "2023-02-07T13:44:07.386Z"
   },
   {
    "duration": 94,
    "start_time": "2023-02-07T13:44:07.879Z"
   },
   {
    "duration": 11,
    "start_time": "2023-02-07T13:44:07.974Z"
   },
   {
    "duration": 15,
    "start_time": "2023-02-07T13:44:07.987Z"
   },
   {
    "duration": 114,
    "start_time": "2023-02-07T13:44:08.003Z"
   },
   {
    "duration": 6,
    "start_time": "2023-02-07T13:44:08.119Z"
   },
   {
    "duration": 5,
    "start_time": "2023-02-07T13:45:12.114Z"
   },
   {
    "duration": 13,
    "start_time": "2023-02-07T13:45:54.983Z"
   },
   {
    "duration": 12,
    "start_time": "2023-02-07T13:46:31.268Z"
   },
   {
    "duration": 7,
    "start_time": "2023-02-07T13:47:22.609Z"
   },
   {
    "duration": 12,
    "start_time": "2023-02-07T13:47:35.549Z"
   },
   {
    "duration": 12,
    "start_time": "2023-02-07T13:47:37.568Z"
   },
   {
    "duration": 1301,
    "start_time": "2023-02-07T13:47:57.437Z"
   },
   {
    "duration": 309,
    "start_time": "2023-02-07T13:47:58.740Z"
   },
   {
    "duration": 15,
    "start_time": "2023-02-07T13:47:59.051Z"
   },
   {
    "duration": 15,
    "start_time": "2023-02-07T13:47:59.069Z"
   },
   {
    "duration": 26,
    "start_time": "2023-02-07T13:47:59.086Z"
   },
   {
    "duration": 111,
    "start_time": "2023-02-07T13:47:59.114Z"
   },
   {
    "duration": 2,
    "start_time": "2023-02-07T13:47:59.227Z"
   },
   {
    "duration": 185,
    "start_time": "2023-02-07T13:47:59.231Z"
   },
   {
    "duration": 41,
    "start_time": "2023-02-07T13:47:59.417Z"
   },
   {
    "duration": 33,
    "start_time": "2023-02-07T13:47:59.463Z"
   },
   {
    "duration": 7,
    "start_time": "2023-02-07T13:47:59.498Z"
   },
   {
    "duration": 18,
    "start_time": "2023-02-07T13:47:59.507Z"
   },
   {
    "duration": 104,
    "start_time": "2023-02-07T13:47:59.527Z"
   },
   {
    "duration": 45,
    "start_time": "2023-02-07T13:47:59.633Z"
   },
   {
    "duration": 27775,
    "start_time": "2023-02-07T13:47:59.680Z"
   },
   {
    "duration": 6,
    "start_time": "2023-02-07T13:48:27.457Z"
   },
   {
    "duration": 1359,
    "start_time": "2023-02-07T13:48:27.465Z"
   },
   {
    "duration": 402,
    "start_time": "2023-02-07T13:48:28.827Z"
   },
   {
    "duration": 78,
    "start_time": "2023-02-07T13:48:29.230Z"
   },
   {
    "duration": 162,
    "start_time": "2023-02-07T13:48:29.310Z"
   },
   {
    "duration": 41,
    "start_time": "2023-02-07T13:48:29.474Z"
   },
   {
    "duration": 101,
    "start_time": "2023-02-07T13:48:29.517Z"
   },
   {
    "duration": 238,
    "start_time": "2023-02-07T13:48:29.620Z"
   },
   {
    "duration": 173,
    "start_time": "2023-02-07T13:48:29.860Z"
   },
   {
    "duration": 167,
    "start_time": "2023-02-07T13:48:30.035Z"
   },
   {
    "duration": 30,
    "start_time": "2023-02-07T13:48:30.204Z"
   },
   {
    "duration": 149,
    "start_time": "2023-02-07T13:48:30.236Z"
   },
   {
    "duration": 22,
    "start_time": "2023-02-07T13:48:30.389Z"
   },
   {
    "duration": 196,
    "start_time": "2023-02-07T13:48:30.413Z"
   },
   {
    "duration": 1650,
    "start_time": "2023-02-07T13:48:30.612Z"
   },
   {
    "duration": 231,
    "start_time": "2023-02-07T13:48:32.264Z"
   },
   {
    "duration": 17,
    "start_time": "2023-02-07T13:48:32.497Z"
   },
   {
    "duration": 18,
    "start_time": "2023-02-07T13:48:32.516Z"
   },
   {
    "duration": 170,
    "start_time": "2023-02-07T13:48:32.554Z"
   },
   {
    "duration": 69,
    "start_time": "2023-02-07T13:48:32.726Z"
   },
   {
    "duration": 36,
    "start_time": "2023-02-07T13:48:32.797Z"
   },
   {
    "duration": 164,
    "start_time": "2023-02-07T13:48:32.835Z"
   },
   {
    "duration": 363,
    "start_time": "2023-02-07T13:48:33.001Z"
   },
   {
    "duration": 91,
    "start_time": "2023-02-07T13:48:33.365Z"
   },
   {
    "duration": 406,
    "start_time": "2023-02-07T13:48:33.458Z"
   },
   {
    "duration": 408,
    "start_time": "2023-02-07T13:48:33.866Z"
   },
   {
    "duration": 91,
    "start_time": "2023-02-07T13:48:34.276Z"
   },
   {
    "duration": 12,
    "start_time": "2023-02-07T13:48:34.368Z"
   },
   {
    "duration": 15,
    "start_time": "2023-02-07T13:48:34.381Z"
   },
   {
    "duration": 102,
    "start_time": "2023-02-07T13:48:34.398Z"
   },
   {
    "duration": 6,
    "start_time": "2023-02-07T13:48:34.502Z"
   },
   {
    "duration": 6,
    "start_time": "2023-02-07T13:51:54.215Z"
   },
   {
    "duration": 15,
    "start_time": "2023-02-07T13:52:27.525Z"
   },
   {
    "duration": 23,
    "start_time": "2023-02-07T13:54:15.352Z"
   },
   {
    "duration": 21,
    "start_time": "2023-02-07T13:54:37.263Z"
   },
   {
    "duration": 21,
    "start_time": "2023-02-07T13:55:33.787Z"
   },
   {
    "duration": 15,
    "start_time": "2023-02-07T13:55:52.422Z"
   },
   {
    "duration": 139,
    "start_time": "2023-02-07T13:56:39.728Z"
   },
   {
    "duration": 99,
    "start_time": "2023-02-07T13:57:44.767Z"
   },
   {
    "duration": 82,
    "start_time": "2023-02-07T13:57:59.742Z"
   },
   {
    "duration": 107,
    "start_time": "2023-02-07T13:58:12.561Z"
   },
   {
    "duration": 221,
    "start_time": "2023-02-07T13:58:34.699Z"
   },
   {
    "duration": 1415,
    "start_time": "2023-02-07T13:58:45.083Z"
   },
   {
    "duration": 299,
    "start_time": "2023-02-07T13:59:19.865Z"
   },
   {
    "duration": 230,
    "start_time": "2023-02-07T13:59:42.511Z"
   },
   {
    "duration": 1229,
    "start_time": "2023-02-07T14:00:54.743Z"
   },
   {
    "duration": 348,
    "start_time": "2023-02-07T14:00:55.974Z"
   },
   {
    "duration": 14,
    "start_time": "2023-02-07T14:00:56.324Z"
   },
   {
    "duration": 18,
    "start_time": "2023-02-07T14:00:56.340Z"
   },
   {
    "duration": 24,
    "start_time": "2023-02-07T14:00:56.360Z"
   },
   {
    "duration": 115,
    "start_time": "2023-02-07T14:00:56.387Z"
   },
   {
    "duration": 3,
    "start_time": "2023-02-07T14:00:56.504Z"
   },
   {
    "duration": 177,
    "start_time": "2023-02-07T14:00:56.509Z"
   },
   {
    "duration": 31,
    "start_time": "2023-02-07T14:00:56.687Z"
   },
   {
    "duration": 34,
    "start_time": "2023-02-07T14:00:56.721Z"
   },
   {
    "duration": 10,
    "start_time": "2023-02-07T14:00:56.756Z"
   },
   {
    "duration": 9,
    "start_time": "2023-02-07T14:00:56.768Z"
   },
   {
    "duration": 83,
    "start_time": "2023-02-07T14:00:56.778Z"
   },
   {
    "duration": 38,
    "start_time": "2023-02-07T14:00:56.863Z"
   },
   {
    "duration": 27257,
    "start_time": "2023-02-07T14:00:56.903Z"
   },
   {
    "duration": 304,
    "start_time": "2023-02-07T14:01:24.161Z"
   },
   {
    "duration": 1256,
    "start_time": "2023-02-07T14:01:24.467Z"
   },
   {
    "duration": 383,
    "start_time": "2023-02-07T14:01:25.725Z"
   },
   {
    "duration": 67,
    "start_time": "2023-02-07T14:01:26.109Z"
   },
   {
    "duration": 120,
    "start_time": "2023-02-07T14:01:26.178Z"
   },
   {
    "duration": 31,
    "start_time": "2023-02-07T14:01:26.300Z"
   },
   {
    "duration": 86,
    "start_time": "2023-02-07T14:01:26.332Z"
   },
   {
    "duration": 114,
    "start_time": "2023-02-07T14:01:26.419Z"
   },
   {
    "duration": 0,
    "start_time": "2023-02-07T14:01:26.536Z"
   },
   {
    "duration": 0,
    "start_time": "2023-02-07T14:01:26.537Z"
   },
   {
    "duration": 0,
    "start_time": "2023-02-07T14:01:26.538Z"
   },
   {
    "duration": 0,
    "start_time": "2023-02-07T14:01:26.540Z"
   },
   {
    "duration": 0,
    "start_time": "2023-02-07T14:01:26.552Z"
   },
   {
    "duration": 0,
    "start_time": "2023-02-07T14:01:26.554Z"
   },
   {
    "duration": 0,
    "start_time": "2023-02-07T14:01:26.555Z"
   },
   {
    "duration": 0,
    "start_time": "2023-02-07T14:01:26.556Z"
   },
   {
    "duration": 0,
    "start_time": "2023-02-07T14:01:26.558Z"
   },
   {
    "duration": 0,
    "start_time": "2023-02-07T14:01:26.560Z"
   },
   {
    "duration": 0,
    "start_time": "2023-02-07T14:01:26.562Z"
   },
   {
    "duration": 0,
    "start_time": "2023-02-07T14:01:26.563Z"
   },
   {
    "duration": 0,
    "start_time": "2023-02-07T14:01:26.564Z"
   },
   {
    "duration": 0,
    "start_time": "2023-02-07T14:01:26.565Z"
   },
   {
    "duration": 0,
    "start_time": "2023-02-07T14:01:26.566Z"
   },
   {
    "duration": 0,
    "start_time": "2023-02-07T14:01:26.567Z"
   },
   {
    "duration": 0,
    "start_time": "2023-02-07T14:01:26.568Z"
   },
   {
    "duration": 0,
    "start_time": "2023-02-07T14:01:26.570Z"
   },
   {
    "duration": 0,
    "start_time": "2023-02-07T14:01:26.571Z"
   },
   {
    "duration": 0,
    "start_time": "2023-02-07T14:01:26.572Z"
   },
   {
    "duration": 0,
    "start_time": "2023-02-07T14:01:26.573Z"
   },
   {
    "duration": 0,
    "start_time": "2023-02-07T14:01:26.574Z"
   },
   {
    "duration": 0,
    "start_time": "2023-02-07T14:01:26.575Z"
   },
   {
    "duration": 206,
    "start_time": "2023-02-07T14:02:19.874Z"
   },
   {
    "duration": 229,
    "start_time": "2023-02-07T14:04:02.269Z"
   },
   {
    "duration": 1790,
    "start_time": "2023-02-07T14:04:57.135Z"
   },
   {
    "duration": 217,
    "start_time": "2023-02-07T14:05:16.625Z"
   },
   {
    "duration": 1141,
    "start_time": "2023-02-07T14:06:09.756Z"
   },
   {
    "duration": 333,
    "start_time": "2023-02-07T14:06:10.899Z"
   },
   {
    "duration": 14,
    "start_time": "2023-02-07T14:06:11.234Z"
   },
   {
    "duration": 11,
    "start_time": "2023-02-07T14:06:11.251Z"
   },
   {
    "duration": 31,
    "start_time": "2023-02-07T14:06:11.264Z"
   },
   {
    "duration": 102,
    "start_time": "2023-02-07T14:06:11.296Z"
   },
   {
    "duration": 2,
    "start_time": "2023-02-07T14:06:11.400Z"
   },
   {
    "duration": 177,
    "start_time": "2023-02-07T14:06:11.404Z"
   },
   {
    "duration": 31,
    "start_time": "2023-02-07T14:06:11.583Z"
   },
   {
    "duration": 39,
    "start_time": "2023-02-07T14:06:11.616Z"
   },
   {
    "duration": 6,
    "start_time": "2023-02-07T14:06:11.657Z"
   },
   {
    "duration": 9,
    "start_time": "2023-02-07T14:06:11.665Z"
   },
   {
    "duration": 49,
    "start_time": "2023-02-07T14:06:11.676Z"
   },
   {
    "duration": 51,
    "start_time": "2023-02-07T14:06:11.727Z"
   },
   {
    "duration": 26913,
    "start_time": "2023-02-07T14:06:11.780Z"
   },
   {
    "duration": 263,
    "start_time": "2023-02-07T14:06:38.695Z"
   },
   {
    "duration": 6,
    "start_time": "2023-02-07T14:06:59.525Z"
   },
   {
    "duration": 1216,
    "start_time": "2023-02-07T14:07:39.039Z"
   },
   {
    "duration": 303,
    "start_time": "2023-02-07T14:07:40.258Z"
   },
   {
    "duration": 15,
    "start_time": "2023-02-07T14:07:40.563Z"
   },
   {
    "duration": 13,
    "start_time": "2023-02-07T14:07:40.580Z"
   },
   {
    "duration": 18,
    "start_time": "2023-02-07T14:07:40.595Z"
   },
   {
    "duration": 111,
    "start_time": "2023-02-07T14:07:40.615Z"
   },
   {
    "duration": 3,
    "start_time": "2023-02-07T14:07:40.727Z"
   },
   {
    "duration": 175,
    "start_time": "2023-02-07T14:07:40.731Z"
   },
   {
    "duration": 29,
    "start_time": "2023-02-07T14:07:40.908Z"
   },
   {
    "duration": 29,
    "start_time": "2023-02-07T14:07:40.939Z"
   },
   {
    "duration": 5,
    "start_time": "2023-02-07T14:07:40.969Z"
   },
   {
    "duration": 9,
    "start_time": "2023-02-07T14:07:40.975Z"
   },
   {
    "duration": 73,
    "start_time": "2023-02-07T14:07:40.985Z"
   },
   {
    "duration": 34,
    "start_time": "2023-02-07T14:07:41.059Z"
   },
   {
    "duration": 26545,
    "start_time": "2023-02-07T14:07:41.095Z"
   },
   {
    "duration": 18,
    "start_time": "2023-02-07T14:08:07.642Z"
   },
   {
    "duration": 1224,
    "start_time": "2023-02-07T14:08:07.663Z"
   },
   {
    "duration": 356,
    "start_time": "2023-02-07T14:08:08.889Z"
   },
   {
    "duration": 61,
    "start_time": "2023-02-07T14:08:09.253Z"
   },
   {
    "duration": 132,
    "start_time": "2023-02-07T14:08:09.316Z"
   },
   {
    "duration": 33,
    "start_time": "2023-02-07T14:08:09.449Z"
   },
   {
    "duration": 102,
    "start_time": "2023-02-07T14:08:09.485Z"
   },
   {
    "duration": 249,
    "start_time": "2023-02-07T14:08:09.589Z"
   },
   {
    "duration": 187,
    "start_time": "2023-02-07T14:08:09.840Z"
   },
   {
    "duration": 163,
    "start_time": "2023-02-07T14:08:10.030Z"
   },
   {
    "duration": 29,
    "start_time": "2023-02-07T14:08:10.195Z"
   },
   {
    "duration": 143,
    "start_time": "2023-02-07T14:08:10.226Z"
   },
   {
    "duration": 17,
    "start_time": "2023-02-07T14:08:10.373Z"
   },
   {
    "duration": 193,
    "start_time": "2023-02-07T14:08:10.392Z"
   },
   {
    "duration": 1523,
    "start_time": "2023-02-07T14:08:10.587Z"
   },
   {
    "duration": 220,
    "start_time": "2023-02-07T14:08:12.112Z"
   },
   {
    "duration": 21,
    "start_time": "2023-02-07T14:08:12.334Z"
   },
   {
    "duration": 13,
    "start_time": "2023-02-07T14:08:12.357Z"
   },
   {
    "duration": 141,
    "start_time": "2023-02-07T14:08:12.371Z"
   },
   {
    "duration": 72,
    "start_time": "2023-02-07T14:08:12.513Z"
   },
   {
    "duration": 37,
    "start_time": "2023-02-07T14:08:12.586Z"
   },
   {
    "duration": 157,
    "start_time": "2023-02-07T14:08:12.625Z"
   },
   {
    "duration": 362,
    "start_time": "2023-02-07T14:08:12.784Z"
   },
   {
    "duration": 88,
    "start_time": "2023-02-07T14:08:13.148Z"
   },
   {
    "duration": 464,
    "start_time": "2023-02-07T14:08:13.252Z"
   },
   {
    "duration": 405,
    "start_time": "2023-02-07T14:08:13.718Z"
   },
   {
    "duration": 84,
    "start_time": "2023-02-07T14:08:14.124Z"
   },
   {
    "duration": 11,
    "start_time": "2023-02-07T14:08:14.209Z"
   },
   {
    "duration": 14,
    "start_time": "2023-02-07T14:08:14.222Z"
   },
   {
    "duration": 107,
    "start_time": "2023-02-07T14:08:14.253Z"
   },
   {
    "duration": 6,
    "start_time": "2023-02-07T14:08:14.362Z"
   },
   {
    "duration": 126,
    "start_time": "2023-02-07T14:19:10.282Z"
   },
   {
    "duration": 24,
    "start_time": "2023-02-07T14:19:18.111Z"
   },
   {
    "duration": 226,
    "start_time": "2023-02-07T14:20:55.904Z"
   },
   {
    "duration": 1571,
    "start_time": "2023-02-07T14:21:06.368Z"
   },
   {
    "duration": 1231,
    "start_time": "2023-02-07T14:21:22.569Z"
   },
   {
    "duration": 324,
    "start_time": "2023-02-07T14:21:23.802Z"
   },
   {
    "duration": 13,
    "start_time": "2023-02-07T14:21:24.127Z"
   },
   {
    "duration": 18,
    "start_time": "2023-02-07T14:21:24.142Z"
   },
   {
    "duration": 28,
    "start_time": "2023-02-07T14:21:24.164Z"
   },
   {
    "duration": 98,
    "start_time": "2023-02-07T14:21:24.193Z"
   },
   {
    "duration": 3,
    "start_time": "2023-02-07T14:21:24.292Z"
   },
   {
    "duration": 252,
    "start_time": "2023-02-07T14:21:24.296Z"
   },
   {
    "duration": 41,
    "start_time": "2023-02-07T14:21:24.553Z"
   },
   {
    "duration": 24,
    "start_time": "2023-02-07T14:21:24.596Z"
   },
   {
    "duration": 5,
    "start_time": "2023-02-07T14:21:24.622Z"
   },
   {
    "duration": 25,
    "start_time": "2023-02-07T14:21:24.629Z"
   },
   {
    "duration": 50,
    "start_time": "2023-02-07T14:21:24.656Z"
   },
   {
    "duration": 44,
    "start_time": "2023-02-07T14:21:24.709Z"
   },
   {
    "duration": 27489,
    "start_time": "2023-02-07T14:21:24.755Z"
   },
   {
    "duration": 241,
    "start_time": "2023-02-07T14:21:52.253Z"
   },
   {
    "duration": 1146,
    "start_time": "2023-02-07T14:21:52.495Z"
   },
   {
    "duration": 374,
    "start_time": "2023-02-07T14:21:53.642Z"
   },
   {
    "duration": 61,
    "start_time": "2023-02-07T14:21:54.018Z"
   },
   {
    "duration": 127,
    "start_time": "2023-02-07T14:21:54.081Z"
   },
   {
    "duration": 43,
    "start_time": "2023-02-07T14:21:54.210Z"
   },
   {
    "duration": 61,
    "start_time": "2023-02-07T14:21:54.255Z"
   },
   {
    "duration": 121,
    "start_time": "2023-02-07T14:21:54.318Z"
   },
   {
    "duration": 0,
    "start_time": "2023-02-07T14:21:54.441Z"
   },
   {
    "duration": 0,
    "start_time": "2023-02-07T14:21:54.443Z"
   },
   {
    "duration": 0,
    "start_time": "2023-02-07T14:21:54.444Z"
   },
   {
    "duration": 0,
    "start_time": "2023-02-07T14:21:54.445Z"
   },
   {
    "duration": 0,
    "start_time": "2023-02-07T14:21:54.453Z"
   },
   {
    "duration": 0,
    "start_time": "2023-02-07T14:21:54.454Z"
   },
   {
    "duration": 0,
    "start_time": "2023-02-07T14:21:54.455Z"
   },
   {
    "duration": 0,
    "start_time": "2023-02-07T14:21:54.456Z"
   },
   {
    "duration": 0,
    "start_time": "2023-02-07T14:21:54.457Z"
   },
   {
    "duration": 0,
    "start_time": "2023-02-07T14:21:54.459Z"
   },
   {
    "duration": 0,
    "start_time": "2023-02-07T14:21:54.460Z"
   },
   {
    "duration": 0,
    "start_time": "2023-02-07T14:21:54.461Z"
   },
   {
    "duration": 0,
    "start_time": "2023-02-07T14:21:54.462Z"
   },
   {
    "duration": 0,
    "start_time": "2023-02-07T14:21:54.463Z"
   },
   {
    "duration": 0,
    "start_time": "2023-02-07T14:21:54.464Z"
   },
   {
    "duration": 0,
    "start_time": "2023-02-07T14:21:54.465Z"
   },
   {
    "duration": 0,
    "start_time": "2023-02-07T14:21:54.466Z"
   },
   {
    "duration": 0,
    "start_time": "2023-02-07T14:21:54.467Z"
   },
   {
    "duration": 0,
    "start_time": "2023-02-07T14:21:54.468Z"
   },
   {
    "duration": 0,
    "start_time": "2023-02-07T14:21:54.469Z"
   },
   {
    "duration": 0,
    "start_time": "2023-02-07T14:21:54.470Z"
   },
   {
    "duration": 0,
    "start_time": "2023-02-07T14:21:54.471Z"
   },
   {
    "duration": 0,
    "start_time": "2023-02-07T14:21:54.472Z"
   },
   {
    "duration": 215,
    "start_time": "2023-02-07T14:24:03.916Z"
   },
   {
    "duration": 1161,
    "start_time": "2023-02-07T14:24:34.270Z"
   },
   {
    "duration": 300,
    "start_time": "2023-02-07T14:24:35.433Z"
   },
   {
    "duration": 13,
    "start_time": "2023-02-07T14:24:35.735Z"
   },
   {
    "duration": 14,
    "start_time": "2023-02-07T14:24:35.750Z"
   },
   {
    "duration": 29,
    "start_time": "2023-02-07T14:24:35.766Z"
   },
   {
    "duration": 94,
    "start_time": "2023-02-07T14:24:35.796Z"
   },
   {
    "duration": 2,
    "start_time": "2023-02-07T14:24:35.892Z"
   },
   {
    "duration": 179,
    "start_time": "2023-02-07T14:24:35.896Z"
   },
   {
    "duration": 28,
    "start_time": "2023-02-07T14:24:36.077Z"
   },
   {
    "duration": 18,
    "start_time": "2023-02-07T14:24:36.108Z"
   },
   {
    "duration": 27,
    "start_time": "2023-02-07T14:24:36.127Z"
   },
   {
    "duration": 7,
    "start_time": "2023-02-07T14:24:36.156Z"
   },
   {
    "duration": 54,
    "start_time": "2023-02-07T14:24:36.164Z"
   },
   {
    "duration": 44,
    "start_time": "2023-02-07T14:24:36.219Z"
   },
   {
    "duration": 27187,
    "start_time": "2023-02-07T14:24:36.265Z"
   },
   {
    "duration": 322,
    "start_time": "2023-02-07T14:25:10.362Z"
   },
   {
    "duration": 1449,
    "start_time": "2023-02-07T14:25:22.562Z"
   },
   {
    "duration": 201,
    "start_time": "2023-02-07T14:25:41.619Z"
   },
   {
    "duration": 50,
    "start_time": "2023-02-07T14:26:25.183Z"
   },
   {
    "duration": 1284,
    "start_time": "2023-02-07T14:26:30.220Z"
   },
   {
    "duration": 354,
    "start_time": "2023-02-07T14:26:31.509Z"
   },
   {
    "duration": 21,
    "start_time": "2023-02-07T14:26:31.866Z"
   },
   {
    "duration": 17,
    "start_time": "2023-02-07T14:26:31.889Z"
   },
   {
    "duration": 63,
    "start_time": "2023-02-07T14:26:31.908Z"
   },
   {
    "duration": 102,
    "start_time": "2023-02-07T14:26:31.973Z"
   },
   {
    "duration": 3,
    "start_time": "2023-02-07T14:26:32.078Z"
   },
   {
    "duration": 296,
    "start_time": "2023-02-07T14:26:32.083Z"
   },
   {
    "duration": 47,
    "start_time": "2023-02-07T14:26:32.383Z"
   },
   {
    "duration": 47,
    "start_time": "2023-02-07T14:26:32.434Z"
   },
   {
    "duration": 8,
    "start_time": "2023-02-07T14:26:32.483Z"
   },
   {
    "duration": 11,
    "start_time": "2023-02-07T14:26:32.493Z"
   },
   {
    "duration": 100,
    "start_time": "2023-02-07T14:26:32.506Z"
   },
   {
    "duration": 58,
    "start_time": "2023-02-07T14:26:32.608Z"
   },
   {
    "duration": 27561,
    "start_time": "2023-02-07T14:26:32.669Z"
   },
   {
    "duration": 305,
    "start_time": "2023-02-07T14:27:00.232Z"
   },
   {
    "duration": 193,
    "start_time": "2023-02-07T14:27:25.190Z"
   },
   {
    "duration": 189,
    "start_time": "2023-02-07T14:27:42.389Z"
   },
   {
    "duration": 5,
    "start_time": "2023-02-07T14:27:49.024Z"
   },
   {
    "duration": 329,
    "start_time": "2023-02-07T14:27:49.031Z"
   },
   {
    "duration": 10,
    "start_time": "2023-02-07T14:27:49.362Z"
   },
   {
    "duration": 14,
    "start_time": "2023-02-07T14:27:49.374Z"
   },
   {
    "duration": 26,
    "start_time": "2023-02-07T14:27:49.389Z"
   },
   {
    "duration": 104,
    "start_time": "2023-02-07T14:27:49.416Z"
   },
   {
    "duration": 3,
    "start_time": "2023-02-07T14:27:49.522Z"
   },
   {
    "duration": 177,
    "start_time": "2023-02-07T14:27:49.527Z"
   },
   {
    "duration": 30,
    "start_time": "2023-02-07T14:27:49.706Z"
   },
   {
    "duration": 29,
    "start_time": "2023-02-07T14:27:49.754Z"
   },
   {
    "duration": 14,
    "start_time": "2023-02-07T14:27:49.786Z"
   },
   {
    "duration": 9,
    "start_time": "2023-02-07T14:27:49.802Z"
   },
   {
    "duration": 66,
    "start_time": "2023-02-07T14:27:49.813Z"
   },
   {
    "duration": 29,
    "start_time": "2023-02-07T14:27:49.881Z"
   },
   {
    "duration": 28106,
    "start_time": "2023-02-07T14:27:49.912Z"
   },
   {
    "duration": 0,
    "start_time": "2023-02-07T14:28:18.268Z"
   },
   {
    "duration": 229,
    "start_time": "2023-02-07T14:28:37.278Z"
   },
   {
    "duration": 222,
    "start_time": "2023-02-07T14:29:49.394Z"
   },
   {
    "duration": 211,
    "start_time": "2023-02-07T14:29:57.713Z"
   },
   {
    "duration": 272,
    "start_time": "2023-02-07T14:30:15.221Z"
   },
   {
    "duration": 197,
    "start_time": "2023-02-07T14:30:26.577Z"
   },
   {
    "duration": 197,
    "start_time": "2023-02-07T14:30:42.468Z"
   },
   {
    "duration": 4,
    "start_time": "2023-02-07T14:30:53.915Z"
   },
   {
    "duration": 345,
    "start_time": "2023-02-07T14:30:53.921Z"
   },
   {
    "duration": 10,
    "start_time": "2023-02-07T14:30:54.268Z"
   },
   {
    "duration": 25,
    "start_time": "2023-02-07T14:30:54.280Z"
   },
   {
    "duration": 27,
    "start_time": "2023-02-07T14:30:54.307Z"
   },
   {
    "duration": 143,
    "start_time": "2023-02-07T14:30:54.336Z"
   },
   {
    "duration": 4,
    "start_time": "2023-02-07T14:30:54.481Z"
   },
   {
    "duration": 266,
    "start_time": "2023-02-07T14:30:54.487Z"
   },
   {
    "duration": 56,
    "start_time": "2023-02-07T14:30:54.756Z"
   },
   {
    "duration": 45,
    "start_time": "2023-02-07T14:30:54.816Z"
   },
   {
    "duration": 10,
    "start_time": "2023-02-07T14:30:54.863Z"
   },
   {
    "duration": 19,
    "start_time": "2023-02-07T14:30:54.875Z"
   },
   {
    "duration": 107,
    "start_time": "2023-02-07T14:30:54.897Z"
   },
   {
    "duration": 67,
    "start_time": "2023-02-07T14:30:55.006Z"
   },
   {
    "duration": 34343,
    "start_time": "2023-02-07T14:30:55.082Z"
   },
   {
    "duration": 271,
    "start_time": "2023-02-07T14:31:29.427Z"
   },
   {
    "duration": 264,
    "start_time": "2023-02-07T14:32:18.619Z"
   },
   {
    "duration": 216,
    "start_time": "2023-02-07T14:32:29.807Z"
   },
   {
    "duration": 203,
    "start_time": "2023-02-07T14:33:48.005Z"
   },
   {
    "duration": 6,
    "start_time": "2023-02-07T14:34:13.964Z"
   },
   {
    "duration": 339,
    "start_time": "2023-02-07T14:34:13.972Z"
   },
   {
    "duration": 9,
    "start_time": "2023-02-07T14:34:14.313Z"
   },
   {
    "duration": 16,
    "start_time": "2023-02-07T14:34:14.325Z"
   },
   {
    "duration": 23,
    "start_time": "2023-02-07T14:34:14.343Z"
   },
   {
    "duration": 101,
    "start_time": "2023-02-07T14:34:14.372Z"
   },
   {
    "duration": 7,
    "start_time": "2023-02-07T14:34:14.475Z"
   },
   {
    "duration": 159,
    "start_time": "2023-02-07T14:34:14.483Z"
   },
   {
    "duration": 45,
    "start_time": "2023-02-07T14:34:14.643Z"
   },
   {
    "duration": 37,
    "start_time": "2023-02-07T14:34:14.692Z"
   },
   {
    "duration": 9,
    "start_time": "2023-02-07T14:34:14.752Z"
   },
   {
    "duration": 20,
    "start_time": "2023-02-07T14:34:14.771Z"
   },
   {
    "duration": 102,
    "start_time": "2023-02-07T14:34:14.793Z"
   },
   {
    "duration": 32,
    "start_time": "2023-02-07T14:34:14.897Z"
   },
   {
    "duration": 29961,
    "start_time": "2023-02-07T14:34:14.932Z"
   },
   {
    "duration": 246,
    "start_time": "2023-02-07T14:34:45.218Z"
   },
   {
    "duration": 6,
    "start_time": "2023-02-07T14:37:08.182Z"
   },
   {
    "duration": 81,
    "start_time": "2023-02-07T14:40:48.498Z"
   },
   {
    "duration": 204,
    "start_time": "2023-02-07T14:41:04.862Z"
   },
   {
    "duration": 1885,
    "start_time": "2023-02-07T14:41:48.697Z"
   },
   {
    "duration": 7,
    "start_time": "2023-02-07T14:42:14.598Z"
   },
   {
    "duration": 33,
    "start_time": "2023-02-07T14:44:36.016Z"
   },
   {
    "duration": 1397,
    "start_time": "2023-02-07T14:44:51.074Z"
   },
   {
    "duration": 401,
    "start_time": "2023-02-07T14:44:52.477Z"
   },
   {
    "duration": 20,
    "start_time": "2023-02-07T14:44:56.199Z"
   },
   {
    "duration": 22,
    "start_time": "2023-02-07T14:45:11.974Z"
   },
   {
    "duration": 1480,
    "start_time": "2023-02-07T14:48:28.540Z"
   },
   {
    "duration": 19,
    "start_time": "2023-02-07T14:48:36.791Z"
   },
   {
    "duration": 35,
    "start_time": "2023-02-07T14:48:56.415Z"
   },
   {
    "duration": 28,
    "start_time": "2023-02-07T14:49:05.678Z"
   },
   {
    "duration": 28,
    "start_time": "2023-02-07T14:49:39.157Z"
   },
   {
    "duration": 21,
    "start_time": "2023-02-07T14:49:44.669Z"
   },
   {
    "duration": 32,
    "start_time": "2023-02-07T14:50:01.298Z"
   },
   {
    "duration": 27,
    "start_time": "2023-02-07T14:50:27.254Z"
   },
   {
    "duration": 25,
    "start_time": "2023-02-07T14:50:39.355Z"
   },
   {
    "duration": 18,
    "start_time": "2023-02-07T14:51:03.433Z"
   },
   {
    "duration": 28,
    "start_time": "2023-02-07T14:51:38.279Z"
   },
   {
    "duration": 22,
    "start_time": "2023-02-07T14:52:11.812Z"
   },
   {
    "duration": 22,
    "start_time": "2023-02-07T14:53:27.476Z"
   },
   {
    "duration": 23,
    "start_time": "2023-02-07T14:54:55.684Z"
   },
   {
    "duration": 28,
    "start_time": "2023-02-07T14:55:02.237Z"
   },
   {
    "duration": 14,
    "start_time": "2023-02-07T14:58:41.023Z"
   },
   {
    "duration": 21,
    "start_time": "2023-02-07T15:00:34.221Z"
   },
   {
    "duration": 67,
    "start_time": "2023-02-07T15:01:32.053Z"
   },
   {
    "duration": 80,
    "start_time": "2023-02-07T15:01:37.494Z"
   },
   {
    "duration": 10,
    "start_time": "2023-02-07T15:01:46.344Z"
   },
   {
    "duration": 22,
    "start_time": "2023-02-07T15:01:52.758Z"
   },
   {
    "duration": 14,
    "start_time": "2023-02-07T15:03:44.889Z"
   },
   {
    "duration": 4,
    "start_time": "2023-02-07T15:03:50.455Z"
   },
   {
    "duration": 9,
    "start_time": "2023-02-07T15:04:03.608Z"
   },
   {
    "duration": 11,
    "start_time": "2023-02-07T15:04:11.319Z"
   },
   {
    "duration": 1486,
    "start_time": "2023-02-07T15:05:02.215Z"
   },
   {
    "duration": 411,
    "start_time": "2023-02-07T15:05:03.704Z"
   },
   {
    "duration": 22,
    "start_time": "2023-02-07T15:05:04.117Z"
   },
   {
    "duration": 20,
    "start_time": "2023-02-07T15:05:04.141Z"
   },
   {
    "duration": 31,
    "start_time": "2023-02-07T15:05:04.163Z"
   },
   {
    "duration": 143,
    "start_time": "2023-02-07T15:05:04.196Z"
   },
   {
    "duration": 4,
    "start_time": "2023-02-07T15:05:04.341Z"
   },
   {
    "duration": 273,
    "start_time": "2023-02-07T15:05:04.354Z"
   },
   {
    "duration": 64,
    "start_time": "2023-02-07T15:05:04.630Z"
   },
   {
    "duration": 26,
    "start_time": "2023-02-07T15:05:04.696Z"
   },
   {
    "duration": 7,
    "start_time": "2023-02-07T15:05:04.725Z"
   },
   {
    "duration": 26,
    "start_time": "2023-02-07T15:05:04.734Z"
   },
   {
    "duration": 97,
    "start_time": "2023-02-07T15:05:04.762Z"
   },
   {
    "duration": 53,
    "start_time": "2023-02-07T15:05:04.864Z"
   },
   {
    "duration": 31107,
    "start_time": "2023-02-07T15:05:04.919Z"
   },
   {
    "duration": 7,
    "start_time": "2023-02-07T15:05:36.028Z"
   },
   {
    "duration": 1486,
    "start_time": "2023-02-07T15:05:36.036Z"
   },
   {
    "duration": 517,
    "start_time": "2023-02-07T15:05:37.524Z"
   },
   {
    "duration": 95,
    "start_time": "2023-02-07T15:05:38.043Z"
   },
   {
    "duration": 129,
    "start_time": "2023-02-07T15:05:38.139Z"
   },
   {
    "duration": 42,
    "start_time": "2023-02-07T15:05:38.270Z"
   },
   {
    "duration": 107,
    "start_time": "2023-02-07T15:05:38.314Z"
   },
   {
    "duration": 238,
    "start_time": "2023-02-07T15:05:38.423Z"
   },
   {
    "duration": 216,
    "start_time": "2023-02-07T15:05:38.663Z"
   },
   {
    "duration": 206,
    "start_time": "2023-02-07T15:05:38.881Z"
   },
   {
    "duration": 31,
    "start_time": "2023-02-07T15:05:39.089Z"
   },
   {
    "duration": 165,
    "start_time": "2023-02-07T15:05:39.122Z"
   },
   {
    "duration": 20,
    "start_time": "2023-02-07T15:05:39.288Z"
   },
   {
    "duration": 249,
    "start_time": "2023-02-07T15:05:39.310Z"
   },
   {
    "duration": 1621,
    "start_time": "2023-02-07T15:05:39.561Z"
   },
   {
    "duration": 223,
    "start_time": "2023-02-07T15:05:41.185Z"
   },
   {
    "duration": 12,
    "start_time": "2023-02-07T15:05:41.410Z"
   },
   {
    "duration": 188,
    "start_time": "2023-02-07T15:05:41.424Z"
   },
   {
    "duration": 0,
    "start_time": "2023-02-07T15:05:41.614Z"
   },
   {
    "duration": 0,
    "start_time": "2023-02-07T15:05:41.615Z"
   },
   {
    "duration": 0,
    "start_time": "2023-02-07T15:05:41.617Z"
   },
   {
    "duration": 0,
    "start_time": "2023-02-07T15:05:41.618Z"
   },
   {
    "duration": 0,
    "start_time": "2023-02-07T15:05:41.619Z"
   },
   {
    "duration": 0,
    "start_time": "2023-02-07T15:05:41.620Z"
   },
   {
    "duration": 0,
    "start_time": "2023-02-07T15:05:41.621Z"
   },
   {
    "duration": 0,
    "start_time": "2023-02-07T15:05:41.623Z"
   },
   {
    "duration": 0,
    "start_time": "2023-02-07T15:05:41.624Z"
   },
   {
    "duration": 0,
    "start_time": "2023-02-07T15:05:41.625Z"
   },
   {
    "duration": 0,
    "start_time": "2023-02-07T15:05:41.626Z"
   },
   {
    "duration": 0,
    "start_time": "2023-02-07T15:05:41.626Z"
   },
   {
    "duration": 0,
    "start_time": "2023-02-07T15:05:41.627Z"
   },
   {
    "duration": 23,
    "start_time": "2023-02-07T15:06:27.714Z"
   },
   {
    "duration": 17,
    "start_time": "2023-02-07T15:07:34.513Z"
   },
   {
    "duration": 4,
    "start_time": "2023-02-07T15:07:40.227Z"
   },
   {
    "duration": 314,
    "start_time": "2023-02-07T15:07:40.233Z"
   },
   {
    "duration": 16,
    "start_time": "2023-02-07T15:07:40.549Z"
   },
   {
    "duration": 19,
    "start_time": "2023-02-07T15:07:56.675Z"
   },
   {
    "duration": 22,
    "start_time": "2023-02-07T15:08:05.287Z"
   },
   {
    "duration": 19,
    "start_time": "2023-02-07T15:08:27.039Z"
   },
   {
    "duration": 21,
    "start_time": "2023-02-07T15:08:41.323Z"
   },
   {
    "duration": 16,
    "start_time": "2023-02-07T15:11:17.342Z"
   },
   {
    "duration": 28,
    "start_time": "2023-02-07T15:16:57.034Z"
   },
   {
    "duration": 13,
    "start_time": "2023-02-07T15:21:44.877Z"
   },
   {
    "duration": 23,
    "start_time": "2023-02-07T15:21:52.007Z"
   },
   {
    "duration": 22,
    "start_time": "2023-02-07T15:22:49.097Z"
   },
   {
    "duration": 12,
    "start_time": "2023-02-07T15:23:19.689Z"
   },
   {
    "duration": 17,
    "start_time": "2023-02-07T15:23:29.543Z"
   },
   {
    "duration": 16,
    "start_time": "2023-02-07T15:23:39.342Z"
   },
   {
    "duration": 13,
    "start_time": "2023-02-07T15:23:53.169Z"
   },
   {
    "duration": 17,
    "start_time": "2023-02-07T15:24:07.578Z"
   },
   {
    "duration": 18,
    "start_time": "2023-02-07T15:24:22.428Z"
   },
   {
    "duration": 23,
    "start_time": "2023-02-07T15:25:08.068Z"
   },
   {
    "duration": 18,
    "start_time": "2023-02-07T15:25:44.746Z"
   },
   {
    "duration": 17,
    "start_time": "2023-02-07T15:25:58.640Z"
   },
   {
    "duration": 6,
    "start_time": "2023-02-07T15:28:47.042Z"
   },
   {
    "duration": 13,
    "start_time": "2023-02-07T15:29:17.878Z"
   },
   {
    "duration": 4,
    "start_time": "2023-02-07T15:29:22.291Z"
   },
   {
    "duration": 360,
    "start_time": "2023-02-07T15:29:22.297Z"
   },
   {
    "duration": 19,
    "start_time": "2023-02-07T15:29:22.659Z"
   },
   {
    "duration": 12,
    "start_time": "2023-02-07T15:29:22.679Z"
   },
   {
    "duration": 22,
    "start_time": "2023-02-07T15:29:22.693Z"
   },
   {
    "duration": 98,
    "start_time": "2023-02-07T15:29:22.717Z"
   },
   {
    "duration": 2,
    "start_time": "2023-02-07T15:29:22.818Z"
   },
   {
    "duration": 247,
    "start_time": "2023-02-07T15:29:22.822Z"
   },
   {
    "duration": 45,
    "start_time": "2023-02-07T15:29:23.072Z"
   },
   {
    "duration": 50,
    "start_time": "2023-02-07T15:29:23.119Z"
   },
   {
    "duration": 7,
    "start_time": "2023-02-07T15:29:23.171Z"
   },
   {
    "duration": 10,
    "start_time": "2023-02-07T15:29:23.179Z"
   },
   {
    "duration": 48,
    "start_time": "2023-02-07T15:29:23.191Z"
   },
   {
    "duration": 53,
    "start_time": "2023-02-07T15:29:23.252Z"
   },
   {
    "duration": 26716,
    "start_time": "2023-02-07T15:29:23.308Z"
   },
   {
    "duration": 7,
    "start_time": "2023-02-07T15:29:50.025Z"
   },
   {
    "duration": 1167,
    "start_time": "2023-02-07T15:29:50.033Z"
   },
   {
    "duration": 374,
    "start_time": "2023-02-07T15:29:51.202Z"
   },
   {
    "duration": 65,
    "start_time": "2023-02-07T15:29:51.577Z"
   },
   {
    "duration": 117,
    "start_time": "2023-02-07T15:29:51.654Z"
   },
   {
    "duration": 31,
    "start_time": "2023-02-07T15:29:51.772Z"
   },
   {
    "duration": 83,
    "start_time": "2023-02-07T15:29:51.805Z"
   },
   {
    "duration": 231,
    "start_time": "2023-02-07T15:29:51.891Z"
   },
   {
    "duration": 194,
    "start_time": "2023-02-07T15:29:52.127Z"
   },
   {
    "duration": 158,
    "start_time": "2023-02-07T15:29:52.324Z"
   },
   {
    "duration": 30,
    "start_time": "2023-02-07T15:29:52.483Z"
   },
   {
    "duration": 143,
    "start_time": "2023-02-07T15:29:52.515Z"
   },
   {
    "duration": 17,
    "start_time": "2023-02-07T15:29:52.660Z"
   },
   {
    "duration": 181,
    "start_time": "2023-02-07T15:29:52.679Z"
   },
   {
    "duration": 1603,
    "start_time": "2023-02-07T15:29:52.862Z"
   },
   {
    "duration": 232,
    "start_time": "2023-02-07T15:29:54.467Z"
   },
   {
    "duration": 8,
    "start_time": "2023-02-07T15:29:54.701Z"
   },
   {
    "duration": 0,
    "start_time": "2023-02-07T15:29:54.710Z"
   },
   {
    "duration": 0,
    "start_time": "2023-02-07T15:29:54.711Z"
   },
   {
    "duration": 0,
    "start_time": "2023-02-07T15:29:54.712Z"
   },
   {
    "duration": 0,
    "start_time": "2023-02-07T15:29:54.714Z"
   },
   {
    "duration": 0,
    "start_time": "2023-02-07T15:29:54.715Z"
   },
   {
    "duration": 0,
    "start_time": "2023-02-07T15:29:54.716Z"
   },
   {
    "duration": 0,
    "start_time": "2023-02-07T15:29:54.717Z"
   },
   {
    "duration": 0,
    "start_time": "2023-02-07T15:29:54.718Z"
   },
   {
    "duration": 0,
    "start_time": "2023-02-07T15:29:54.719Z"
   },
   {
    "duration": 0,
    "start_time": "2023-02-07T15:29:54.721Z"
   },
   {
    "duration": 0,
    "start_time": "2023-02-07T15:29:54.722Z"
   },
   {
    "duration": 0,
    "start_time": "2023-02-07T15:29:54.723Z"
   },
   {
    "duration": 0,
    "start_time": "2023-02-07T15:29:54.724Z"
   },
   {
    "duration": 0,
    "start_time": "2023-02-07T15:29:54.725Z"
   },
   {
    "duration": 0,
    "start_time": "2023-02-07T15:29:54.726Z"
   },
   {
    "duration": 9,
    "start_time": "2023-02-07T15:30:18.310Z"
   },
   {
    "duration": 9,
    "start_time": "2023-02-07T15:31:06.966Z"
   },
   {
    "duration": 9,
    "start_time": "2023-02-07T15:31:14.523Z"
   },
   {
    "duration": 11,
    "start_time": "2023-02-07T15:31:39.399Z"
   },
   {
    "duration": 10,
    "start_time": "2023-02-07T15:31:56.660Z"
   },
   {
    "duration": 75,
    "start_time": "2023-02-07T15:33:03.875Z"
   },
   {
    "duration": 107,
    "start_time": "2023-02-07T15:34:03.449Z"
   },
   {
    "duration": 13,
    "start_time": "2023-02-07T15:34:10.415Z"
   },
   {
    "duration": 10,
    "start_time": "2023-02-07T15:35:08.647Z"
   },
   {
    "duration": 17,
    "start_time": "2023-02-07T15:35:29.994Z"
   },
   {
    "duration": 30,
    "start_time": "2023-02-07T15:36:53.491Z"
   },
   {
    "duration": 1241,
    "start_time": "2023-02-07T15:37:10.339Z"
   },
   {
    "duration": 342,
    "start_time": "2023-02-07T15:37:11.582Z"
   },
   {
    "duration": 17,
    "start_time": "2023-02-07T15:37:11.926Z"
   },
   {
    "duration": 17,
    "start_time": "2023-02-07T15:37:11.946Z"
   },
   {
    "duration": 39,
    "start_time": "2023-02-07T15:37:11.964Z"
   },
   {
    "duration": 93,
    "start_time": "2023-02-07T15:37:12.005Z"
   },
   {
    "duration": 2,
    "start_time": "2023-02-07T15:37:12.100Z"
   },
   {
    "duration": 196,
    "start_time": "2023-02-07T15:37:12.105Z"
   },
   {
    "duration": 32,
    "start_time": "2023-02-07T15:37:12.303Z"
   },
   {
    "duration": 33,
    "start_time": "2023-02-07T15:37:12.352Z"
   },
   {
    "duration": 8,
    "start_time": "2023-02-07T15:37:12.387Z"
   },
   {
    "duration": 12,
    "start_time": "2023-02-07T15:37:12.396Z"
   },
   {
    "duration": 72,
    "start_time": "2023-02-07T15:37:12.409Z"
   },
   {
    "duration": 35,
    "start_time": "2023-02-07T15:37:12.482Z"
   },
   {
    "duration": 27712,
    "start_time": "2023-02-07T15:37:12.518Z"
   },
   {
    "duration": 6,
    "start_time": "2023-02-07T15:37:40.231Z"
   },
   {
    "duration": 1341,
    "start_time": "2023-02-07T15:37:40.239Z"
   },
   {
    "duration": 381,
    "start_time": "2023-02-07T15:37:41.582Z"
   },
   {
    "duration": 60,
    "start_time": "2023-02-07T15:37:41.964Z"
   },
   {
    "duration": 143,
    "start_time": "2023-02-07T15:37:42.026Z"
   },
   {
    "duration": 32,
    "start_time": "2023-02-07T15:37:42.171Z"
   },
   {
    "duration": 86,
    "start_time": "2023-02-07T15:37:42.205Z"
   },
   {
    "duration": 244,
    "start_time": "2023-02-07T15:37:42.292Z"
   },
   {
    "duration": 187,
    "start_time": "2023-02-07T15:37:42.538Z"
   },
   {
    "duration": 161,
    "start_time": "2023-02-07T15:37:42.727Z"
   },
   {
    "duration": 30,
    "start_time": "2023-02-07T15:37:42.889Z"
   },
   {
    "duration": 168,
    "start_time": "2023-02-07T15:37:42.920Z"
   },
   {
    "duration": 18,
    "start_time": "2023-02-07T15:37:43.092Z"
   },
   {
    "duration": 293,
    "start_time": "2023-02-07T15:37:43.113Z"
   },
   {
    "duration": 1618,
    "start_time": "2023-02-07T15:37:43.408Z"
   },
   {
    "duration": 237,
    "start_time": "2023-02-07T15:37:45.028Z"
   },
   {
    "duration": 19,
    "start_time": "2023-02-07T15:37:45.266Z"
   },
   {
    "duration": 134,
    "start_time": "2023-02-07T15:37:45.286Z"
   },
   {
    "duration": 0,
    "start_time": "2023-02-07T15:37:45.422Z"
   },
   {
    "duration": 0,
    "start_time": "2023-02-07T15:37:45.423Z"
   },
   {
    "duration": 0,
    "start_time": "2023-02-07T15:37:45.425Z"
   },
   {
    "duration": 0,
    "start_time": "2023-02-07T15:37:45.426Z"
   },
   {
    "duration": 0,
    "start_time": "2023-02-07T15:37:45.427Z"
   },
   {
    "duration": 0,
    "start_time": "2023-02-07T15:37:45.428Z"
   },
   {
    "duration": 0,
    "start_time": "2023-02-07T15:37:45.430Z"
   },
   {
    "duration": 0,
    "start_time": "2023-02-07T15:37:45.431Z"
   },
   {
    "duration": 0,
    "start_time": "2023-02-07T15:37:45.432Z"
   },
   {
    "duration": 0,
    "start_time": "2023-02-07T15:37:45.453Z"
   },
   {
    "duration": 0,
    "start_time": "2023-02-07T15:37:45.454Z"
   },
   {
    "duration": 0,
    "start_time": "2023-02-07T15:37:45.455Z"
   },
   {
    "duration": 0,
    "start_time": "2023-02-07T15:37:45.456Z"
   },
   {
    "duration": 181,
    "start_time": "2023-02-07T16:19:05.233Z"
   },
   {
    "duration": 81,
    "start_time": "2023-02-07T16:19:05.417Z"
   },
   {
    "duration": 41,
    "start_time": "2023-02-07T16:19:05.500Z"
   },
   {
    "duration": 190,
    "start_time": "2023-02-07T16:19:05.555Z"
   },
   {
    "duration": 397,
    "start_time": "2023-02-07T16:19:05.753Z"
   },
   {
    "duration": 107,
    "start_time": "2023-02-07T16:19:06.153Z"
   },
   {
    "duration": 415,
    "start_time": "2023-02-07T16:19:06.262Z"
   },
   {
    "duration": 380,
    "start_time": "2023-02-07T16:19:06.679Z"
   },
   {
    "duration": 96,
    "start_time": "2023-02-07T16:19:07.060Z"
   },
   {
    "duration": 11,
    "start_time": "2023-02-07T16:19:07.159Z"
   },
   {
    "duration": 15,
    "start_time": "2023-02-07T16:19:07.172Z"
   },
   {
    "duration": 107,
    "start_time": "2023-02-07T16:19:07.188Z"
   },
   {
    "duration": 7,
    "start_time": "2023-02-07T16:19:07.297Z"
   },
   {
    "duration": 53,
    "start_time": "2023-02-07T17:51:20.591Z"
   },
   {
    "duration": 69,
    "start_time": "2023-02-07T17:51:41.295Z"
   },
   {
    "duration": 83,
    "start_time": "2023-02-07T17:52:48.923Z"
   },
   {
    "duration": 101,
    "start_time": "2023-02-07T17:53:04.775Z"
   },
   {
    "duration": 78,
    "start_time": "2023-02-07T17:53:10.295Z"
   },
   {
    "duration": 80,
    "start_time": "2023-02-07T17:54:55.479Z"
   },
   {
    "duration": 74,
    "start_time": "2023-02-07T17:56:13.929Z"
   },
   {
    "duration": 86,
    "start_time": "2023-02-07T17:56:41.350Z"
   },
   {
    "duration": 117,
    "start_time": "2023-02-07T17:57:58.987Z"
   },
   {
    "duration": 92,
    "start_time": "2023-02-07T17:58:19.698Z"
   },
   {
    "duration": 81,
    "start_time": "2023-02-07T17:59:39.046Z"
   },
   {
    "duration": 86,
    "start_time": "2023-02-07T18:04:30.527Z"
   },
   {
    "duration": 81,
    "start_time": "2023-02-07T18:06:54.267Z"
   },
   {
    "duration": 100,
    "start_time": "2023-02-07T18:07:09.573Z"
   },
   {
    "duration": 105,
    "start_time": "2023-02-07T18:07:23.757Z"
   },
   {
    "duration": 87,
    "start_time": "2023-02-07T18:07:35.522Z"
   },
   {
    "duration": 109,
    "start_time": "2023-02-07T18:08:50.867Z"
   },
   {
    "duration": 86,
    "start_time": "2023-02-07T18:09:24.871Z"
   },
   {
    "duration": 103,
    "start_time": "2023-02-07T18:09:37.786Z"
   },
   {
    "duration": 92,
    "start_time": "2023-02-07T18:09:51.204Z"
   },
   {
    "duration": 87,
    "start_time": "2023-02-07T18:10:43.799Z"
   },
   {
    "duration": 86,
    "start_time": "2023-02-07T18:11:02.890Z"
   },
   {
    "duration": 108,
    "start_time": "2023-02-07T18:12:20.252Z"
   },
   {
    "duration": 102,
    "start_time": "2023-02-07T18:14:17.623Z"
   },
   {
    "duration": 110,
    "start_time": "2023-02-07T18:14:44.130Z"
   },
   {
    "duration": 145,
    "start_time": "2023-02-07T18:18:32.983Z"
   },
   {
    "duration": 150,
    "start_time": "2023-02-07T18:20:24.146Z"
   },
   {
    "duration": 177,
    "start_time": "2023-02-07T18:21:17.498Z"
   },
   {
    "duration": 158,
    "start_time": "2023-02-07T18:22:05.945Z"
   },
   {
    "duration": 126,
    "start_time": "2023-02-07T18:22:27.225Z"
   },
   {
    "duration": 171,
    "start_time": "2023-02-07T18:28:08.820Z"
   },
   {
    "duration": 163,
    "start_time": "2023-02-07T18:29:33.647Z"
   },
   {
    "duration": 156,
    "start_time": "2023-02-07T18:29:46.122Z"
   },
   {
    "duration": 145,
    "start_time": "2023-02-07T18:30:29.117Z"
   },
   {
    "duration": 140,
    "start_time": "2023-02-07T18:31:14.175Z"
   },
   {
    "duration": 162,
    "start_time": "2023-02-07T18:31:42.452Z"
   },
   {
    "duration": 128,
    "start_time": "2023-02-07T18:33:23.383Z"
   },
   {
    "duration": 173,
    "start_time": "2023-02-07T18:34:10.117Z"
   },
   {
    "duration": 169,
    "start_time": "2023-02-07T18:34:21.451Z"
   },
   {
    "duration": 138,
    "start_time": "2023-02-07T18:35:41.181Z"
   },
   {
    "duration": 141,
    "start_time": "2023-02-07T18:36:54.585Z"
   },
   {
    "duration": 138,
    "start_time": "2023-02-07T18:37:16.883Z"
   },
   {
    "duration": 143,
    "start_time": "2023-02-07T18:37:58.779Z"
   },
   {
    "duration": 144,
    "start_time": "2023-02-07T18:38:14.284Z"
   },
   {
    "duration": 155,
    "start_time": "2023-02-07T18:38:22.470Z"
   },
   {
    "duration": 147,
    "start_time": "2023-02-07T18:38:28.670Z"
   },
   {
    "duration": 132,
    "start_time": "2023-02-07T18:39:24.182Z"
   },
   {
    "duration": 135,
    "start_time": "2023-02-07T18:39:33.625Z"
   },
   {
    "duration": 161,
    "start_time": "2023-02-07T18:40:08.437Z"
   },
   {
    "duration": 4,
    "start_time": "2023-02-07T19:33:55.870Z"
   },
   {
    "duration": 82,
    "start_time": "2023-02-07T19:33:58.595Z"
   },
   {
    "duration": 99,
    "start_time": "2023-02-07T19:34:18.628Z"
   },
   {
    "duration": 3,
    "start_time": "2023-02-07T19:34:26.997Z"
   },
   {
    "duration": 3,
    "start_time": "2023-02-07T19:34:35.641Z"
   },
   {
    "duration": 4,
    "start_time": "2023-02-07T19:34:39.701Z"
   },
   {
    "duration": 24,
    "start_time": "2023-02-07T19:41:44.075Z"
   },
   {
    "duration": 107,
    "start_time": "2023-02-07T19:44:59.633Z"
   },
   {
    "duration": 154,
    "start_time": "2023-02-07T19:45:40.948Z"
   },
   {
    "duration": 1286,
    "start_time": "2023-02-07T19:46:45.752Z"
   },
   {
    "duration": 9,
    "start_time": "2023-02-07T19:46:53.374Z"
   },
   {
    "duration": 143,
    "start_time": "2023-02-07T19:47:12.869Z"
   },
   {
    "duration": 10,
    "start_time": "2023-02-07T19:47:15.092Z"
   },
   {
    "duration": 137,
    "start_time": "2023-02-07T19:47:20.275Z"
   },
   {
    "duration": 8,
    "start_time": "2023-02-07T19:47:21.421Z"
   },
   {
    "duration": 147,
    "start_time": "2023-02-07T19:51:22.328Z"
   },
   {
    "duration": 156,
    "start_time": "2023-02-07T19:51:38.731Z"
   },
   {
    "duration": 163,
    "start_time": "2023-02-07T19:51:57.877Z"
   },
   {
    "duration": 96,
    "start_time": "2023-02-07T19:53:44.729Z"
   },
   {
    "duration": 141,
    "start_time": "2023-02-07T19:54:02.430Z"
   },
   {
    "duration": 161,
    "start_time": "2023-02-07T19:55:44.003Z"
   },
   {
    "duration": 166,
    "start_time": "2023-02-07T19:57:15.642Z"
   },
   {
    "duration": 197,
    "start_time": "2023-02-07T19:57:34.395Z"
   },
   {
    "duration": 201,
    "start_time": "2023-02-07T19:58:09.027Z"
   },
   {
    "duration": 140,
    "start_time": "2023-02-07T20:09:16.908Z"
   },
   {
    "duration": 140,
    "start_time": "2023-02-07T20:11:29.340Z"
   },
   {
    "duration": 119,
    "start_time": "2023-02-07T20:11:51.475Z"
   },
   {
    "duration": 15,
    "start_time": "2023-02-07T20:24:20.687Z"
   },
   {
    "duration": 143,
    "start_time": "2023-02-07T20:29:12.188Z"
   },
   {
    "duration": 6,
    "start_time": "2023-02-07T20:29:31.274Z"
   },
   {
    "duration": 136,
    "start_time": "2023-02-07T20:29:49.011Z"
   },
   {
    "duration": 6,
    "start_time": "2023-02-07T20:29:51.021Z"
   },
   {
    "duration": 150,
    "start_time": "2023-02-07T20:30:57.304Z"
   },
   {
    "duration": 147,
    "start_time": "2023-02-07T20:31:11.726Z"
   },
   {
    "duration": 5,
    "start_time": "2023-02-07T20:31:50.215Z"
   },
   {
    "duration": 13,
    "start_time": "2023-02-07T21:18:08.123Z"
   },
   {
    "duration": 108,
    "start_time": "2023-02-07T21:18:23.910Z"
   },
   {
    "duration": 11,
    "start_time": "2023-02-07T21:18:25.026Z"
   },
   {
    "duration": 100,
    "start_time": "2023-02-07T21:33:22.155Z"
   },
   {
    "duration": 111,
    "start_time": "2023-02-07T21:41:42.663Z"
   },
   {
    "duration": 128,
    "start_time": "2023-02-07T21:41:53.871Z"
   },
   {
    "duration": 144,
    "start_time": "2023-02-07T21:42:07.946Z"
   },
   {
    "duration": 124,
    "start_time": "2023-02-07T21:43:22.022Z"
   },
   {
    "duration": 153,
    "start_time": "2023-02-07T21:43:32.443Z"
   },
   {
    "duration": 160,
    "start_time": "2023-02-07T21:45:44.944Z"
   },
   {
    "duration": 121,
    "start_time": "2023-02-07T21:46:02.973Z"
   },
   {
    "duration": 167,
    "start_time": "2023-02-07T21:46:11.159Z"
   },
   {
    "duration": 164,
    "start_time": "2023-02-07T21:46:49.914Z"
   },
   {
    "duration": 154,
    "start_time": "2023-02-07T21:47:03.222Z"
   },
   {
    "duration": 156,
    "start_time": "2023-02-07T21:47:15.829Z"
   },
   {
    "duration": 146,
    "start_time": "2023-02-07T21:47:31.579Z"
   },
   {
    "duration": 100,
    "start_time": "2023-02-07T21:47:48.246Z"
   },
   {
    "duration": 151,
    "start_time": "2023-02-07T21:51:49.017Z"
   },
   {
    "duration": 95,
    "start_time": "2023-02-07T21:59:11.849Z"
   },
   {
    "duration": 58,
    "start_time": "2023-02-08T09:22:10.007Z"
   },
   {
    "duration": 1249,
    "start_time": "2023-02-08T09:22:13.369Z"
   },
   {
    "duration": 1467,
    "start_time": "2023-02-08T09:22:14.620Z"
   },
   {
    "duration": 14,
    "start_time": "2023-02-08T09:22:16.088Z"
   },
   {
    "duration": 13,
    "start_time": "2023-02-08T09:22:16.104Z"
   },
   {
    "duration": 24,
    "start_time": "2023-02-08T09:22:16.119Z"
   },
   {
    "duration": 92,
    "start_time": "2023-02-08T09:22:16.145Z"
   },
   {
    "duration": 2,
    "start_time": "2023-02-08T09:22:16.239Z"
   },
   {
    "duration": 161,
    "start_time": "2023-02-08T09:22:16.242Z"
   },
   {
    "duration": 36,
    "start_time": "2023-02-08T09:22:16.405Z"
   },
   {
    "duration": 17,
    "start_time": "2023-02-08T09:22:16.443Z"
   },
   {
    "duration": 5,
    "start_time": "2023-02-08T09:22:16.462Z"
   },
   {
    "duration": 10,
    "start_time": "2023-02-08T09:22:16.468Z"
   },
   {
    "duration": 67,
    "start_time": "2023-02-08T09:22:16.480Z"
   },
   {
    "duration": 28,
    "start_time": "2023-02-08T09:22:16.549Z"
   },
   {
    "duration": 28422,
    "start_time": "2023-02-08T09:22:16.579Z"
   },
   {
    "duration": 5,
    "start_time": "2023-02-08T09:22:45.003Z"
   },
   {
    "duration": 1248,
    "start_time": "2023-02-08T09:22:45.010Z"
   },
   {
    "duration": 363,
    "start_time": "2023-02-08T09:22:46.260Z"
   },
   {
    "duration": 55,
    "start_time": "2023-02-08T09:22:46.625Z"
   },
   {
    "duration": 117,
    "start_time": "2023-02-08T09:22:46.682Z"
   },
   {
    "duration": 36,
    "start_time": "2023-02-08T09:22:46.801Z"
   },
   {
    "duration": 54,
    "start_time": "2023-02-08T09:22:46.839Z"
   },
   {
    "duration": 215,
    "start_time": "2023-02-08T09:22:46.895Z"
   },
   {
    "duration": 178,
    "start_time": "2023-02-08T09:22:47.111Z"
   },
   {
    "duration": 155,
    "start_time": "2023-02-08T09:22:47.291Z"
   },
   {
    "duration": 26,
    "start_time": "2023-02-08T09:22:47.448Z"
   },
   {
    "duration": 136,
    "start_time": "2023-02-08T09:22:47.476Z"
   },
   {
    "duration": 26,
    "start_time": "2023-02-08T09:22:47.616Z"
   },
   {
    "duration": 172,
    "start_time": "2023-02-08T09:22:47.644Z"
   },
   {
    "duration": 230,
    "start_time": "2023-02-08T09:22:47.817Z"
   },
   {
    "duration": 22,
    "start_time": "2023-02-08T09:22:48.048Z"
   },
   {
    "duration": 223,
    "start_time": "2023-02-08T09:22:48.072Z"
   },
   {
    "duration": 93,
    "start_time": "2023-02-08T09:22:48.297Z"
   },
   {
    "duration": 61,
    "start_time": "2023-02-08T09:22:48.391Z"
   },
   {
    "duration": 158,
    "start_time": "2023-02-08T09:22:48.454Z"
   },
   {
    "duration": 395,
    "start_time": "2023-02-08T09:22:48.613Z"
   },
   {
    "duration": 90,
    "start_time": "2023-02-08T09:22:49.009Z"
   },
   {
    "duration": 84,
    "start_time": "2023-02-08T09:22:49.100Z"
   },
   {
    "duration": 0,
    "start_time": "2023-02-08T09:22:49.186Z"
   },
   {
    "duration": 0,
    "start_time": "2023-02-08T09:22:49.187Z"
   },
   {
    "duration": 0,
    "start_time": "2023-02-08T09:22:49.189Z"
   },
   {
    "duration": 0,
    "start_time": "2023-02-08T09:22:49.190Z"
   },
   {
    "duration": 0,
    "start_time": "2023-02-08T09:22:49.191Z"
   },
   {
    "duration": 83,
    "start_time": "2023-02-08T09:26:20.416Z"
   },
   {
    "duration": 82,
    "start_time": "2023-02-08T09:26:55.338Z"
   },
   {
    "duration": 81,
    "start_time": "2023-02-08T09:27:07.593Z"
   },
   {
    "duration": 80,
    "start_time": "2023-02-08T09:27:40.684Z"
   },
   {
    "duration": 82,
    "start_time": "2023-02-08T09:27:53.612Z"
   },
   {
    "duration": 85,
    "start_time": "2023-02-08T09:28:08.073Z"
   },
   {
    "duration": 79,
    "start_time": "2023-02-08T09:28:47.266Z"
   },
   {
    "duration": 92,
    "start_time": "2023-02-08T09:28:54.840Z"
   },
   {
    "duration": 78,
    "start_time": "2023-02-08T09:34:30.453Z"
   },
   {
    "duration": 80,
    "start_time": "2023-02-08T09:36:35.168Z"
   },
   {
    "duration": 77,
    "start_time": "2023-02-08T09:46:07.368Z"
   },
   {
    "duration": 7,
    "start_time": "2023-02-08T09:46:09.109Z"
   },
   {
    "duration": 4,
    "start_time": "2023-02-08T09:46:22.503Z"
   },
   {
    "duration": 289,
    "start_time": "2023-02-08T09:46:22.509Z"
   },
   {
    "duration": 8,
    "start_time": "2023-02-08T09:46:22.800Z"
   },
   {
    "duration": 12,
    "start_time": "2023-02-08T09:46:22.809Z"
   },
   {
    "duration": 17,
    "start_time": "2023-02-08T09:46:22.823Z"
   },
   {
    "duration": 66,
    "start_time": "2023-02-08T09:46:22.841Z"
   },
   {
    "duration": 2,
    "start_time": "2023-02-08T09:46:22.908Z"
   },
   {
    "duration": 136,
    "start_time": "2023-02-08T09:46:22.912Z"
   },
   {
    "duration": 25,
    "start_time": "2023-02-08T09:46:23.050Z"
   },
   {
    "duration": 15,
    "start_time": "2023-02-08T09:46:23.077Z"
   },
   {
    "duration": 4,
    "start_time": "2023-02-08T09:46:23.095Z"
   },
   {
    "duration": 6,
    "start_time": "2023-02-08T09:46:23.101Z"
   },
   {
    "duration": 66,
    "start_time": "2023-02-08T09:46:23.109Z"
   },
   {
    "duration": 28,
    "start_time": "2023-02-08T09:46:23.177Z"
   },
   {
    "duration": 25728,
    "start_time": "2023-02-08T09:46:23.206Z"
   },
   {
    "duration": 6,
    "start_time": "2023-02-08T09:46:48.937Z"
   },
   {
    "duration": 1085,
    "start_time": "2023-02-08T09:46:48.945Z"
   },
   {
    "duration": 329,
    "start_time": "2023-02-08T09:46:50.032Z"
   },
   {
    "duration": 55,
    "start_time": "2023-02-08T09:46:50.363Z"
   },
   {
    "duration": 107,
    "start_time": "2023-02-08T09:46:50.420Z"
   },
   {
    "duration": 34,
    "start_time": "2023-02-08T09:46:50.528Z"
   },
   {
    "duration": 56,
    "start_time": "2023-02-08T09:46:50.564Z"
   },
   {
    "duration": 208,
    "start_time": "2023-02-08T09:46:50.622Z"
   },
   {
    "duration": 166,
    "start_time": "2023-02-08T09:46:50.831Z"
   },
   {
    "duration": 147,
    "start_time": "2023-02-08T09:46:50.998Z"
   },
   {
    "duration": 27,
    "start_time": "2023-02-08T09:46:51.146Z"
   },
   {
    "duration": 131,
    "start_time": "2023-02-08T09:46:51.174Z"
   },
   {
    "duration": 17,
    "start_time": "2023-02-08T09:46:51.307Z"
   },
   {
    "duration": 165,
    "start_time": "2023-02-08T09:46:51.337Z"
   },
   {
    "duration": 293,
    "start_time": "2023-02-08T09:46:51.504Z"
   },
   {
    "duration": 17,
    "start_time": "2023-02-08T09:46:51.800Z"
   },
   {
    "duration": 122,
    "start_time": "2023-02-08T09:46:51.819Z"
   },
   {
    "duration": 56,
    "start_time": "2023-02-08T09:46:51.943Z"
   },
   {
    "duration": 48,
    "start_time": "2023-02-08T09:46:52.000Z"
   },
   {
    "duration": 137,
    "start_time": "2023-02-08T09:46:52.049Z"
   },
   {
    "duration": 381,
    "start_time": "2023-02-08T09:46:52.187Z"
   },
   {
    "duration": 106,
    "start_time": "2023-02-08T09:46:52.570Z"
   },
   {
    "duration": 76,
    "start_time": "2023-02-08T09:46:52.678Z"
   },
   {
    "duration": 9,
    "start_time": "2023-02-08T09:46:52.755Z"
   },
   {
    "duration": 12,
    "start_time": "2023-02-08T09:46:52.765Z"
   },
   {
    "duration": 92,
    "start_time": "2023-02-08T09:46:52.779Z"
   },
   {
    "duration": 6,
    "start_time": "2023-02-08T09:46:52.873Z"
   },
   {
    "duration": 83,
    "start_time": "2023-02-08T09:47:28.519Z"
   },
   {
    "duration": 7,
    "start_time": "2023-02-08T09:47:30.755Z"
   },
   {
    "duration": 77,
    "start_time": "2023-02-08T09:47:35.851Z"
   },
   {
    "duration": 6,
    "start_time": "2023-02-08T09:47:37.974Z"
   },
   {
    "duration": 86,
    "start_time": "2023-02-08T09:47:53.614Z"
   },
   {
    "duration": 6,
    "start_time": "2023-02-08T09:47:55.133Z"
   },
   {
    "duration": 83,
    "start_time": "2023-02-08T09:53:28.723Z"
   },
   {
    "duration": 83,
    "start_time": "2023-02-08T09:53:38.451Z"
   },
   {
    "duration": 92,
    "start_time": "2023-02-08T09:53:54.177Z"
   },
   {
    "duration": 79,
    "start_time": "2023-02-08T09:54:05.158Z"
   },
   {
    "duration": 7,
    "start_time": "2023-02-08T09:54:14.102Z"
   },
   {
    "duration": 79,
    "start_time": "2023-02-08T09:54:21.623Z"
   },
   {
    "duration": 7,
    "start_time": "2023-02-08T09:54:23.074Z"
   },
   {
    "duration": 72,
    "start_time": "2023-02-08T10:00:48.948Z"
   },
   {
    "duration": 1249,
    "start_time": "2023-02-08T10:03:13.678Z"
   },
   {
    "duration": 20,
    "start_time": "2023-02-08T10:03:26.620Z"
   },
   {
    "duration": 16,
    "start_time": "2023-02-08T10:03:37.624Z"
   },
   {
    "duration": 18,
    "start_time": "2023-02-08T10:04:21.247Z"
   },
   {
    "duration": 18,
    "start_time": "2023-02-08T10:04:32.712Z"
   },
   {
    "duration": 13,
    "start_time": "2023-02-08T10:04:36.470Z"
   },
   {
    "duration": 191,
    "start_time": "2023-02-08T10:04:48.634Z"
   },
   {
    "duration": 126,
    "start_time": "2023-02-08T10:11:32.343Z"
   },
   {
    "duration": 11,
    "start_time": "2023-02-08T10:15:02.971Z"
   },
   {
    "duration": 67,
    "start_time": "2023-02-08T10:17:39.554Z"
   },
   {
    "duration": 7,
    "start_time": "2023-02-08T10:17:42.258Z"
   },
   {
    "duration": 1305,
    "start_time": "2023-02-08T14:34:20.883Z"
   },
   {
    "duration": 791,
    "start_time": "2023-02-08T14:34:22.190Z"
   },
   {
    "duration": 15,
    "start_time": "2023-02-08T14:34:22.983Z"
   },
   {
    "duration": 19,
    "start_time": "2023-02-08T14:34:23.000Z"
   },
   {
    "duration": 27,
    "start_time": "2023-02-08T14:34:23.021Z"
   },
   {
    "duration": 89,
    "start_time": "2023-02-08T14:34:23.050Z"
   },
   {
    "duration": 2,
    "start_time": "2023-02-08T14:34:23.141Z"
   },
   {
    "duration": 189,
    "start_time": "2023-02-08T14:34:23.145Z"
   },
   {
    "duration": 30,
    "start_time": "2023-02-08T14:34:23.337Z"
   },
   {
    "duration": 18,
    "start_time": "2023-02-08T14:34:23.370Z"
   },
   {
    "duration": 7,
    "start_time": "2023-02-08T14:34:23.389Z"
   },
   {
    "duration": 10,
    "start_time": "2023-02-08T14:34:23.397Z"
   },
   {
    "duration": 49,
    "start_time": "2023-02-08T14:34:23.437Z"
   },
   {
    "duration": 49,
    "start_time": "2023-02-08T14:34:23.488Z"
   },
   {
    "duration": 27774,
    "start_time": "2023-02-08T14:34:23.539Z"
   },
   {
    "duration": 7,
    "start_time": "2023-02-08T14:34:51.315Z"
   },
   {
    "duration": 1310,
    "start_time": "2023-02-08T14:34:51.324Z"
   },
   {
    "duration": 386,
    "start_time": "2023-02-08T14:34:52.636Z"
   },
   {
    "duration": 69,
    "start_time": "2023-02-08T14:34:53.024Z"
   },
   {
    "duration": 129,
    "start_time": "2023-02-08T14:34:53.095Z"
   },
   {
    "duration": 38,
    "start_time": "2023-02-08T14:34:53.226Z"
   },
   {
    "duration": 79,
    "start_time": "2023-02-08T14:34:53.266Z"
   },
   {
    "duration": 253,
    "start_time": "2023-02-08T14:34:53.347Z"
   },
   {
    "duration": 203,
    "start_time": "2023-02-08T14:34:53.602Z"
   },
   {
    "duration": 176,
    "start_time": "2023-02-08T14:34:53.807Z"
   },
   {
    "duration": 53,
    "start_time": "2023-02-08T14:34:53.985Z"
   },
   {
    "duration": 266,
    "start_time": "2023-02-08T14:34:54.040Z"
   },
   {
    "duration": 39,
    "start_time": "2023-02-08T14:34:54.311Z"
   },
   {
    "duration": 293,
    "start_time": "2023-02-08T14:34:54.353Z"
   },
   {
    "duration": 270,
    "start_time": "2023-02-08T14:34:54.648Z"
   },
   {
    "duration": 27,
    "start_time": "2023-02-08T14:34:54.920Z"
   },
   {
    "duration": 237,
    "start_time": "2023-02-08T14:34:54.949Z"
   },
   {
    "duration": 78,
    "start_time": "2023-02-08T14:34:55.188Z"
   },
   {
    "duration": 39,
    "start_time": "2023-02-08T14:34:55.268Z"
   },
   {
    "duration": 172,
    "start_time": "2023-02-08T14:34:55.309Z"
   },
   {
    "duration": 424,
    "start_time": "2023-02-08T14:34:55.483Z"
   },
   {
    "duration": 93,
    "start_time": "2023-02-08T14:34:55.909Z"
   },
   {
    "duration": 87,
    "start_time": "2023-02-08T14:34:56.004Z"
   },
   {
    "duration": 11,
    "start_time": "2023-02-08T14:34:56.093Z"
   },
   {
    "duration": 31,
    "start_time": "2023-02-08T14:34:56.105Z"
   },
   {
    "duration": 82,
    "start_time": "2023-02-08T14:34:56.138Z"
   },
   {
    "duration": 17,
    "start_time": "2023-02-08T14:34:56.221Z"
   },
   {
    "duration": 4,
    "start_time": "2023-02-08T14:35:08.118Z"
   },
   {
    "duration": 10,
    "start_time": "2023-02-08T14:35:33.925Z"
   },
   {
    "duration": 15,
    "start_time": "2023-02-08T14:36:17.425Z"
   },
   {
    "duration": 9,
    "start_time": "2023-02-08T14:36:25.020Z"
   },
   {
    "duration": 18,
    "start_time": "2023-02-08T14:36:44.066Z"
   },
   {
    "duration": 13,
    "start_time": "2023-02-08T14:36:49.452Z"
   },
   {
    "duration": 375,
    "start_time": "2023-02-08T14:38:12.337Z"
   },
   {
    "duration": 392,
    "start_time": "2023-02-08T14:40:15.111Z"
   },
   {
    "duration": 49,
    "start_time": "2023-02-08T18:30:48.050Z"
   },
   {
    "duration": 1324,
    "start_time": "2023-02-08T18:30:51.742Z"
   },
   {
    "duration": 791,
    "start_time": "2023-02-08T18:30:53.068Z"
   },
   {
    "duration": 12,
    "start_time": "2023-02-08T18:30:53.861Z"
   },
   {
    "duration": 12,
    "start_time": "2023-02-08T18:30:53.875Z"
   },
   {
    "duration": 33,
    "start_time": "2023-02-08T18:30:53.890Z"
   },
   {
    "duration": 77,
    "start_time": "2023-02-08T18:30:53.925Z"
   },
   {
    "duration": 3,
    "start_time": "2023-02-08T18:30:54.004Z"
   },
   {
    "duration": 174,
    "start_time": "2023-02-08T18:30:54.009Z"
   },
   {
    "duration": 29,
    "start_time": "2023-02-08T18:30:54.185Z"
   },
   {
    "duration": 29,
    "start_time": "2023-02-08T18:30:54.216Z"
   },
   {
    "duration": 6,
    "start_time": "2023-02-08T18:30:54.246Z"
   },
   {
    "duration": 10,
    "start_time": "2023-02-08T18:30:54.254Z"
   },
   {
    "duration": 45,
    "start_time": "2023-02-08T18:30:54.265Z"
   },
   {
    "duration": 49,
    "start_time": "2023-02-08T18:30:54.314Z"
   },
   {
    "duration": 25171,
    "start_time": "2023-02-08T18:30:54.365Z"
   },
   {
    "duration": 9,
    "start_time": "2023-02-08T18:31:19.538Z"
   },
   {
    "duration": 1206,
    "start_time": "2023-02-08T18:31:19.549Z"
   },
   {
    "duration": 345,
    "start_time": "2023-02-08T18:31:20.756Z"
   },
   {
    "duration": 57,
    "start_time": "2023-02-08T18:31:21.103Z"
   },
   {
    "duration": 109,
    "start_time": "2023-02-08T18:31:21.162Z"
   },
   {
    "duration": 28,
    "start_time": "2023-02-08T18:31:21.273Z"
   },
   {
    "duration": 72,
    "start_time": "2023-02-08T18:31:21.302Z"
   },
   {
    "duration": 207,
    "start_time": "2023-02-08T18:31:21.375Z"
   },
   {
    "duration": 200,
    "start_time": "2023-02-08T18:31:21.584Z"
   },
   {
    "duration": 157,
    "start_time": "2023-02-08T18:31:21.786Z"
   },
   {
    "duration": 27,
    "start_time": "2023-02-08T18:31:21.944Z"
   },
   {
    "duration": 128,
    "start_time": "2023-02-08T18:31:21.972Z"
   },
   {
    "duration": 18,
    "start_time": "2023-02-08T18:31:22.101Z"
   },
   {
    "duration": 174,
    "start_time": "2023-02-08T18:31:22.120Z"
   },
   {
    "duration": 215,
    "start_time": "2023-02-08T18:31:22.296Z"
   },
   {
    "duration": 17,
    "start_time": "2023-02-08T18:31:22.513Z"
   },
   {
    "duration": 165,
    "start_time": "2023-02-08T18:31:22.544Z"
   },
   {
    "duration": 62,
    "start_time": "2023-02-08T18:31:22.710Z"
   },
   {
    "duration": 31,
    "start_time": "2023-02-08T18:31:22.773Z"
   },
   {
    "duration": 139,
    "start_time": "2023-02-08T18:31:22.806Z"
   },
   {
    "duration": 328,
    "start_time": "2023-02-08T18:31:22.947Z"
   },
   {
    "duration": 88,
    "start_time": "2023-02-08T18:31:23.276Z"
   },
   {
    "duration": 0,
    "start_time": "2023-02-08T18:31:23.365Z"
   },
   {
    "duration": 0,
    "start_time": "2023-02-08T18:31:23.366Z"
   },
   {
    "duration": 0,
    "start_time": "2023-02-08T18:31:23.368Z"
   },
   {
    "duration": 0,
    "start_time": "2023-02-08T18:31:23.369Z"
   },
   {
    "duration": 0,
    "start_time": "2023-02-08T18:31:23.370Z"
   },
   {
    "duration": 0,
    "start_time": "2023-02-08T18:31:23.371Z"
   },
   {
    "duration": 0,
    "start_time": "2023-02-08T18:31:23.372Z"
   },
   {
    "duration": 0,
    "start_time": "2023-02-08T18:31:23.373Z"
   },
   {
    "duration": 0,
    "start_time": "2023-02-08T18:31:23.374Z"
   },
   {
    "duration": 88,
    "start_time": "2023-02-08T18:31:51.654Z"
   },
   {
    "duration": 88,
    "start_time": "2023-02-08T18:32:09.719Z"
   },
   {
    "duration": 84,
    "start_time": "2023-02-08T20:07:55.645Z"
   },
   {
    "duration": 93,
    "start_time": "2023-02-08T20:08:06.241Z"
   },
   {
    "duration": 80,
    "start_time": "2023-02-08T20:08:34.049Z"
   },
   {
    "duration": 80,
    "start_time": "2023-02-08T20:15:23.454Z"
   },
   {
    "duration": 84,
    "start_time": "2023-02-08T20:15:44.468Z"
   },
   {
    "duration": 78,
    "start_time": "2023-02-08T20:17:25.800Z"
   },
   {
    "duration": 80,
    "start_time": "2023-02-08T20:17:39.688Z"
   },
   {
    "duration": 76,
    "start_time": "2023-02-08T20:17:49.747Z"
   },
   {
    "duration": 76,
    "start_time": "2023-02-08T20:17:55.357Z"
   },
   {
    "duration": 79,
    "start_time": "2023-02-08T20:21:54.292Z"
   },
   {
    "duration": 100,
    "start_time": "2023-02-08T20:22:04.628Z"
   },
   {
    "duration": 79,
    "start_time": "2023-02-08T20:22:18.393Z"
   }
  ],
  "kernelspec": {
   "display_name": "Python 3 (ipykernel)",
   "language": "python",
   "name": "python3"
  },
  "language_info": {
   "codemirror_mode": {
    "name": "ipython",
    "version": 3
   },
   "file_extension": ".py",
   "mimetype": "text/x-python",
   "name": "python",
   "nbconvert_exporter": "python",
   "pygments_lexer": "ipython3",
   "version": "3.9.13"
  },
  "toc": {
   "base_numbering": "",
   "nav_menu": {},
   "number_sections": false,
   "sideBar": true,
   "skip_h1_title": false,
   "title_cell": "Table of Contents",
   "title_sidebar": "Contents",
   "toc_cell": false,
   "toc_position": {
    "height": "calc(100% - 180px)",
    "left": "10px",
    "top": "150px",
    "width": "512px"
   },
   "toc_section_display": true,
   "toc_window_display": true
  }
 },
 "nbformat": 4,
 "nbformat_minor": 5
}
