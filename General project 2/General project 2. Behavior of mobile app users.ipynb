{
 "cells": [
  {
   "cell_type": "markdown",
   "metadata": {},
   "source": [
    "# Поведение пользователей мобильного приложения"
   ]
  },
  {
   "cell_type": "markdown",
   "metadata": {},
   "source": [
    "Будет проведена аналитика поведения пользователей мобильного приложения. \n",
    "\n",
    "Основная цель проекта - изучить воронку продаж и выяснить, как и сколько пользователей доходят до покупки. Так же будут проведены A/A/B-тесты по лояльности пользователей к новым элементам дизайна (изменение шрифта).\n",
    "\n",
    "Создание двух групп A вместо одной имеет определённые преимущества. Если две контрольные группы окажутся равны, мы можем быть уверены в точности проведенного тестирования. Если же между значениями A и A будут существенные различия, это поможет обнаружить факторы, которые привели к искажению результатов. Сравнение контрольных групп также помогает понять, сколько времени и данных потребуется для дальнейших тестов."
   ]
  },
  {
   "cell_type": "markdown",
   "metadata": {},
   "source": [
    "# Этапы и цели проекта"
   ]
  },
  {
   "cell_type": "markdown",
   "metadata": {},
   "source": [
    "- **Импорт и подготовка данных;**\n",
    "- **Изучение и проверка данных;**\n",
    "- **Изучение и анализ воронки событий;**\n",
    "- **Анализ результатов А/А/В-экспеременета.**"
   ]
  },
  {
   "cell_type": "markdown",
   "metadata": {},
   "source": [
    "### Описание данных\n",
    "Файл moscow_places.csv:\n",
    "\n",
    "- `name` — название заведения;\n",
    "- `address` — адрес заведения;\n",
    "- `category` — категория заведения, например «кафе», «пиццерия» или «кофейня»;\n",
    "- `hours` — информация о днях и часах работы;\n",
    "- `lat` — широта географической точки, в которой находится заведение;\n",
    "- `lng` — долгота географической точки, в которой находится заведение;\n",
    "- `rating` — рейтинг заведения по оценкам пользователей в Яндекс Картах (высшая оценка — 5.0);\n",
    "- `price` — категория цен в заведении, например «средние», «ниже среднего», «выше среднего» и так далее;\n",
    "- `avg_bill` — строка, которая хранит среднюю стоимость заказа в виде диапазона, например:\n",
    "  \n",
    "    - «Средний счёт: 1000–1500 ₽»;\n",
    "    - «Цена чашки капучино: 130–220 ₽»;\n",
    "    - «Цена бокала пива: 400–600 ₽».\n",
    "    - и так далее;\n",
    "- `middle_avg_bill` — число с оценкой среднего чека, которое указано только для значений из столбца avg_bill, начинающихся с подстроки «Средний счёт»:\n",
    "  \n",
    "    - Если в строке указан ценовой диапазон из двух значений, в столбец войдёт медиана этих двух значений.\n",
    "    - Если в строке указано одно число — цена без диапазона, то в столбец войдёт это число.\n",
    "    - Если значения нет или оно не начинается с подстроки «Средний счёт», то в столбец ничего не войдёт.\n",
    "- `middle_coffee_cup` — число с оценкой одной чашки капучино, которое указано только для значений из столбца avg_bill, начинающихся с подстроки «Цена одной чашки капучино»:\n",
    "  \n",
    "    - Если в строке указан ценовой диапазон из двух значений, в столбец войдёт медиана этих двух значений.\n",
    "    - Если в строке указано одно число — цена без диапазона, то в столбец войдёт это число.\n",
    "    - Если значения нет или оно не начинается с подстроки «Цена одной чашки капучино», то в столбец ничего не войдёт.\n",
    "- `chain` — число, выраженное 0 или 1, которое показывает, является ли заведение сетевым (для маленьких сетей могут встречаться ошибки):\n",
    "    - 0 — заведение не является сетевым\n",
    "    - 1 — заведение является сетевым\n",
    "- `district` — административный район, в котором находится заведение, например Центральный административный округ;\n",
    "- `seats` — количество посадочных мест."
   ]
  },
  {
   "cell_type": "markdown",
   "metadata": {},
   "source": [
    "### Шаг 1. Импорт библиотек и просмотр общих данных"
   ]
  },
  {
   "cell_type": "markdown",
   "metadata": {},
   "source": [
    "**Импорт библиотек.**"
   ]
  },
  {
   "cell_type": "code",
   "execution_count": 15,
   "metadata": {},
   "outputs": [],
   "source": [
    "import pandas as pd #для обработки и анализа данных\n",
    "import numpy as np #поддержка таблиц и математических функций\n",
    "import datetime as dt #для работы с датой и временем\n",
    "from datetime import datetime, timedelta #для проведений манипуляций и расчетов со временем и отображения продолжительности времени\n",
    "from matplotlib import pyplot as plt #для визуализации данных\n",
    "import scipy.stats as stats #выполнение статистических расчетов\n",
    "import math as mth"
   ]
  },
  {
   "cell_type": "markdown",
   "metadata": {},
   "source": [
    "**Загрузка данных.**"
   ]
  },
  {
   "cell_type": "code",
   "execution_count": 16,
   "metadata": {},
   "outputs": [
    {
     "data": {
      "text/html": [
       "<div>\n",
       "<style scoped>\n",
       "    .dataframe tbody tr th:only-of-type {\n",
       "        vertical-align: middle;\n",
       "    }\n",
       "\n",
       "    .dataframe tbody tr th {\n",
       "        vertical-align: top;\n",
       "    }\n",
       "\n",
       "    .dataframe thead th {\n",
       "        text-align: right;\n",
       "    }\n",
       "</style>\n",
       "<table border=\"1\" class=\"dataframe\">\n",
       "  <thead>\n",
       "    <tr style=\"text-align: right;\">\n",
       "      <th></th>\n",
       "      <th>EventName</th>\n",
       "      <th>DeviceIDHash</th>\n",
       "      <th>EventTimestamp</th>\n",
       "      <th>ExpId</th>\n",
       "    </tr>\n",
       "  </thead>\n",
       "  <tbody>\n",
       "    <tr>\n",
       "      <th>0</th>\n",
       "      <td>MainScreenAppear</td>\n",
       "      <td>4575588528974610257</td>\n",
       "      <td>1564029816</td>\n",
       "      <td>246</td>\n",
       "    </tr>\n",
       "    <tr>\n",
       "      <th>1</th>\n",
       "      <td>MainScreenAppear</td>\n",
       "      <td>7416695313311560658</td>\n",
       "      <td>1564053102</td>\n",
       "      <td>246</td>\n",
       "    </tr>\n",
       "    <tr>\n",
       "      <th>2</th>\n",
       "      <td>PaymentScreenSuccessful</td>\n",
       "      <td>3518123091307005509</td>\n",
       "      <td>1564054127</td>\n",
       "      <td>248</td>\n",
       "    </tr>\n",
       "    <tr>\n",
       "      <th>3</th>\n",
       "      <td>CartScreenAppear</td>\n",
       "      <td>3518123091307005509</td>\n",
       "      <td>1564054127</td>\n",
       "      <td>248</td>\n",
       "    </tr>\n",
       "    <tr>\n",
       "      <th>4</th>\n",
       "      <td>PaymentScreenSuccessful</td>\n",
       "      <td>6217807653094995999</td>\n",
       "      <td>1564055322</td>\n",
       "      <td>248</td>\n",
       "    </tr>\n",
       "    <tr>\n",
       "      <th>...</th>\n",
       "      <td>...</td>\n",
       "      <td>...</td>\n",
       "      <td>...</td>\n",
       "      <td>...</td>\n",
       "    </tr>\n",
       "    <tr>\n",
       "      <th>244121</th>\n",
       "      <td>MainScreenAppear</td>\n",
       "      <td>4599628364049201812</td>\n",
       "      <td>1565212345</td>\n",
       "      <td>247</td>\n",
       "    </tr>\n",
       "    <tr>\n",
       "      <th>244122</th>\n",
       "      <td>MainScreenAppear</td>\n",
       "      <td>5849806612437486590</td>\n",
       "      <td>1565212439</td>\n",
       "      <td>246</td>\n",
       "    </tr>\n",
       "    <tr>\n",
       "      <th>244123</th>\n",
       "      <td>MainScreenAppear</td>\n",
       "      <td>5746969938801999050</td>\n",
       "      <td>1565212483</td>\n",
       "      <td>246</td>\n",
       "    </tr>\n",
       "    <tr>\n",
       "      <th>244124</th>\n",
       "      <td>MainScreenAppear</td>\n",
       "      <td>5746969938801999050</td>\n",
       "      <td>1565212498</td>\n",
       "      <td>246</td>\n",
       "    </tr>\n",
       "    <tr>\n",
       "      <th>244125</th>\n",
       "      <td>OffersScreenAppear</td>\n",
       "      <td>5746969938801999050</td>\n",
       "      <td>1565212517</td>\n",
       "      <td>246</td>\n",
       "    </tr>\n",
       "  </tbody>\n",
       "</table>\n",
       "<p>244126 rows × 4 columns</p>\n",
       "</div>"
      ],
      "text/plain": [
       "                      EventName         DeviceIDHash  EventTimestamp  ExpId\n",
       "0              MainScreenAppear  4575588528974610257      1564029816    246\n",
       "1              MainScreenAppear  7416695313311560658      1564053102    246\n",
       "2       PaymentScreenSuccessful  3518123091307005509      1564054127    248\n",
       "3              CartScreenAppear  3518123091307005509      1564054127    248\n",
       "4       PaymentScreenSuccessful  6217807653094995999      1564055322    248\n",
       "...                         ...                  ...             ...    ...\n",
       "244121         MainScreenAppear  4599628364049201812      1565212345    247\n",
       "244122         MainScreenAppear  5849806612437486590      1565212439    246\n",
       "244123         MainScreenAppear  5746969938801999050      1565212483    246\n",
       "244124         MainScreenAppear  5746969938801999050      1565212498    246\n",
       "244125       OffersScreenAppear  5746969938801999050      1565212517    246\n",
       "\n",
       "[244126 rows x 4 columns]"
      ]
     },
     "metadata": {},
     "output_type": "display_data"
    },
    {
     "name": "stdout",
     "output_type": "stream",
     "text": [
      "<class 'pandas.core.frame.DataFrame'>\n",
      "RangeIndex: 244126 entries, 0 to 244125\n",
      "Data columns (total 4 columns):\n",
      " #   Column          Non-Null Count   Dtype \n",
      "---  ------          --------------   ----- \n",
      " 0   EventName       244126 non-null  object\n",
      " 1   DeviceIDHash    244126 non-null  int64 \n",
      " 2   EventTimestamp  244126 non-null  int64 \n",
      " 3   ExpId           244126 non-null  int64 \n",
      "dtypes: int64(3), object(1)\n",
      "memory usage: 7.5+ MB\n"
     ]
    }
   ],
   "source": [
    "data = pd.read_csv(r'C:\\Users\\Leron\\Desktop\\my\\project\\all_projects\\logs_exp.csv')#загрузка данных, изменение разделителя\n",
    "display(data);\n",
    "data.info();"
   ]
  },
  {
   "cell_type": "markdown",
   "metadata": {},
   "source": [
    "### Шаг 2. Подготовка данных."
   ]
  },
  {
   "cell_type": "markdown",
   "metadata": {},
   "source": [
    "**Переименовываем столбцы и удаляем дубликаты**"
   ]
  },
  {
   "cell_type": "code",
   "execution_count": 17,
   "metadata": {},
   "outputs": [
    {
     "name": "stdout",
     "output_type": "stream",
     "text": [
      "Дубликаты: 413\n"
     ]
    },
    {
     "data": {
      "text/html": [
       "<div>\n",
       "<style scoped>\n",
       "    .dataframe tbody tr th:only-of-type {\n",
       "        vertical-align: middle;\n",
       "    }\n",
       "\n",
       "    .dataframe tbody tr th {\n",
       "        vertical-align: top;\n",
       "    }\n",
       "\n",
       "    .dataframe thead th {\n",
       "        text-align: right;\n",
       "    }\n",
       "</style>\n",
       "<table border=\"1\" class=\"dataframe\">\n",
       "  <thead>\n",
       "    <tr style=\"text-align: right;\">\n",
       "      <th></th>\n",
       "      <th>event</th>\n",
       "      <th>device_id</th>\n",
       "      <th>еvent_tstamp</th>\n",
       "      <th>group</th>\n",
       "    </tr>\n",
       "  </thead>\n",
       "  <tbody>\n",
       "    <tr>\n",
       "      <th>0</th>\n",
       "      <td>MainScreenAppear</td>\n",
       "      <td>4575588528974610257</td>\n",
       "      <td>1564029816</td>\n",
       "      <td>246</td>\n",
       "    </tr>\n",
       "    <tr>\n",
       "      <th>1</th>\n",
       "      <td>MainScreenAppear</td>\n",
       "      <td>7416695313311560658</td>\n",
       "      <td>1564053102</td>\n",
       "      <td>246</td>\n",
       "    </tr>\n",
       "    <tr>\n",
       "      <th>2</th>\n",
       "      <td>PaymentScreenSuccessful</td>\n",
       "      <td>3518123091307005509</td>\n",
       "      <td>1564054127</td>\n",
       "      <td>248</td>\n",
       "    </tr>\n",
       "    <tr>\n",
       "      <th>3</th>\n",
       "      <td>CartScreenAppear</td>\n",
       "      <td>3518123091307005509</td>\n",
       "      <td>1564054127</td>\n",
       "      <td>248</td>\n",
       "    </tr>\n",
       "    <tr>\n",
       "      <th>4</th>\n",
       "      <td>PaymentScreenSuccessful</td>\n",
       "      <td>6217807653094995999</td>\n",
       "      <td>1564055322</td>\n",
       "      <td>248</td>\n",
       "    </tr>\n",
       "    <tr>\n",
       "      <th>...</th>\n",
       "      <td>...</td>\n",
       "      <td>...</td>\n",
       "      <td>...</td>\n",
       "      <td>...</td>\n",
       "    </tr>\n",
       "    <tr>\n",
       "      <th>244121</th>\n",
       "      <td>MainScreenAppear</td>\n",
       "      <td>4599628364049201812</td>\n",
       "      <td>1565212345</td>\n",
       "      <td>247</td>\n",
       "    </tr>\n",
       "    <tr>\n",
       "      <th>244122</th>\n",
       "      <td>MainScreenAppear</td>\n",
       "      <td>5849806612437486590</td>\n",
       "      <td>1565212439</td>\n",
       "      <td>246</td>\n",
       "    </tr>\n",
       "    <tr>\n",
       "      <th>244123</th>\n",
       "      <td>MainScreenAppear</td>\n",
       "      <td>5746969938801999050</td>\n",
       "      <td>1565212483</td>\n",
       "      <td>246</td>\n",
       "    </tr>\n",
       "    <tr>\n",
       "      <th>244124</th>\n",
       "      <td>MainScreenAppear</td>\n",
       "      <td>5746969938801999050</td>\n",
       "      <td>1565212498</td>\n",
       "      <td>246</td>\n",
       "    </tr>\n",
       "    <tr>\n",
       "      <th>244125</th>\n",
       "      <td>OffersScreenAppear</td>\n",
       "      <td>5746969938801999050</td>\n",
       "      <td>1565212517</td>\n",
       "      <td>246</td>\n",
       "    </tr>\n",
       "  </tbody>\n",
       "</table>\n",
       "<p>244126 rows × 4 columns</p>\n",
       "</div>"
      ],
      "text/plain": [
       "                          event            device_id  еvent_tstamp  group\n",
       "0              MainScreenAppear  4575588528974610257    1564029816    246\n",
       "1              MainScreenAppear  7416695313311560658    1564053102    246\n",
       "2       PaymentScreenSuccessful  3518123091307005509    1564054127    248\n",
       "3              CartScreenAppear  3518123091307005509    1564054127    248\n",
       "4       PaymentScreenSuccessful  6217807653094995999    1564055322    248\n",
       "...                         ...                  ...           ...    ...\n",
       "244121         MainScreenAppear  4599628364049201812    1565212345    247\n",
       "244122         MainScreenAppear  5849806612437486590    1565212439    246\n",
       "244123         MainScreenAppear  5746969938801999050    1565212483    246\n",
       "244124         MainScreenAppear  5746969938801999050    1565212498    246\n",
       "244125       OffersScreenAppear  5746969938801999050    1565212517    246\n",
       "\n",
       "[244126 rows x 4 columns]"
      ]
     },
     "metadata": {},
     "output_type": "display_data"
    },
    {
     "name": "stdout",
     "output_type": "stream",
     "text": [
      "<class 'pandas.core.frame.DataFrame'>\n",
      "RangeIndex: 244126 entries, 0 to 244125\n",
      "Data columns (total 4 columns):\n",
      " #   Column        Non-Null Count   Dtype \n",
      "---  ------        --------------   ----- \n",
      " 0   event         244126 non-null  object\n",
      " 1   device_id     244126 non-null  int64 \n",
      " 2   еvent_tstamp  244126 non-null  int64 \n",
      " 3   group         244126 non-null  int64 \n",
      "dtypes: int64(3), object(1)\n",
      "memory usage: 7.5+ MB\n"
     ]
    }
   ],
   "source": [
    "data = data.rename(columns = {'EventName':'event', 'DeviceIDHash':'device_id', 'EventTimestamp':'еvent_tstamp', 'ExpId':'group'})\n",
    "print(f'Дубликаты: {data.duplicated().sum()}')\n",
    "display(data)\n",
    "data.info()"
   ]
  },
  {
   "cell_type": "code",
   "execution_count": 18,
   "metadata": {},
   "outputs": [
    {
     "name": "stdout",
     "output_type": "stream",
     "text": [
      "Дубликаты: 0\n"
     ]
    }
   ],
   "source": [
    "data = data[~data.duplicated(keep=False)]\n",
    "print(f'Дубликаты: {data.duplicated().sum()}')"
   ]
  },
  {
   "cell_type": "markdown",
   "metadata": {},
   "source": [
    "Дубликаты обнаружены и убраны из отчета."
   ]
  },
  {
   "cell_type": "markdown",
   "metadata": {},
   "source": [
    "**Проверка на наличие пропусков в колонках и изменение типов данных**"
   ]
  },
  {
   "cell_type": "code",
   "execution_count": 19,
   "metadata": {},
   "outputs": [
    {
     "name": "stdout",
     "output_type": "stream",
     "text": [
      "[]\n"
     ]
    },
    {
     "data": {
      "text/html": [
       "<div>\n",
       "<style scoped>\n",
       "    .dataframe tbody tr th:only-of-type {\n",
       "        vertical-align: middle;\n",
       "    }\n",
       "\n",
       "    .dataframe tbody tr th {\n",
       "        vertical-align: top;\n",
       "    }\n",
       "\n",
       "    .dataframe thead th {\n",
       "        text-align: right;\n",
       "    }\n",
       "</style>\n",
       "<table border=\"1\" class=\"dataframe\">\n",
       "  <thead>\n",
       "    <tr style=\"text-align: right;\">\n",
       "      <th></th>\n",
       "      <th>event</th>\n",
       "      <th>device_id</th>\n",
       "      <th>еvent_tstamp</th>\n",
       "      <th>group</th>\n",
       "    </tr>\n",
       "  </thead>\n",
       "  <tbody>\n",
       "    <tr>\n",
       "      <th>0</th>\n",
       "      <td>MainScreenAppear</td>\n",
       "      <td>4575588528974610257</td>\n",
       "      <td>1564029816</td>\n",
       "      <td>246</td>\n",
       "    </tr>\n",
       "    <tr>\n",
       "      <th>1</th>\n",
       "      <td>MainScreenAppear</td>\n",
       "      <td>7416695313311560658</td>\n",
       "      <td>1564053102</td>\n",
       "      <td>246</td>\n",
       "    </tr>\n",
       "    <tr>\n",
       "      <th>2</th>\n",
       "      <td>PaymentScreenSuccessful</td>\n",
       "      <td>3518123091307005509</td>\n",
       "      <td>1564054127</td>\n",
       "      <td>248</td>\n",
       "    </tr>\n",
       "    <tr>\n",
       "      <th>3</th>\n",
       "      <td>CartScreenAppear</td>\n",
       "      <td>3518123091307005509</td>\n",
       "      <td>1564054127</td>\n",
       "      <td>248</td>\n",
       "    </tr>\n",
       "    <tr>\n",
       "      <th>4</th>\n",
       "      <td>PaymentScreenSuccessful</td>\n",
       "      <td>6217807653094995999</td>\n",
       "      <td>1564055322</td>\n",
       "      <td>248</td>\n",
       "    </tr>\n",
       "    <tr>\n",
       "      <th>...</th>\n",
       "      <td>...</td>\n",
       "      <td>...</td>\n",
       "      <td>...</td>\n",
       "      <td>...</td>\n",
       "    </tr>\n",
       "    <tr>\n",
       "      <th>244121</th>\n",
       "      <td>MainScreenAppear</td>\n",
       "      <td>4599628364049201812</td>\n",
       "      <td>1565212345</td>\n",
       "      <td>247</td>\n",
       "    </tr>\n",
       "    <tr>\n",
       "      <th>244122</th>\n",
       "      <td>MainScreenAppear</td>\n",
       "      <td>5849806612437486590</td>\n",
       "      <td>1565212439</td>\n",
       "      <td>246</td>\n",
       "    </tr>\n",
       "    <tr>\n",
       "      <th>244123</th>\n",
       "      <td>MainScreenAppear</td>\n",
       "      <td>5746969938801999050</td>\n",
       "      <td>1565212483</td>\n",
       "      <td>246</td>\n",
       "    </tr>\n",
       "    <tr>\n",
       "      <th>244124</th>\n",
       "      <td>MainScreenAppear</td>\n",
       "      <td>5746969938801999050</td>\n",
       "      <td>1565212498</td>\n",
       "      <td>246</td>\n",
       "    </tr>\n",
       "    <tr>\n",
       "      <th>244125</th>\n",
       "      <td>OffersScreenAppear</td>\n",
       "      <td>5746969938801999050</td>\n",
       "      <td>1565212517</td>\n",
       "      <td>246</td>\n",
       "    </tr>\n",
       "  </tbody>\n",
       "</table>\n",
       "<p>243358 rows × 4 columns</p>\n",
       "</div>"
      ],
      "text/plain": [
       "                          event            device_id  еvent_tstamp  group\n",
       "0              MainScreenAppear  4575588528974610257    1564029816    246\n",
       "1              MainScreenAppear  7416695313311560658    1564053102    246\n",
       "2       PaymentScreenSuccessful  3518123091307005509    1564054127    248\n",
       "3              CartScreenAppear  3518123091307005509    1564054127    248\n",
       "4       PaymentScreenSuccessful  6217807653094995999    1564055322    248\n",
       "...                         ...                  ...           ...    ...\n",
       "244121         MainScreenAppear  4599628364049201812    1565212345    247\n",
       "244122         MainScreenAppear  5849806612437486590    1565212439    246\n",
       "244123         MainScreenAppear  5746969938801999050    1565212483    246\n",
       "244124         MainScreenAppear  5746969938801999050    1565212498    246\n",
       "244125       OffersScreenAppear  5746969938801999050    1565212517    246\n",
       "\n",
       "[243358 rows x 4 columns]"
      ]
     },
     "metadata": {},
     "output_type": "display_data"
    }
   ],
   "source": [
    "NaNs = np.where(pd.isnull(data))#поиск координат (строк и столбцов) NaN\n",
    "NaNs = np.array(NaNs).tolist()#преобразования массивов в списки координат\n",
    "nans_columns = NaNs[1]#выборка столбцов\n",
    "nans_columns = list(set(nans_columns))#преобразование множеств в список\n",
    "#print(nans_columns)\n",
    "data_column_name = data.columns.values#находим названия столбцов в дф\n",
    "print(data_column_name[nans_columns])#смотрим названия столбцов с NaNsами\n",
    "display(data)\n"
   ]
  },
  {
   "cell_type": "markdown",
   "metadata": {},
   "source": [
    "Пропуски не найдены, идем дальше."
   ]
  },
  {
   "cell_type": "markdown",
   "metadata": {},
   "source": [
    "**Изменение типов данных и названий групп**"
   ]
  },
  {
   "cell_type": "code",
   "execution_count": 20,
   "metadata": {},
   "outputs": [
    {
     "data": {
      "text/html": [
       "<div>\n",
       "<style scoped>\n",
       "    .dataframe tbody tr th:only-of-type {\n",
       "        vertical-align: middle;\n",
       "    }\n",
       "\n",
       "    .dataframe tbody tr th {\n",
       "        vertical-align: top;\n",
       "    }\n",
       "\n",
       "    .dataframe thead th {\n",
       "        text-align: right;\n",
       "    }\n",
       "</style>\n",
       "<table border=\"1\" class=\"dataframe\">\n",
       "  <thead>\n",
       "    <tr style=\"text-align: right;\">\n",
       "      <th></th>\n",
       "      <th>event</th>\n",
       "      <th>device_id</th>\n",
       "      <th>еvent_tstamp</th>\n",
       "      <th>group</th>\n",
       "      <th>date</th>\n",
       "    </tr>\n",
       "  </thead>\n",
       "  <tbody>\n",
       "    <tr>\n",
       "      <th>0</th>\n",
       "      <td>MainScreenAppear</td>\n",
       "      <td>4575588528974610257</td>\n",
       "      <td>2019-07-25 04:43:36</td>\n",
       "      <td>246</td>\n",
       "      <td>2019-07-25</td>\n",
       "    </tr>\n",
       "    <tr>\n",
       "      <th>1</th>\n",
       "      <td>MainScreenAppear</td>\n",
       "      <td>7416695313311560658</td>\n",
       "      <td>2019-07-25 11:11:42</td>\n",
       "      <td>246</td>\n",
       "      <td>2019-07-25</td>\n",
       "    </tr>\n",
       "    <tr>\n",
       "      <th>2</th>\n",
       "      <td>PaymentScreenSuccessful</td>\n",
       "      <td>3518123091307005509</td>\n",
       "      <td>2019-07-25 11:28:47</td>\n",
       "      <td>248</td>\n",
       "      <td>2019-07-25</td>\n",
       "    </tr>\n",
       "    <tr>\n",
       "      <th>3</th>\n",
       "      <td>CartScreenAppear</td>\n",
       "      <td>3518123091307005509</td>\n",
       "      <td>2019-07-25 11:28:47</td>\n",
       "      <td>248</td>\n",
       "      <td>2019-07-25</td>\n",
       "    </tr>\n",
       "    <tr>\n",
       "      <th>4</th>\n",
       "      <td>PaymentScreenSuccessful</td>\n",
       "      <td>6217807653094995999</td>\n",
       "      <td>2019-07-25 11:48:42</td>\n",
       "      <td>248</td>\n",
       "      <td>2019-07-25</td>\n",
       "    </tr>\n",
       "    <tr>\n",
       "      <th>...</th>\n",
       "      <td>...</td>\n",
       "      <td>...</td>\n",
       "      <td>...</td>\n",
       "      <td>...</td>\n",
       "      <td>...</td>\n",
       "    </tr>\n",
       "    <tr>\n",
       "      <th>244121</th>\n",
       "      <td>MainScreenAppear</td>\n",
       "      <td>4599628364049201812</td>\n",
       "      <td>2019-08-07 21:12:25</td>\n",
       "      <td>247</td>\n",
       "      <td>2019-08-07</td>\n",
       "    </tr>\n",
       "    <tr>\n",
       "      <th>244122</th>\n",
       "      <td>MainScreenAppear</td>\n",
       "      <td>5849806612437486590</td>\n",
       "      <td>2019-08-07 21:13:59</td>\n",
       "      <td>246</td>\n",
       "      <td>2019-08-07</td>\n",
       "    </tr>\n",
       "    <tr>\n",
       "      <th>244123</th>\n",
       "      <td>MainScreenAppear</td>\n",
       "      <td>5746969938801999050</td>\n",
       "      <td>2019-08-07 21:14:43</td>\n",
       "      <td>246</td>\n",
       "      <td>2019-08-07</td>\n",
       "    </tr>\n",
       "    <tr>\n",
       "      <th>244124</th>\n",
       "      <td>MainScreenAppear</td>\n",
       "      <td>5746969938801999050</td>\n",
       "      <td>2019-08-07 21:14:58</td>\n",
       "      <td>246</td>\n",
       "      <td>2019-08-07</td>\n",
       "    </tr>\n",
       "    <tr>\n",
       "      <th>244125</th>\n",
       "      <td>OffersScreenAppear</td>\n",
       "      <td>5746969938801999050</td>\n",
       "      <td>2019-08-07 21:15:17</td>\n",
       "      <td>246</td>\n",
       "      <td>2019-08-07</td>\n",
       "    </tr>\n",
       "  </tbody>\n",
       "</table>\n",
       "<p>243358 rows × 5 columns</p>\n",
       "</div>"
      ],
      "text/plain": [
       "                          event            device_id        еvent_tstamp  \\\n",
       "0              MainScreenAppear  4575588528974610257 2019-07-25 04:43:36   \n",
       "1              MainScreenAppear  7416695313311560658 2019-07-25 11:11:42   \n",
       "2       PaymentScreenSuccessful  3518123091307005509 2019-07-25 11:28:47   \n",
       "3              CartScreenAppear  3518123091307005509 2019-07-25 11:28:47   \n",
       "4       PaymentScreenSuccessful  6217807653094995999 2019-07-25 11:48:42   \n",
       "...                         ...                  ...                 ...   \n",
       "244121         MainScreenAppear  4599628364049201812 2019-08-07 21:12:25   \n",
       "244122         MainScreenAppear  5849806612437486590 2019-08-07 21:13:59   \n",
       "244123         MainScreenAppear  5746969938801999050 2019-08-07 21:14:43   \n",
       "244124         MainScreenAppear  5746969938801999050 2019-08-07 21:14:58   \n",
       "244125       OffersScreenAppear  5746969938801999050 2019-08-07 21:15:17   \n",
       "\n",
       "        group        date  \n",
       "0         246  2019-07-25  \n",
       "1         246  2019-07-25  \n",
       "2         248  2019-07-25  \n",
       "3         248  2019-07-25  \n",
       "4         248  2019-07-25  \n",
       "...       ...         ...  \n",
       "244121    247  2019-08-07  \n",
       "244122    246  2019-08-07  \n",
       "244123    246  2019-08-07  \n",
       "244124    246  2019-08-07  \n",
       "244125    246  2019-08-07  \n",
       "\n",
       "[243358 rows x 5 columns]"
      ]
     },
     "metadata": {},
     "output_type": "display_data"
    }
   ],
   "source": [
    "data['еvent_tstamp'] = pd.to_datetime(data['еvent_tstamp'], unit='s') #изменим тип данных на дейттайм\n",
    "data['date'] =data['еvent_tstamp'].dt.date #Создадим колонку дейт. Возможно, время нам не понадобится\n",
    "display(data)"
   ]
  },
  {
   "cell_type": "code",
   "execution_count": 21,
   "metadata": {},
   "outputs": [
    {
     "name": "stdout",
     "output_type": "stream",
     "text": [
      "['MainScreenAppear' 'PaymentScreenSuccessful' 'CartScreenAppear'\n",
      " 'OffersScreenAppear' 'Tutorial']\n",
      "[246 248 247]\n"
     ]
    }
   ],
   "source": [
    "print(data['event'].unique())#Посмотрим основные события \n",
    "print(data['group'].unique())#Посмотрим основные id групп A/A/B-тестов"
   ]
  },
  {
   "cell_type": "markdown",
   "metadata": {},
   "source": [
    "Заменим названия групп."
   ]
  },
  {
   "cell_type": "code",
   "execution_count": 22,
   "metadata": {
    "scrolled": true
   },
   "outputs": [
    {
     "data": {
      "text/html": [
       "<div>\n",
       "<style scoped>\n",
       "    .dataframe tbody tr th:only-of-type {\n",
       "        vertical-align: middle;\n",
       "    }\n",
       "\n",
       "    .dataframe tbody tr th {\n",
       "        vertical-align: top;\n",
       "    }\n",
       "\n",
       "    .dataframe thead th {\n",
       "        text-align: right;\n",
       "    }\n",
       "</style>\n",
       "<table border=\"1\" class=\"dataframe\">\n",
       "  <thead>\n",
       "    <tr style=\"text-align: right;\">\n",
       "      <th></th>\n",
       "      <th>event</th>\n",
       "      <th>device_id</th>\n",
       "      <th>еvent_tstamp</th>\n",
       "      <th>group</th>\n",
       "      <th>date</th>\n",
       "    </tr>\n",
       "  </thead>\n",
       "  <tbody>\n",
       "    <tr>\n",
       "      <th>0</th>\n",
       "      <td>MainScreenAppear</td>\n",
       "      <td>4575588528974610257</td>\n",
       "      <td>2019-07-25 04:43:36</td>\n",
       "      <td>A1</td>\n",
       "      <td>2019-07-25</td>\n",
       "    </tr>\n",
       "    <tr>\n",
       "      <th>1</th>\n",
       "      <td>MainScreenAppear</td>\n",
       "      <td>7416695313311560658</td>\n",
       "      <td>2019-07-25 11:11:42</td>\n",
       "      <td>A1</td>\n",
       "      <td>2019-07-25</td>\n",
       "    </tr>\n",
       "    <tr>\n",
       "      <th>2</th>\n",
       "      <td>PaymentScreenSuccessful</td>\n",
       "      <td>3518123091307005509</td>\n",
       "      <td>2019-07-25 11:28:47</td>\n",
       "      <td>B</td>\n",
       "      <td>2019-07-25</td>\n",
       "    </tr>\n",
       "    <tr>\n",
       "      <th>3</th>\n",
       "      <td>CartScreenAppear</td>\n",
       "      <td>3518123091307005509</td>\n",
       "      <td>2019-07-25 11:28:47</td>\n",
       "      <td>B</td>\n",
       "      <td>2019-07-25</td>\n",
       "    </tr>\n",
       "    <tr>\n",
       "      <th>4</th>\n",
       "      <td>PaymentScreenSuccessful</td>\n",
       "      <td>6217807653094995999</td>\n",
       "      <td>2019-07-25 11:48:42</td>\n",
       "      <td>B</td>\n",
       "      <td>2019-07-25</td>\n",
       "    </tr>\n",
       "    <tr>\n",
       "      <th>...</th>\n",
       "      <td>...</td>\n",
       "      <td>...</td>\n",
       "      <td>...</td>\n",
       "      <td>...</td>\n",
       "      <td>...</td>\n",
       "    </tr>\n",
       "    <tr>\n",
       "      <th>244121</th>\n",
       "      <td>MainScreenAppear</td>\n",
       "      <td>4599628364049201812</td>\n",
       "      <td>2019-08-07 21:12:25</td>\n",
       "      <td>A2</td>\n",
       "      <td>2019-08-07</td>\n",
       "    </tr>\n",
       "    <tr>\n",
       "      <th>244122</th>\n",
       "      <td>MainScreenAppear</td>\n",
       "      <td>5849806612437486590</td>\n",
       "      <td>2019-08-07 21:13:59</td>\n",
       "      <td>A1</td>\n",
       "      <td>2019-08-07</td>\n",
       "    </tr>\n",
       "    <tr>\n",
       "      <th>244123</th>\n",
       "      <td>MainScreenAppear</td>\n",
       "      <td>5746969938801999050</td>\n",
       "      <td>2019-08-07 21:14:43</td>\n",
       "      <td>A1</td>\n",
       "      <td>2019-08-07</td>\n",
       "    </tr>\n",
       "    <tr>\n",
       "      <th>244124</th>\n",
       "      <td>MainScreenAppear</td>\n",
       "      <td>5746969938801999050</td>\n",
       "      <td>2019-08-07 21:14:58</td>\n",
       "      <td>A1</td>\n",
       "      <td>2019-08-07</td>\n",
       "    </tr>\n",
       "    <tr>\n",
       "      <th>244125</th>\n",
       "      <td>OffersScreenAppear</td>\n",
       "      <td>5746969938801999050</td>\n",
       "      <td>2019-08-07 21:15:17</td>\n",
       "      <td>A1</td>\n",
       "      <td>2019-08-07</td>\n",
       "    </tr>\n",
       "  </tbody>\n",
       "</table>\n",
       "<p>243358 rows × 5 columns</p>\n",
       "</div>"
      ],
      "text/plain": [
       "                          event            device_id        еvent_tstamp  \\\n",
       "0              MainScreenAppear  4575588528974610257 2019-07-25 04:43:36   \n",
       "1              MainScreenAppear  7416695313311560658 2019-07-25 11:11:42   \n",
       "2       PaymentScreenSuccessful  3518123091307005509 2019-07-25 11:28:47   \n",
       "3              CartScreenAppear  3518123091307005509 2019-07-25 11:28:47   \n",
       "4       PaymentScreenSuccessful  6217807653094995999 2019-07-25 11:48:42   \n",
       "...                         ...                  ...                 ...   \n",
       "244121         MainScreenAppear  4599628364049201812 2019-08-07 21:12:25   \n",
       "244122         MainScreenAppear  5849806612437486590 2019-08-07 21:13:59   \n",
       "244123         MainScreenAppear  5746969938801999050 2019-08-07 21:14:43   \n",
       "244124         MainScreenAppear  5746969938801999050 2019-08-07 21:14:58   \n",
       "244125       OffersScreenAppear  5746969938801999050 2019-08-07 21:15:17   \n",
       "\n",
       "       group        date  \n",
       "0         A1  2019-07-25  \n",
       "1         A1  2019-07-25  \n",
       "2          B  2019-07-25  \n",
       "3          B  2019-07-25  \n",
       "4          B  2019-07-25  \n",
       "...      ...         ...  \n",
       "244121    A2  2019-08-07  \n",
       "244122    A1  2019-08-07  \n",
       "244123    A1  2019-08-07  \n",
       "244124    A1  2019-08-07  \n",
       "244125    A1  2019-08-07  \n",
       "\n",
       "[243358 rows x 5 columns]"
      ]
     },
     "metadata": {},
     "output_type": "display_data"
    }
   ],
   "source": [
    "#Переименуем названия групп для лучшей читабельности\n",
    "data['group'] = data['group'].replace(246,'A1') \n",
    "data['group'] = data['group'].replace(247,'A2')\n",
    "data['group'] = data['group'].replace(248,'B')\n",
    "display(data)"
   ]
  },
  {
   "cell_type": "markdown",
   "metadata": {},
   "source": [
    "На всякий случай очистим группы от девайсов, которые могли попасть в несколько групп."
   ]
  },
  {
   "cell_type": "code",
   "execution_count": 23,
   "metadata": {},
   "outputs": [],
   "source": [
    "#доля девайсов, попавших более чем в одну группу\n",
    "bad_devices = data.groupby('device_id').agg({'group' : 'nunique'}).reset_index().query('group>1')['device_id']\n",
    "\n",
    "# отфильтровали по ним\n",
    "data = data.query('device_id not in @bad_devices')"
   ]
  },
  {
   "cell_type": "markdown",
   "metadata": {},
   "source": [
    "Проверим, что группы распределены равномерно:"
   ]
  },
  {
   "cell_type": "code",
   "execution_count": 24,
   "metadata": {},
   "outputs": [
    {
     "name": "stdout",
     "output_type": "stream",
     "text": [
      "A1: event           32.905842\n",
      "device_id       32.905842\n",
      "еvent_tstamp    32.905842\n",
      "group           32.905842\n",
      "date            32.905842\n",
      "dtype: float64 \n",
      " \n",
      " A2: event           31.986621\n",
      "device_id       31.986621\n",
      "еvent_tstamp    31.986621\n",
      "group           31.986621\n",
      "date            31.986621\n",
      "dtype: float64 \n",
      " \n",
      " B: event           35.107537\n",
      "device_id       35.107537\n",
      "еvent_tstamp    35.107537\n",
      "group           35.107537\n",
      "date            35.107537\n",
      "dtype: float64\n"
     ]
    }
   ],
   "source": [
    "A1_exp = (data[data['group']=='A1'].count()/data['group'].count())*100\n",
    "A2_exp = (data[data['group']=='A2'].count()/data['group'].count())*100\n",
    "B_exp = (data[data['group']=='B'].count()/data['group'].count())*100\n",
    "\n",
    "print('A1:', A1_exp, '\\n', '\\n', 'A2:', A2_exp, '\\n', '\\n', 'B:', B_exp);"
   ]
  },
  {
   "cell_type": "markdown",
   "metadata": {},
   "source": [
    "Пропусков нет. Дубликаты сброшены. Требовалась замена типа данных в колонке \"еvent_tstamp\". Группы распределены более или менее равномерно."
   ]
  },
  {
   "cell_type": "markdown",
   "metadata": {},
   "source": [
    "### Шаг 3. Изучение и проверка данных"
   ]
  },
  {
   "cell_type": "markdown",
   "metadata": {},
   "source": [
    "**Сколько всего событий и пользователей в логе?**"
   ]
  },
  {
   "cell_type": "markdown",
   "metadata": {},
   "source": [
    "Посмотрим типы событий, их количество и сколько всего уникальных событий:"
   ]
  },
  {
   "cell_type": "code",
   "execution_count": 25,
   "metadata": {},
   "outputs": [
    {
     "name": "stdout",
     "output_type": "stream",
     "text": [
      "Список уникальных событий:\n",
      " ['MainScreenAppear' 'PaymentScreenSuccessful' 'CartScreenAppear'\n",
      " 'OffersScreenAppear' 'Tutorial'] \n",
      " \n",
      " Количество событий всего:\n",
      " 243358 \n",
      " \n",
      " Количество уникальных событий:\n",
      " event    5\n",
      "dtype: int64\n"
     ]
    }
   ],
   "source": [
    "print('Список уникальных событий:\\n',\n",
    "      data['event'].unique(),'\\n','\\n',\n",
    "      'Количество событий всего:\\n', \n",
    "      data['event'].count(),'\\n','\\n',\n",
    "      'Количество уникальных событий:\\n',\n",
    "      data.agg({'event':'nunique'}))"
   ]
  },
  {
   "cell_type": "markdown",
   "metadata": {},
   "source": [
    "Посчитаем уникальных пользователей (сколько их всего и сколько их, если разделить их на группы):"
   ]
  },
  {
   "cell_type": "code",
   "execution_count": 26,
   "metadata": {},
   "outputs": [
    {
     "name": "stdout",
     "output_type": "stream",
     "text": [
      " Количество уникальных пользователей в группе А1:\n",
      " device_id    2488\n",
      "dtype: int64 \n",
      " \n",
      " Количество уникальных пользователей в группе A2:\n",
      " device_id    2520\n",
      "dtype: int64 \n",
      " \n",
      " Количество уникальных пользователей в группе B:\n",
      " device_id    2542\n",
      "dtype: int64 \n",
      " \n",
      " Всего уникальных пользователей:\n",
      " device_id    7550\n",
      "dtype: int64\n"
     ]
    },
    {
     "data": {
      "text/plain": [
       "group\n",
       "A1       2488\n",
       "A2       2520\n",
       "B        2542\n",
       "A1_A2    5008\n",
       "Name: device_id, dtype: int64"
      ]
     },
     "metadata": {},
     "output_type": "display_data"
    }
   ],
   "source": [
    "dataA1 = data[data['group'] == 'A1']\n",
    "dataA2 = data[data['group'] == 'A2']\n",
    "dataB = data[data['group'] == 'B']\n",
    "\n",
    "print(' Количество уникальных пользователей в группе А1:\\n',\n",
    "      dataA1.agg({'device_id':'nunique'}),\"\\n\",\"\\n\",\n",
    "      'Количество уникальных пользователей в группе A2:\\n',\n",
    "      dataA2.agg({'device_id':'nunique'}),\"\\n\",\"\\n\",\n",
    "      'Количество уникальных пользователей в группе B:\\n',\n",
    "      dataB.agg({'device_id':'nunique'}),\"\\n\",\"\\n\",\n",
    "      'Всего уникальных пользователей:\\n',\n",
    "      data.agg({'device_id':'nunique'}))\n",
    "\n",
    "users = data.groupby('group')['device_id'].nunique()\n",
    "users['A1_A2'] = users['A1'] + users['A2']\n",
    "\n",
    "display(users)"
   ]
  },
  {
   "cell_type": "markdown",
   "metadata": {},
   "source": [
    "**Сколько в среднем событий приходится на пользователя?**"
   ]
  },
  {
   "cell_type": "markdown",
   "metadata": {},
   "source": [
    "Посмотрим среднее и медианное количество событий, которое приходится на пользователя. Медианное - для проверки, вдруг есть пользователи с аномальным количеством совершенных событий. "
   ]
  },
  {
   "cell_type": "code",
   "execution_count": 27,
   "metadata": {},
   "outputs": [
    {
     "name": "stdout",
     "output_type": "stream",
     "text": [
      "Среднее количество событий на одного пользователя:\n",
      " 32.23284768211921 \n",
      " \n",
      " Медианное количество событий на одного пользователя:\n",
      " 20.0\n"
     ]
    },
    {
     "data": {
      "text/plain": [
       "count    7550.000000\n",
       "mean       32.232848\n",
       "std        65.017636\n",
       "min         1.000000\n",
       "5%          3.000000\n",
       "25%         9.000000\n",
       "50%        20.000000\n",
       "75%        37.000000\n",
       "95%        89.000000\n",
       "99%       200.530000\n",
       "max      2306.000000\n",
       "Name: event, dtype: float64"
      ]
     },
     "metadata": {},
     "output_type": "display_data"
    }
   ],
   "source": [
    "event_dev_cnt = data.groupby('device_id')['event'].count()\n",
    "\n",
    "print('Среднее количество событий на одного пользователя:\\n',\n",
    "      event_dev_cnt.mean(),'\\n', '\\n',\n",
    "      'Медианное количество событий на одного пользователя:\\n',\n",
    "       event_dev_cnt.median())\n",
    "\n",
    "display(event_dev_cnt.describe(percentiles=[0.05, 1/4, 1/2, 3/4, 0.95, 0.99]))"
   ]
  },
  {
   "cell_type": "markdown",
   "metadata": {},
   "source": [
    "Похоже есть те, кто очень сильно любит это приложение..."
   ]
  },
  {
   "cell_type": "markdown",
   "metadata": {},
   "source": [
    "Медианное количество событий на пользователя - 20. Как мы выясним дальше, люди чаще всего пропускают событие \"обучение\". Значит уникальных событий на одного пользователя в основном - 4 шт. \n",
    "При выборе товара пользователь может по несколько раз выходить со страницы предложения на главный экран. Допустим пользователь хочет приобрести альтернативное молоко. Он в первый раз выбирает этот продукт, по этому у него нет конкретных предпочтений. Он заходит на страницу с предложением каждого вида молока, пока не выберет то, которое ему подойдет. По этому 20 событий - не так много. К тому же пользователю может быть необходимо подобрать несколько продуктов. "
   ]
  },
  {
   "cell_type": "markdown",
   "metadata": {},
   "source": [
    "**Данными за какой период вы располагаете? Найдите максимальную и минимальную дату. Постройте гистограмму по дате и времени.**"
   ]
  },
  {
   "cell_type": "code",
   "execution_count": 28,
   "metadata": {},
   "outputs": [
    {
     "name": "stdout",
     "output_type": "stream",
     "text": [
      " Дата начала тестов по данным orders:\n",
      " 2019-07-25 04:43:36 \n",
      " \n",
      " Дата окончания тестов:\n",
      " 2019-08-07 21:15:17\n"
     ]
    }
   ],
   "source": [
    "print(' Дата начала тестов по данным orders:\\n',\n",
    "      data['еvent_tstamp'].min(),\"\\n\",\"\\n\",\n",
    "      'Дата окончания тестов:\\n',\n",
    "      data['еvent_tstamp'].max())"
   ]
  },
  {
   "cell_type": "code",
   "execution_count": 29,
   "metadata": {},
   "outputs": [
    {
     "name": "stdout",
     "output_type": "stream",
     "text": [
      "['Solarize_Light2', '_classic_test_patch', '_mpl-gallery', '_mpl-gallery-nogrid', 'bmh', 'classic', 'dark_background', 'fast', 'fivethirtyeight', 'ggplot', 'grayscale', 'seaborn', 'seaborn-bright', 'seaborn-colorblind', 'seaborn-dark', 'seaborn-dark-palette', 'seaborn-darkgrid', 'seaborn-deep', 'seaborn-muted', 'seaborn-notebook', 'seaborn-paper', 'seaborn-pastel', 'seaborn-poster', 'seaborn-talk', 'seaborn-ticks', 'seaborn-white', 'seaborn-whitegrid', 'tableau-colorblind10']\n"
     ]
    }
   ],
   "source": [
    "print(plt.style.available) #Выберем стиль визуализации"
   ]
  },
  {
   "cell_type": "code",
   "execution_count": 30,
   "metadata": {},
   "outputs": [
    {
     "data": {
      "text/plain": [
       "<Figure size 1500x1500 with 0 Axes>"
      ]
     },
     "metadata": {},
     "output_type": "display_data"
    },
    {
     "data": {
      "image/png": "[encoded data removed]",
      "text/plain": [
       "<Figure size 640x480 with 1 Axes>"
      ]
     },
     "metadata": {},
     "output_type": "display_data"
    }
   ],
   "source": [
    "event_cnt = data.groupby('date')[['event']].count() #Группируем события по датам, чтобы посмотреть, как они распределены по времени\n",
    "\n",
    "plt.style.use('seaborn-pastel'); #Выбираем стиль вихуализации\n",
    "fig = plt.figure(figsize=(15, 15));\n",
    "event_cnt.plot(kind='bar');\n",
    "\n",
    "plt.title('Распределение событий по времени');\n",
    "plt.xlabel('Дата');\n",
    "plt.ylabel('Количество событий');"
   ]
  },
  {
   "cell_type": "markdown",
   "metadata": {},
   "source": [
    "Похоже, рекламную кампанию запустили вечером 07.31. До этого по событиям очень мало данных. Наверное, имеет смысл удалить данные до начала рекламной кампании."
   ]
  },
  {
   "cell_type": "code",
   "execution_count": 31,
   "metadata": {},
   "outputs": [
    {
     "data": {
      "text/html": [
       "<div>\n",
       "<style scoped>\n",
       "    .dataframe tbody tr th:only-of-type {\n",
       "        vertical-align: middle;\n",
       "    }\n",
       "\n",
       "    .dataframe tbody tr th {\n",
       "        vertical-align: top;\n",
       "    }\n",
       "\n",
       "    .dataframe thead th {\n",
       "        text-align: right;\n",
       "    }\n",
       "</style>\n",
       "<table border=\"1\" class=\"dataframe\">\n",
       "  <thead>\n",
       "    <tr style=\"text-align: right;\">\n",
       "      <th></th>\n",
       "      <th>event</th>\n",
       "      <th>device_id</th>\n",
       "      <th>еvent_tstamp</th>\n",
       "      <th>group</th>\n",
       "      <th>date</th>\n",
       "    </tr>\n",
       "  </thead>\n",
       "  <tbody>\n",
       "    <tr>\n",
       "      <th>0</th>\n",
       "      <td>MainScreenAppear</td>\n",
       "      <td>4575588528974610257</td>\n",
       "      <td>2019-07-25 04:43:36</td>\n",
       "      <td>A1</td>\n",
       "      <td>2019-07-25</td>\n",
       "    </tr>\n",
       "    <tr>\n",
       "      <th>1</th>\n",
       "      <td>MainScreenAppear</td>\n",
       "      <td>7416695313311560658</td>\n",
       "      <td>2019-07-25 11:11:42</td>\n",
       "      <td>A1</td>\n",
       "      <td>2019-07-25</td>\n",
       "    </tr>\n",
       "    <tr>\n",
       "      <th>2</th>\n",
       "      <td>PaymentScreenSuccessful</td>\n",
       "      <td>3518123091307005509</td>\n",
       "      <td>2019-07-25 11:28:47</td>\n",
       "      <td>B</td>\n",
       "      <td>2019-07-25</td>\n",
       "    </tr>\n",
       "    <tr>\n",
       "      <th>3</th>\n",
       "      <td>CartScreenAppear</td>\n",
       "      <td>3518123091307005509</td>\n",
       "      <td>2019-07-25 11:28:47</td>\n",
       "      <td>B</td>\n",
       "      <td>2019-07-25</td>\n",
       "    </tr>\n",
       "    <tr>\n",
       "      <th>4</th>\n",
       "      <td>PaymentScreenSuccessful</td>\n",
       "      <td>6217807653094995999</td>\n",
       "      <td>2019-07-25 11:48:42</td>\n",
       "      <td>B</td>\n",
       "      <td>2019-07-25</td>\n",
       "    </tr>\n",
       "    <tr>\n",
       "      <th>...</th>\n",
       "      <td>...</td>\n",
       "      <td>...</td>\n",
       "      <td>...</td>\n",
       "      <td>...</td>\n",
       "      <td>...</td>\n",
       "    </tr>\n",
       "    <tr>\n",
       "      <th>244121</th>\n",
       "      <td>MainScreenAppear</td>\n",
       "      <td>4599628364049201812</td>\n",
       "      <td>2019-08-07 21:12:25</td>\n",
       "      <td>A2</td>\n",
       "      <td>2019-08-07</td>\n",
       "    </tr>\n",
       "    <tr>\n",
       "      <th>244122</th>\n",
       "      <td>MainScreenAppear</td>\n",
       "      <td>5849806612437486590</td>\n",
       "      <td>2019-08-07 21:13:59</td>\n",
       "      <td>A1</td>\n",
       "      <td>2019-08-07</td>\n",
       "    </tr>\n",
       "    <tr>\n",
       "      <th>244123</th>\n",
       "      <td>MainScreenAppear</td>\n",
       "      <td>5746969938801999050</td>\n",
       "      <td>2019-08-07 21:14:43</td>\n",
       "      <td>A1</td>\n",
       "      <td>2019-08-07</td>\n",
       "    </tr>\n",
       "    <tr>\n",
       "      <th>244124</th>\n",
       "      <td>MainScreenAppear</td>\n",
       "      <td>5746969938801999050</td>\n",
       "      <td>2019-08-07 21:14:58</td>\n",
       "      <td>A1</td>\n",
       "      <td>2019-08-07</td>\n",
       "    </tr>\n",
       "    <tr>\n",
       "      <th>244125</th>\n",
       "      <td>OffersScreenAppear</td>\n",
       "      <td>5746969938801999050</td>\n",
       "      <td>2019-08-07 21:15:17</td>\n",
       "      <td>A1</td>\n",
       "      <td>2019-08-07</td>\n",
       "    </tr>\n",
       "  </tbody>\n",
       "</table>\n",
       "<p>243358 rows × 5 columns</p>\n",
       "</div>"
      ],
      "text/plain": [
       "                          event            device_id        еvent_tstamp  \\\n",
       "0              MainScreenAppear  4575588528974610257 2019-07-25 04:43:36   \n",
       "1              MainScreenAppear  7416695313311560658 2019-07-25 11:11:42   \n",
       "2       PaymentScreenSuccessful  3518123091307005509 2019-07-25 11:28:47   \n",
       "3              CartScreenAppear  3518123091307005509 2019-07-25 11:28:47   \n",
       "4       PaymentScreenSuccessful  6217807653094995999 2019-07-25 11:48:42   \n",
       "...                         ...                  ...                 ...   \n",
       "244121         MainScreenAppear  4599628364049201812 2019-08-07 21:12:25   \n",
       "244122         MainScreenAppear  5849806612437486590 2019-08-07 21:13:59   \n",
       "244123         MainScreenAppear  5746969938801999050 2019-08-07 21:14:43   \n",
       "244124         MainScreenAppear  5746969938801999050 2019-08-07 21:14:58   \n",
       "244125       OffersScreenAppear  5746969938801999050 2019-08-07 21:15:17   \n",
       "\n",
       "       group        date  \n",
       "0         A1  2019-07-25  \n",
       "1         A1  2019-07-25  \n",
       "2          B  2019-07-25  \n",
       "3          B  2019-07-25  \n",
       "4          B  2019-07-25  \n",
       "...      ...         ...  \n",
       "244121    A2  2019-08-07  \n",
       "244122    A1  2019-08-07  \n",
       "244123    A1  2019-08-07  \n",
       "244124    A1  2019-08-07  \n",
       "244125    A1  2019-08-07  \n",
       "\n",
       "[243358 rows x 5 columns]"
      ]
     },
     "metadata": {},
     "output_type": "display_data"
    }
   ],
   "source": [
    "display(data)"
   ]
  },
  {
   "cell_type": "markdown",
   "metadata": {},
   "source": [
    "**Данными за какой период времени вы располагаете на самом деле? Много ли событий и пользователей вы потеряли, отбросив старые данные?**"
   ]
  },
  {
   "cell_type": "code",
   "execution_count": 32,
   "metadata": {},
   "outputs": [
    {
     "data": {
      "text/html": [
       "<div>\n",
       "<style scoped>\n",
       "    .dataframe tbody tr th:only-of-type {\n",
       "        vertical-align: middle;\n",
       "    }\n",
       "\n",
       "    .dataframe tbody tr th {\n",
       "        vertical-align: top;\n",
       "    }\n",
       "\n",
       "    .dataframe thead th {\n",
       "        text-align: right;\n",
       "    }\n",
       "</style>\n",
       "<table border=\"1\" class=\"dataframe\">\n",
       "  <thead>\n",
       "    <tr style=\"text-align: right;\">\n",
       "      <th></th>\n",
       "      <th>event</th>\n",
       "      <th>device_id</th>\n",
       "      <th>еvent_tstamp</th>\n",
       "      <th>group</th>\n",
       "      <th>date</th>\n",
       "    </tr>\n",
       "  </thead>\n",
       "  <tbody>\n",
       "    <tr>\n",
       "      <th>2828</th>\n",
       "      <td>Tutorial</td>\n",
       "      <td>3737462046622621720</td>\n",
       "      <td>2019-08-01 00:07:28</td>\n",
       "      <td>A1</td>\n",
       "      <td>2019-08-01</td>\n",
       "    </tr>\n",
       "    <tr>\n",
       "      <th>26962</th>\n",
       "      <td>MainScreenAppear</td>\n",
       "      <td>370831337408248129</td>\n",
       "      <td>2019-08-01 15:42:06</td>\n",
       "      <td>A2</td>\n",
       "      <td>2019-08-01</td>\n",
       "    </tr>\n",
       "    <tr>\n",
       "      <th>26961</th>\n",
       "      <td>MainScreenAppear</td>\n",
       "      <td>8726413942744351490</td>\n",
       "      <td>2019-08-01 15:42:04</td>\n",
       "      <td>A2</td>\n",
       "      <td>2019-08-01</td>\n",
       "    </tr>\n",
       "    <tr>\n",
       "      <th>26960</th>\n",
       "      <td>MainScreenAppear</td>\n",
       "      <td>4933689529142781210</td>\n",
       "      <td>2019-08-01 15:42:04</td>\n",
       "      <td>A1</td>\n",
       "      <td>2019-08-01</td>\n",
       "    </tr>\n",
       "    <tr>\n",
       "      <th>26959</th>\n",
       "      <td>MainScreenAppear</td>\n",
       "      <td>7610224088593907423</td>\n",
       "      <td>2019-08-01 15:42:01</td>\n",
       "      <td>A1</td>\n",
       "      <td>2019-08-01</td>\n",
       "    </tr>\n",
       "    <tr>\n",
       "      <th>...</th>\n",
       "      <td>...</td>\n",
       "      <td>...</td>\n",
       "      <td>...</td>\n",
       "      <td>...</td>\n",
       "      <td>...</td>\n",
       "    </tr>\n",
       "    <tr>\n",
       "      <th>223345</th>\n",
       "      <td>PaymentScreenSuccessful</td>\n",
       "      <td>3940194724501792579</td>\n",
       "      <td>2019-08-07 10:13:38</td>\n",
       "      <td>B</td>\n",
       "      <td>2019-08-07</td>\n",
       "    </tr>\n",
       "    <tr>\n",
       "      <th>223344</th>\n",
       "      <td>MainScreenAppear</td>\n",
       "      <td>6086359942961042433</td>\n",
       "      <td>2019-08-07 10:13:37</td>\n",
       "      <td>A2</td>\n",
       "      <td>2019-08-07</td>\n",
       "    </tr>\n",
       "    <tr>\n",
       "      <th>223343</th>\n",
       "      <td>CartScreenAppear</td>\n",
       "      <td>6086359942961042433</td>\n",
       "      <td>2019-08-07 10:13:36</td>\n",
       "      <td>A2</td>\n",
       "      <td>2019-08-07</td>\n",
       "    </tr>\n",
       "    <tr>\n",
       "      <th>223371</th>\n",
       "      <td>OffersScreenAppear</td>\n",
       "      <td>7419223202792684248</td>\n",
       "      <td>2019-08-07 10:14:11</td>\n",
       "      <td>A2</td>\n",
       "      <td>2019-08-07</td>\n",
       "    </tr>\n",
       "    <tr>\n",
       "      <th>244125</th>\n",
       "      <td>OffersScreenAppear</td>\n",
       "      <td>5746969938801999050</td>\n",
       "      <td>2019-08-07 21:15:17</td>\n",
       "      <td>A1</td>\n",
       "      <td>2019-08-07</td>\n",
       "    </tr>\n",
       "  </tbody>\n",
       "</table>\n",
       "<p>240534 rows × 5 columns</p>\n",
       "</div>"
      ],
      "text/plain": [
       "                          event            device_id        еvent_tstamp  \\\n",
       "2828                   Tutorial  3737462046622621720 2019-08-01 00:07:28   \n",
       "26962          MainScreenAppear   370831337408248129 2019-08-01 15:42:06   \n",
       "26961          MainScreenAppear  8726413942744351490 2019-08-01 15:42:04   \n",
       "26960          MainScreenAppear  4933689529142781210 2019-08-01 15:42:04   \n",
       "26959          MainScreenAppear  7610224088593907423 2019-08-01 15:42:01   \n",
       "...                         ...                  ...                 ...   \n",
       "223345  PaymentScreenSuccessful  3940194724501792579 2019-08-07 10:13:38   \n",
       "223344         MainScreenAppear  6086359942961042433 2019-08-07 10:13:37   \n",
       "223343         CartScreenAppear  6086359942961042433 2019-08-07 10:13:36   \n",
       "223371       OffersScreenAppear  7419223202792684248 2019-08-07 10:14:11   \n",
       "244125       OffersScreenAppear  5746969938801999050 2019-08-07 21:15:17   \n",
       "\n",
       "       group        date  \n",
       "2828      A1  2019-08-01  \n",
       "26962     A2  2019-08-01  \n",
       "26961     A2  2019-08-01  \n",
       "26960     A1  2019-08-01  \n",
       "26959     A1  2019-08-01  \n",
       "...      ...         ...  \n",
       "223345     B  2019-08-07  \n",
       "223344    A2  2019-08-07  \n",
       "223343    A2  2019-08-07  \n",
       "223371    A2  2019-08-07  \n",
       "244125    A1  2019-08-07  \n",
       "\n",
       "[240534 rows x 5 columns]"
      ]
     },
     "metadata": {},
     "output_type": "display_data"
    },
    {
     "name": "stdout",
     "output_type": "stream",
     "text": [
      "<class 'pandas.core.frame.DataFrame'>\n",
      "Int64Index: 240534 entries, 2828 to 244125\n",
      "Data columns (total 5 columns):\n",
      " #   Column        Non-Null Count   Dtype         \n",
      "---  ------        --------------   -----         \n",
      " 0   event         240534 non-null  object        \n",
      " 1   device_id     240534 non-null  int64         \n",
      " 2   еvent_tstamp  240534 non-null  datetime64[ns]\n",
      " 3   group         240534 non-null  object        \n",
      " 4   date          240534 non-null  object        \n",
      "dtypes: datetime64[ns](1), int64(1), object(3)\n",
      "memory usage: 11.0+ MB\n",
      "\n",
      " Разница между датафреймами в размере 2824 событий. \n",
      " \n",
      " Это 1.16 % событий от первоначального датафрейма.\n",
      "\n",
      " Будет потеряно 0.2251655629139151 % пользователей от первоначального датафрейма.\n"
     ]
    }
   ],
   "source": [
    "data_check = data.query('date >= datetime(2019, 8, 1).date()') #фильтруем данные по нужному периоду\n",
    "display(data_check.sort_values(by='date'))\n",
    "data_check.info()\n",
    "ev_check = 100 - (data_check['event'].count()/data['event'].count())*100\n",
    "u_check = 100 - (len(data_check['device_id'].unique())/len(data['device_id'].unique()))*100\n",
    "\n",
    "print('\\n', \"Разница между датафреймами в размере\", data['event'].count()-data_check['event'].count(), 'событий.', '\\n', '\\n',\n",
    "     'Это', ev_check.round(2), '% событий от первоначального датафрейма.')\n",
    "print('\\n','Будет потеряно', u_check, '% пользователей от первоначального датафрейма.')"
   ]
  },
  {
   "cell_type": "markdown",
   "metadata": {},
   "source": [
    "Изменения датафрейма по размерам незначительно. Можно очистить датафрейм от ненужных данных."
   ]
  },
  {
   "cell_type": "code",
   "execution_count": 33,
   "metadata": {},
   "outputs": [
    {
     "data": {
      "text/plain": [
       "<Figure size 1500x1500 with 0 Axes>"
      ]
     },
     "metadata": {},
     "output_type": "display_data"
    },
    {
     "data": {
      "image/png": "[encoded data removed]",
      "text/plain": [
       "<Figure size 640x480 with 1 Axes>"
      ]
     },
     "metadata": {},
     "output_type": "display_data"
    }
   ],
   "source": [
    "data = data_check #Присваиваю переменной data новый датафрейм\n",
    "\n",
    "event_cnt = data.groupby('date')[['event']].count()\n",
    "\n",
    "\n",
    "fig = plt.figure(figsize=(15, 15));\n",
    "event_cnt.plot(kind='bar');#Построим новую гистограмму\n",
    "\n",
    "plt.title('Распределение событий по времени');\n",
    "plt.xlabel('Дата');\n",
    "plt.ylabel('Количество событий');"
   ]
  },
  {
   "cell_type": "markdown",
   "metadata": {},
   "source": [
    "### Шаг 4. Изучение и анализ воронки событий."
   ]
  },
  {
   "cell_type": "markdown",
   "metadata": {},
   "source": [
    "Построим воронку событий:"
   ]
  },
  {
   "cell_type": "code",
   "execution_count": 34,
   "metadata": {},
   "outputs": [
    {
     "data": {
      "text/html": [
       "<div>\n",
       "<style scoped>\n",
       "    .dataframe tbody tr th:only-of-type {\n",
       "        vertical-align: middle;\n",
       "    }\n",
       "\n",
       "    .dataframe tbody tr th {\n",
       "        vertical-align: top;\n",
       "    }\n",
       "\n",
       "    .dataframe thead th {\n",
       "        text-align: right;\n",
       "    }\n",
       "</style>\n",
       "<table border=\"1\" class=\"dataframe\">\n",
       "  <thead>\n",
       "    <tr style=\"text-align: right;\">\n",
       "      <th></th>\n",
       "      <th>event</th>\n",
       "      <th>еvent_tstamp</th>\n",
       "      <th>device_id</th>\n",
       "    </tr>\n",
       "  </thead>\n",
       "  <tbody>\n",
       "    <tr>\n",
       "      <th>4</th>\n",
       "      <td>Tutorial</td>\n",
       "      <td>2019-08-01 00:07:28</td>\n",
       "      <td>840</td>\n",
       "    </tr>\n",
       "    <tr>\n",
       "      <th>1</th>\n",
       "      <td>MainScreenAppear</td>\n",
       "      <td>2019-08-01 00:08:00</td>\n",
       "      <td>7418</td>\n",
       "    </tr>\n",
       "    <tr>\n",
       "      <th>2</th>\n",
       "      <td>OffersScreenAppear</td>\n",
       "      <td>2019-08-01 00:08:58</td>\n",
       "      <td>4593</td>\n",
       "    </tr>\n",
       "    <tr>\n",
       "      <th>0</th>\n",
       "      <td>CartScreenAppear</td>\n",
       "      <td>2019-08-01 00:14:34</td>\n",
       "      <td>3734</td>\n",
       "    </tr>\n",
       "    <tr>\n",
       "      <th>3</th>\n",
       "      <td>PaymentScreenSuccessful</td>\n",
       "      <td>2019-08-01 00:14:43</td>\n",
       "      <td>3536</td>\n",
       "    </tr>\n",
       "  </tbody>\n",
       "</table>\n",
       "</div>"
      ],
      "text/plain": [
       "                     event        еvent_tstamp  device_id\n",
       "4                 Tutorial 2019-08-01 00:07:28        840\n",
       "1         MainScreenAppear 2019-08-01 00:08:00       7418\n",
       "2       OffersScreenAppear 2019-08-01 00:08:58       4593\n",
       "0         CartScreenAppear 2019-08-01 00:14:34       3734\n",
       "3  PaymentScreenSuccessful 2019-08-01 00:14:43       3536"
      ]
     },
     "metadata": {},
     "output_type": "display_data"
    }
   ],
   "source": [
    "date_check = data.groupby('event').agg({'еvent_tstamp':'min', 'device_id':'nunique'}).reset_index()\n",
    "\n",
    "display(date_check.sort_values(by='еvent_tstamp'))"
   ]
  },
  {
   "cell_type": "code",
   "execution_count": 35,
   "metadata": {},
   "outputs": [
    {
     "data": {
      "text/html": [
       "<div>\n",
       "<style scoped>\n",
       "    .dataframe tbody tr th:only-of-type {\n",
       "        vertical-align: middle;\n",
       "    }\n",
       "\n",
       "    .dataframe tbody tr th {\n",
       "        vertical-align: top;\n",
       "    }\n",
       "\n",
       "    .dataframe thead th {\n",
       "        text-align: right;\n",
       "    }\n",
       "</style>\n",
       "<table border=\"1\" class=\"dataframe\">\n",
       "  <thead>\n",
       "    <tr style=\"text-align: right;\">\n",
       "      <th></th>\n",
       "      <th>event</th>\n",
       "      <th>device_cnt</th>\n",
       "      <th>%</th>\n",
       "    </tr>\n",
       "  </thead>\n",
       "  <tbody>\n",
       "    <tr>\n",
       "      <th>0</th>\n",
       "      <td>MainScreenAppear</td>\n",
       "      <td>7418</td>\n",
       "      <td>0.984734</td>\n",
       "    </tr>\n",
       "    <tr>\n",
       "      <th>1</th>\n",
       "      <td>OffersScreenAppear</td>\n",
       "      <td>4593</td>\n",
       "      <td>0.609717</td>\n",
       "    </tr>\n",
       "    <tr>\n",
       "      <th>2</th>\n",
       "      <td>CartScreenAppear</td>\n",
       "      <td>3734</td>\n",
       "      <td>0.495686</td>\n",
       "    </tr>\n",
       "    <tr>\n",
       "      <th>3</th>\n",
       "      <td>PaymentScreenSuccessful</td>\n",
       "      <td>3536</td>\n",
       "      <td>0.469401</td>\n",
       "    </tr>\n",
       "    <tr>\n",
       "      <th>4</th>\n",
       "      <td>Tutorial</td>\n",
       "      <td>840</td>\n",
       "      <td>0.111509</td>\n",
       "    </tr>\n",
       "  </tbody>\n",
       "</table>\n",
       "</div>"
      ],
      "text/plain": [
       "                     event  device_cnt         %\n",
       "0         MainScreenAppear        7418  0.984734\n",
       "1       OffersScreenAppear        4593  0.609717\n",
       "2         CartScreenAppear        3734  0.495686\n",
       "3  PaymentScreenSuccessful        3536  0.469401\n",
       "4                 Tutorial         840  0.111509"
      ]
     },
     "metadata": {},
     "output_type": "display_data"
    }
   ],
   "source": [
    "# группировка таблицы по событиям\n",
    "event_devices = data.groupby('event').agg({'device_id':'nunique'}).reset_index()\n",
    "event_devices.set_axis(['event', 'device_cnt'], axis='columns', inplace=True)\n",
    "# вычислим какой процент от общего количества пользователей составляет каждое событие\n",
    "event_devices['%'] = event_devices['device_cnt'] / data['device_id'].nunique()\n",
    "event_devices = event_devices.sort_values('device_cnt', ascending=False).reset_index(drop=True)\n",
    "\n",
    "display(event_devices)"
   ]
  },
  {
   "cell_type": "markdown",
   "metadata": {},
   "source": [
    "Обучение проходят только 11% пользователей от общей массы. Это не удивительно, как правило, в приложениях можно пропустить этот этап. Возможно, это событие в дальнейшем можно убрать из общего расчета. \n",
    "\n",
    "Так же исходя из полученных данных, пользователи проходят не через все шаги воронки. Значит приложение достаточно гибкое и дружелюбное. Возможно, можно проскочить просмотр страницы предложения и добавить товар сразу в корзину. Или наоборот открыть приложение сразу на странице товара, который просматривали в последний раз. "
   ]
  },
  {
   "cell_type": "code",
   "execution_count": 36,
   "metadata": {},
   "outputs": [
    {
     "data": {
      "text/plain": [
       "group\n",
       "A1       2482\n",
       "A2       2512\n",
       "B        2535\n",
       "A1_A2    4994\n",
       "Name: device_id, dtype: int64"
      ]
     },
     "metadata": {},
     "output_type": "display_data"
    }
   ],
   "source": [
    "df = data.query('event != \"Tutorial\"') #Уберем обучение из расчетов\n",
    "\n",
    "users = df.groupby('group')['device_id'].nunique()\n",
    "users['A1_A2'] = users['A1'] + users['A2']\n",
    "\n",
    "display(users)\n",
    "\n",
    "# группировка таблицы по событиям\n",
    "event_devices = df.groupby('event').agg({'device_id':'nunique'}).reset_index()\n",
    "event_devices.set_axis(['event', 'device_cnt'], axis='columns', inplace=True)\n",
    "# вычислим какой процент от общего количества пользователей составляет каждое событие\n",
    "event_devices['%'] = event_devices['device_cnt'] / df['device_id'].nunique()\n",
    "event_devices = event_devices.sort_values('device_cnt', ascending=False).reset_index(drop=True)"
   ]
  },
  {
   "cell_type": "code",
   "execution_count": 37,
   "metadata": {},
   "outputs": [
    {
     "data": {
      "text/html": [
       "<div>\n",
       "<style scoped>\n",
       "    .dataframe tbody tr th:only-of-type {\n",
       "        vertical-align: middle;\n",
       "    }\n",
       "\n",
       "    .dataframe tbody tr th {\n",
       "        vertical-align: top;\n",
       "    }\n",
       "\n",
       "    .dataframe thead th {\n",
       "        text-align: right;\n",
       "    }\n",
       "</style>\n",
       "<table border=\"1\" class=\"dataframe\">\n",
       "  <thead>\n",
       "    <tr style=\"text-align: right;\">\n",
       "      <th></th>\n",
       "      <th>event</th>\n",
       "      <th>device_cnt</th>\n",
       "      <th>%</th>\n",
       "      <th>next_step</th>\n",
       "    </tr>\n",
       "  </thead>\n",
       "  <tbody>\n",
       "    <tr>\n",
       "      <th>0</th>\n",
       "      <td>MainScreenAppear</td>\n",
       "      <td>7418</td>\n",
       "      <td>0.985257</td>\n",
       "      <td>1.000000</td>\n",
       "    </tr>\n",
       "    <tr>\n",
       "      <th>1</th>\n",
       "      <td>OffersScreenAppear</td>\n",
       "      <td>4593</td>\n",
       "      <td>0.610041</td>\n",
       "      <td>0.619170</td>\n",
       "    </tr>\n",
       "    <tr>\n",
       "      <th>2</th>\n",
       "      <td>CartScreenAppear</td>\n",
       "      <td>3734</td>\n",
       "      <td>0.495949</td>\n",
       "      <td>0.812976</td>\n",
       "    </tr>\n",
       "    <tr>\n",
       "      <th>3</th>\n",
       "      <td>PaymentScreenSuccessful</td>\n",
       "      <td>3536</td>\n",
       "      <td>0.469651</td>\n",
       "      <td>0.946974</td>\n",
       "    </tr>\n",
       "  </tbody>\n",
       "</table>\n",
       "</div>"
      ],
      "text/plain": [
       "                     event  device_cnt         %  next_step\n",
       "0         MainScreenAppear        7418  0.985257   1.000000\n",
       "1       OffersScreenAppear        4593  0.610041   0.619170\n",
       "2         CartScreenAppear        3734  0.495949   0.812976\n",
       "3  PaymentScreenSuccessful        3536  0.469651   0.946974"
      ]
     },
     "metadata": {},
     "output_type": "display_data"
    }
   ],
   "source": [
    "# построим воронку процента перехода пользователей на следующий шаг\n",
    "event_devices['next_step'] = 1\n",
    "for inx in range(1, 4):\n",
    "    event_devices.loc[inx, 'next_step'] = event_devices.loc[inx, 'device_cnt'] /  (event_devices.loc[inx-1, 'device_cnt'])\n",
    "\n",
    "display(event_devices)"
   ]
  },
  {
   "cell_type": "markdown",
   "metadata": {},
   "source": [
    "Похоже, если пользователь перешел с главной страницы на страницу предложения, можно считать, что он уже \"теплый клиент\". Неудивительно, что нас интересует лояльность пользователя к дизайну на главной странице. "
   ]
  },
  {
   "cell_type": "markdown",
   "metadata": {},
   "source": [
    "Построим визуализацию воронки событий по пользователям:"
   ]
  },
  {
   "cell_type": "code",
   "execution_count": 38,
   "metadata": {},
   "outputs": [
    {
     "data": {
      "image/png": "[encoded data removed]",
      "text/plain": [
       "<Figure size 1500x500 with 1 Axes>"
      ]
     },
     "metadata": {},
     "output_type": "display_data"
    }
   ],
   "source": [
    "event_devices = event_devices.sort_values('device_cnt').reset_index(drop=True)\n",
    "from matplotlib import font_manager as fm\n",
    "y = event_devices['event']\n",
    "x = event_devices['device_cnt']\n",
    "x_max = event_devices['device_cnt'].max()\n",
    "x_min = 0\n",
    "labels = event_devices['event']\n",
    "x_range = x_max - x_min\n",
    "\n",
    "fig, ax = plt.subplots(figsize=(15,5))\n",
    "for idx, val in enumerate(x):\n",
    "    left = (x_max - val)/2\n",
    "    plt.barh(y[idx], x[idx], left = left, height=.8, color = 'lightblue')\n",
    "    # label\n",
    "    plt.text(0, y[idx], labels[idx], ha='left', fontsize=16, color='#2A2A2A')\n",
    "    #value\n",
    "    plt.text(3715, y[idx], x[idx],\n",
    "             fontsize=16, color='#2A2A2A').set_horizontalalignment('center')\n",
    "    \n",
    "plt.axis('off')\n",
    "plt.title('Воронка событий', loc='center', fontsize=24, color='#2A2A2A')    \n",
    "plt.xlim(x_min, x_max);\n"
   ]
  },
  {
   "cell_type": "markdown",
   "metadata": {},
   "source": [
    "Обучение грустно сидит в сторонке:("
   ]
  },
  {
   "cell_type": "markdown",
   "metadata": {},
   "source": [
    "### Шаг 5. Анализ результатов А/А/В-экспеременета."
   ]
  },
  {
   "cell_type": "markdown",
   "metadata": {},
   "source": [
    "Для начала посмотрим, какое количество уникальных пользователей приходится на каждую группу теперь. "
   ]
  },
  {
   "cell_type": "code",
   "execution_count": 39,
   "metadata": {},
   "outputs": [
    {
     "name": "stdout",
     "output_type": "stream",
     "text": [
      " Количество уникальных пользователей в группе А1:\n",
      " device_id    2482\n",
      "dtype: int64 \n",
      " \n",
      " Количество уникальных пользователей в группе A2:\n",
      " device_id    2512\n",
      "dtype: int64 \n",
      " \n",
      " Количество уникальных пользователей в группе B:\n",
      " device_id    2535\n",
      "dtype: int64\n"
     ]
    }
   ],
   "source": [
    "dataA1 = df[df['group'] == 'A1']\n",
    "dataA2 = df[df['group'] == 'A2']\n",
    "dataB = df[df['group'] == 'B']\n",
    "\n",
    "print(' Количество уникальных пользователей в группе А1:\\n',\n",
    "      dataA1.agg({'device_id':'nunique'}),\"\\n\",\"\\n\",\n",
    "      'Количество уникальных пользователей в группе A2:\\n',\n",
    "      dataA2.agg({'device_id':'nunique'}),\"\\n\",\"\\n\",\n",
    "      'Количество уникальных пользователей в группе B:\\n',\n",
    "      dataB.agg({'device_id':'nunique'}));"
   ]
  },
  {
   "cell_type": "markdown",
   "metadata": {},
   "source": [
    "Построим две сводные таблицы: посчитаем количество пользователей в каждой группе по событию и посчитаем количество пользователей в каждой группе по событию и дате."
   ]
  },
  {
   "cell_type": "code",
   "execution_count": 40,
   "metadata": {},
   "outputs": [
    {
     "data": {
      "text/html": [
       "<div>\n",
       "<style scoped>\n",
       "    .dataframe tbody tr th:only-of-type {\n",
       "        vertical-align: middle;\n",
       "    }\n",
       "\n",
       "    .dataframe tbody tr th {\n",
       "        vertical-align: top;\n",
       "    }\n",
       "\n",
       "    .dataframe thead th {\n",
       "        text-align: right;\n",
       "    }\n",
       "</style>\n",
       "<table border=\"1\" class=\"dataframe\">\n",
       "  <thead>\n",
       "    <tr style=\"text-align: right;\">\n",
       "      <th>group</th>\n",
       "      <th>event</th>\n",
       "      <th>date</th>\n",
       "      <th>A1</th>\n",
       "      <th>A2</th>\n",
       "      <th>B</th>\n",
       "      <th>sum_device</th>\n",
       "    </tr>\n",
       "  </thead>\n",
       "  <tbody>\n",
       "    <tr>\n",
       "      <th>27</th>\n",
       "      <td>PaymentScreenSuccessful</td>\n",
       "      <td>2019-08-01</td>\n",
       "      <td>452</td>\n",
       "      <td>450</td>\n",
       "      <td>469</td>\n",
       "      <td>1371</td>\n",
       "    </tr>\n",
       "    <tr>\n",
       "      <th>18</th>\n",
       "      <td>CartScreenAppear</td>\n",
       "      <td>2019-08-01</td>\n",
       "      <td>497</td>\n",
       "      <td>510</td>\n",
       "      <td>503</td>\n",
       "      <td>1510</td>\n",
       "    </tr>\n",
       "    <tr>\n",
       "      <th>13</th>\n",
       "      <td>OffersScreenAppear</td>\n",
       "      <td>2019-08-01</td>\n",
       "      <td>656</td>\n",
       "      <td>713</td>\n",
       "      <td>681</td>\n",
       "      <td>2050</td>\n",
       "    </tr>\n",
       "    <tr>\n",
       "      <th>4</th>\n",
       "      <td>MainScreenAppear</td>\n",
       "      <td>2019-08-01</td>\n",
       "      <td>1140</td>\n",
       "      <td>1216</td>\n",
       "      <td>1189</td>\n",
       "      <td>3545</td>\n",
       "    </tr>\n",
       "    <tr>\n",
       "      <th>24</th>\n",
       "      <td>PaymentScreenSuccessful</td>\n",
       "      <td>2019-08-02</td>\n",
       "      <td>468</td>\n",
       "      <td>453</td>\n",
       "      <td>470</td>\n",
       "      <td>1391</td>\n",
       "    </tr>\n",
       "    <tr>\n",
       "      <th>15</th>\n",
       "      <td>CartScreenAppear</td>\n",
       "      <td>2019-08-02</td>\n",
       "      <td>513</td>\n",
       "      <td>495</td>\n",
       "      <td>517</td>\n",
       "      <td>1525</td>\n",
       "    </tr>\n",
       "    <tr>\n",
       "      <th>12</th>\n",
       "      <td>OffersScreenAppear</td>\n",
       "      <td>2019-08-02</td>\n",
       "      <td>687</td>\n",
       "      <td>668</td>\n",
       "      <td>715</td>\n",
       "      <td>2070</td>\n",
       "    </tr>\n",
       "    <tr>\n",
       "      <th>2</th>\n",
       "      <td>MainScreenAppear</td>\n",
       "      <td>2019-08-02</td>\n",
       "      <td>1144</td>\n",
       "      <td>1167</td>\n",
       "      <td>1174</td>\n",
       "      <td>3485</td>\n",
       "    </tr>\n",
       "    <tr>\n",
       "      <th>23</th>\n",
       "      <td>PaymentScreenSuccessful</td>\n",
       "      <td>2019-08-03</td>\n",
       "      <td>483</td>\n",
       "      <td>454</td>\n",
       "      <td>474</td>\n",
       "      <td>1411</td>\n",
       "    </tr>\n",
       "    <tr>\n",
       "      <th>17</th>\n",
       "      <td>CartScreenAppear</td>\n",
       "      <td>2019-08-03</td>\n",
       "      <td>504</td>\n",
       "      <td>492</td>\n",
       "      <td>508</td>\n",
       "      <td>1504</td>\n",
       "    </tr>\n",
       "    <tr>\n",
       "      <th>10</th>\n",
       "      <td>OffersScreenAppear</td>\n",
       "      <td>2019-08-03</td>\n",
       "      <td>698</td>\n",
       "      <td>699</td>\n",
       "      <td>675</td>\n",
       "      <td>2072</td>\n",
       "    </tr>\n",
       "    <tr>\n",
       "      <th>6</th>\n",
       "      <td>MainScreenAppear</td>\n",
       "      <td>2019-08-03</td>\n",
       "      <td>1079</td>\n",
       "      <td>1117</td>\n",
       "      <td>1105</td>\n",
       "      <td>3301</td>\n",
       "    </tr>\n",
       "    <tr>\n",
       "      <th>25</th>\n",
       "      <td>PaymentScreenSuccessful</td>\n",
       "      <td>2019-08-04</td>\n",
       "      <td>465</td>\n",
       "      <td>486</td>\n",
       "      <td>472</td>\n",
       "      <td>1423</td>\n",
       "    </tr>\n",
       "    <tr>\n",
       "      <th>19</th>\n",
       "      <td>CartScreenAppear</td>\n",
       "      <td>2019-08-04</td>\n",
       "      <td>497</td>\n",
       "      <td>521</td>\n",
       "      <td>499</td>\n",
       "      <td>1517</td>\n",
       "    </tr>\n",
       "    <tr>\n",
       "      <th>11</th>\n",
       "      <td>OffersScreenAppear</td>\n",
       "      <td>2019-08-04</td>\n",
       "      <td>697</td>\n",
       "      <td>698</td>\n",
       "      <td>690</td>\n",
       "      <td>2085</td>\n",
       "    </tr>\n",
       "    <tr>\n",
       "      <th>5</th>\n",
       "      <td>MainScreenAppear</td>\n",
       "      <td>2019-08-04</td>\n",
       "      <td>1113</td>\n",
       "      <td>1105</td>\n",
       "      <td>1136</td>\n",
       "      <td>3354</td>\n",
       "    </tr>\n",
       "    <tr>\n",
       "      <th>20</th>\n",
       "      <td>PaymentScreenSuccessful</td>\n",
       "      <td>2019-08-05</td>\n",
       "      <td>491</td>\n",
       "      <td>474</td>\n",
       "      <td>481</td>\n",
       "      <td>1446</td>\n",
       "    </tr>\n",
       "    <tr>\n",
       "      <th>14</th>\n",
       "      <td>CartScreenAppear</td>\n",
       "      <td>2019-08-05</td>\n",
       "      <td>525</td>\n",
       "      <td>512</td>\n",
       "      <td>510</td>\n",
       "      <td>1547</td>\n",
       "    </tr>\n",
       "    <tr>\n",
       "      <th>7</th>\n",
       "      <td>OffersScreenAppear</td>\n",
       "      <td>2019-08-05</td>\n",
       "      <td>733</td>\n",
       "      <td>706</td>\n",
       "      <td>711</td>\n",
       "      <td>2150</td>\n",
       "    </tr>\n",
       "    <tr>\n",
       "      <th>1</th>\n",
       "      <td>MainScreenAppear</td>\n",
       "      <td>2019-08-05</td>\n",
       "      <td>1208</td>\n",
       "      <td>1185</td>\n",
       "      <td>1214</td>\n",
       "      <td>3607</td>\n",
       "    </tr>\n",
       "    <tr>\n",
       "      <th>22</th>\n",
       "      <td>PaymentScreenSuccessful</td>\n",
       "      <td>2019-08-06</td>\n",
       "      <td>486</td>\n",
       "      <td>469</td>\n",
       "      <td>498</td>\n",
       "      <td>1453</td>\n",
       "    </tr>\n",
       "    <tr>\n",
       "      <th>16</th>\n",
       "      <td>CartScreenAppear</td>\n",
       "      <td>2019-08-06</td>\n",
       "      <td>512</td>\n",
       "      <td>494</td>\n",
       "      <td>522</td>\n",
       "      <td>1528</td>\n",
       "    </tr>\n",
       "    <tr>\n",
       "      <th>8</th>\n",
       "      <td>OffersScreenAppear</td>\n",
       "      <td>2019-08-06</td>\n",
       "      <td>717</td>\n",
       "      <td>725</td>\n",
       "      <td>725</td>\n",
       "      <td>2167</td>\n",
       "    </tr>\n",
       "    <tr>\n",
       "      <th>0</th>\n",
       "      <td>MainScreenAppear</td>\n",
       "      <td>2019-08-06</td>\n",
       "      <td>1214</td>\n",
       "      <td>1271</td>\n",
       "      <td>1280</td>\n",
       "      <td>3765</td>\n",
       "    </tr>\n",
       "    <tr>\n",
       "      <th>26</th>\n",
       "      <td>PaymentScreenSuccessful</td>\n",
       "      <td>2019-08-07</td>\n",
       "      <td>463</td>\n",
       "      <td>453</td>\n",
       "      <td>442</td>\n",
       "      <td>1358</td>\n",
       "    </tr>\n",
       "    <tr>\n",
       "      <th>21</th>\n",
       "      <td>CartScreenAppear</td>\n",
       "      <td>2019-08-07</td>\n",
       "      <td>490</td>\n",
       "      <td>472</td>\n",
       "      <td>472</td>\n",
       "      <td>1434</td>\n",
       "    </tr>\n",
       "    <tr>\n",
       "      <th>9</th>\n",
       "      <td>OffersScreenAppear</td>\n",
       "      <td>2019-08-07</td>\n",
       "      <td>702</td>\n",
       "      <td>671</td>\n",
       "      <td>689</td>\n",
       "      <td>2062</td>\n",
       "    </tr>\n",
       "    <tr>\n",
       "      <th>3</th>\n",
       "      <td>MainScreenAppear</td>\n",
       "      <td>2019-08-07</td>\n",
       "      <td>1143</td>\n",
       "      <td>1158</td>\n",
       "      <td>1181</td>\n",
       "      <td>3482</td>\n",
       "    </tr>\n",
       "  </tbody>\n",
       "</table>\n",
       "</div>"
      ],
      "text/plain": [
       "group                    event        date    A1    A2     B  sum_device\n",
       "27     PaymentScreenSuccessful  2019-08-01   452   450   469        1371\n",
       "18            CartScreenAppear  2019-08-01   497   510   503        1510\n",
       "13          OffersScreenAppear  2019-08-01   656   713   681        2050\n",
       "4             MainScreenAppear  2019-08-01  1140  1216  1189        3545\n",
       "24     PaymentScreenSuccessful  2019-08-02   468   453   470        1391\n",
       "15            CartScreenAppear  2019-08-02   513   495   517        1525\n",
       "12          OffersScreenAppear  2019-08-02   687   668   715        2070\n",
       "2             MainScreenAppear  2019-08-02  1144  1167  1174        3485\n",
       "23     PaymentScreenSuccessful  2019-08-03   483   454   474        1411\n",
       "17            CartScreenAppear  2019-08-03   504   492   508        1504\n",
       "10          OffersScreenAppear  2019-08-03   698   699   675        2072\n",
       "6             MainScreenAppear  2019-08-03  1079  1117  1105        3301\n",
       "25     PaymentScreenSuccessful  2019-08-04   465   486   472        1423\n",
       "19            CartScreenAppear  2019-08-04   497   521   499        1517\n",
       "11          OffersScreenAppear  2019-08-04   697   698   690        2085\n",
       "5             MainScreenAppear  2019-08-04  1113  1105  1136        3354\n",
       "20     PaymentScreenSuccessful  2019-08-05   491   474   481        1446\n",
       "14            CartScreenAppear  2019-08-05   525   512   510        1547\n",
       "7           OffersScreenAppear  2019-08-05   733   706   711        2150\n",
       "1             MainScreenAppear  2019-08-05  1208  1185  1214        3607\n",
       "22     PaymentScreenSuccessful  2019-08-06   486   469   498        1453\n",
       "16            CartScreenAppear  2019-08-06   512   494   522        1528\n",
       "8           OffersScreenAppear  2019-08-06   717   725   725        2167\n",
       "0             MainScreenAppear  2019-08-06  1214  1271  1280        3765\n",
       "26     PaymentScreenSuccessful  2019-08-07   463   453   442        1358\n",
       "21            CartScreenAppear  2019-08-07   490   472   472        1434\n",
       "9           OffersScreenAppear  2019-08-07   702   671   689        2062\n",
       "3             MainScreenAppear  2019-08-07  1143  1158  1181        3482"
      ]
     },
     "metadata": {},
     "output_type": "display_data"
    }
   ],
   "source": [
    "group_date = df.pivot_table(index=['event','date'], columns='group', values='device_id', aggfunc='nunique').sort_values(by='A1', ascending=False).reset_index()\n",
    "group_date['sum_device'] = group_date['A1'] + group_date['A2'] + group_date['B']\n",
    "#количество людей в группе разбитые по дате и событиям.\n",
    "\n",
    "group = df.pivot_table(index='event', columns='group', values='device_id', aggfunc='nunique').sort_values(by='A1', ascending=False).reset_index()\n",
    "group['sum_device'] = group['A1'] + group['A2'] + group['B']\n",
    "#количество людей в группе разбитые по событиям.\n",
    "\n",
    "display(group_date.sort_values(by=['date', 'A1']))"
   ]
  },
  {
   "cell_type": "code",
   "execution_count": 41,
   "metadata": {},
   "outputs": [
    {
     "data": {
      "text/html": [
       "<div>\n",
       "<style scoped>\n",
       "    .dataframe tbody tr th:only-of-type {\n",
       "        vertical-align: middle;\n",
       "    }\n",
       "\n",
       "    .dataframe tbody tr th {\n",
       "        vertical-align: top;\n",
       "    }\n",
       "\n",
       "    .dataframe thead th {\n",
       "        text-align: right;\n",
       "    }\n",
       "</style>\n",
       "<table border=\"1\" class=\"dataframe\">\n",
       "  <thead>\n",
       "    <tr style=\"text-align: right;\">\n",
       "      <th>group</th>\n",
       "      <th>event</th>\n",
       "      <th>A1</th>\n",
       "      <th>A2</th>\n",
       "      <th>B</th>\n",
       "      <th>sum_device</th>\n",
       "      <th>A1_A2</th>\n",
       "    </tr>\n",
       "  </thead>\n",
       "  <tbody>\n",
       "    <tr>\n",
       "      <th>0</th>\n",
       "      <td>MainScreenAppear</td>\n",
       "      <td>2449</td>\n",
       "      <td>2476</td>\n",
       "      <td>2493</td>\n",
       "      <td>7418</td>\n",
       "      <td>4925</td>\n",
       "    </tr>\n",
       "    <tr>\n",
       "      <th>1</th>\n",
       "      <td>OffersScreenAppear</td>\n",
       "      <td>1542</td>\n",
       "      <td>1520</td>\n",
       "      <td>1531</td>\n",
       "      <td>4593</td>\n",
       "      <td>3062</td>\n",
       "    </tr>\n",
       "    <tr>\n",
       "      <th>2</th>\n",
       "      <td>CartScreenAppear</td>\n",
       "      <td>1266</td>\n",
       "      <td>1238</td>\n",
       "      <td>1230</td>\n",
       "      <td>3734</td>\n",
       "      <td>2504</td>\n",
       "    </tr>\n",
       "    <tr>\n",
       "      <th>3</th>\n",
       "      <td>PaymentScreenSuccessful</td>\n",
       "      <td>1199</td>\n",
       "      <td>1156</td>\n",
       "      <td>1181</td>\n",
       "      <td>3536</td>\n",
       "      <td>2355</td>\n",
       "    </tr>\n",
       "  </tbody>\n",
       "</table>\n",
       "</div>"
      ],
      "text/plain": [
       "group                    event    A1    A2     B  sum_device  A1_A2\n",
       "0             MainScreenAppear  2449  2476  2493        7418   4925\n",
       "1           OffersScreenAppear  1542  1520  1531        4593   3062\n",
       "2             CartScreenAppear  1266  1238  1230        3734   2504\n",
       "3      PaymentScreenSuccessful  1199  1156  1181        3536   2355"
      ]
     },
     "metadata": {},
     "output_type": "display_data"
    }
   ],
   "source": [
    "group['A1_A2'] = group['A1'] + group['A2']\n",
    "display(group)"
   ]
  },
  {
   "cell_type": "markdown",
   "metadata": {},
   "source": [
    "Думаю, для анализа будет инетерсно посмотреть визуализацию изменений по дате. "
   ]
  },
  {
   "cell_type": "code",
   "execution_count": 42,
   "metadata": {},
   "outputs": [
    {
     "data": {
      "image/png": "[encoded data removed]",
      "text/plain": [
       "<Figure size 1500x500 with 1 Axes>"
      ]
     },
     "metadata": {},
     "output_type": "display_data"
    },
    {
     "data": {
      "image/png": "[encoded data removed]",
      "text/plain": [
       "<Figure size 1500x500 with 1 Axes>"
      ]
     },
     "metadata": {},
     "output_type": "display_data"
    },
    {
     "data": {
      "image/png": "[encoded data removed]",
      "text/plain": [
       "<Figure size 1500x500 with 1 Axes>"
      ]
     },
     "metadata": {},
     "output_type": "display_data"
    },
    {
     "data": {
      "image/png": "[encoded data removed]",
      "text/plain": [
       "<Figure size 1500x500 with 1 Axes>"
      ]
     },
     "metadata": {},
     "output_type": "display_data"
    }
   ],
   "source": [
    "df1 = df.pivot_table(index=['date'], columns='group', values='device_id', aggfunc='nunique')\n",
    "df2 = group_date.pivot_table(index='date', columns ='event', values = 'A1')\n",
    "df3 = group_date.pivot_table(index='date', columns ='event', values = 'A2')\n",
    "df4 = group_date.pivot_table(index='date', columns ='event', values = 'B')\n",
    "\n",
    "plt1 = df1.plot(figsize=(15,5))\n",
    "plt2 = df2.plot(figsize=(15,5))\n",
    "plt3 = df3.plot(figsize=(15,5))\n",
    "plt4 = df4.plot(figsize=(15,5))\n",
    "\n",
    "plt1.set_title('Изменение количества посещений по дням и группам', fontsize = 22);\n",
    "plt2.set_title('Изменение количества посещений по дням и событиям (A1)', fontsize = 22);\n",
    "plt3.set_title('Изменение количества посещений по дням и событиям (A2)', fontsize = 22);\n",
    "plt4.set_title('Изменение количества посещений по дням и событиям (B)', fontsize = 22);"
   ]
  },
  {
   "cell_type": "markdown",
   "metadata": {},
   "source": [
    "Графики A1-A2-B почти одинаковые и напоминают нашу воронку. \n",
    "А вот изменения по дням и группам слегка отличаются. Мы видим выпадающие по количеству людей выходные. И то, что группа А1-слегка отличается от группы А2. Что не скажешь про разницу между группами А2 и B. Пора проверять статистическую значимость."
   ]
  },
  {
   "cell_type": "markdown",
   "metadata": {},
   "source": [
    "**Проверка статистической значимости различий между группами A1 и A2**"
   ]
  },
  {
   "cell_type": "markdown",
   "metadata": {},
   "source": [
    "**0-ая гипотеза:** Статистически значимых различия в конверсии в группах A1-A2 нет.\n",
    "\n",
    "**1-ая гипотеза:** Имеются статистически значимые различия в конверсии в группах A1-A2."
   ]
  },
  {
   "cell_type": "code",
   "execution_count": 43,
   "metadata": {},
   "outputs": [
    {
     "name": "stdout",
     "output_type": "stream",
     "text": [
      "p-значение:  0.11072738287900052\n",
      "Не получилось отвергнуть нулевую гипотезу\n"
     ]
    }
   ],
   "source": [
    "alpha = 0.01  # критический уровень статистической значимости\n",
    "#alpha = 0.05\n",
    "#alpha = 0.1\n",
    "\n",
    "PayValA1 = group['A1'].values[3]\n",
    "PayValA2 = group['A2'].values[3]\n",
    "MainValA1 = group['A1'].values[0]\n",
    "MainValA2 = group['A2'].values[0]\n",
    "\n",
    "Payment = np.array([PayValA1, PayValA2])\n",
    "MainScreen = np.array([MainValA1, MainValA2])\n",
    "\n",
    "# пропорция успехов в первой группе:\n",
    "p1 = Payment[0]/MainScreen[0]\n",
    "\n",
    "# пропорция успехов во второй группе:\n",
    "p2 = Payment[1]/MainScreen[1]\n",
    "\n",
    "# пропорция успехов в комбинированном датасете:\n",
    "p_comb = (Payment[0] + Payment[1]) / (MainScreen[0] + MainScreen[1])\n",
    "\n",
    "# разница пропорций в датасетах\n",
    "diff = p1 - p2 \n",
    "\n",
    "# считаем статистику в ст.отклонениях стандартного нормального распределения\n",
    "z_value = diff / mth.sqrt(p_comb * (1 - p_comb) * (1 / MainScreen[0] + 1 / MainScreen[1]))\n",
    "\n",
    "# задаем стандартное нормальное распределение (среднее 0, ст.отклонение 1)\n",
    "distr = stats.norm(0, 1)  \n",
    "\n",
    "p_value = (1 - distr.cdf(abs(z_value))) * 2\n",
    "\n",
    "print('p-значение: ', p_value)\n",
    "\n",
    "if p_value < alpha:\n",
    "    print('Отвергаем нулевую гипотезу')\n",
    "else:\n",
    "    print(\n",
    "        'Не получилось отвергнуть нулевую гипотезу'\n",
    "    )"
   ]
  },
  {
   "cell_type": "markdown",
   "metadata": {},
   "source": [
    "Похоже, здесь все в порядке. Несмотря на то, что в визуализации есть небольшие различия, они не значительны."
   ]
  },
  {
   "cell_type": "markdown",
   "metadata": {},
   "source": [
    "**0-ая гипотеза:** Статистически значимых различия в конверсии в группах по событиям нет.\n",
    "\n",
    "**1-ая гипотеза:** Имеются статистически значимые различия в конверсии в группах по событиям."
   ]
  },
  {
   "cell_type": "code",
   "execution_count": 44,
   "metadata": {},
   "outputs": [],
   "source": [
    "def z(g1, g2, alpha): \n",
    "    ev1 = group.loc[event, g1]\n",
    "    ev2 = group.loc[event, g2] \n",
    "    u1 = users.loc[g1] \n",
    "    u2 = users.loc[g2]\n",
    "    \n",
    "    # пропорция успехов в первой группе:\n",
    "    p1 = ev1 / u1 \n",
    "    # пропорция успехов во второй группе\n",
    "    p2 = ev2 / u2 \n",
    "    \n",
    "    \n",
    "    # пропорция успехов в комбинированном датасете\n",
    "    p_comb = (ev1 + ev2) / (u1 + u2) \n",
    "    \n",
    "    # разница пропорций в датасетах\n",
    "    dif = p1 - p2\n",
    "    \n",
    "    # считаем статистику в ст.отклонениях стандартного нормального распределения\n",
    "    z_value = dif / mth.sqrt(p_comb * (1 - p_comb) * (1 / u1 + 1 / u2))\n",
    "    \n",
    "    # задаем стандартное нормальное распределение \n",
    "    distr = stats.norm(0, 1)\n",
    "    p_value = (1 - distr.cdf(abs(z_value))) * 2\n",
    "    \n",
    "    \n",
    "    print('Проверка для групп {} и {}, событие: {}, p-значение: {p_value:.3f}'.format(g1, g2, event, p_value=p_value))\n",
    "    if (p_value < alpha):\n",
    "        print(\"Отвергаем нулевую гипотезу\")\n",
    "    else:\n",
    "        print(\"Не получилось отвергнуть нулевую гипотезу\")"
   ]
  },
  {
   "cell_type": "code",
   "execution_count": 45,
   "metadata": {},
   "outputs": [
    {
     "name": "stdout",
     "output_type": "stream",
     "text": [
      "Проверка для групп A2 и A1, событие: 0, p-значение: 0.754\n",
      "Не получилось отвергнуть нулевую гипотезу\n",
      "\n",
      "Проверка для групп A2 и A1, событие: 1, p-значение: 0.241\n",
      "Не получилось отвергнуть нулевую гипотезу\n",
      "\n",
      "Проверка для групп A2 и A1, событие: 2, p-значение: 0.223\n",
      "Не получилось отвергнуть нулевую гипотезу\n",
      "\n",
      "Проверка для групп A2 и A1, событие: 3, p-значение: 0.105\n",
      "Не получилось отвергнуть нулевую гипотезу\n",
      "\n"
     ]
    }
   ],
   "source": [
    "for event in group.index:\n",
    "    z('A2', 'A1', alpha)\n",
    "    print()"
   ]
  },
  {
   "cell_type": "code",
   "execution_count": 46,
   "metadata": {},
   "outputs": [
    {
     "name": "stdout",
     "output_type": "stream",
     "text": [
      "Проверка для групп A1 и B, событие: 0, p-значение: 0.340\n",
      "Не получилось отвергнуть нулевую гипотезу\n",
      "\n",
      "Проверка для групп A1 и B, событие: 1, p-значение: 0.208\n",
      "Не получилось отвергнуть нулевую гипотезу\n",
      "\n",
      "Проверка для групп A1 и B, событие: 2, p-значение: 0.078\n",
      "Не получилось отвергнуть нулевую гипотезу\n",
      "\n",
      "Проверка для групп A1 и B, событие: 3, p-значение: 0.223\n",
      "Не получилось отвергнуть нулевую гипотезу\n",
      "\n"
     ]
    }
   ],
   "source": [
    "for event in group.index:\n",
    "    z('A1', 'B', alpha)\n",
    "    print()"
   ]
  },
  {
   "cell_type": "code",
   "execution_count": 47,
   "metadata": {},
   "outputs": [
    {
     "name": "stdout",
     "output_type": "stream",
     "text": [
      "Проверка для групп A2 и B, событие: 0, p-значение: 0.519\n",
      "Не получилось отвергнуть нулевую гипотезу\n",
      "\n",
      "Проверка для групп A2 и B, событие: 1, p-значение: 0.933\n",
      "Не получилось отвергнуть нулевую гипотезу\n",
      "\n",
      "Проверка для групп A2 и B, событие: 2, p-значение: 0.588\n",
      "Не получилось отвергнуть нулевую гипотезу\n",
      "\n",
      "Проверка для групп A2 и B, событие: 3, p-значение: 0.685\n",
      "Не получилось отвергнуть нулевую гипотезу\n",
      "\n"
     ]
    }
   ],
   "source": [
    "for event in group.index:\n",
    "    z('A2', 'B', alpha)\n",
    "    print()"
   ]
  },
  {
   "cell_type": "markdown",
   "metadata": {},
   "source": [
    "Проведем последнюю серию тестов по группам A1+A2 и B. "
   ]
  },
  {
   "cell_type": "markdown",
   "metadata": {},
   "source": [
    "**0-ая гипотеза:** Статистически значимых различия в конверсии в группах A1_A2 и B по событиям нет.\n",
    "\n",
    "**1-ая гипотеза:** Имеются статистически значимые различия в конверсии в группах A1_A2 и B по событиям."
   ]
  },
  {
   "cell_type": "code",
   "execution_count": 48,
   "metadata": {},
   "outputs": [
    {
     "name": "stdout",
     "output_type": "stream",
     "text": [
      "Проверка для групп A1_A2 и B, событие: 0, p-значение: 0.349\n",
      "Не получилось отвергнуть нулевую гипотезу\n",
      "\n",
      "Проверка для групп A1_A2 и B, событие: 1, p-значение: 0.440\n",
      "Не получилось отвергнуть нулевую гипотезу\n",
      "\n",
      "Проверка для групп A1_A2 и B, событие: 2, p-значение: 0.184\n",
      "Не получилось отвергнуть нулевую гипотезу\n",
      "\n",
      "Проверка для групп A1_A2 и B, событие: 3, p-значение: 0.640\n",
      "Не получилось отвергнуть нулевую гипотезу\n",
      "\n"
     ]
    }
   ],
   "source": [
    "for event in group.index:\n",
    "    z('A1_A2', 'B', alpha)\n",
    "    print()"
   ]
  },
  {
   "cell_type": "markdown",
   "metadata": {},
   "source": [
    "Все тесты подтверждают отсутствие различий в конверии по группам. У приложения довольно лояльные к изменениям пользователи. Но, похоже новый шрифт их никак не тронул."
   ]
  },
  {
   "cell_type": "markdown",
   "metadata": {},
   "source": [
    "### Вывод ###"
   ]
  },
  {
   "cell_type": "markdown",
   "metadata": {},
   "source": [
    "Было совершено 12 проверок статистических гипотез. 12 - по каждому событию в трех группах с помощью z-теста. При любом выбранном критическом уровне статистической значимости, все различия незначительны. Похоже, изменение шрифта на конверсию никак не повлияло. Возможно, новый шрифт был похож на предыдущий. \n",
    "\n",
    "Успешны ли новые изменения? Зависит от цели добавления нового шрифта. Если цель была привлечь новых клиентов с помощью креативного шрифта - нужно проводить другие исследования. Если же цель была увеличить конверсию пользователей в покупателей, увы, цель не была достигнута. Но мы так же можем сделать вывод, что пользователи лояльно относятся к изменениям в приложении. "
   ]
  }
 ],
 "metadata": {
  "ExecuteTimeLog": [
   {
    "duration": 1245,
    "start_time": "2022-11-29T12:56:47.621Z"
   },
   {
    "duration": 4,
    "start_time": "2022-11-29T13:34:49.736Z"
   },
   {
    "duration": 297,
    "start_time": "2022-11-29T13:34:49.741Z"
   },
   {
    "duration": 4,
    "start_time": "2022-11-29T13:46:11.964Z"
   },
   {
    "duration": 290,
    "start_time": "2022-11-29T13:49:06.450Z"
   },
   {
    "duration": 273,
    "start_time": "2022-11-29T13:51:12.182Z"
   },
   {
    "duration": 171,
    "start_time": "2022-11-29T13:54:13.001Z"
   },
   {
    "duration": 159,
    "start_time": "2022-11-29T13:54:44.203Z"
   },
   {
    "duration": 151,
    "start_time": "2022-11-29T13:54:59.712Z"
   },
   {
    "duration": 172,
    "start_time": "2022-11-29T13:57:28.836Z"
   },
   {
    "duration": 4,
    "start_time": "2022-11-29T13:58:46.660Z"
   },
   {
    "duration": 3,
    "start_time": "2022-11-29T13:58:51.144Z"
   },
   {
    "duration": 581,
    "start_time": "2022-11-29T14:11:13.192Z"
   },
   {
    "duration": 5,
    "start_time": "2022-11-29T14:11:28.334Z"
   },
   {
    "duration": 14,
    "start_time": "2022-11-29T14:11:38.659Z"
   },
   {
    "duration": 12,
    "start_time": "2022-11-29T14:12:04.287Z"
   },
   {
    "duration": 12,
    "start_time": "2022-11-29T14:12:10.249Z"
   },
   {
    "duration": 2,
    "start_time": "2022-11-29T14:12:16.864Z"
   },
   {
    "duration": 182,
    "start_time": "2022-11-29T14:12:16.868Z"
   },
   {
    "duration": 10,
    "start_time": "2022-11-29T14:12:17.052Z"
   },
   {
    "duration": 82,
    "start_time": "2022-11-29T20:59:25.988Z"
   },
   {
    "duration": 12,
    "start_time": "2022-11-29T20:59:37.464Z"
   },
   {
    "duration": 5,
    "start_time": "2022-11-29T21:00:46.288Z"
   },
   {
    "duration": 5,
    "start_time": "2022-11-29T21:01:19.666Z"
   },
   {
    "duration": 4,
    "start_time": "2022-11-29T21:01:31.553Z"
   },
   {
    "duration": 185,
    "start_time": "2022-11-29T21:01:31.558Z"
   },
   {
    "duration": 72,
    "start_time": "2022-11-29T21:01:31.745Z"
   },
   {
    "duration": 4,
    "start_time": "2022-11-29T21:01:31.819Z"
   },
   {
    "duration": 3,
    "start_time": "2022-11-29T21:01:58.141Z"
   },
   {
    "duration": 175,
    "start_time": "2022-11-29T21:01:58.146Z"
   },
   {
    "duration": 74,
    "start_time": "2022-11-29T21:01:58.323Z"
   },
   {
    "duration": 4,
    "start_time": "2022-11-29T21:01:58.415Z"
   },
   {
    "duration": 12,
    "start_time": "2022-11-29T21:02:14.852Z"
   },
   {
    "duration": 177,
    "start_time": "2022-11-29T21:02:20.147Z"
   },
   {
    "duration": 148,
    "start_time": "2022-11-29T21:02:26.538Z"
   },
   {
    "duration": 4,
    "start_time": "2022-11-29T21:03:02.908Z"
   },
   {
    "duration": 149,
    "start_time": "2022-11-29T21:03:05.326Z"
   },
   {
    "duration": 26,
    "start_time": "2022-11-29T21:03:47.133Z"
   },
   {
    "duration": 42,
    "start_time": "2022-11-29T21:05:55.790Z"
   },
   {
    "duration": 83,
    "start_time": "2022-11-29T21:08:07.940Z"
   },
   {
    "duration": 43,
    "start_time": "2022-11-29T21:08:21.626Z"
   },
   {
    "duration": 55,
    "start_time": "2022-11-29T21:08:28.066Z"
   },
   {
    "duration": 959,
    "start_time": "2022-11-29T21:09:27.693Z"
   },
   {
    "duration": 4,
    "start_time": "2022-11-29T21:09:55.313Z"
   },
   {
    "duration": 206,
    "start_time": "2022-11-29T21:09:55.319Z"
   },
   {
    "duration": 63,
    "start_time": "2022-11-29T21:09:55.526Z"
   },
   {
    "duration": 52,
    "start_time": "2022-11-29T21:09:55.591Z"
   },
   {
    "duration": 197,
    "start_time": "2022-11-29T21:09:55.645Z"
   },
   {
    "duration": 593,
    "start_time": "2022-11-29T21:12:39.889Z"
   },
   {
    "duration": 33,
    "start_time": "2022-11-29T21:12:47.085Z"
   },
   {
    "duration": 588,
    "start_time": "2022-11-29T21:12:50.017Z"
   },
   {
    "duration": 44,
    "start_time": "2022-11-29T21:13:37.124Z"
   },
   {
    "duration": 10,
    "start_time": "2022-11-29T21:16:41.164Z"
   },
   {
    "duration": 227,
    "start_time": "2022-11-29T21:17:48.207Z"
   },
   {
    "duration": 205,
    "start_time": "2022-11-29T21:18:02.774Z"
   },
   {
    "duration": 210,
    "start_time": "2022-11-29T21:18:41.979Z"
   },
   {
    "duration": 11,
    "start_time": "2022-11-29T21:19:44.070Z"
   },
   {
    "duration": 9,
    "start_time": "2022-11-29T21:20:02.624Z"
   },
   {
    "duration": 36,
    "start_time": "2022-11-29T21:20:45.255Z"
   },
   {
    "duration": 28,
    "start_time": "2022-11-29T21:21:00.519Z"
   },
   {
    "duration": 9,
    "start_time": "2022-11-29T21:25:09.355Z"
   },
   {
    "duration": 11,
    "start_time": "2022-11-29T21:25:27.709Z"
   },
   {
    "duration": 74,
    "start_time": "2022-11-29T21:25:38.113Z"
   },
   {
    "duration": 3,
    "start_time": "2022-11-29T21:25:56.225Z"
   },
   {
    "duration": 229,
    "start_time": "2022-11-29T21:25:56.230Z"
   },
   {
    "duration": 79,
    "start_time": "2022-11-29T21:25:56.461Z"
   },
   {
    "duration": 35,
    "start_time": "2022-11-29T21:25:56.542Z"
   },
   {
    "duration": 11,
    "start_time": "2022-11-29T21:25:56.579Z"
   },
   {
    "duration": 8,
    "start_time": "2022-11-29T21:26:39.553Z"
   },
   {
    "duration": 717,
    "start_time": "2022-11-29T21:28:01.468Z"
   },
   {
    "duration": 84,
    "start_time": "2022-11-29T21:28:16.571Z"
   },
   {
    "duration": 68,
    "start_time": "2022-11-29T21:29:20.823Z"
   },
   {
    "duration": 69,
    "start_time": "2022-11-29T21:29:46.286Z"
   },
   {
    "duration": 63,
    "start_time": "2022-11-29T21:30:23.025Z"
   },
   {
    "duration": 75,
    "start_time": "2022-11-29T21:30:47.509Z"
   },
   {
    "duration": 125,
    "start_time": "2022-11-29T21:30:54.803Z"
   },
   {
    "duration": 4,
    "start_time": "2022-11-29T21:31:12.074Z"
   },
   {
    "duration": 199,
    "start_time": "2022-11-29T21:31:12.080Z"
   },
   {
    "duration": 92,
    "start_time": "2022-11-29T21:31:12.281Z"
   },
   {
    "duration": 108,
    "start_time": "2022-11-29T21:31:12.375Z"
   },
   {
    "duration": 107,
    "start_time": "2022-11-29T21:31:12.485Z"
   },
   {
    "duration": 21,
    "start_time": "2022-11-29T21:31:23.216Z"
   },
   {
    "duration": 3,
    "start_time": "2022-11-29T21:31:25.771Z"
   },
   {
    "duration": 194,
    "start_time": "2022-11-29T21:31:25.776Z"
   },
   {
    "duration": 14,
    "start_time": "2022-11-29T21:31:25.972Z"
   },
   {
    "duration": 132,
    "start_time": "2022-11-29T21:31:25.988Z"
   },
   {
    "duration": 99,
    "start_time": "2022-11-29T21:31:26.122Z"
   },
   {
    "duration": 61,
    "start_time": "2022-11-29T21:31:45.935Z"
   },
   {
    "duration": 94,
    "start_time": "2022-11-29T21:31:49.166Z"
   },
   {
    "duration": 109,
    "start_time": "2022-11-29T21:32:17.109Z"
   },
   {
    "duration": 164,
    "start_time": "2022-11-29T21:33:33.613Z"
   },
   {
    "duration": 9,
    "start_time": "2022-11-29T21:34:35.763Z"
   },
   {
    "duration": 98,
    "start_time": "2022-11-29T21:34:45.734Z"
   },
   {
    "duration": 9,
    "start_time": "2022-11-29T21:34:47.929Z"
   },
   {
    "duration": 132,
    "start_time": "2022-11-29T21:34:56.930Z"
   },
   {
    "duration": 3,
    "start_time": "2022-11-29T21:35:00.734Z"
   },
   {
    "duration": 226,
    "start_time": "2022-11-29T21:35:00.739Z"
   },
   {
    "duration": 112,
    "start_time": "2022-11-29T21:35:00.967Z"
   },
   {
    "duration": 136,
    "start_time": "2022-11-29T21:35:01.081Z"
   },
   {
    "duration": 30,
    "start_time": "2022-11-29T21:35:01.220Z"
   },
   {
    "duration": 129,
    "start_time": "2022-11-29T21:35:01.252Z"
   },
   {
    "duration": 154,
    "start_time": "2022-11-29T21:35:09.780Z"
   },
   {
    "duration": 3,
    "start_time": "2022-11-29T21:35:13.283Z"
   },
   {
    "duration": 192,
    "start_time": "2022-11-29T21:35:13.288Z"
   },
   {
    "duration": 86,
    "start_time": "2022-11-29T21:35:13.481Z"
   },
   {
    "duration": 114,
    "start_time": "2022-11-29T21:35:13.569Z"
   },
   {
    "duration": 39,
    "start_time": "2022-11-29T21:35:13.685Z"
   },
   {
    "duration": 90,
    "start_time": "2022-11-29T21:35:13.726Z"
   },
   {
    "duration": 17,
    "start_time": "2022-11-29T21:36:47.293Z"
   },
   {
    "duration": 18,
    "start_time": "2022-11-29T21:37:06.806Z"
   },
   {
    "duration": 144,
    "start_time": "2022-11-29T21:37:57.220Z"
   },
   {
    "duration": 135,
    "start_time": "2022-11-29T21:38:04.752Z"
   },
   {
    "duration": 20,
    "start_time": "2022-11-29T21:38:44.411Z"
   },
   {
    "duration": 18,
    "start_time": "2022-11-29T21:39:06.089Z"
   },
   {
    "duration": 48,
    "start_time": "2022-11-29T21:46:18.118Z"
   },
   {
    "duration": 1138,
    "start_time": "2022-11-29T21:46:30.204Z"
   },
   {
    "duration": 560,
    "start_time": "2022-11-29T21:46:31.344Z"
   },
   {
    "duration": 89,
    "start_time": "2022-11-29T21:46:31.906Z"
   },
   {
    "duration": 168,
    "start_time": "2022-11-29T21:46:31.997Z"
   },
   {
    "duration": 49,
    "start_time": "2022-11-29T21:46:32.168Z"
   },
   {
    "duration": 110,
    "start_time": "2022-11-29T21:46:32.219Z"
   },
   {
    "duration": 19,
    "start_time": "2022-11-29T21:46:32.332Z"
   },
   {
    "duration": 51,
    "start_time": "2022-11-29T21:49:47.322Z"
   },
   {
    "duration": 42,
    "start_time": "2022-11-29T21:50:02.766Z"
   },
   {
    "duration": 1021,
    "start_time": "2022-11-29T21:50:08.046Z"
   },
   {
    "duration": 527,
    "start_time": "2022-11-29T21:50:09.069Z"
   },
   {
    "duration": 93,
    "start_time": "2022-11-29T21:50:09.597Z"
   },
   {
    "duration": 140,
    "start_time": "2022-11-29T21:50:09.692Z"
   },
   {
    "duration": 26,
    "start_time": "2022-11-29T21:50:09.834Z"
   },
   {
    "duration": 113,
    "start_time": "2022-11-29T21:50:09.862Z"
   },
   {
    "duration": 19,
    "start_time": "2022-11-29T21:50:09.976Z"
   },
   {
    "duration": 549,
    "start_time": "2022-11-29T21:50:09.996Z"
   },
   {
    "duration": 4,
    "start_time": "2022-11-29T21:51:49.311Z"
   },
   {
    "duration": 45,
    "start_time": "2022-11-29T21:52:01.637Z"
   },
   {
    "duration": 45,
    "start_time": "2022-11-29T21:52:27.379Z"
   },
   {
    "duration": 45,
    "start_time": "2022-11-29T21:54:01.541Z"
   },
   {
    "duration": 47,
    "start_time": "2022-11-29T21:54:28.794Z"
   },
   {
    "duration": 49,
    "start_time": "2022-11-29T21:54:35.471Z"
   },
   {
    "duration": 961,
    "start_time": "2022-11-29T21:59:19.876Z"
   },
   {
    "duration": 3,
    "start_time": "2022-11-29T21:59:23.807Z"
   },
   {
    "duration": 181,
    "start_time": "2022-11-29T21:59:23.812Z"
   },
   {
    "duration": 86,
    "start_time": "2022-11-29T21:59:23.995Z"
   },
   {
    "duration": 133,
    "start_time": "2022-11-29T21:59:24.083Z"
   },
   {
    "duration": 22,
    "start_time": "2022-11-29T21:59:24.218Z"
   },
   {
    "duration": 105,
    "start_time": "2022-11-29T21:59:24.242Z"
   },
   {
    "duration": 19,
    "start_time": "2022-11-29T21:59:24.349Z"
   },
   {
    "duration": 784,
    "start_time": "2022-11-29T21:59:24.370Z"
   },
   {
    "duration": 0,
    "start_time": "2022-11-29T21:59:25.156Z"
   },
   {
    "duration": 463,
    "start_time": "2022-11-29T22:00:19.267Z"
   },
   {
    "duration": 931,
    "start_time": "2022-11-29T22:00:53.142Z"
   },
   {
    "duration": 368,
    "start_time": "2022-11-29T22:03:22.838Z"
   },
   {
    "duration": 27,
    "start_time": "2022-11-29T22:05:27.833Z"
   },
   {
    "duration": 4,
    "start_time": "2022-11-29T22:07:34.352Z"
   },
   {
    "duration": 192,
    "start_time": "2022-11-29T22:07:34.358Z"
   },
   {
    "duration": 106,
    "start_time": "2022-11-29T22:07:34.552Z"
   },
   {
    "duration": 124,
    "start_time": "2022-11-29T22:07:34.659Z"
   },
   {
    "duration": 32,
    "start_time": "2022-11-29T22:07:34.785Z"
   },
   {
    "duration": 105,
    "start_time": "2022-11-29T22:07:34.818Z"
   },
   {
    "duration": 18,
    "start_time": "2022-11-29T22:07:34.924Z"
   },
   {
    "duration": 44,
    "start_time": "2022-11-29T22:07:34.944Z"
   },
   {
    "duration": 0,
    "start_time": "2022-11-29T22:07:34.990Z"
   },
   {
    "duration": 19,
    "start_time": "2022-11-29T22:08:23.748Z"
   },
   {
    "duration": 22,
    "start_time": "2022-11-29T22:08:33.936Z"
   },
   {
    "duration": 22,
    "start_time": "2022-11-29T22:08:46.679Z"
   },
   {
    "duration": 12,
    "start_time": "2022-11-29T22:08:59.743Z"
   },
   {
    "duration": 47,
    "start_time": "2022-11-29T22:09:07.483Z"
   },
   {
    "duration": 18,
    "start_time": "2022-11-29T22:09:14.659Z"
   },
   {
    "duration": 40,
    "start_time": "2022-11-29T22:09:32.468Z"
   },
   {
    "duration": 110,
    "start_time": "2022-11-29T22:11:17.324Z"
   },
   {
    "duration": 76,
    "start_time": "2022-11-29T22:11:24.033Z"
   },
   {
    "duration": 64,
    "start_time": "2022-11-29T22:11:35.016Z"
   },
   {
    "duration": 70,
    "start_time": "2022-11-29T22:11:59.716Z"
   },
   {
    "duration": 48,
    "start_time": "2022-11-29T22:16:25.523Z"
   },
   {
    "duration": 802,
    "start_time": "2022-11-29T22:18:47.629Z"
   },
   {
    "duration": 119,
    "start_time": "2022-11-29T22:19:08.147Z"
   },
   {
    "duration": 101,
    "start_time": "2022-11-29T22:19:51.422Z"
   },
   {
    "duration": 129,
    "start_time": "2022-11-29T22:20:27.221Z"
   },
   {
    "duration": 60,
    "start_time": "2022-11-29T22:20:36.886Z"
   },
   {
    "duration": 4,
    "start_time": "2022-11-29T22:21:56.234Z"
   },
   {
    "duration": 230,
    "start_time": "2022-11-29T22:21:56.240Z"
   },
   {
    "duration": 100,
    "start_time": "2022-11-29T22:21:56.471Z"
   },
   {
    "duration": 123,
    "start_time": "2022-11-29T22:21:56.573Z"
   },
   {
    "duration": 37,
    "start_time": "2022-11-29T22:21:56.698Z"
   },
   {
    "duration": 113,
    "start_time": "2022-11-29T22:21:56.737Z"
   },
   {
    "duration": 18,
    "start_time": "2022-11-29T22:21:56.852Z"
   },
   {
    "duration": 80,
    "start_time": "2022-11-29T22:21:56.872Z"
   },
   {
    "duration": 81,
    "start_time": "2022-11-29T22:21:56.954Z"
   },
   {
    "duration": 130,
    "start_time": "2022-11-29T22:21:57.037Z"
   },
   {
    "duration": 1227,
    "start_time": "2022-11-30T14:28:23.252Z"
   },
   {
    "duration": 304,
    "start_time": "2022-11-30T14:28:24.481Z"
   },
   {
    "duration": 94,
    "start_time": "2022-11-30T14:28:24.787Z"
   },
   {
    "duration": 155,
    "start_time": "2022-11-30T14:28:24.883Z"
   },
   {
    "duration": 23,
    "start_time": "2022-11-30T14:28:25.040Z"
   },
   {
    "duration": 117,
    "start_time": "2022-11-30T14:28:25.064Z"
   },
   {
    "duration": 31,
    "start_time": "2022-11-30T14:28:25.184Z"
   },
   {
    "duration": 45,
    "start_time": "2022-11-30T14:28:25.217Z"
   },
   {
    "duration": 107,
    "start_time": "2022-11-30T14:28:25.264Z"
   },
   {
    "duration": 111,
    "start_time": "2022-11-30T14:28:25.373Z"
   },
   {
    "duration": 14,
    "start_time": "2022-11-30T14:28:25.496Z"
   },
   {
    "duration": 116,
    "start_time": "2022-11-30T14:31:50.102Z"
   },
   {
    "duration": 58,
    "start_time": "2022-11-30T14:34:21.441Z"
   },
   {
    "duration": 28,
    "start_time": "2022-11-30T14:34:47.419Z"
   },
   {
    "duration": 9,
    "start_time": "2022-11-30T14:35:04.018Z"
   },
   {
    "duration": 76,
    "start_time": "2022-11-30T14:38:45.677Z"
   },
   {
    "duration": 19,
    "start_time": "2022-11-30T14:41:21.020Z"
   },
   {
    "duration": 26,
    "start_time": "2022-11-30T14:46:20.546Z"
   },
   {
    "duration": 111,
    "start_time": "2022-11-30T14:46:58.303Z"
   },
   {
    "duration": 88,
    "start_time": "2022-11-30T14:47:59.309Z"
   },
   {
    "duration": 26,
    "start_time": "2022-11-30T14:49:52.814Z"
   },
   {
    "duration": 25,
    "start_time": "2022-11-30T14:50:04.018Z"
   },
   {
    "duration": 37,
    "start_time": "2022-11-30T14:51:45.333Z"
   },
   {
    "duration": 52,
    "start_time": "2022-11-30T14:52:00.094Z"
   },
   {
    "duration": 52,
    "start_time": "2022-11-30T14:52:17.934Z"
   },
   {
    "duration": 68,
    "start_time": "2022-11-30T14:53:23.630Z"
   },
   {
    "duration": 49,
    "start_time": "2022-11-30T14:53:44.667Z"
   },
   {
    "duration": 0,
    "start_time": "2022-11-30T15:06:30.897Z"
   },
   {
    "duration": 0,
    "start_time": "2022-11-30T15:06:30.898Z"
   },
   {
    "duration": 0,
    "start_time": "2022-11-30T15:06:30.904Z"
   },
   {
    "duration": 0,
    "start_time": "2022-11-30T15:06:30.906Z"
   },
   {
    "duration": 0,
    "start_time": "2022-11-30T15:06:30.907Z"
   },
   {
    "duration": 0,
    "start_time": "2022-11-30T15:06:30.909Z"
   },
   {
    "duration": 0,
    "start_time": "2022-11-30T15:06:30.910Z"
   },
   {
    "duration": 0,
    "start_time": "2022-11-30T15:06:30.911Z"
   },
   {
    "duration": 0,
    "start_time": "2022-11-30T15:06:30.912Z"
   },
   {
    "duration": 0,
    "start_time": "2022-11-30T15:06:30.913Z"
   },
   {
    "duration": 0,
    "start_time": "2022-11-30T15:06:30.915Z"
   },
   {
    "duration": 0,
    "start_time": "2022-11-30T15:06:30.916Z"
   },
   {
    "duration": 0,
    "start_time": "2022-11-30T15:06:30.917Z"
   },
   {
    "duration": 0,
    "start_time": "2022-11-30T15:06:30.918Z"
   },
   {
    "duration": 4,
    "start_time": "2022-11-30T15:06:43.209Z"
   },
   {
    "duration": 184,
    "start_time": "2022-11-30T15:06:43.216Z"
   },
   {
    "duration": 73,
    "start_time": "2022-11-30T15:06:43.401Z"
   },
   {
    "duration": 128,
    "start_time": "2022-11-30T15:06:43.496Z"
   },
   {
    "duration": 22,
    "start_time": "2022-11-30T15:06:43.625Z"
   },
   {
    "duration": 109,
    "start_time": "2022-11-30T15:06:43.649Z"
   },
   {
    "duration": 35,
    "start_time": "2022-11-30T15:06:43.761Z"
   },
   {
    "duration": 42,
    "start_time": "2022-11-30T15:06:43.798Z"
   },
   {
    "duration": 111,
    "start_time": "2022-11-30T15:06:43.842Z"
   },
   {
    "duration": 126,
    "start_time": "2022-11-30T15:06:43.956Z"
   },
   {
    "duration": 61,
    "start_time": "2022-11-30T15:06:44.084Z"
   },
   {
    "duration": 97,
    "start_time": "2022-11-30T15:06:44.147Z"
   },
   {
    "duration": 17,
    "start_time": "2022-11-30T15:06:44.246Z"
   },
   {
    "duration": 34,
    "start_time": "2022-11-30T15:06:44.265Z"
   },
   {
    "duration": 21,
    "start_time": "2022-11-30T15:09:05.018Z"
   },
   {
    "duration": 34,
    "start_time": "2022-11-30T15:09:15.855Z"
   },
   {
    "duration": 58,
    "start_time": "2022-11-30T15:09:34.641Z"
   },
   {
    "duration": 23,
    "start_time": "2022-11-30T15:11:39.409Z"
   },
   {
    "duration": 14,
    "start_time": "2022-11-30T15:11:50.266Z"
   },
   {
    "duration": 71,
    "start_time": "2022-11-30T15:12:04.127Z"
   },
   {
    "duration": 716,
    "start_time": "2022-11-30T15:12:40.682Z"
   },
   {
    "duration": 35,
    "start_time": "2022-11-30T15:12:50.536Z"
   },
   {
    "duration": 3,
    "start_time": "2022-11-30T15:16:17.365Z"
   },
   {
    "duration": 160,
    "start_time": "2022-11-30T15:16:17.467Z"
   },
   {
    "duration": 89,
    "start_time": "2022-11-30T15:16:17.747Z"
   },
   {
    "duration": 150,
    "start_time": "2022-11-30T15:16:17.864Z"
   },
   {
    "duration": 34,
    "start_time": "2022-11-30T15:16:18.113Z"
   },
   {
    "duration": 105,
    "start_time": "2022-11-30T15:16:18.198Z"
   },
   {
    "duration": 45,
    "start_time": "2022-11-30T15:16:18.360Z"
   },
   {
    "duration": 32,
    "start_time": "2022-11-30T15:16:18.505Z"
   },
   {
    "duration": 73,
    "start_time": "2022-11-30T15:16:18.669Z"
   },
   {
    "duration": 162,
    "start_time": "2022-11-30T15:16:18.810Z"
   },
   {
    "duration": 75,
    "start_time": "2022-11-30T15:16:19.067Z"
   },
   {
    "duration": 107,
    "start_time": "2022-11-30T15:16:19.328Z"
   },
   {
    "duration": 34,
    "start_time": "2022-11-30T15:16:19.447Z"
   },
   {
    "duration": 17,
    "start_time": "2022-11-30T15:16:19.501Z"
   },
   {
    "duration": 19,
    "start_time": "2022-11-30T15:19:14.377Z"
   },
   {
    "duration": 21,
    "start_time": "2022-11-30T15:19:45.762Z"
   },
   {
    "duration": 20,
    "start_time": "2022-11-30T15:20:09.237Z"
   },
   {
    "duration": 30,
    "start_time": "2022-11-30T15:22:23.387Z"
   },
   {
    "duration": 23,
    "start_time": "2022-11-30T15:22:30.332Z"
   },
   {
    "duration": 82,
    "start_time": "2022-11-30T15:25:04.808Z"
   },
   {
    "duration": 79,
    "start_time": "2022-11-30T15:25:16.335Z"
   },
   {
    "duration": 22,
    "start_time": "2022-11-30T15:25:38.899Z"
   },
   {
    "duration": 21,
    "start_time": "2022-11-30T15:25:44.751Z"
   },
   {
    "duration": 21,
    "start_time": "2022-11-30T15:25:50.868Z"
   },
   {
    "duration": 21,
    "start_time": "2022-11-30T15:27:54.059Z"
   },
   {
    "duration": 84,
    "start_time": "2022-11-30T15:28:01.106Z"
   },
   {
    "duration": 7,
    "start_time": "2022-11-30T15:30:54.267Z"
   },
   {
    "duration": 9,
    "start_time": "2022-11-30T15:30:58.725Z"
   },
   {
    "duration": 100,
    "start_time": "2022-11-30T15:34:04.878Z"
   },
   {
    "duration": 32,
    "start_time": "2022-11-30T15:34:13.360Z"
   },
   {
    "duration": 28,
    "start_time": "2022-11-30T15:34:28.637Z"
   },
   {
    "duration": 25,
    "start_time": "2022-11-30T15:35:43.882Z"
   },
   {
    "duration": 6,
    "start_time": "2022-11-30T15:36:08.674Z"
   },
   {
    "duration": 27,
    "start_time": "2022-11-30T15:39:53.026Z"
   },
   {
    "duration": 10,
    "start_time": "2022-11-30T15:41:20.033Z"
   },
   {
    "duration": 14,
    "start_time": "2022-11-30T15:41:26.579Z"
   },
   {
    "duration": 3,
    "start_time": "2022-11-30T15:41:39.014Z"
   },
   {
    "duration": 168,
    "start_time": "2022-11-30T15:41:39.020Z"
   },
   {
    "duration": 74,
    "start_time": "2022-11-30T15:41:39.196Z"
   },
   {
    "duration": 135,
    "start_time": "2022-11-30T15:41:39.272Z"
   },
   {
    "duration": 27,
    "start_time": "2022-11-30T15:41:39.409Z"
   },
   {
    "duration": 112,
    "start_time": "2022-11-30T15:41:39.438Z"
   },
   {
    "duration": 19,
    "start_time": "2022-11-30T15:41:39.552Z"
   },
   {
    "duration": 63,
    "start_time": "2022-11-30T15:41:39.573Z"
   },
   {
    "duration": 96,
    "start_time": "2022-11-30T15:41:39.640Z"
   },
   {
    "duration": 121,
    "start_time": "2022-11-30T15:41:39.738Z"
   },
   {
    "duration": 68,
    "start_time": "2022-11-30T15:41:39.861Z"
   },
   {
    "duration": 99,
    "start_time": "2022-11-30T15:41:39.931Z"
   },
   {
    "duration": 28,
    "start_time": "2022-11-30T15:41:40.032Z"
   },
   {
    "duration": 34,
    "start_time": "2022-11-30T15:41:40.062Z"
   },
   {
    "duration": 14,
    "start_time": "2022-11-30T15:41:40.098Z"
   },
   {
    "duration": 48,
    "start_time": "2022-11-30T15:41:58.081Z"
   },
   {
    "duration": 37,
    "start_time": "2022-11-30T15:43:22.737Z"
   },
   {
    "duration": 36,
    "start_time": "2022-11-30T15:44:18.394Z"
   },
   {
    "duration": 235,
    "start_time": "2022-11-30T15:45:15.180Z"
   },
   {
    "duration": 233,
    "start_time": "2022-11-30T15:45:23.587Z"
   },
   {
    "duration": 269,
    "start_time": "2022-11-30T15:45:36.190Z"
   },
   {
    "duration": 255,
    "start_time": "2022-11-30T15:47:02.807Z"
   },
   {
    "duration": 231,
    "start_time": "2022-11-30T15:47:23.885Z"
   },
   {
    "duration": 256,
    "start_time": "2022-11-30T15:47:30.997Z"
   },
   {
    "duration": 308,
    "start_time": "2022-11-30T15:47:36.345Z"
   },
   {
    "duration": 240,
    "start_time": "2022-11-30T15:47:45.188Z"
   },
   {
    "duration": 227,
    "start_time": "2022-11-30T15:50:17.619Z"
   },
   {
    "duration": 43,
    "start_time": "2022-11-30T15:51:01.300Z"
   },
   {
    "duration": 227,
    "start_time": "2022-11-30T15:51:07.373Z"
   },
   {
    "duration": 246,
    "start_time": "2022-11-30T15:51:33.714Z"
   },
   {
    "duration": 245,
    "start_time": "2022-11-30T15:51:56.414Z"
   },
   {
    "duration": 4,
    "start_time": "2022-11-30T15:52:03.984Z"
   },
   {
    "duration": 182,
    "start_time": "2022-11-30T15:52:03.990Z"
   },
   {
    "duration": 88,
    "start_time": "2022-11-30T15:52:04.175Z"
   },
   {
    "duration": 134,
    "start_time": "2022-11-30T15:52:04.266Z"
   },
   {
    "duration": 22,
    "start_time": "2022-11-30T15:52:04.402Z"
   },
   {
    "duration": 114,
    "start_time": "2022-11-30T15:52:04.426Z"
   },
   {
    "duration": 19,
    "start_time": "2022-11-30T15:52:04.542Z"
   },
   {
    "duration": 69,
    "start_time": "2022-11-30T15:52:04.563Z"
   },
   {
    "duration": 77,
    "start_time": "2022-11-30T15:52:04.635Z"
   },
   {
    "duration": 122,
    "start_time": "2022-11-30T15:52:04.714Z"
   },
   {
    "duration": 61,
    "start_time": "2022-11-30T15:52:04.838Z"
   },
   {
    "duration": 108,
    "start_time": "2022-11-30T15:52:04.901Z"
   },
   {
    "duration": 39,
    "start_time": "2022-11-30T15:52:05.011Z"
   },
   {
    "duration": 5,
    "start_time": "2022-11-30T15:52:05.052Z"
   },
   {
    "duration": 312,
    "start_time": "2022-11-30T15:52:05.059Z"
   },
   {
    "duration": 53,
    "start_time": "2022-12-01T09:47:47.822Z"
   },
   {
    "duration": 1358,
    "start_time": "2022-12-01T09:47:50.263Z"
   },
   {
    "duration": 866,
    "start_time": "2022-12-01T09:47:51.624Z"
   },
   {
    "duration": 101,
    "start_time": "2022-12-01T09:47:52.492Z"
   },
   {
    "duration": 163,
    "start_time": "2022-12-01T09:47:52.594Z"
   },
   {
    "duration": 26,
    "start_time": "2022-12-01T09:47:52.759Z"
   },
   {
    "duration": 105,
    "start_time": "2022-12-01T09:47:52.787Z"
   },
   {
    "duration": 21,
    "start_time": "2022-12-01T09:47:52.894Z"
   },
   {
    "duration": 66,
    "start_time": "2022-12-01T09:47:52.917Z"
   },
   {
    "duration": 89,
    "start_time": "2022-12-01T09:47:52.984Z"
   },
   {
    "duration": 130,
    "start_time": "2022-12-01T09:47:53.075Z"
   },
   {
    "duration": 65,
    "start_time": "2022-12-01T09:47:53.207Z"
   },
   {
    "duration": 103,
    "start_time": "2022-12-01T09:47:53.274Z"
   },
   {
    "duration": 31,
    "start_time": "2022-12-01T09:47:53.379Z"
   },
   {
    "duration": 6,
    "start_time": "2022-12-01T09:47:53.413Z"
   },
   {
    "duration": 302,
    "start_time": "2022-12-01T09:47:53.421Z"
   },
   {
    "duration": 381,
    "start_time": "2022-12-01T09:47:53.724Z"
   },
   {
    "duration": 3,
    "start_time": "2022-12-01T09:50:43.077Z"
   },
   {
    "duration": 1324,
    "start_time": "2022-12-01T09:51:06.159Z"
   },
   {
    "duration": 1178,
    "start_time": "2022-12-01T09:51:38.920Z"
   },
   {
    "duration": 3,
    "start_time": "2022-12-01T09:51:44.929Z"
   },
   {
    "duration": 189,
    "start_time": "2022-12-01T09:51:44.934Z"
   },
   {
    "duration": 95,
    "start_time": "2022-12-01T09:51:45.125Z"
   },
   {
    "duration": 128,
    "start_time": "2022-12-01T09:51:45.222Z"
   },
   {
    "duration": 24,
    "start_time": "2022-12-01T09:51:45.352Z"
   },
   {
    "duration": 101,
    "start_time": "2022-12-01T09:51:45.378Z"
   },
   {
    "duration": 19,
    "start_time": "2022-12-01T09:51:45.481Z"
   },
   {
    "duration": 64,
    "start_time": "2022-12-01T09:51:45.501Z"
   },
   {
    "duration": 85,
    "start_time": "2022-12-01T09:51:45.566Z"
   },
   {
    "duration": 134,
    "start_time": "2022-12-01T09:51:45.653Z"
   },
   {
    "duration": 62,
    "start_time": "2022-12-01T09:51:45.789Z"
   },
   {
    "duration": 102,
    "start_time": "2022-12-01T09:51:45.852Z"
   },
   {
    "duration": 30,
    "start_time": "2022-12-01T09:51:45.956Z"
   },
   {
    "duration": 6,
    "start_time": "2022-12-01T09:51:45.987Z"
   },
   {
    "duration": 303,
    "start_time": "2022-12-01T09:51:45.995Z"
   },
   {
    "duration": 1124,
    "start_time": "2022-12-01T09:51:46.300Z"
   },
   {
    "duration": 12,
    "start_time": "2022-12-01T09:54:43.897Z"
   },
   {
    "duration": 343,
    "start_time": "2022-12-01T09:55:14.714Z"
   },
   {
    "duration": 3,
    "start_time": "2022-12-01T09:55:35.473Z"
   },
   {
    "duration": 189,
    "start_time": "2022-12-01T09:55:35.479Z"
   },
   {
    "duration": 108,
    "start_time": "2022-12-01T09:55:35.671Z"
   },
   {
    "duration": 145,
    "start_time": "2022-12-01T09:55:35.782Z"
   },
   {
    "duration": 34,
    "start_time": "2022-12-01T09:55:35.929Z"
   },
   {
    "duration": 99,
    "start_time": "2022-12-01T09:55:35.965Z"
   },
   {
    "duration": 21,
    "start_time": "2022-12-01T09:55:36.066Z"
   },
   {
    "duration": 63,
    "start_time": "2022-12-01T09:55:36.088Z"
   },
   {
    "duration": 98,
    "start_time": "2022-12-01T09:55:36.153Z"
   },
   {
    "duration": 147,
    "start_time": "2022-12-01T09:55:36.253Z"
   },
   {
    "duration": 69,
    "start_time": "2022-12-01T09:55:36.402Z"
   },
   {
    "duration": 100,
    "start_time": "2022-12-01T09:55:36.474Z"
   },
   {
    "duration": 29,
    "start_time": "2022-12-01T09:55:36.576Z"
   },
   {
    "duration": 5,
    "start_time": "2022-12-01T09:55:36.607Z"
   },
   {
    "duration": 299,
    "start_time": "2022-12-01T09:55:36.614Z"
   },
   {
    "duration": 413,
    "start_time": "2022-12-01T09:55:36.916Z"
   },
   {
    "duration": 1779,
    "start_time": "2022-12-01T09:57:22.648Z"
   },
   {
    "duration": 3,
    "start_time": "2022-12-01T09:57:30.335Z"
   },
   {
    "duration": 214,
    "start_time": "2022-12-01T09:57:30.339Z"
   },
   {
    "duration": 100,
    "start_time": "2022-12-01T09:57:30.555Z"
   },
   {
    "duration": 132,
    "start_time": "2022-12-01T09:57:30.657Z"
   },
   {
    "duration": 26,
    "start_time": "2022-12-01T09:57:30.791Z"
   },
   {
    "duration": 106,
    "start_time": "2022-12-01T09:57:30.819Z"
   },
   {
    "duration": 28,
    "start_time": "2022-12-01T09:57:30.926Z"
   },
   {
    "duration": 62,
    "start_time": "2022-12-01T09:57:30.956Z"
   },
   {
    "duration": 85,
    "start_time": "2022-12-01T09:57:31.020Z"
   },
   {
    "duration": 147,
    "start_time": "2022-12-01T09:57:31.107Z"
   },
   {
    "duration": 57,
    "start_time": "2022-12-01T09:57:31.256Z"
   },
   {
    "duration": 101,
    "start_time": "2022-12-01T09:57:31.315Z"
   },
   {
    "duration": 39,
    "start_time": "2022-12-01T09:57:31.417Z"
   },
   {
    "duration": 6,
    "start_time": "2022-12-01T09:57:31.458Z"
   },
   {
    "duration": 282,
    "start_time": "2022-12-01T09:57:31.465Z"
   },
   {
    "duration": 1195,
    "start_time": "2022-12-01T09:57:31.751Z"
   },
   {
    "duration": 4,
    "start_time": "2022-12-01T09:58:29.857Z"
   },
   {
    "duration": 188,
    "start_time": "2022-12-01T09:58:29.863Z"
   },
   {
    "duration": 98,
    "start_time": "2022-12-01T09:58:30.053Z"
   },
   {
    "duration": 139,
    "start_time": "2022-12-01T09:58:30.154Z"
   },
   {
    "duration": 26,
    "start_time": "2022-12-01T09:58:30.294Z"
   },
   {
    "duration": 103,
    "start_time": "2022-12-01T09:58:30.321Z"
   },
   {
    "duration": 31,
    "start_time": "2022-12-01T09:58:30.426Z"
   },
   {
    "duration": 44,
    "start_time": "2022-12-01T09:58:30.459Z"
   },
   {
    "duration": 95,
    "start_time": "2022-12-01T09:58:30.505Z"
   },
   {
    "duration": 153,
    "start_time": "2022-12-01T09:58:30.603Z"
   },
   {
    "duration": 58,
    "start_time": "2022-12-01T09:58:30.758Z"
   },
   {
    "duration": 100,
    "start_time": "2022-12-01T09:58:30.818Z"
   },
   {
    "duration": 45,
    "start_time": "2022-12-01T09:58:30.920Z"
   },
   {
    "duration": 6,
    "start_time": "2022-12-01T09:58:30.967Z"
   },
   {
    "duration": 313,
    "start_time": "2022-12-01T09:58:30.975Z"
   },
   {
    "duration": 44,
    "start_time": "2022-12-01T09:58:31.290Z"
   },
   {
    "duration": 933,
    "start_time": "2022-12-01T09:58:49.143Z"
   },
   {
    "duration": 8,
    "start_time": "2022-12-01T09:58:53.950Z"
   },
   {
    "duration": 208,
    "start_time": "2022-12-01T09:58:53.963Z"
   },
   {
    "duration": 108,
    "start_time": "2022-12-01T09:58:54.173Z"
   },
   {
    "duration": 139,
    "start_time": "2022-12-01T09:58:54.282Z"
   },
   {
    "duration": 37,
    "start_time": "2022-12-01T09:58:54.423Z"
   },
   {
    "duration": 110,
    "start_time": "2022-12-01T09:58:54.463Z"
   },
   {
    "duration": 21,
    "start_time": "2022-12-01T09:58:54.574Z"
   },
   {
    "duration": 69,
    "start_time": "2022-12-01T09:58:54.597Z"
   },
   {
    "duration": 77,
    "start_time": "2022-12-01T09:58:54.667Z"
   },
   {
    "duration": 149,
    "start_time": "2022-12-01T09:58:54.751Z"
   },
   {
    "duration": 74,
    "start_time": "2022-12-01T09:58:54.902Z"
   },
   {
    "duration": 110,
    "start_time": "2022-12-01T09:58:54.978Z"
   },
   {
    "duration": 29,
    "start_time": "2022-12-01T09:58:55.090Z"
   },
   {
    "duration": 7,
    "start_time": "2022-12-01T09:58:55.121Z"
   },
   {
    "duration": 303,
    "start_time": "2022-12-01T09:58:55.152Z"
   },
   {
    "duration": 44,
    "start_time": "2022-12-01T09:58:55.457Z"
   },
   {
    "duration": 884,
    "start_time": "2022-12-01T09:59:12.633Z"
   },
   {
    "duration": 3,
    "start_time": "2022-12-01T09:59:20.137Z"
   },
   {
    "duration": 199,
    "start_time": "2022-12-01T09:59:20.141Z"
   },
   {
    "duration": 83,
    "start_time": "2022-12-01T09:59:20.343Z"
   },
   {
    "duration": 114,
    "start_time": "2022-12-01T09:59:20.429Z"
   },
   {
    "duration": 28,
    "start_time": "2022-12-01T09:59:20.545Z"
   },
   {
    "duration": 113,
    "start_time": "2022-12-01T09:59:20.575Z"
   },
   {
    "duration": 20,
    "start_time": "2022-12-01T09:59:20.689Z"
   },
   {
    "duration": 59,
    "start_time": "2022-12-01T09:59:20.711Z"
   },
   {
    "duration": 84,
    "start_time": "2022-12-01T09:59:20.771Z"
   },
   {
    "duration": 136,
    "start_time": "2022-12-01T09:59:20.857Z"
   },
   {
    "duration": 64,
    "start_time": "2022-12-01T09:59:20.995Z"
   },
   {
    "duration": 105,
    "start_time": "2022-12-01T09:59:21.061Z"
   },
   {
    "duration": 33,
    "start_time": "2022-12-01T09:59:21.168Z"
   },
   {
    "duration": 6,
    "start_time": "2022-12-01T09:59:21.203Z"
   },
   {
    "duration": 275,
    "start_time": "2022-12-01T09:59:21.211Z"
   },
   {
    "duration": 958,
    "start_time": "2022-12-01T09:59:21.488Z"
   },
   {
    "duration": 6,
    "start_time": "2022-12-01T09:59:53.274Z"
   },
   {
    "duration": 3,
    "start_time": "2022-12-01T10:00:01.596Z"
   },
   {
    "duration": 230,
    "start_time": "2022-12-01T10:00:01.601Z"
   },
   {
    "duration": 91,
    "start_time": "2022-12-01T10:00:01.833Z"
   },
   {
    "duration": 130,
    "start_time": "2022-12-01T10:00:01.926Z"
   },
   {
    "duration": 24,
    "start_time": "2022-12-01T10:00:02.058Z"
   },
   {
    "duration": 139,
    "start_time": "2022-12-01T10:00:02.084Z"
   },
   {
    "duration": 32,
    "start_time": "2022-12-01T10:00:02.225Z"
   },
   {
    "duration": 82,
    "start_time": "2022-12-01T10:00:02.259Z"
   },
   {
    "duration": 85,
    "start_time": "2022-12-01T10:00:02.343Z"
   },
   {
    "duration": 152,
    "start_time": "2022-12-01T10:00:02.430Z"
   },
   {
    "duration": 67,
    "start_time": "2022-12-01T10:00:02.584Z"
   },
   {
    "duration": 103,
    "start_time": "2022-12-01T10:00:02.653Z"
   },
   {
    "duration": 29,
    "start_time": "2022-12-01T10:00:02.758Z"
   },
   {
    "duration": 15,
    "start_time": "2022-12-01T10:00:02.790Z"
   },
   {
    "duration": 426,
    "start_time": "2022-12-01T10:00:02.807Z"
   },
   {
    "duration": 21,
    "start_time": "2022-12-01T10:00:03.235Z"
   },
   {
    "duration": 945,
    "start_time": "2022-12-01T10:00:03.257Z"
   },
   {
    "duration": 3,
    "start_time": "2022-12-01T10:00:57.340Z"
   },
   {
    "duration": 191,
    "start_time": "2022-12-01T10:00:57.345Z"
   },
   {
    "duration": 88,
    "start_time": "2022-12-01T10:00:57.537Z"
   },
   {
    "duration": 125,
    "start_time": "2022-12-01T10:00:57.627Z"
   },
   {
    "duration": 23,
    "start_time": "2022-12-01T10:00:57.754Z"
   },
   {
    "duration": 97,
    "start_time": "2022-12-01T10:00:57.779Z"
   },
   {
    "duration": 20,
    "start_time": "2022-12-01T10:00:57.877Z"
   },
   {
    "duration": 68,
    "start_time": "2022-12-01T10:00:57.898Z"
   },
   {
    "duration": 84,
    "start_time": "2022-12-01T10:00:57.967Z"
   },
   {
    "duration": 141,
    "start_time": "2022-12-01T10:00:58.053Z"
   },
   {
    "duration": 66,
    "start_time": "2022-12-01T10:00:58.196Z"
   },
   {
    "duration": 100,
    "start_time": "2022-12-01T10:00:58.264Z"
   },
   {
    "duration": 30,
    "start_time": "2022-12-01T10:00:58.366Z"
   },
   {
    "duration": 6,
    "start_time": "2022-12-01T10:00:58.398Z"
   },
   {
    "duration": 281,
    "start_time": "2022-12-01T10:00:58.406Z"
   },
   {
    "duration": 12,
    "start_time": "2022-12-01T10:00:58.689Z"
   },
   {
    "duration": 1218,
    "start_time": "2022-12-01T10:00:58.703Z"
   },
   {
    "duration": 972,
    "start_time": "2022-12-01T10:01:29.829Z"
   },
   {
    "duration": 947,
    "start_time": "2022-12-01T10:02:42.566Z"
   },
   {
    "duration": 3,
    "start_time": "2022-12-01T10:02:56.871Z"
   },
   {
    "duration": 250,
    "start_time": "2022-12-01T10:02:56.877Z"
   },
   {
    "duration": 98,
    "start_time": "2022-12-01T10:02:57.129Z"
   },
   {
    "duration": 134,
    "start_time": "2022-12-01T10:02:57.229Z"
   },
   {
    "duration": 25,
    "start_time": "2022-12-01T10:02:57.364Z"
   },
   {
    "duration": 104,
    "start_time": "2022-12-01T10:02:57.391Z"
   },
   {
    "duration": 23,
    "start_time": "2022-12-01T10:02:57.496Z"
   },
   {
    "duration": 160,
    "start_time": "2022-12-01T10:02:57.521Z"
   },
   {
    "duration": 86,
    "start_time": "2022-12-01T10:02:57.683Z"
   },
   {
    "duration": 144,
    "start_time": "2022-12-01T10:02:57.772Z"
   },
   {
    "duration": 65,
    "start_time": "2022-12-01T10:02:57.918Z"
   },
   {
    "duration": 104,
    "start_time": "2022-12-01T10:02:57.985Z"
   },
   {
    "duration": 28,
    "start_time": "2022-12-01T10:02:58.091Z"
   },
   {
    "duration": 6,
    "start_time": "2022-12-01T10:02:58.120Z"
   },
   {
    "duration": 273,
    "start_time": "2022-12-01T10:02:58.151Z"
   },
   {
    "duration": 25,
    "start_time": "2022-12-01T10:02:58.426Z"
   },
   {
    "duration": 944,
    "start_time": "2022-12-01T10:02:58.453Z"
   },
   {
    "duration": 922,
    "start_time": "2022-12-01T10:04:40.831Z"
   },
   {
    "duration": 910,
    "start_time": "2022-12-01T10:05:00.706Z"
   },
   {
    "duration": 1021,
    "start_time": "2022-12-01T10:05:44.438Z"
   },
   {
    "duration": 4,
    "start_time": "2022-12-01T10:05:47.817Z"
   },
   {
    "duration": 202,
    "start_time": "2022-12-01T10:05:47.823Z"
   },
   {
    "duration": 91,
    "start_time": "2022-12-01T10:05:48.027Z"
   },
   {
    "duration": 136,
    "start_time": "2022-12-01T10:05:48.120Z"
   },
   {
    "duration": 26,
    "start_time": "2022-12-01T10:05:48.259Z"
   },
   {
    "duration": 38,
    "start_time": "2022-12-01T10:05:48.286Z"
   },
   {
    "duration": 40,
    "start_time": "2022-12-01T10:05:48.326Z"
   },
   {
    "duration": 59,
    "start_time": "2022-12-01T10:05:48.368Z"
   },
   {
    "duration": 83,
    "start_time": "2022-12-01T10:05:48.429Z"
   },
   {
    "duration": 140,
    "start_time": "2022-12-01T10:05:48.514Z"
   },
   {
    "duration": 60,
    "start_time": "2022-12-01T10:05:48.656Z"
   },
   {
    "duration": 104,
    "start_time": "2022-12-01T10:05:48.717Z"
   },
   {
    "duration": 47,
    "start_time": "2022-12-01T10:05:48.823Z"
   },
   {
    "duration": 7,
    "start_time": "2022-12-01T10:05:48.872Z"
   },
   {
    "duration": 259,
    "start_time": "2022-12-01T10:05:48.880Z"
   },
   {
    "duration": 23,
    "start_time": "2022-12-01T10:05:49.141Z"
   },
   {
    "duration": 87,
    "start_time": "2022-12-01T10:05:49.166Z"
   },
   {
    "duration": 4,
    "start_time": "2022-12-01T10:06:16.775Z"
   },
   {
    "duration": 211,
    "start_time": "2022-12-01T10:06:16.781Z"
   },
   {
    "duration": 91,
    "start_time": "2022-12-01T10:06:16.994Z"
   },
   {
    "duration": 118,
    "start_time": "2022-12-01T10:06:17.087Z"
   },
   {
    "duration": 28,
    "start_time": "2022-12-01T10:06:17.207Z"
   },
   {
    "duration": 100,
    "start_time": "2022-12-01T10:06:17.252Z"
   },
   {
    "duration": 23,
    "start_time": "2022-12-01T10:06:17.354Z"
   },
   {
    "duration": 48,
    "start_time": "2022-12-01T10:06:17.379Z"
   },
   {
    "duration": 105,
    "start_time": "2022-12-01T10:06:17.429Z"
   },
   {
    "duration": 148,
    "start_time": "2022-12-01T10:06:17.536Z"
   },
   {
    "duration": 72,
    "start_time": "2022-12-01T10:06:17.686Z"
   },
   {
    "duration": 99,
    "start_time": "2022-12-01T10:06:17.759Z"
   },
   {
    "duration": 30,
    "start_time": "2022-12-01T10:06:17.860Z"
   },
   {
    "duration": 6,
    "start_time": "2022-12-01T10:06:17.892Z"
   },
   {
    "duration": 297,
    "start_time": "2022-12-01T10:06:17.900Z"
   },
   {
    "duration": 16,
    "start_time": "2022-12-01T10:06:18.198Z"
   },
   {
    "duration": 86,
    "start_time": "2022-12-01T10:06:18.215Z"
   },
   {
    "duration": 25,
    "start_time": "2022-12-01T10:07:40.456Z"
   },
   {
    "duration": 78,
    "start_time": "2022-12-01T10:08:04.598Z"
   },
   {
    "duration": 260,
    "start_time": "2022-12-01T10:08:37.698Z"
   },
   {
    "duration": 255,
    "start_time": "2022-12-01T10:09:09.223Z"
   },
   {
    "duration": 43,
    "start_time": "2022-12-01T10:09:31.421Z"
   },
   {
    "duration": 234,
    "start_time": "2022-12-01T10:11:02.365Z"
   },
   {
    "duration": 264,
    "start_time": "2022-12-01T10:11:38.813Z"
   },
   {
    "duration": 256,
    "start_time": "2022-12-01T10:13:49.996Z"
   },
   {
    "duration": 245,
    "start_time": "2022-12-01T10:14:12.844Z"
   },
   {
    "duration": 237,
    "start_time": "2022-12-01T10:17:27.437Z"
   },
   {
    "duration": 75,
    "start_time": "2022-12-01T10:18:01.214Z"
   },
   {
    "duration": 247,
    "start_time": "2022-12-01T10:18:26.965Z"
   },
   {
    "duration": 82,
    "start_time": "2022-12-01T10:18:36.838Z"
   },
   {
    "duration": 83,
    "start_time": "2022-12-01T10:18:44.427Z"
   },
   {
    "duration": 246,
    "start_time": "2022-12-01T10:21:26.678Z"
   },
   {
    "duration": 243,
    "start_time": "2022-12-01T10:22:18.669Z"
   },
   {
    "duration": 300,
    "start_time": "2022-12-01T10:22:29.683Z"
   },
   {
    "duration": 236,
    "start_time": "2022-12-01T10:22:40.873Z"
   },
   {
    "duration": 251,
    "start_time": "2022-12-01T10:23:24.740Z"
   },
   {
    "duration": 291,
    "start_time": "2022-12-01T10:23:39.069Z"
   },
   {
    "duration": 268,
    "start_time": "2022-12-01T10:23:51.821Z"
   },
   {
    "duration": 260,
    "start_time": "2022-12-01T10:24:03.249Z"
   },
   {
    "duration": 223,
    "start_time": "2022-12-01T10:25:05.937Z"
   },
   {
    "duration": 257,
    "start_time": "2022-12-01T10:26:02.571Z"
   },
   {
    "duration": 254,
    "start_time": "2022-12-01T10:26:35.787Z"
   },
   {
    "duration": 3,
    "start_time": "2022-12-01T10:26:40.886Z"
   },
   {
    "duration": 186,
    "start_time": "2022-12-01T10:26:40.892Z"
   },
   {
    "duration": 92,
    "start_time": "2022-12-01T10:26:41.080Z"
   },
   {
    "duration": 134,
    "start_time": "2022-12-01T10:26:41.174Z"
   },
   {
    "duration": 44,
    "start_time": "2022-12-01T10:26:41.310Z"
   },
   {
    "duration": 132,
    "start_time": "2022-12-01T10:26:41.356Z"
   },
   {
    "duration": 30,
    "start_time": "2022-12-01T10:26:41.490Z"
   },
   {
    "duration": 68,
    "start_time": "2022-12-01T10:26:41.522Z"
   },
   {
    "duration": 83,
    "start_time": "2022-12-01T10:26:41.592Z"
   },
   {
    "duration": 144,
    "start_time": "2022-12-01T10:26:41.678Z"
   },
   {
    "duration": 66,
    "start_time": "2022-12-01T10:26:41.824Z"
   },
   {
    "duration": 106,
    "start_time": "2022-12-01T10:26:41.892Z"
   },
   {
    "duration": 53,
    "start_time": "2022-12-01T10:26:42.000Z"
   },
   {
    "duration": 7,
    "start_time": "2022-12-01T10:26:42.055Z"
   },
   {
    "duration": 290,
    "start_time": "2022-12-01T10:26:42.064Z"
   },
   {
    "duration": 15,
    "start_time": "2022-12-01T10:26:42.356Z"
   },
   {
    "duration": 305,
    "start_time": "2022-12-01T10:26:42.372Z"
   },
   {
    "duration": 249,
    "start_time": "2022-12-01T10:26:42.679Z"
   },
   {
    "duration": 251,
    "start_time": "2022-12-01T10:29:25.878Z"
   },
   {
    "duration": 266,
    "start_time": "2022-12-01T10:31:05.199Z"
   },
   {
    "duration": 256,
    "start_time": "2022-12-01T10:31:30.806Z"
   },
   {
    "duration": 221,
    "start_time": "2022-12-01T10:32:21.913Z"
   },
   {
    "duration": 257,
    "start_time": "2022-12-01T10:33:01.540Z"
   },
   {
    "duration": 448,
    "start_time": "2022-12-01T10:33:35.376Z"
   },
   {
    "duration": 315,
    "start_time": "2022-12-01T10:33:53.625Z"
   },
   {
    "duration": 293,
    "start_time": "2022-12-01T10:34:34.740Z"
   },
   {
    "duration": 423,
    "start_time": "2022-12-01T10:35:34.414Z"
   },
   {
    "duration": 286,
    "start_time": "2022-12-01T10:37:39.709Z"
   },
   {
    "duration": 272,
    "start_time": "2022-12-01T10:38:21.996Z"
   },
   {
    "duration": 262,
    "start_time": "2022-12-01T10:38:35.352Z"
   },
   {
    "duration": 4,
    "start_time": "2022-12-01T10:38:40.275Z"
   },
   {
    "duration": 219,
    "start_time": "2022-12-01T10:38:40.281Z"
   },
   {
    "duration": 100,
    "start_time": "2022-12-01T10:38:40.502Z"
   },
   {
    "duration": 125,
    "start_time": "2022-12-01T10:38:40.605Z"
   },
   {
    "duration": 34,
    "start_time": "2022-12-01T10:38:40.731Z"
   },
   {
    "duration": 98,
    "start_time": "2022-12-01T10:38:40.767Z"
   },
   {
    "duration": 22,
    "start_time": "2022-12-01T10:38:40.867Z"
   },
   {
    "duration": 67,
    "start_time": "2022-12-01T10:38:40.890Z"
   },
   {
    "duration": 80,
    "start_time": "2022-12-01T10:38:40.959Z"
   },
   {
    "duration": 137,
    "start_time": "2022-12-01T10:38:41.053Z"
   },
   {
    "duration": 64,
    "start_time": "2022-12-01T10:38:41.192Z"
   },
   {
    "duration": 104,
    "start_time": "2022-12-01T10:38:41.258Z"
   },
   {
    "duration": 29,
    "start_time": "2022-12-01T10:38:41.364Z"
   },
   {
    "duration": 19,
    "start_time": "2022-12-01T10:38:41.395Z"
   },
   {
    "duration": 287,
    "start_time": "2022-12-01T10:38:41.416Z"
   },
   {
    "duration": 14,
    "start_time": "2022-12-01T10:38:41.705Z"
   },
   {
    "duration": 273,
    "start_time": "2022-12-01T10:38:41.720Z"
   },
   {
    "duration": 244,
    "start_time": "2022-12-01T10:38:41.995Z"
   },
   {
    "duration": 253,
    "start_time": "2022-12-01T10:38:57.878Z"
   },
   {
    "duration": 3,
    "start_time": "2022-12-01T10:39:01.750Z"
   },
   {
    "duration": 193,
    "start_time": "2022-12-01T10:39:01.755Z"
   },
   {
    "duration": 79,
    "start_time": "2022-12-01T10:39:01.950Z"
   },
   {
    "duration": 124,
    "start_time": "2022-12-01T10:39:02.031Z"
   },
   {
    "duration": 28,
    "start_time": "2022-12-01T10:39:02.158Z"
   },
   {
    "duration": 112,
    "start_time": "2022-12-01T10:39:02.189Z"
   },
   {
    "duration": 21,
    "start_time": "2022-12-01T10:39:02.303Z"
   },
   {
    "duration": 66,
    "start_time": "2022-12-01T10:39:02.326Z"
   },
   {
    "duration": 85,
    "start_time": "2022-12-01T10:39:02.394Z"
   },
   {
    "duration": 141,
    "start_time": "2022-12-01T10:39:02.481Z"
   },
   {
    "duration": 68,
    "start_time": "2022-12-01T10:39:02.623Z"
   },
   {
    "duration": 105,
    "start_time": "2022-12-01T10:39:02.694Z"
   },
   {
    "duration": 30,
    "start_time": "2022-12-01T10:39:02.802Z"
   },
   {
    "duration": 22,
    "start_time": "2022-12-01T10:39:02.834Z"
   },
   {
    "duration": 289,
    "start_time": "2022-12-01T10:39:02.858Z"
   },
   {
    "duration": 15,
    "start_time": "2022-12-01T10:39:03.148Z"
   },
   {
    "duration": 273,
    "start_time": "2022-12-01T10:39:03.165Z"
   },
   {
    "duration": 0,
    "start_time": "2022-12-01T10:39:03.440Z"
   },
   {
    "duration": 268,
    "start_time": "2022-12-01T10:39:20.119Z"
   },
   {
    "duration": 4,
    "start_time": "2022-12-01T10:39:36.629Z"
   },
   {
    "duration": 191,
    "start_time": "2022-12-01T10:39:36.635Z"
   },
   {
    "duration": 96,
    "start_time": "2022-12-01T10:39:36.827Z"
   },
   {
    "duration": 125,
    "start_time": "2022-12-01T10:39:36.925Z"
   },
   {
    "duration": 26,
    "start_time": "2022-12-01T10:39:37.053Z"
   },
   {
    "duration": 112,
    "start_time": "2022-12-01T10:39:37.080Z"
   },
   {
    "duration": 23,
    "start_time": "2022-12-01T10:39:37.193Z"
   },
   {
    "duration": 67,
    "start_time": "2022-12-01T10:39:37.218Z"
   },
   {
    "duration": 93,
    "start_time": "2022-12-01T10:39:37.287Z"
   },
   {
    "duration": 147,
    "start_time": "2022-12-01T10:39:37.384Z"
   },
   {
    "duration": 63,
    "start_time": "2022-12-01T10:39:37.533Z"
   },
   {
    "duration": 112,
    "start_time": "2022-12-01T10:39:37.597Z"
   },
   {
    "duration": 42,
    "start_time": "2022-12-01T10:39:37.710Z"
   },
   {
    "duration": 5,
    "start_time": "2022-12-01T10:39:37.754Z"
   },
   {
    "duration": 297,
    "start_time": "2022-12-01T10:39:37.761Z"
   },
   {
    "duration": 15,
    "start_time": "2022-12-01T10:39:38.060Z"
   },
   {
    "duration": 282,
    "start_time": "2022-12-01T10:39:38.076Z"
   },
   {
    "duration": 238,
    "start_time": "2022-12-01T10:39:38.360Z"
   },
   {
    "duration": 250,
    "start_time": "2022-12-01T10:40:08.319Z"
   },
   {
    "duration": 4,
    "start_time": "2022-12-01T10:40:11.663Z"
   },
   {
    "duration": 183,
    "start_time": "2022-12-01T10:40:11.669Z"
   },
   {
    "duration": 97,
    "start_time": "2022-12-01T10:40:11.854Z"
   },
   {
    "duration": 115,
    "start_time": "2022-12-01T10:40:11.953Z"
   },
   {
    "duration": 134,
    "start_time": "2022-12-01T10:40:12.070Z"
   },
   {
    "duration": 99,
    "start_time": "2022-12-01T10:40:12.205Z"
   },
   {
    "duration": 21,
    "start_time": "2022-12-01T10:40:12.305Z"
   },
   {
    "duration": 60,
    "start_time": "2022-12-01T10:40:12.328Z"
   },
   {
    "duration": 86,
    "start_time": "2022-12-01T10:40:12.390Z"
   },
   {
    "duration": 141,
    "start_time": "2022-12-01T10:40:12.477Z"
   },
   {
    "duration": 68,
    "start_time": "2022-12-01T10:40:12.619Z"
   },
   {
    "duration": 99,
    "start_time": "2022-12-01T10:40:12.689Z"
   },
   {
    "duration": 29,
    "start_time": "2022-12-01T10:40:12.790Z"
   },
   {
    "duration": 6,
    "start_time": "2022-12-01T10:40:12.821Z"
   },
   {
    "duration": 275,
    "start_time": "2022-12-01T10:40:12.851Z"
   },
   {
    "duration": 23,
    "start_time": "2022-12-01T10:40:13.128Z"
   },
   {
    "duration": 286,
    "start_time": "2022-12-01T10:40:13.153Z"
   },
   {
    "duration": 234,
    "start_time": "2022-12-01T10:40:13.441Z"
   },
   {
    "duration": 14,
    "start_time": "2022-12-01T10:41:08.111Z"
   },
   {
    "duration": 28,
    "start_time": "2022-12-01T10:41:29.994Z"
   },
   {
    "duration": 88,
    "start_time": "2022-12-01T10:42:17.089Z"
   },
   {
    "duration": 3,
    "start_time": "2022-12-01T10:42:25.115Z"
   },
   {
    "duration": 207,
    "start_time": "2022-12-01T10:42:25.121Z"
   },
   {
    "duration": 89,
    "start_time": "2022-12-01T10:42:25.329Z"
   },
   {
    "duration": 120,
    "start_time": "2022-12-01T10:42:25.421Z"
   },
   {
    "duration": 32,
    "start_time": "2022-12-01T10:42:25.543Z"
   },
   {
    "duration": 120,
    "start_time": "2022-12-01T10:42:25.577Z"
   },
   {
    "duration": 22,
    "start_time": "2022-12-01T10:42:25.698Z"
   },
   {
    "duration": 60,
    "start_time": "2022-12-01T10:42:25.722Z"
   },
   {
    "duration": 89,
    "start_time": "2022-12-01T10:42:25.784Z"
   },
   {
    "duration": 137,
    "start_time": "2022-12-01T10:42:25.876Z"
   },
   {
    "duration": 72,
    "start_time": "2022-12-01T10:42:26.015Z"
   },
   {
    "duration": 122,
    "start_time": "2022-12-01T10:42:26.089Z"
   },
   {
    "duration": 43,
    "start_time": "2022-12-01T10:42:26.213Z"
   },
   {
    "duration": 7,
    "start_time": "2022-12-01T10:42:26.259Z"
   },
   {
    "duration": 314,
    "start_time": "2022-12-01T10:42:26.270Z"
   },
   {
    "duration": 20,
    "start_time": "2022-12-01T10:42:26.586Z"
   },
   {
    "duration": 287,
    "start_time": "2022-12-01T10:42:26.608Z"
   },
   {
    "duration": 242,
    "start_time": "2022-12-01T10:42:26.896Z"
   },
   {
    "duration": 100,
    "start_time": "2022-12-01T10:42:27.140Z"
   },
   {
    "duration": 49,
    "start_time": "2022-12-01T20:00:49.767Z"
   },
   {
    "duration": 1222,
    "start_time": "2022-12-01T20:00:53.055Z"
   },
   {
    "duration": 293,
    "start_time": "2022-12-01T20:00:54.280Z"
   },
   {
    "duration": 100,
    "start_time": "2022-12-01T20:00:54.574Z"
   },
   {
    "duration": 150,
    "start_time": "2022-12-01T20:00:54.678Z"
   },
   {
    "duration": 22,
    "start_time": "2022-12-01T20:00:54.830Z"
   },
   {
    "duration": 99,
    "start_time": "2022-12-01T20:00:54.854Z"
   },
   {
    "duration": 23,
    "start_time": "2022-12-01T20:00:54.957Z"
   },
   {
    "duration": 55,
    "start_time": "2022-12-01T20:00:54.982Z"
   },
   {
    "duration": 96,
    "start_time": "2022-12-01T20:00:55.039Z"
   },
   {
    "duration": 126,
    "start_time": "2022-12-01T20:00:55.138Z"
   },
   {
    "duration": 65,
    "start_time": "2022-12-01T20:00:55.266Z"
   },
   {
    "duration": 89,
    "start_time": "2022-12-01T20:00:55.333Z"
   },
   {
    "duration": 25,
    "start_time": "2022-12-01T20:00:55.424Z"
   },
   {
    "duration": 6,
    "start_time": "2022-12-01T20:00:55.451Z"
   },
   {
    "duration": 292,
    "start_time": "2022-12-01T20:00:55.458Z"
   },
   {
    "duration": 13,
    "start_time": "2022-12-01T20:00:55.752Z"
   },
   {
    "duration": 254,
    "start_time": "2022-12-01T20:00:55.767Z"
   },
   {
    "duration": 268,
    "start_time": "2022-12-01T20:00:56.023Z"
   },
   {
    "duration": 78,
    "start_time": "2022-12-01T20:00:56.296Z"
   },
   {
    "duration": 28,
    "start_time": "2022-12-01T20:00:56.376Z"
   },
   {
    "duration": 64,
    "start_time": "2022-12-01T20:10:37.102Z"
   },
   {
    "duration": 16,
    "start_time": "2022-12-01T20:18:25.796Z"
   },
   {
    "duration": 66,
    "start_time": "2022-12-01T20:19:18.685Z"
   },
   {
    "duration": 126,
    "start_time": "2022-12-01T20:23:14.765Z"
   },
   {
    "duration": 144,
    "start_time": "2022-12-01T20:23:51.401Z"
   },
   {
    "duration": 142,
    "start_time": "2022-12-01T20:23:56.707Z"
   },
   {
    "duration": 59,
    "start_time": "2022-12-01T20:24:29.736Z"
   },
   {
    "duration": 152,
    "start_time": "2022-12-01T20:24:32.305Z"
   },
   {
    "duration": 148,
    "start_time": "2022-12-01T20:26:10.050Z"
   },
   {
    "duration": 121,
    "start_time": "2022-12-01T20:26:30.133Z"
   },
   {
    "duration": 189,
    "start_time": "2022-12-01T20:28:09.166Z"
   },
   {
    "duration": 153,
    "start_time": "2022-12-01T20:29:06.934Z"
   },
   {
    "duration": 148,
    "start_time": "2022-12-01T20:29:12.614Z"
   },
   {
    "duration": 132,
    "start_time": "2022-12-01T20:30:31.620Z"
   },
   {
    "duration": 160,
    "start_time": "2022-12-01T20:31:24.123Z"
   },
   {
    "duration": 125,
    "start_time": "2022-12-01T20:32:11.631Z"
   },
   {
    "duration": 80,
    "start_time": "2022-12-01T20:32:19.553Z"
   },
   {
    "duration": 144,
    "start_time": "2022-12-01T20:34:03.007Z"
   },
   {
    "duration": 122,
    "start_time": "2022-12-01T20:34:28.453Z"
   },
   {
    "duration": 123,
    "start_time": "2022-12-01T20:34:52.662Z"
   },
   {
    "duration": 81,
    "start_time": "2022-12-01T20:35:15.422Z"
   },
   {
    "duration": 4,
    "start_time": "2022-12-01T20:36:53.474Z"
   },
   {
    "duration": 226,
    "start_time": "2022-12-01T20:36:53.480Z"
   },
   {
    "duration": 94,
    "start_time": "2022-12-01T20:36:53.707Z"
   },
   {
    "duration": 124,
    "start_time": "2022-12-01T20:36:53.803Z"
   },
   {
    "duration": 23,
    "start_time": "2022-12-01T20:36:53.929Z"
   },
   {
    "duration": 111,
    "start_time": "2022-12-01T20:36:53.954Z"
   },
   {
    "duration": 33,
    "start_time": "2022-12-01T20:36:54.067Z"
   },
   {
    "duration": 49,
    "start_time": "2022-12-01T20:36:54.102Z"
   },
   {
    "duration": 101,
    "start_time": "2022-12-01T20:36:54.153Z"
   },
   {
    "duration": 125,
    "start_time": "2022-12-01T20:36:54.257Z"
   },
   {
    "duration": 54,
    "start_time": "2022-12-01T20:36:54.384Z"
   },
   {
    "duration": 100,
    "start_time": "2022-12-01T20:36:54.440Z"
   },
   {
    "duration": 27,
    "start_time": "2022-12-01T20:36:54.542Z"
   },
   {
    "duration": 30,
    "start_time": "2022-12-01T20:36:54.571Z"
   },
   {
    "duration": 262,
    "start_time": "2022-12-01T20:36:54.602Z"
   },
   {
    "duration": 15,
    "start_time": "2022-12-01T20:36:54.866Z"
   },
   {
    "duration": 235,
    "start_time": "2022-12-01T20:36:54.896Z"
   },
   {
    "duration": 312,
    "start_time": "2022-12-01T20:36:55.133Z"
   },
   {
    "duration": 93,
    "start_time": "2022-12-01T20:36:55.447Z"
   },
   {
    "duration": 17,
    "start_time": "2022-12-01T20:36:55.541Z"
   },
   {
    "duration": 80,
    "start_time": "2022-12-01T20:36:55.560Z"
   },
   {
    "duration": 103,
    "start_time": "2022-12-01T20:36:55.642Z"
   },
   {
    "duration": 3,
    "start_time": "2022-12-01T20:37:05.392Z"
   },
   {
    "duration": 88,
    "start_time": "2022-12-01T20:37:27.856Z"
   },
   {
    "duration": 87,
    "start_time": "2022-12-01T20:37:46.562Z"
   },
   {
    "duration": 90,
    "start_time": "2022-12-01T20:37:55.276Z"
   },
   {
    "duration": 86,
    "start_time": "2022-12-01T20:38:03.028Z"
   },
   {
    "duration": 97,
    "start_time": "2022-12-01T20:38:17.000Z"
   },
   {
    "duration": 10,
    "start_time": "2022-12-01T20:38:24.222Z"
   },
   {
    "duration": 84,
    "start_time": "2022-12-01T20:39:27.028Z"
   },
   {
    "duration": 193,
    "start_time": "2022-12-01T20:39:48.622Z"
   },
   {
    "duration": 5,
    "start_time": "2022-12-01T20:39:55.533Z"
   },
   {
    "duration": 174,
    "start_time": "2022-12-01T20:39:55.540Z"
   },
   {
    "duration": 96,
    "start_time": "2022-12-01T20:39:55.715Z"
   },
   {
    "duration": 132,
    "start_time": "2022-12-01T20:39:55.814Z"
   },
   {
    "duration": 28,
    "start_time": "2022-12-01T20:39:55.948Z"
   },
   {
    "duration": 129,
    "start_time": "2022-12-01T20:39:55.978Z"
   },
   {
    "duration": 23,
    "start_time": "2022-12-01T20:39:56.109Z"
   },
   {
    "duration": 68,
    "start_time": "2022-12-01T20:39:56.134Z"
   },
   {
    "duration": 66,
    "start_time": "2022-12-01T20:39:56.204Z"
   },
   {
    "duration": 125,
    "start_time": "2022-12-01T20:39:56.272Z"
   },
   {
    "duration": 49,
    "start_time": "2022-12-01T20:39:56.399Z"
   },
   {
    "duration": 100,
    "start_time": "2022-12-01T20:39:56.450Z"
   },
   {
    "duration": 47,
    "start_time": "2022-12-01T20:39:56.552Z"
   },
   {
    "duration": 6,
    "start_time": "2022-12-01T20:39:56.602Z"
   },
   {
    "duration": 266,
    "start_time": "2022-12-01T20:39:56.610Z"
   },
   {
    "duration": 20,
    "start_time": "2022-12-01T20:39:56.878Z"
   },
   {
    "duration": 203,
    "start_time": "2022-12-01T20:39:56.900Z"
   },
   {
    "duration": 217,
    "start_time": "2022-12-01T20:39:57.105Z"
   },
   {
    "duration": 86,
    "start_time": "2022-12-01T20:39:57.324Z"
   },
   {
    "duration": 16,
    "start_time": "2022-12-01T20:39:57.412Z"
   },
   {
    "duration": 78,
    "start_time": "2022-12-01T20:39:57.430Z"
   },
   {
    "duration": 4,
    "start_time": "2022-12-01T20:39:57.510Z"
   },
   {
    "duration": 101,
    "start_time": "2022-12-01T20:39:57.515Z"
   },
   {
    "duration": 170,
    "start_time": "2022-12-01T20:40:30.449Z"
   },
   {
    "duration": 90,
    "start_time": "2022-12-01T20:40:41.276Z"
   },
   {
    "duration": 113,
    "start_time": "2022-12-01T20:40:57.309Z"
   },
   {
    "duration": 81,
    "start_time": "2022-12-01T20:41:04.674Z"
   },
   {
    "duration": 83,
    "start_time": "2022-12-01T20:41:10.134Z"
   },
   {
    "duration": 85,
    "start_time": "2022-12-01T20:41:17.440Z"
   },
   {
    "duration": 83,
    "start_time": "2022-12-01T20:41:49.930Z"
   },
   {
    "duration": 85,
    "start_time": "2022-12-01T20:41:56.342Z"
   },
   {
    "duration": 112,
    "start_time": "2022-12-01T20:42:13.119Z"
   },
   {
    "duration": 85,
    "start_time": "2022-12-01T20:42:18.842Z"
   },
   {
    "duration": 121,
    "start_time": "2022-12-01T20:43:06.322Z"
   },
   {
    "duration": 80,
    "start_time": "2022-12-01T20:43:12.127Z"
   },
   {
    "duration": 91,
    "start_time": "2022-12-01T20:43:20.516Z"
   },
   {
    "duration": 5,
    "start_time": "2022-12-01T20:43:44.426Z"
   },
   {
    "duration": 83,
    "start_time": "2022-12-01T20:44:09.321Z"
   },
   {
    "duration": 88,
    "start_time": "2022-12-01T20:44:21.321Z"
   },
   {
    "duration": 168,
    "start_time": "2022-12-01T20:45:19.422Z"
   },
   {
    "duration": 90,
    "start_time": "2022-12-01T20:46:13.464Z"
   },
   {
    "duration": 86,
    "start_time": "2022-12-01T20:47:00.497Z"
   },
   {
    "duration": 4,
    "start_time": "2022-12-01T20:48:45.856Z"
   },
   {
    "duration": 198,
    "start_time": "2022-12-01T20:48:45.862Z"
   },
   {
    "duration": 99,
    "start_time": "2022-12-01T20:48:46.063Z"
   },
   {
    "duration": 120,
    "start_time": "2022-12-01T20:48:46.164Z"
   },
   {
    "duration": 31,
    "start_time": "2022-12-01T20:48:46.286Z"
   },
   {
    "duration": 102,
    "start_time": "2022-12-01T20:48:46.319Z"
   },
   {
    "duration": 19,
    "start_time": "2022-12-01T20:48:46.422Z"
   },
   {
    "duration": 60,
    "start_time": "2022-12-01T20:48:46.443Z"
   },
   {
    "duration": 69,
    "start_time": "2022-12-01T20:48:46.505Z"
   },
   {
    "duration": 134,
    "start_time": "2022-12-01T20:48:46.575Z"
   },
   {
    "duration": 50,
    "start_time": "2022-12-01T20:48:46.711Z"
   },
   {
    "duration": 93,
    "start_time": "2022-12-01T20:48:46.763Z"
   },
   {
    "duration": 48,
    "start_time": "2022-12-01T20:48:46.858Z"
   },
   {
    "duration": 7,
    "start_time": "2022-12-01T20:48:46.909Z"
   },
   {
    "duration": 305,
    "start_time": "2022-12-01T20:48:46.918Z"
   },
   {
    "duration": 14,
    "start_time": "2022-12-01T20:48:47.225Z"
   },
   {
    "duration": 226,
    "start_time": "2022-12-01T20:48:47.241Z"
   },
   {
    "duration": 218,
    "start_time": "2022-12-01T20:48:47.469Z"
   },
   {
    "duration": 80,
    "start_time": "2022-12-01T20:48:47.697Z"
   },
   {
    "duration": 28,
    "start_time": "2022-12-01T20:48:47.779Z"
   },
   {
    "duration": 65,
    "start_time": "2022-12-01T20:48:47.809Z"
   },
   {
    "duration": 122,
    "start_time": "2022-12-01T20:48:47.876Z"
   },
   {
    "duration": 82,
    "start_time": "2022-12-01T20:48:59.013Z"
   },
   {
    "duration": 3,
    "start_time": "2022-12-01T20:49:38.054Z"
   },
   {
    "duration": 175,
    "start_time": "2022-12-01T20:49:38.059Z"
   },
   {
    "duration": 92,
    "start_time": "2022-12-01T20:49:38.236Z"
   },
   {
    "duration": 133,
    "start_time": "2022-12-01T20:49:38.331Z"
   },
   {
    "duration": 44,
    "start_time": "2022-12-01T20:49:38.467Z"
   },
   {
    "duration": 103,
    "start_time": "2022-12-01T20:49:38.513Z"
   },
   {
    "duration": 18,
    "start_time": "2022-12-01T20:49:38.618Z"
   },
   {
    "duration": 60,
    "start_time": "2022-12-01T20:49:38.637Z"
   },
   {
    "duration": 71,
    "start_time": "2022-12-01T20:49:38.699Z"
   },
   {
    "duration": 130,
    "start_time": "2022-12-01T20:49:38.772Z"
   },
   {
    "duration": 56,
    "start_time": "2022-12-01T20:49:38.905Z"
   },
   {
    "duration": 96,
    "start_time": "2022-12-01T20:49:38.963Z"
   },
   {
    "duration": 40,
    "start_time": "2022-12-01T20:49:39.062Z"
   },
   {
    "duration": 6,
    "start_time": "2022-12-01T20:49:39.105Z"
   },
   {
    "duration": 263,
    "start_time": "2022-12-01T20:49:39.113Z"
   },
   {
    "duration": 23,
    "start_time": "2022-12-01T20:49:39.378Z"
   },
   {
    "duration": 212,
    "start_time": "2022-12-01T20:49:39.403Z"
   },
   {
    "duration": 211,
    "start_time": "2022-12-01T20:49:39.617Z"
   },
   {
    "duration": 94,
    "start_time": "2022-12-01T20:49:39.830Z"
   },
   {
    "duration": 18,
    "start_time": "2022-12-01T20:49:39.926Z"
   },
   {
    "duration": 84,
    "start_time": "2022-12-01T20:49:39.946Z"
   },
   {
    "duration": 97,
    "start_time": "2022-12-01T20:49:40.031Z"
   },
   {
    "duration": 216,
    "start_time": "2022-12-01T20:50:23.783Z"
   },
   {
    "duration": 160,
    "start_time": "2022-12-01T20:50:32.438Z"
   },
   {
    "duration": 92,
    "start_time": "2022-12-01T20:50:51.404Z"
   },
   {
    "duration": 113,
    "start_time": "2022-12-01T20:51:04.098Z"
   },
   {
    "duration": 83,
    "start_time": "2022-12-01T20:51:17.235Z"
   },
   {
    "duration": 83,
    "start_time": "2022-12-01T20:51:22.390Z"
   },
   {
    "duration": 111,
    "start_time": "2022-12-01T20:52:35.049Z"
   },
   {
    "duration": 111,
    "start_time": "2022-12-01T20:52:46.959Z"
   },
   {
    "duration": 89,
    "start_time": "2022-12-01T20:52:50.965Z"
   },
   {
    "duration": 88,
    "start_time": "2022-12-01T20:53:23.663Z"
   },
   {
    "duration": 90,
    "start_time": "2022-12-01T20:54:49.006Z"
   },
   {
    "duration": 82,
    "start_time": "2022-12-01T20:54:57.384Z"
   },
   {
    "duration": 84,
    "start_time": "2022-12-01T20:56:09.733Z"
   },
   {
    "duration": 83,
    "start_time": "2022-12-01T20:56:14.766Z"
   },
   {
    "duration": 84,
    "start_time": "2022-12-01T20:56:19.560Z"
   },
   {
    "duration": 166,
    "start_time": "2022-12-01T20:56:32.394Z"
   },
   {
    "duration": 86,
    "start_time": "2022-12-01T20:56:38.710Z"
   },
   {
    "duration": 87,
    "start_time": "2022-12-01T20:56:46.413Z"
   },
   {
    "duration": 88,
    "start_time": "2022-12-01T20:56:53.629Z"
   },
   {
    "duration": 83,
    "start_time": "2022-12-01T20:57:02.312Z"
   },
   {
    "duration": 83,
    "start_time": "2022-12-01T20:57:08.942Z"
   },
   {
    "duration": 84,
    "start_time": "2022-12-01T20:57:19.712Z"
   },
   {
    "duration": 79,
    "start_time": "2022-12-01T20:57:24.485Z"
   },
   {
    "duration": 82,
    "start_time": "2022-12-01T20:57:29.703Z"
   },
   {
    "duration": 83,
    "start_time": "2022-12-01T20:57:37.624Z"
   },
   {
    "duration": 82,
    "start_time": "2022-12-01T20:57:42.052Z"
   },
   {
    "duration": 91,
    "start_time": "2022-12-01T20:57:47.265Z"
   },
   {
    "duration": 81,
    "start_time": "2022-12-01T20:57:52.525Z"
   },
   {
    "duration": 83,
    "start_time": "2022-12-01T20:57:58.964Z"
   },
   {
    "duration": 161,
    "start_time": "2022-12-01T20:58:07.162Z"
   },
   {
    "duration": 83,
    "start_time": "2022-12-01T20:58:18.751Z"
   },
   {
    "duration": 87,
    "start_time": "2022-12-01T20:58:27.849Z"
   },
   {
    "duration": 90,
    "start_time": "2022-12-01T20:58:33.278Z"
   },
   {
    "duration": 84,
    "start_time": "2022-12-01T20:58:41.605Z"
   },
   {
    "duration": 86,
    "start_time": "2022-12-01T20:58:48.431Z"
   },
   {
    "duration": 87,
    "start_time": "2022-12-01T20:58:57.459Z"
   },
   {
    "duration": 3,
    "start_time": "2022-12-01T20:59:45.467Z"
   },
   {
    "duration": 189,
    "start_time": "2022-12-01T20:59:57.639Z"
   },
   {
    "duration": 194,
    "start_time": "2022-12-01T21:00:28.885Z"
   },
   {
    "duration": 208,
    "start_time": "2022-12-01T21:00:33.518Z"
   },
   {
    "duration": 194,
    "start_time": "2022-12-01T21:00:45.625Z"
   },
   {
    "duration": 3,
    "start_time": "2022-12-01T21:00:50.881Z"
   },
   {
    "duration": 162,
    "start_time": "2022-12-01T21:00:50.886Z"
   },
   {
    "duration": 83,
    "start_time": "2022-12-01T21:00:51.050Z"
   },
   {
    "duration": 119,
    "start_time": "2022-12-01T21:00:51.134Z"
   },
   {
    "duration": 24,
    "start_time": "2022-12-01T21:00:51.255Z"
   },
   {
    "duration": 84,
    "start_time": "2022-12-01T21:00:51.296Z"
   },
   {
    "duration": 31,
    "start_time": "2022-12-01T21:00:51.382Z"
   },
   {
    "duration": 41,
    "start_time": "2022-12-01T21:00:51.415Z"
   },
   {
    "duration": 96,
    "start_time": "2022-12-01T21:00:51.458Z"
   },
   {
    "duration": 120,
    "start_time": "2022-12-01T21:00:51.555Z"
   },
   {
    "duration": 58,
    "start_time": "2022-12-01T21:00:51.677Z"
   },
   {
    "duration": 104,
    "start_time": "2022-12-01T21:00:51.737Z"
   },
   {
    "duration": 27,
    "start_time": "2022-12-01T21:00:51.843Z"
   },
   {
    "duration": 7,
    "start_time": "2022-12-01T21:00:51.896Z"
   },
   {
    "duration": 5,
    "start_time": "2022-12-01T21:00:51.905Z"
   },
   {
    "duration": 292,
    "start_time": "2022-12-01T21:00:51.912Z"
   },
   {
    "duration": 17,
    "start_time": "2022-12-01T21:00:52.206Z"
   },
   {
    "duration": 236,
    "start_time": "2022-12-01T21:00:52.224Z"
   },
   {
    "duration": 311,
    "start_time": "2022-12-01T21:00:52.462Z"
   },
   {
    "duration": 86,
    "start_time": "2022-12-01T21:00:52.774Z"
   },
   {
    "duration": 35,
    "start_time": "2022-12-01T21:00:52.862Z"
   },
   {
    "duration": 61,
    "start_time": "2022-12-01T21:00:52.899Z"
   },
   {
    "duration": 109,
    "start_time": "2022-12-01T21:00:52.962Z"
   },
   {
    "duration": 3,
    "start_time": "2022-12-01T21:01:06.670Z"
   },
   {
    "duration": 174,
    "start_time": "2022-12-01T21:01:06.674Z"
   },
   {
    "duration": 87,
    "start_time": "2022-12-01T21:01:06.849Z"
   },
   {
    "duration": 117,
    "start_time": "2022-12-01T21:01:06.938Z"
   },
   {
    "duration": 21,
    "start_time": "2022-12-01T21:01:07.058Z"
   },
   {
    "duration": 95,
    "start_time": "2022-12-01T21:01:07.080Z"
   },
   {
    "duration": 35,
    "start_time": "2022-12-01T21:01:07.177Z"
   },
   {
    "duration": 40,
    "start_time": "2022-12-01T21:01:07.214Z"
   },
   {
    "duration": 95,
    "start_time": "2022-12-01T21:01:07.256Z"
   },
   {
    "duration": 122,
    "start_time": "2022-12-01T21:01:07.353Z"
   },
   {
    "duration": 59,
    "start_time": "2022-12-01T21:01:07.477Z"
   },
   {
    "duration": 103,
    "start_time": "2022-12-01T21:01:07.538Z"
   },
   {
    "duration": 27,
    "start_time": "2022-12-01T21:01:07.644Z"
   },
   {
    "duration": 27,
    "start_time": "2022-12-01T21:01:07.673Z"
   },
   {
    "duration": 4,
    "start_time": "2022-12-01T21:01:07.702Z"
   },
   {
    "duration": 280,
    "start_time": "2022-12-01T21:01:07.708Z"
   },
   {
    "duration": 18,
    "start_time": "2022-12-01T21:01:07.989Z"
   },
   {
    "duration": 229,
    "start_time": "2022-12-01T21:01:08.008Z"
   },
   {
    "duration": 226,
    "start_time": "2022-12-01T21:01:08.239Z"
   },
   {
    "duration": 97,
    "start_time": "2022-12-01T21:01:08.467Z"
   },
   {
    "duration": 30,
    "start_time": "2022-12-01T21:01:08.566Z"
   },
   {
    "duration": 71,
    "start_time": "2022-12-01T21:01:08.599Z"
   },
   {
    "duration": 112,
    "start_time": "2022-12-01T21:01:08.671Z"
   },
   {
    "duration": 201,
    "start_time": "2022-12-01T21:01:43.643Z"
   },
   {
    "duration": 204,
    "start_time": "2022-12-01T21:01:54.473Z"
   },
   {
    "duration": 192,
    "start_time": "2022-12-01T21:02:03.761Z"
   },
   {
    "duration": 227,
    "start_time": "2022-12-01T21:02:13.859Z"
   },
   {
    "duration": 4,
    "start_time": "2022-12-01T21:02:25.647Z"
   },
   {
    "duration": 171,
    "start_time": "2022-12-01T21:02:25.653Z"
   },
   {
    "duration": 94,
    "start_time": "2022-12-01T21:02:25.825Z"
   },
   {
    "duration": 144,
    "start_time": "2022-12-01T21:02:25.921Z"
   },
   {
    "duration": 41,
    "start_time": "2022-12-01T21:02:26.068Z"
   },
   {
    "duration": 105,
    "start_time": "2022-12-01T21:02:26.111Z"
   },
   {
    "duration": 18,
    "start_time": "2022-12-01T21:02:26.217Z"
   },
   {
    "duration": 61,
    "start_time": "2022-12-01T21:02:26.237Z"
   },
   {
    "duration": 68,
    "start_time": "2022-12-01T21:02:26.300Z"
   },
   {
    "duration": 126,
    "start_time": "2022-12-01T21:02:26.370Z"
   },
   {
    "duration": 53,
    "start_time": "2022-12-01T21:02:26.499Z"
   },
   {
    "duration": 110,
    "start_time": "2022-12-01T21:02:26.554Z"
   },
   {
    "duration": 44,
    "start_time": "2022-12-01T21:02:26.666Z"
   },
   {
    "duration": 5,
    "start_time": "2022-12-01T21:02:26.714Z"
   },
   {
    "duration": 4,
    "start_time": "2022-12-01T21:02:26.721Z"
   },
   {
    "duration": 328,
    "start_time": "2022-12-01T21:02:26.727Z"
   },
   {
    "duration": 14,
    "start_time": "2022-12-01T21:02:27.057Z"
   },
   {
    "duration": 227,
    "start_time": "2022-12-01T21:02:27.072Z"
   },
   {
    "duration": 246,
    "start_time": "2022-12-01T21:02:27.301Z"
   },
   {
    "duration": 96,
    "start_time": "2022-12-01T21:02:27.548Z"
   },
   {
    "duration": 17,
    "start_time": "2022-12-01T21:02:27.646Z"
   },
   {
    "duration": 72,
    "start_time": "2022-12-01T21:02:27.665Z"
   },
   {
    "duration": 187,
    "start_time": "2022-12-01T21:02:27.739Z"
   },
   {
    "duration": 212,
    "start_time": "2022-12-01T21:02:58.296Z"
   },
   {
    "duration": 225,
    "start_time": "2022-12-01T21:03:35.359Z"
   },
   {
    "duration": 214,
    "start_time": "2022-12-01T21:03:49.900Z"
   },
   {
    "duration": 224,
    "start_time": "2022-12-01T21:03:59.492Z"
   },
   {
    "duration": 215,
    "start_time": "2022-12-01T21:04:07.775Z"
   },
   {
    "duration": 217,
    "start_time": "2022-12-01T21:04:22.236Z"
   },
   {
    "duration": 3,
    "start_time": "2022-12-01T21:04:26.129Z"
   },
   {
    "duration": 176,
    "start_time": "2022-12-01T21:04:26.135Z"
   },
   {
    "duration": 97,
    "start_time": "2022-12-01T21:04:26.313Z"
   },
   {
    "duration": 112,
    "start_time": "2022-12-01T21:04:26.412Z"
   },
   {
    "duration": 21,
    "start_time": "2022-12-01T21:04:26.526Z"
   },
   {
    "duration": 98,
    "start_time": "2022-12-01T21:04:26.549Z"
   },
   {
    "duration": 18,
    "start_time": "2022-12-01T21:04:26.649Z"
   },
   {
    "duration": 57,
    "start_time": "2022-12-01T21:04:26.669Z"
   },
   {
    "duration": 77,
    "start_time": "2022-12-01T21:04:26.727Z"
   },
   {
    "duration": 116,
    "start_time": "2022-12-01T21:04:26.806Z"
   },
   {
    "duration": 53,
    "start_time": "2022-12-01T21:04:26.924Z"
   },
   {
    "duration": 93,
    "start_time": "2022-12-01T21:04:26.979Z"
   },
   {
    "duration": 42,
    "start_time": "2022-12-01T21:04:27.073Z"
   },
   {
    "duration": 7,
    "start_time": "2022-12-01T21:04:27.118Z"
   },
   {
    "duration": 6,
    "start_time": "2022-12-01T21:04:27.126Z"
   },
   {
    "duration": 310,
    "start_time": "2022-12-01T21:04:27.134Z"
   },
   {
    "duration": 13,
    "start_time": "2022-12-01T21:04:27.446Z"
   },
   {
    "duration": 224,
    "start_time": "2022-12-01T21:04:27.460Z"
   },
   {
    "duration": 231,
    "start_time": "2022-12-01T21:04:27.685Z"
   },
   {
    "duration": 94,
    "start_time": "2022-12-01T21:04:27.918Z"
   },
   {
    "duration": 15,
    "start_time": "2022-12-01T21:04:28.014Z"
   },
   {
    "duration": 73,
    "start_time": "2022-12-01T21:04:28.031Z"
   },
   {
    "duration": 96,
    "start_time": "2022-12-01T21:04:28.106Z"
   },
   {
    "duration": 99,
    "start_time": "2022-12-01T21:05:41.247Z"
   },
   {
    "duration": 166,
    "start_time": "2022-12-01T21:05:54.892Z"
   },
   {
    "duration": 12,
    "start_time": "2022-12-01T21:06:56.119Z"
   },
   {
    "duration": 85,
    "start_time": "2022-12-01T21:07:25.692Z"
   },
   {
    "duration": 106,
    "start_time": "2022-12-01T21:08:13.373Z"
   },
   {
    "duration": 192,
    "start_time": "2022-12-01T21:09:10.978Z"
   },
   {
    "duration": 225,
    "start_time": "2022-12-01T21:09:35.908Z"
   },
   {
    "duration": 112,
    "start_time": "2022-12-01T21:10:21.059Z"
   },
   {
    "duration": 115,
    "start_time": "2022-12-01T21:10:34.193Z"
   },
   {
    "duration": 108,
    "start_time": "2022-12-01T21:11:03.137Z"
   },
   {
    "duration": 107,
    "start_time": "2022-12-01T21:11:13.707Z"
   },
   {
    "duration": 110,
    "start_time": "2022-12-01T21:11:18.075Z"
   },
   {
    "duration": 116,
    "start_time": "2022-12-01T21:11:26.249Z"
   },
   {
    "duration": 108,
    "start_time": "2022-12-01T21:11:44.871Z"
   },
   {
    "duration": 123,
    "start_time": "2022-12-01T21:11:54.992Z"
   },
   {
    "duration": 114,
    "start_time": "2022-12-01T21:12:23.927Z"
   },
   {
    "duration": 216,
    "start_time": "2022-12-01T21:12:41.694Z"
   },
   {
    "duration": 112,
    "start_time": "2022-12-01T21:12:50.068Z"
   },
   {
    "duration": 113,
    "start_time": "2022-12-01T21:14:52.754Z"
   },
   {
    "duration": 113,
    "start_time": "2022-12-01T21:15:45.639Z"
   },
   {
    "duration": 119,
    "start_time": "2022-12-01T21:16:04.507Z"
   },
   {
    "duration": 61,
    "start_time": "2022-12-01T21:16:20.206Z"
   },
   {
    "duration": 109,
    "start_time": "2022-12-01T21:16:28.667Z"
   },
   {
    "duration": 114,
    "start_time": "2022-12-01T21:16:38.120Z"
   },
   {
    "duration": 109,
    "start_time": "2022-12-01T21:17:12.508Z"
   },
   {
    "duration": 103,
    "start_time": "2022-12-01T21:17:53.422Z"
   },
   {
    "duration": 107,
    "start_time": "2022-12-01T21:18:03.041Z"
   },
   {
    "duration": 115,
    "start_time": "2022-12-01T21:18:08.002Z"
   },
   {
    "duration": 168,
    "start_time": "2022-12-01T21:18:51.002Z"
   },
   {
    "duration": 161,
    "start_time": "2022-12-01T21:19:18.853Z"
   },
   {
    "duration": 3,
    "start_time": "2022-12-01T21:19:21.335Z"
   },
   {
    "duration": 174,
    "start_time": "2022-12-01T21:19:21.341Z"
   },
   {
    "duration": 88,
    "start_time": "2022-12-01T21:19:21.517Z"
   },
   {
    "duration": 120,
    "start_time": "2022-12-01T21:19:21.608Z"
   },
   {
    "duration": 21,
    "start_time": "2022-12-01T21:19:21.730Z"
   },
   {
    "duration": 100,
    "start_time": "2022-12-01T21:19:21.753Z"
   },
   {
    "duration": 21,
    "start_time": "2022-12-01T21:19:21.855Z"
   },
   {
    "duration": 144,
    "start_time": "2022-12-01T21:19:21.878Z"
   },
   {
    "duration": 79,
    "start_time": "2022-12-01T21:19:22.024Z"
   },
   {
    "duration": 116,
    "start_time": "2022-12-01T21:19:22.105Z"
   },
   {
    "duration": 48,
    "start_time": "2022-12-01T21:19:22.223Z"
   },
   {
    "duration": 94,
    "start_time": "2022-12-01T21:19:22.273Z"
   },
   {
    "duration": 40,
    "start_time": "2022-12-01T21:19:22.369Z"
   },
   {
    "duration": 6,
    "start_time": "2022-12-01T21:19:22.410Z"
   },
   {
    "duration": 7,
    "start_time": "2022-12-01T21:19:22.418Z"
   },
   {
    "duration": 299,
    "start_time": "2022-12-01T21:19:22.427Z"
   },
   {
    "duration": 14,
    "start_time": "2022-12-01T21:19:22.727Z"
   },
   {
    "duration": 223,
    "start_time": "2022-12-01T21:19:22.743Z"
   },
   {
    "duration": 234,
    "start_time": "2022-12-01T21:19:22.968Z"
   },
   {
    "duration": 93,
    "start_time": "2022-12-01T21:19:23.204Z"
   },
   {
    "duration": 17,
    "start_time": "2022-12-01T21:19:23.298Z"
   },
   {
    "duration": 82,
    "start_time": "2022-12-01T21:19:23.317Z"
   },
   {
    "duration": 176,
    "start_time": "2022-12-01T21:19:23.401Z"
   },
   {
    "duration": 116,
    "start_time": "2022-12-01T21:19:37.356Z"
   },
   {
    "duration": 113,
    "start_time": "2022-12-01T21:19:51.027Z"
   },
   {
    "duration": 113,
    "start_time": "2022-12-01T21:20:44.934Z"
   },
   {
    "duration": 113,
    "start_time": "2022-12-01T21:20:51.474Z"
   },
   {
    "duration": 511,
    "start_time": "2022-12-01T21:22:58.559Z"
   },
   {
    "duration": 46,
    "start_time": "2022-12-01T21:23:43.935Z"
   },
   {
    "duration": 65,
    "start_time": "2022-12-01T21:24:06.239Z"
   },
   {
    "duration": 11,
    "start_time": "2022-12-01T21:24:33.566Z"
   },
   {
    "duration": 4,
    "start_time": "2022-12-01T21:24:40.376Z"
   },
   {
    "duration": 172,
    "start_time": "2022-12-01T21:24:40.382Z"
   },
   {
    "duration": 100,
    "start_time": "2022-12-01T21:24:40.556Z"
   },
   {
    "duration": 128,
    "start_time": "2022-12-01T21:24:40.658Z"
   },
   {
    "duration": 23,
    "start_time": "2022-12-01T21:24:40.796Z"
   },
   {
    "duration": 110,
    "start_time": "2022-12-01T21:24:40.821Z"
   },
   {
    "duration": 21,
    "start_time": "2022-12-01T21:24:40.934Z"
   },
   {
    "duration": 67,
    "start_time": "2022-12-01T21:24:40.957Z"
   },
   {
    "duration": 97,
    "start_time": "2022-12-01T21:24:41.026Z"
   },
   {
    "duration": 127,
    "start_time": "2022-12-01T21:24:41.125Z"
   },
   {
    "duration": 64,
    "start_time": "2022-12-01T21:24:41.253Z"
   },
   {
    "duration": 99,
    "start_time": "2022-12-01T21:24:41.319Z"
   },
   {
    "duration": 26,
    "start_time": "2022-12-01T21:24:41.420Z"
   },
   {
    "duration": 5,
    "start_time": "2022-12-01T21:24:41.449Z"
   },
   {
    "duration": 4,
    "start_time": "2022-12-01T21:24:41.455Z"
   },
   {
    "duration": 289,
    "start_time": "2022-12-01T21:24:41.496Z"
   },
   {
    "duration": 15,
    "start_time": "2022-12-01T21:24:41.787Z"
   },
   {
    "duration": 245,
    "start_time": "2022-12-01T21:24:41.804Z"
   },
   {
    "duration": 245,
    "start_time": "2022-12-01T21:24:42.051Z"
   },
   {
    "duration": 98,
    "start_time": "2022-12-01T21:24:42.298Z"
   },
   {
    "duration": 19,
    "start_time": "2022-12-01T21:24:42.399Z"
   },
   {
    "duration": 89,
    "start_time": "2022-12-01T21:24:42.421Z"
   },
   {
    "duration": 138,
    "start_time": "2022-12-01T21:24:42.512Z"
   },
   {
    "duration": 53,
    "start_time": "2022-12-01T21:24:42.652Z"
   },
   {
    "duration": 46,
    "start_time": "2022-12-01T21:25:09.940Z"
   },
   {
    "duration": 46,
    "start_time": "2022-12-01T21:25:50.854Z"
   },
   {
    "duration": 12,
    "start_time": "2022-12-01T21:29:12.600Z"
   },
   {
    "duration": 3,
    "start_time": "2022-12-01T21:29:20.322Z"
   },
   {
    "duration": 175,
    "start_time": "2022-12-01T21:29:20.327Z"
   },
   {
    "duration": 77,
    "start_time": "2022-12-01T21:29:20.503Z"
   },
   {
    "duration": 109,
    "start_time": "2022-12-01T21:29:20.596Z"
   },
   {
    "duration": 22,
    "start_time": "2022-12-01T21:29:20.707Z"
   },
   {
    "duration": 102,
    "start_time": "2022-12-01T21:29:20.731Z"
   },
   {
    "duration": 20,
    "start_time": "2022-12-01T21:29:20.834Z"
   },
   {
    "duration": 62,
    "start_time": "2022-12-01T21:29:20.855Z"
   },
   {
    "duration": 64,
    "start_time": "2022-12-01T21:29:20.918Z"
   },
   {
    "duration": 123,
    "start_time": "2022-12-01T21:29:20.983Z"
   },
   {
    "duration": 48,
    "start_time": "2022-12-01T21:29:21.108Z"
   },
   {
    "duration": 98,
    "start_time": "2022-12-01T21:29:21.158Z"
   },
   {
    "duration": 45,
    "start_time": "2022-12-01T21:29:21.259Z"
   },
   {
    "duration": 5,
    "start_time": "2022-12-01T21:29:21.306Z"
   },
   {
    "duration": 13,
    "start_time": "2022-12-01T21:29:21.313Z"
   },
   {
    "duration": 289,
    "start_time": "2022-12-01T21:29:21.327Z"
   },
   {
    "duration": 14,
    "start_time": "2022-12-01T21:29:21.618Z"
   },
   {
    "duration": 213,
    "start_time": "2022-12-01T21:29:21.633Z"
   },
   {
    "duration": 234,
    "start_time": "2022-12-01T21:29:21.847Z"
   },
   {
    "duration": 86,
    "start_time": "2022-12-01T21:29:22.083Z"
   },
   {
    "duration": 28,
    "start_time": "2022-12-01T21:29:22.171Z"
   },
   {
    "duration": 59,
    "start_time": "2022-12-01T21:29:22.200Z"
   },
   {
    "duration": 144,
    "start_time": "2022-12-01T21:29:22.261Z"
   },
   {
    "duration": 45,
    "start_time": "2022-12-02T11:25:02.163Z"
   },
   {
    "duration": 1221,
    "start_time": "2022-12-02T11:25:07.366Z"
   },
   {
    "duration": 328,
    "start_time": "2022-12-02T11:25:08.590Z"
   },
   {
    "duration": 88,
    "start_time": "2022-12-02T11:25:08.919Z"
   },
   {
    "duration": 143,
    "start_time": "2022-12-02T11:25:09.009Z"
   },
   {
    "duration": 22,
    "start_time": "2022-12-02T11:25:09.154Z"
   },
   {
    "duration": 99,
    "start_time": "2022-12-02T11:25:09.177Z"
   },
   {
    "duration": 18,
    "start_time": "2022-12-02T11:25:09.277Z"
   },
   {
    "duration": 55,
    "start_time": "2022-12-02T11:25:09.296Z"
   },
   {
    "duration": 84,
    "start_time": "2022-12-02T11:25:09.352Z"
   },
   {
    "duration": 116,
    "start_time": "2022-12-02T11:25:09.438Z"
   },
   {
    "duration": 49,
    "start_time": "2022-12-02T11:25:09.555Z"
   },
   {
    "duration": 88,
    "start_time": "2022-12-02T11:25:09.606Z"
   },
   {
    "duration": 44,
    "start_time": "2022-12-02T11:25:09.695Z"
   },
   {
    "duration": 6,
    "start_time": "2022-12-02T11:25:09.741Z"
   },
   {
    "duration": 19,
    "start_time": "2022-12-02T11:25:09.748Z"
   },
   {
    "duration": 253,
    "start_time": "2022-12-02T11:25:09.768Z"
   },
   {
    "duration": 13,
    "start_time": "2022-12-02T11:25:10.022Z"
   },
   {
    "duration": 242,
    "start_time": "2022-12-02T11:25:10.037Z"
   },
   {
    "duration": 189,
    "start_time": "2022-12-02T11:25:10.281Z"
   },
   {
    "duration": 92,
    "start_time": "2022-12-02T11:25:10.471Z"
   },
   {
    "duration": 16,
    "start_time": "2022-12-02T11:25:10.564Z"
   },
   {
    "duration": 73,
    "start_time": "2022-12-02T11:25:10.581Z"
   },
   {
    "duration": 134,
    "start_time": "2022-12-02T11:25:10.656Z"
   },
   {
    "duration": 66,
    "start_time": "2022-12-02T11:25:10.792Z"
   },
   {
    "duration": 777,
    "start_time": "2022-12-02T11:48:39.079Z"
   },
   {
    "duration": 41,
    "start_time": "2022-12-02T11:48:52.160Z"
   },
   {
    "duration": 1664,
    "start_time": "2022-12-02T11:56:11.665Z"
   },
   {
    "duration": 3,
    "start_time": "2022-12-02T11:56:22.648Z"
   },
   {
    "duration": 198,
    "start_time": "2022-12-02T11:56:22.653Z"
   },
   {
    "duration": 96,
    "start_time": "2022-12-02T11:56:22.853Z"
   },
   {
    "duration": 132,
    "start_time": "2022-12-02T11:56:22.951Z"
   },
   {
    "duration": 23,
    "start_time": "2022-12-02T11:56:23.085Z"
   },
   {
    "duration": 78,
    "start_time": "2022-12-02T11:56:23.121Z"
   },
   {
    "duration": 28,
    "start_time": "2022-12-02T11:56:23.202Z"
   },
   {
    "duration": 39,
    "start_time": "2022-12-02T11:56:23.232Z"
   },
   {
    "duration": 98,
    "start_time": "2022-12-02T11:56:23.272Z"
   },
   {
    "duration": 123,
    "start_time": "2022-12-02T11:56:23.371Z"
   },
   {
    "duration": 55,
    "start_time": "2022-12-02T11:56:23.496Z"
   },
   {
    "duration": 88,
    "start_time": "2022-12-02T11:56:23.552Z"
   },
   {
    "duration": 24,
    "start_time": "2022-12-02T11:56:23.641Z"
   },
   {
    "duration": 6,
    "start_time": "2022-12-02T11:56:23.666Z"
   },
   {
    "duration": 14,
    "start_time": "2022-12-02T11:56:23.673Z"
   },
   {
    "duration": 250,
    "start_time": "2022-12-02T11:56:23.689Z"
   },
   {
    "duration": 12,
    "start_time": "2022-12-02T11:56:23.941Z"
   },
   {
    "duration": 253,
    "start_time": "2022-12-02T11:56:23.954Z"
   },
   {
    "duration": 189,
    "start_time": "2022-12-02T11:56:24.209Z"
   },
   {
    "duration": 122,
    "start_time": "2022-12-02T11:56:24.400Z"
   },
   {
    "duration": 16,
    "start_time": "2022-12-02T11:56:24.523Z"
   },
   {
    "duration": 83,
    "start_time": "2022-12-02T11:56:24.541Z"
   },
   {
    "duration": 127,
    "start_time": "2022-12-02T11:56:24.625Z"
   },
   {
    "duration": 1083,
    "start_time": "2022-12-02T11:56:24.754Z"
   },
   {
    "duration": 1505,
    "start_time": "2022-12-02T11:56:34.005Z"
   },
   {
    "duration": 16,
    "start_time": "2022-12-02T11:56:53.620Z"
   },
   {
    "duration": 1070,
    "start_time": "2022-12-02T11:57:04.944Z"
   },
   {
    "duration": 4,
    "start_time": "2022-12-02T11:57:08.818Z"
   },
   {
    "duration": 197,
    "start_time": "2022-12-02T11:57:08.824Z"
   },
   {
    "duration": 105,
    "start_time": "2022-12-02T11:57:09.023Z"
   },
   {
    "duration": 131,
    "start_time": "2022-12-02T11:57:09.130Z"
   },
   {
    "duration": 21,
    "start_time": "2022-12-02T11:57:09.263Z"
   },
   {
    "duration": 95,
    "start_time": "2022-12-02T11:57:09.285Z"
   },
   {
    "duration": 17,
    "start_time": "2022-12-02T11:57:09.382Z"
   },
   {
    "duration": 54,
    "start_time": "2022-12-02T11:57:09.401Z"
   },
   {
    "duration": 70,
    "start_time": "2022-12-02T11:57:09.457Z"
   },
   {
    "duration": 121,
    "start_time": "2022-12-02T11:57:09.529Z"
   },
   {
    "duration": 48,
    "start_time": "2022-12-02T11:57:09.652Z"
   },
   {
    "duration": 87,
    "start_time": "2022-12-02T11:57:09.702Z"
   },
   {
    "duration": 44,
    "start_time": "2022-12-02T11:57:09.791Z"
   },
   {
    "duration": 5,
    "start_time": "2022-12-02T11:57:09.836Z"
   },
   {
    "duration": 31,
    "start_time": "2022-12-02T11:57:09.842Z"
   },
   {
    "duration": 216,
    "start_time": "2022-12-02T11:57:09.874Z"
   },
   {
    "duration": 11,
    "start_time": "2022-12-02T11:57:10.092Z"
   },
   {
    "duration": 238,
    "start_time": "2022-12-02T11:57:10.105Z"
   },
   {
    "duration": 187,
    "start_time": "2022-12-02T11:57:10.344Z"
   },
   {
    "duration": 89,
    "start_time": "2022-12-02T11:57:10.533Z"
   },
   {
    "duration": 16,
    "start_time": "2022-12-02T11:57:10.624Z"
   },
   {
    "duration": 54,
    "start_time": "2022-12-02T11:57:10.642Z"
   },
   {
    "duration": 142,
    "start_time": "2022-12-02T11:57:10.698Z"
   },
   {
    "duration": 1012,
    "start_time": "2022-12-02T11:57:10.842Z"
   },
   {
    "duration": 1141,
    "start_time": "2022-12-02T11:57:34.204Z"
   },
   {
    "duration": 18,
    "start_time": "2022-12-02T11:57:54.991Z"
   },
   {
    "duration": 1192,
    "start_time": "2022-12-02T11:58:36.705Z"
   },
   {
    "duration": 21,
    "start_time": "2022-12-02T11:58:59.856Z"
   },
   {
    "duration": 187,
    "start_time": "2022-12-02T12:05:58.536Z"
   },
   {
    "duration": 58,
    "start_time": "2022-12-02T12:12:50.649Z"
   },
   {
    "duration": 65,
    "start_time": "2022-12-02T12:12:56.929Z"
   },
   {
    "duration": 59,
    "start_time": "2022-12-02T12:13:07.044Z"
   },
   {
    "duration": 4,
    "start_time": "2022-12-02T12:13:25.519Z"
   },
   {
    "duration": 172,
    "start_time": "2022-12-02T12:13:25.524Z"
   },
   {
    "duration": 77,
    "start_time": "2022-12-02T12:13:25.697Z"
   },
   {
    "duration": 116,
    "start_time": "2022-12-02T12:13:25.776Z"
   },
   {
    "duration": 36,
    "start_time": "2022-12-02T12:13:25.893Z"
   },
   {
    "duration": 77,
    "start_time": "2022-12-02T12:13:25.931Z"
   },
   {
    "duration": 28,
    "start_time": "2022-12-02T12:13:26.009Z"
   },
   {
    "duration": 48,
    "start_time": "2022-12-02T12:13:26.038Z"
   },
   {
    "duration": 84,
    "start_time": "2022-12-02T12:13:26.088Z"
   },
   {
    "duration": 121,
    "start_time": "2022-12-02T12:13:26.174Z"
   },
   {
    "duration": 57,
    "start_time": "2022-12-02T12:13:26.296Z"
   },
   {
    "duration": 95,
    "start_time": "2022-12-02T12:13:26.355Z"
   },
   {
    "duration": 26,
    "start_time": "2022-12-02T12:13:26.452Z"
   },
   {
    "duration": 5,
    "start_time": "2022-12-02T12:13:26.480Z"
   },
   {
    "duration": 38,
    "start_time": "2022-12-02T12:13:26.487Z"
   },
   {
    "duration": 236,
    "start_time": "2022-12-02T12:13:26.527Z"
   },
   {
    "duration": 12,
    "start_time": "2022-12-02T12:13:26.765Z"
   },
   {
    "duration": 243,
    "start_time": "2022-12-02T12:13:26.779Z"
   },
   {
    "duration": 191,
    "start_time": "2022-12-02T12:13:27.024Z"
   },
   {
    "duration": 78,
    "start_time": "2022-12-02T12:13:27.217Z"
   },
   {
    "duration": 30,
    "start_time": "2022-12-02T12:13:27.297Z"
   },
   {
    "duration": 60,
    "start_time": "2022-12-02T12:13:27.328Z"
   },
   {
    "duration": 140,
    "start_time": "2022-12-02T12:13:27.390Z"
   },
   {
    "duration": 57,
    "start_time": "2022-12-02T12:13:40.089Z"
   },
   {
    "duration": 63,
    "start_time": "2022-12-02T12:13:49.471Z"
   },
   {
    "duration": 66,
    "start_time": "2022-12-02T12:14:35.782Z"
   },
   {
    "duration": 65,
    "start_time": "2022-12-02T12:15:11.843Z"
   },
   {
    "duration": 116,
    "start_time": "2022-12-02T12:15:16.069Z"
   },
   {
    "duration": 118,
    "start_time": "2022-12-02T12:15:56.412Z"
   },
   {
    "duration": 10,
    "start_time": "2022-12-02T12:17:04.159Z"
   },
   {
    "duration": 56,
    "start_time": "2022-12-02T12:17:09.542Z"
   },
   {
    "duration": 10,
    "start_time": "2022-12-02T12:17:13.140Z"
   },
   {
    "duration": 117,
    "start_time": "2022-12-02T12:17:16.073Z"
   },
   {
    "duration": 59,
    "start_time": "2022-12-02T12:18:41.644Z"
   },
   {
    "duration": 58,
    "start_time": "2022-12-02T12:18:52.258Z"
   },
   {
    "duration": 60,
    "start_time": "2022-12-02T12:19:42.338Z"
   },
   {
    "duration": 62,
    "start_time": "2022-12-02T12:20:11.737Z"
   },
   {
    "duration": 36,
    "start_time": "2022-12-02T12:20:33.271Z"
   },
   {
    "duration": 37,
    "start_time": "2022-12-02T12:21:13.523Z"
   },
   {
    "duration": 66,
    "start_time": "2022-12-02T12:22:17.151Z"
   },
   {
    "duration": 48,
    "start_time": "2022-12-02T12:28:14.493Z"
   },
   {
    "duration": 10,
    "start_time": "2022-12-02T12:28:23.165Z"
   },
   {
    "duration": 54,
    "start_time": "2022-12-02T14:57:43.611Z"
   },
   {
    "duration": 1308,
    "start_time": "2022-12-02T14:57:47.251Z"
   },
   {
    "duration": 284,
    "start_time": "2022-12-02T14:57:48.561Z"
   },
   {
    "duration": 81,
    "start_time": "2022-12-02T14:57:48.847Z"
   },
   {
    "duration": 138,
    "start_time": "2022-12-02T14:57:48.929Z"
   },
   {
    "duration": 29,
    "start_time": "2022-12-02T14:57:49.070Z"
   },
   {
    "duration": 105,
    "start_time": "2022-12-02T14:57:49.101Z"
   },
   {
    "duration": 18,
    "start_time": "2022-12-02T14:57:49.208Z"
   },
   {
    "duration": 59,
    "start_time": "2022-12-02T14:57:49.228Z"
   },
   {
    "duration": 73,
    "start_time": "2022-12-02T14:57:49.288Z"
   },
   {
    "duration": 126,
    "start_time": "2022-12-02T14:57:49.362Z"
   },
   {
    "duration": 54,
    "start_time": "2022-12-02T14:57:49.489Z"
   },
   {
    "duration": 98,
    "start_time": "2022-12-02T14:57:49.545Z"
   },
   {
    "duration": 41,
    "start_time": "2022-12-02T14:57:49.645Z"
   },
   {
    "duration": 5,
    "start_time": "2022-12-02T14:57:49.688Z"
   },
   {
    "duration": 6,
    "start_time": "2022-12-02T14:57:49.694Z"
   },
   {
    "duration": 267,
    "start_time": "2022-12-02T14:57:49.702Z"
   },
   {
    "duration": 12,
    "start_time": "2022-12-02T14:57:49.976Z"
   },
   {
    "duration": 257,
    "start_time": "2022-12-02T14:57:49.990Z"
   },
   {
    "duration": 215,
    "start_time": "2022-12-02T14:57:50.249Z"
   },
   {
    "duration": 78,
    "start_time": "2022-12-02T14:57:50.466Z"
   },
   {
    "duration": 81,
    "start_time": "2022-12-02T14:57:50.546Z"
   },
   {
    "duration": 70,
    "start_time": "2022-12-02T14:57:50.629Z"
   },
   {
    "duration": 10,
    "start_time": "2022-12-02T14:57:50.700Z"
   },
   {
    "duration": 135,
    "start_time": "2022-12-02T14:57:50.711Z"
   },
   {
    "duration": 72,
    "start_time": "2022-12-02T14:57:50.847Z"
   },
   {
    "duration": 89,
    "start_time": "2022-12-02T15:02:47.732Z"
   },
   {
    "duration": 21,
    "start_time": "2022-12-02T15:11:51.042Z"
   },
   {
    "duration": 34,
    "start_time": "2022-12-02T15:16:26.293Z"
   },
   {
    "duration": 60,
    "start_time": "2022-12-02T15:27:36.088Z"
   },
   {
    "duration": 19,
    "start_time": "2022-12-02T15:27:41.830Z"
   },
   {
    "duration": 92,
    "start_time": "2022-12-02T15:27:50.506Z"
   },
   {
    "duration": 86,
    "start_time": "2022-12-02T15:28:29.056Z"
   },
   {
    "duration": 120,
    "start_time": "2022-12-02T15:28:35.276Z"
   },
   {
    "duration": 95,
    "start_time": "2022-12-02T15:28:53.210Z"
   },
   {
    "duration": 108,
    "start_time": "2022-12-02T15:29:08.160Z"
   },
   {
    "duration": 48,
    "start_time": "2022-12-02T15:31:39.596Z"
   },
   {
    "duration": 36,
    "start_time": "2022-12-02T15:31:48.030Z"
   },
   {
    "duration": 8,
    "start_time": "2022-12-02T15:33:22.642Z"
   },
   {
    "duration": 85,
    "start_time": "2022-12-02T15:33:31.388Z"
   },
   {
    "duration": 102,
    "start_time": "2022-12-02T15:34:03.798Z"
   },
   {
    "duration": 3,
    "start_time": "2022-12-02T15:34:47.099Z"
   },
   {
    "duration": 182,
    "start_time": "2022-12-02T15:34:47.104Z"
   },
   {
    "duration": 96,
    "start_time": "2022-12-02T15:34:47.289Z"
   },
   {
    "duration": 110,
    "start_time": "2022-12-02T15:34:47.387Z"
   },
   {
    "duration": 24,
    "start_time": "2022-12-02T15:34:47.499Z"
   },
   {
    "duration": 110,
    "start_time": "2022-12-02T15:34:47.525Z"
   },
   {
    "duration": 19,
    "start_time": "2022-12-02T15:34:47.637Z"
   },
   {
    "duration": 61,
    "start_time": "2022-12-02T15:34:47.657Z"
   },
   {
    "duration": 98,
    "start_time": "2022-12-02T15:34:47.719Z"
   },
   {
    "duration": 121,
    "start_time": "2022-12-02T15:34:47.820Z"
   },
   {
    "duration": 65,
    "start_time": "2022-12-02T15:34:47.943Z"
   },
   {
    "duration": 95,
    "start_time": "2022-12-02T15:34:48.009Z"
   },
   {
    "duration": 26,
    "start_time": "2022-12-02T15:34:48.105Z"
   },
   {
    "duration": 4,
    "start_time": "2022-12-02T15:34:48.133Z"
   },
   {
    "duration": 4,
    "start_time": "2022-12-02T15:34:48.139Z"
   },
   {
    "duration": 266,
    "start_time": "2022-12-02T15:34:48.144Z"
   },
   {
    "duration": 12,
    "start_time": "2022-12-02T15:34:48.412Z"
   },
   {
    "duration": 272,
    "start_time": "2022-12-02T15:34:48.426Z"
   },
   {
    "duration": 207,
    "start_time": "2022-12-02T15:34:48.700Z"
   },
   {
    "duration": 95,
    "start_time": "2022-12-02T15:34:48.909Z"
   },
   {
    "duration": 83,
    "start_time": "2022-12-02T15:34:49.005Z"
   },
   {
    "duration": 62,
    "start_time": "2022-12-02T15:34:49.090Z"
   },
   {
    "duration": 34,
    "start_time": "2022-12-02T15:34:49.154Z"
   },
   {
    "duration": 142,
    "start_time": "2022-12-02T15:34:49.192Z"
   },
   {
    "duration": 77,
    "start_time": "2022-12-02T15:34:49.336Z"
   },
   {
    "duration": 93,
    "start_time": "2022-12-02T15:34:49.415Z"
   },
   {
    "duration": 10,
    "start_time": "2022-12-02T15:36:23.840Z"
   },
   {
    "duration": 4,
    "start_time": "2022-12-02T15:36:37.468Z"
   },
   {
    "duration": 187,
    "start_time": "2022-12-02T15:36:37.474Z"
   },
   {
    "duration": 77,
    "start_time": "2022-12-02T15:36:37.663Z"
   },
   {
    "duration": 104,
    "start_time": "2022-12-02T15:36:37.742Z"
   },
   {
    "duration": 29,
    "start_time": "2022-12-02T15:36:37.848Z"
   },
   {
    "duration": 75,
    "start_time": "2022-12-02T15:36:37.879Z"
   },
   {
    "duration": 29,
    "start_time": "2022-12-02T15:36:37.956Z"
   },
   {
    "duration": 42,
    "start_time": "2022-12-02T15:36:37.987Z"
   },
   {
    "duration": 86,
    "start_time": "2022-12-02T15:36:38.031Z"
   },
   {
    "duration": 125,
    "start_time": "2022-12-02T15:36:38.120Z"
   },
   {
    "duration": 85,
    "start_time": "2022-12-02T15:36:38.247Z"
   },
   {
    "duration": 89,
    "start_time": "2022-12-02T15:36:38.334Z"
   },
   {
    "duration": 24,
    "start_time": "2022-12-02T15:36:38.425Z"
   },
   {
    "duration": 26,
    "start_time": "2022-12-02T15:36:38.451Z"
   },
   {
    "duration": 8,
    "start_time": "2022-12-02T15:36:38.479Z"
   },
   {
    "duration": 231,
    "start_time": "2022-12-02T15:36:38.489Z"
   },
   {
    "duration": 13,
    "start_time": "2022-12-02T15:36:38.722Z"
   },
   {
    "duration": 243,
    "start_time": "2022-12-02T15:36:38.736Z"
   },
   {
    "duration": 184,
    "start_time": "2022-12-02T15:36:38.981Z"
   },
   {
    "duration": 79,
    "start_time": "2022-12-02T15:36:39.167Z"
   },
   {
    "duration": 77,
    "start_time": "2022-12-02T15:36:39.248Z"
   },
   {
    "duration": 67,
    "start_time": "2022-12-02T15:36:39.327Z"
   },
   {
    "duration": 10,
    "start_time": "2022-12-02T15:36:39.395Z"
   },
   {
    "duration": 210,
    "start_time": "2022-12-02T15:36:39.406Z"
   },
   {
    "duration": 73,
    "start_time": "2022-12-02T15:36:39.618Z"
   },
   {
    "duration": 74,
    "start_time": "2022-12-02T15:36:39.693Z"
   },
   {
    "duration": 9,
    "start_time": "2022-12-02T15:36:39.777Z"
   },
   {
    "duration": 78,
    "start_time": "2022-12-02T15:37:02.778Z"
   },
   {
    "duration": 12,
    "start_time": "2022-12-02T15:37:06.935Z"
   },
   {
    "duration": 10,
    "start_time": "2022-12-02T15:37:37.838Z"
   },
   {
    "duration": 105,
    "start_time": "2022-12-02T15:37:41.461Z"
   },
   {
    "duration": 796,
    "start_time": "2022-12-02T15:37:43.229Z"
   },
   {
    "duration": 14,
    "start_time": "2022-12-02T15:37:58.520Z"
   },
   {
    "duration": 12,
    "start_time": "2022-12-02T15:38:05.358Z"
   },
   {
    "duration": 12,
    "start_time": "2022-12-02T15:38:44.414Z"
   },
   {
    "duration": 11,
    "start_time": "2022-12-02T15:38:55.695Z"
   },
   {
    "duration": 4,
    "start_time": "2022-12-02T15:39:03.930Z"
   },
   {
    "duration": 187,
    "start_time": "2022-12-02T15:39:03.936Z"
   },
   {
    "duration": 98,
    "start_time": "2022-12-02T15:39:04.124Z"
   },
   {
    "duration": 118,
    "start_time": "2022-12-02T15:39:04.225Z"
   },
   {
    "duration": 32,
    "start_time": "2022-12-02T15:39:04.345Z"
   },
   {
    "duration": 85,
    "start_time": "2022-12-02T15:39:04.379Z"
   },
   {
    "duration": 19,
    "start_time": "2022-12-02T15:39:04.477Z"
   },
   {
    "duration": 50,
    "start_time": "2022-12-02T15:39:04.498Z"
   },
   {
    "duration": 87,
    "start_time": "2022-12-02T15:39:04.551Z"
   },
   {
    "duration": 140,
    "start_time": "2022-12-02T15:39:04.642Z"
   },
   {
    "duration": 56,
    "start_time": "2022-12-02T15:39:04.784Z"
   },
   {
    "duration": 102,
    "start_time": "2022-12-02T15:39:04.842Z"
   },
   {
    "duration": 40,
    "start_time": "2022-12-02T15:39:04.946Z"
   },
   {
    "duration": 16,
    "start_time": "2022-12-02T15:39:04.987Z"
   },
   {
    "duration": 6,
    "start_time": "2022-12-02T15:39:05.005Z"
   },
   {
    "duration": 353,
    "start_time": "2022-12-02T15:39:05.013Z"
   },
   {
    "duration": 20,
    "start_time": "2022-12-02T15:39:05.367Z"
   },
   {
    "duration": 279,
    "start_time": "2022-12-02T15:39:05.389Z"
   },
   {
    "duration": 223,
    "start_time": "2022-12-02T15:39:05.670Z"
   },
   {
    "duration": 96,
    "start_time": "2022-12-02T15:39:05.895Z"
   },
   {
    "duration": 83,
    "start_time": "2022-12-02T15:39:05.993Z"
   },
   {
    "duration": 61,
    "start_time": "2022-12-02T15:39:06.078Z"
   },
   {
    "duration": 10,
    "start_time": "2022-12-02T15:39:06.140Z"
   },
   {
    "duration": 139,
    "start_time": "2022-12-02T15:39:06.152Z"
   },
   {
    "duration": 60,
    "start_time": "2022-12-02T15:39:06.293Z"
   },
   {
    "duration": 92,
    "start_time": "2022-12-02T15:39:06.354Z"
   },
   {
    "duration": 9,
    "start_time": "2022-12-02T15:39:06.448Z"
   },
   {
    "duration": 15,
    "start_time": "2022-12-02T15:40:14.792Z"
   },
   {
    "duration": 15,
    "start_time": "2022-12-02T15:40:16.552Z"
   },
   {
    "duration": 17,
    "start_time": "2022-12-02T15:40:48.921Z"
   },
   {
    "duration": 16,
    "start_time": "2022-12-02T15:41:18.699Z"
   },
   {
    "duration": 64,
    "start_time": "2022-12-02T15:42:19.265Z"
   },
   {
    "duration": 17,
    "start_time": "2022-12-02T15:42:28.283Z"
   },
   {
    "duration": 20,
    "start_time": "2022-12-02T15:42:45.310Z"
   },
   {
    "duration": 105,
    "start_time": "2022-12-02T15:43:40.237Z"
   },
   {
    "duration": 3,
    "start_time": "2022-12-02T15:43:44.704Z"
   },
   {
    "duration": 216,
    "start_time": "2022-12-02T15:43:44.710Z"
   },
   {
    "duration": 95,
    "start_time": "2022-12-02T15:43:44.929Z"
   },
   {
    "duration": 109,
    "start_time": "2022-12-02T15:43:45.026Z"
   },
   {
    "duration": 21,
    "start_time": "2022-12-02T15:43:45.137Z"
   },
   {
    "duration": 96,
    "start_time": "2022-12-02T15:43:45.160Z"
   },
   {
    "duration": 27,
    "start_time": "2022-12-02T15:43:45.257Z"
   },
   {
    "duration": 50,
    "start_time": "2022-12-02T15:43:45.286Z"
   },
   {
    "duration": 104,
    "start_time": "2022-12-02T15:43:45.338Z"
   },
   {
    "duration": 144,
    "start_time": "2022-12-02T15:43:45.445Z"
   },
   {
    "duration": 53,
    "start_time": "2022-12-02T15:43:45.590Z"
   },
   {
    "duration": 95,
    "start_time": "2022-12-02T15:43:45.645Z"
   },
   {
    "duration": 38,
    "start_time": "2022-12-02T15:43:45.741Z"
   },
   {
    "duration": 6,
    "start_time": "2022-12-02T15:43:45.781Z"
   },
   {
    "duration": 10,
    "start_time": "2022-12-02T15:43:45.789Z"
   },
   {
    "duration": 269,
    "start_time": "2022-12-02T15:43:45.804Z"
   },
   {
    "duration": 14,
    "start_time": "2022-12-02T15:43:46.075Z"
   },
   {
    "duration": 234,
    "start_time": "2022-12-02T15:43:46.091Z"
   },
   {
    "duration": 210,
    "start_time": "2022-12-02T15:43:46.327Z"
   },
   {
    "duration": 91,
    "start_time": "2022-12-02T15:43:46.539Z"
   },
   {
    "duration": 82,
    "start_time": "2022-12-02T15:43:46.632Z"
   },
   {
    "duration": 70,
    "start_time": "2022-12-02T15:43:46.716Z"
   },
   {
    "duration": 11,
    "start_time": "2022-12-02T15:43:46.787Z"
   },
   {
    "duration": 130,
    "start_time": "2022-12-02T15:43:46.799Z"
   },
   {
    "duration": 73,
    "start_time": "2022-12-02T15:43:46.931Z"
   },
   {
    "duration": 88,
    "start_time": "2022-12-02T15:43:47.006Z"
   },
   {
    "duration": 17,
    "start_time": "2022-12-02T15:43:47.095Z"
   },
   {
    "duration": 15,
    "start_time": "2022-12-02T15:43:56.843Z"
   },
   {
    "duration": 22,
    "start_time": "2022-12-02T15:44:36.992Z"
   },
   {
    "duration": 747,
    "start_time": "2022-12-02T15:44:45.739Z"
   },
   {
    "duration": 24,
    "start_time": "2022-12-02T15:44:57.890Z"
   },
   {
    "duration": 87,
    "start_time": "2022-12-02T15:45:43.080Z"
   },
   {
    "duration": 84,
    "start_time": "2022-12-02T15:46:21.718Z"
   },
   {
    "duration": 83,
    "start_time": "2022-12-02T15:46:31.390Z"
   },
   {
    "duration": 17,
    "start_time": "2022-12-02T15:46:38.400Z"
   },
   {
    "duration": 79,
    "start_time": "2022-12-02T15:47:16.154Z"
   },
   {
    "duration": 88,
    "start_time": "2022-12-02T15:47:42.724Z"
   },
   {
    "duration": 16,
    "start_time": "2022-12-02T15:47:53.858Z"
   },
   {
    "duration": 94,
    "start_time": "2022-12-02T15:48:30.221Z"
   },
   {
    "duration": 101,
    "start_time": "2022-12-02T15:48:44.028Z"
   },
   {
    "duration": 109,
    "start_time": "2022-12-02T15:49:25.349Z"
   },
   {
    "duration": 80,
    "start_time": "2022-12-02T15:49:31.316Z"
   },
   {
    "duration": 77,
    "start_time": "2022-12-02T15:49:45.931Z"
   },
   {
    "duration": 82,
    "start_time": "2022-12-02T15:49:57.059Z"
   },
   {
    "duration": 86,
    "start_time": "2022-12-02T15:50:11.715Z"
   },
   {
    "duration": 84,
    "start_time": "2022-12-02T15:50:41.059Z"
   },
   {
    "duration": 80,
    "start_time": "2022-12-02T15:50:51.107Z"
   },
   {
    "duration": 80,
    "start_time": "2022-12-02T15:51:01.657Z"
   },
   {
    "duration": 80,
    "start_time": "2022-12-02T15:51:15.604Z"
   },
   {
    "duration": 86,
    "start_time": "2022-12-02T15:51:29.547Z"
   },
   {
    "duration": 81,
    "start_time": "2022-12-02T15:51:41.105Z"
   },
   {
    "duration": 87,
    "start_time": "2022-12-02T15:52:25.330Z"
   },
   {
    "duration": 83,
    "start_time": "2022-12-02T15:52:33.484Z"
   },
   {
    "duration": 86,
    "start_time": "2022-12-02T15:52:48.729Z"
   },
   {
    "duration": 85,
    "start_time": "2022-12-02T15:52:55.190Z"
   },
   {
    "duration": 82,
    "start_time": "2022-12-02T15:53:14.238Z"
   },
   {
    "duration": 94,
    "start_time": "2022-12-02T15:53:45.490Z"
   },
   {
    "duration": 85,
    "start_time": "2022-12-02T15:53:50.537Z"
   },
   {
    "duration": 17,
    "start_time": "2022-12-02T15:53:57.214Z"
   },
   {
    "duration": 11,
    "start_time": "2022-12-02T15:56:05.246Z"
   },
   {
    "duration": 4,
    "start_time": "2022-12-02T15:56:11.007Z"
   },
   {
    "duration": 179,
    "start_time": "2022-12-02T15:56:11.013Z"
   },
   {
    "duration": 83,
    "start_time": "2022-12-02T15:56:11.194Z"
   },
   {
    "duration": 104,
    "start_time": "2022-12-02T15:56:11.279Z"
   },
   {
    "duration": 27,
    "start_time": "2022-12-02T15:56:11.385Z"
   },
   {
    "duration": 101,
    "start_time": "2022-12-02T15:56:11.414Z"
   },
   {
    "duration": 24,
    "start_time": "2022-12-02T15:56:11.517Z"
   },
   {
    "duration": 57,
    "start_time": "2022-12-02T15:56:11.543Z"
   },
   {
    "duration": 75,
    "start_time": "2022-12-02T15:56:11.602Z"
   },
   {
    "duration": 133,
    "start_time": "2022-12-02T15:56:11.678Z"
   },
   {
    "duration": 65,
    "start_time": "2022-12-02T15:56:11.812Z"
   },
   {
    "duration": 79,
    "start_time": "2022-12-02T15:56:11.878Z"
   },
   {
    "duration": 41,
    "start_time": "2022-12-02T15:56:11.959Z"
   },
   {
    "duration": 6,
    "start_time": "2022-12-02T15:56:12.003Z"
   },
   {
    "duration": 6,
    "start_time": "2022-12-02T15:56:12.011Z"
   },
   {
    "duration": 273,
    "start_time": "2022-12-02T15:56:12.018Z"
   },
   {
    "duration": 15,
    "start_time": "2022-12-02T15:56:12.294Z"
   },
   {
    "duration": 257,
    "start_time": "2022-12-02T15:56:12.311Z"
   },
   {
    "duration": 202,
    "start_time": "2022-12-02T15:56:12.576Z"
   },
   {
    "duration": 83,
    "start_time": "2022-12-02T15:56:12.780Z"
   },
   {
    "duration": 73,
    "start_time": "2022-12-02T15:56:12.877Z"
   },
   {
    "duration": 71,
    "start_time": "2022-12-02T15:56:12.951Z"
   },
   {
    "duration": 10,
    "start_time": "2022-12-02T15:56:13.024Z"
   },
   {
    "duration": 142,
    "start_time": "2022-12-02T15:56:13.036Z"
   },
   {
    "duration": 66,
    "start_time": "2022-12-02T15:56:13.179Z"
   },
   {
    "duration": 99,
    "start_time": "2022-12-02T15:56:13.246Z"
   },
   {
    "duration": 816,
    "start_time": "2022-12-02T15:56:13.347Z"
   },
   {
    "duration": 22,
    "start_time": "2022-12-02T15:56:33.541Z"
   },
   {
    "duration": 31,
    "start_time": "2022-12-02T15:56:55.116Z"
   },
   {
    "duration": 3,
    "start_time": "2022-12-02T15:57:12.861Z"
   },
   {
    "duration": 191,
    "start_time": "2022-12-02T15:57:12.866Z"
   },
   {
    "duration": 93,
    "start_time": "2022-12-02T15:57:13.059Z"
   },
   {
    "duration": 108,
    "start_time": "2022-12-02T15:57:13.155Z"
   },
   {
    "duration": 108,
    "start_time": "2022-12-02T15:57:13.265Z"
   },
   {
    "duration": 114,
    "start_time": "2022-12-02T15:57:13.375Z"
   },
   {
    "duration": 21,
    "start_time": "2022-12-02T15:57:13.491Z"
   },
   {
    "duration": 42,
    "start_time": "2022-12-02T15:57:13.514Z"
   },
   {
    "duration": 94,
    "start_time": "2022-12-02T15:57:13.566Z"
   },
   {
    "duration": 152,
    "start_time": "2022-12-02T15:57:13.663Z"
   },
   {
    "duration": 72,
    "start_time": "2022-12-02T15:57:13.817Z"
   },
   {
    "duration": 78,
    "start_time": "2022-12-02T15:57:13.890Z"
   },
   {
    "duration": 44,
    "start_time": "2022-12-02T15:57:13.970Z"
   },
   {
    "duration": 5,
    "start_time": "2022-12-02T15:57:14.016Z"
   },
   {
    "duration": 15,
    "start_time": "2022-12-02T15:57:14.022Z"
   },
   {
    "duration": 410,
    "start_time": "2022-12-02T15:57:14.039Z"
   },
   {
    "duration": 14,
    "start_time": "2022-12-02T15:57:14.450Z"
   },
   {
    "duration": 263,
    "start_time": "2022-12-02T15:57:14.466Z"
   },
   {
    "duration": 268,
    "start_time": "2022-12-02T15:57:14.732Z"
   },
   {
    "duration": 106,
    "start_time": "2022-12-02T15:57:15.002Z"
   },
   {
    "duration": 80,
    "start_time": "2022-12-02T15:57:15.109Z"
   },
   {
    "duration": 57,
    "start_time": "2022-12-02T15:57:15.191Z"
   },
   {
    "duration": 11,
    "start_time": "2022-12-02T15:57:15.250Z"
   },
   {
    "duration": 177,
    "start_time": "2022-12-02T15:57:15.262Z"
   },
   {
    "duration": 83,
    "start_time": "2022-12-02T15:57:15.440Z"
   },
   {
    "duration": 96,
    "start_time": "2022-12-02T15:57:15.525Z"
   },
   {
    "duration": 29,
    "start_time": "2022-12-02T15:57:15.622Z"
   },
   {
    "duration": 55,
    "start_time": "2022-12-02T22:49:49.038Z"
   },
   {
    "duration": 6,
    "start_time": "2022-12-02T22:50:17.299Z"
   },
   {
    "duration": 6,
    "start_time": "2022-12-02T22:50:25.488Z"
   },
   {
    "duration": 1168,
    "start_time": "2022-12-02T22:50:29.121Z"
   },
   {
    "duration": 355,
    "start_time": "2022-12-02T22:50:30.292Z"
   },
   {
    "duration": 97,
    "start_time": "2022-12-02T22:50:30.649Z"
   },
   {
    "duration": 148,
    "start_time": "2022-12-02T22:50:30.748Z"
   },
   {
    "duration": 29,
    "start_time": "2022-12-02T22:50:30.898Z"
   },
   {
    "duration": 108,
    "start_time": "2022-12-02T22:50:30.929Z"
   },
   {
    "duration": 19,
    "start_time": "2022-12-02T22:50:31.039Z"
   },
   {
    "duration": 60,
    "start_time": "2022-12-02T22:50:31.060Z"
   },
   {
    "duration": 74,
    "start_time": "2022-12-02T22:50:31.122Z"
   },
   {
    "duration": 130,
    "start_time": "2022-12-02T22:50:31.199Z"
   },
   {
    "duration": 50,
    "start_time": "2022-12-02T22:50:31.331Z"
   },
   {
    "duration": 91,
    "start_time": "2022-12-02T22:50:31.383Z"
   },
   {
    "duration": 24,
    "start_time": "2022-12-02T22:50:31.475Z"
   },
   {
    "duration": 19,
    "start_time": "2022-12-02T22:50:31.500Z"
   },
   {
    "duration": 19,
    "start_time": "2022-12-02T22:50:31.521Z"
   },
   {
    "duration": 244,
    "start_time": "2022-12-02T22:50:31.542Z"
   },
   {
    "duration": 12,
    "start_time": "2022-12-02T22:50:31.788Z"
   },
   {
    "duration": 249,
    "start_time": "2022-12-02T22:50:31.802Z"
   },
   {
    "duration": 205,
    "start_time": "2022-12-02T22:50:32.053Z"
   },
   {
    "duration": 97,
    "start_time": "2022-12-02T22:50:32.259Z"
   },
   {
    "duration": 85,
    "start_time": "2022-12-02T22:50:32.357Z"
   },
   {
    "duration": 79,
    "start_time": "2022-12-02T22:50:32.444Z"
   },
   {
    "duration": 10,
    "start_time": "2022-12-02T22:50:32.525Z"
   },
   {
    "duration": 144,
    "start_time": "2022-12-02T22:50:32.537Z"
   },
   {
    "duration": 70,
    "start_time": "2022-12-02T22:50:32.683Z"
   },
   {
    "duration": 89,
    "start_time": "2022-12-02T22:50:32.755Z"
   },
   {
    "duration": 27,
    "start_time": "2022-12-02T22:50:32.846Z"
   },
   {
    "duration": 54,
    "start_time": "2022-12-02T22:50:32.876Z"
   },
   {
    "duration": 729,
    "start_time": "2022-12-02T22:50:32.931Z"
   },
   {
    "duration": 766,
    "start_time": "2022-12-02T22:50:33.661Z"
   },
   {
    "duration": 343,
    "start_time": "2022-12-02T22:55:45.177Z"
   },
   {
    "duration": 220,
    "start_time": "2022-12-02T22:55:57.740Z"
   },
   {
    "duration": 237,
    "start_time": "2022-12-02T22:56:52.828Z"
   },
   {
    "duration": 665,
    "start_time": "2022-12-02T22:58:04.938Z"
   },
   {
    "duration": 700,
    "start_time": "2022-12-02T22:58:34.085Z"
   },
   {
    "duration": 739,
    "start_time": "2022-12-02T22:59:21.770Z"
   },
   {
    "duration": 3,
    "start_time": "2022-12-02T22:59:36.510Z"
   },
   {
    "duration": 183,
    "start_time": "2022-12-02T22:59:36.515Z"
   },
   {
    "duration": 76,
    "start_time": "2022-12-02T22:59:36.700Z"
   },
   {
    "duration": 112,
    "start_time": "2022-12-02T22:59:36.778Z"
   },
   {
    "duration": 31,
    "start_time": "2022-12-02T22:59:36.892Z"
   },
   {
    "duration": 77,
    "start_time": "2022-12-02T22:59:36.924Z"
   },
   {
    "duration": 26,
    "start_time": "2022-12-02T22:59:37.002Z"
   },
   {
    "duration": 37,
    "start_time": "2022-12-02T22:59:37.030Z"
   },
   {
    "duration": 93,
    "start_time": "2022-12-02T22:59:37.069Z"
   },
   {
    "duration": 122,
    "start_time": "2022-12-02T22:59:37.164Z"
   },
   {
    "duration": 56,
    "start_time": "2022-12-02T22:59:37.288Z"
   },
   {
    "duration": 97,
    "start_time": "2022-12-02T22:59:37.346Z"
   },
   {
    "duration": 31,
    "start_time": "2022-12-02T22:59:37.445Z"
   },
   {
    "duration": 5,
    "start_time": "2022-12-02T22:59:37.477Z"
   },
   {
    "duration": 5,
    "start_time": "2022-12-02T22:59:37.483Z"
   },
   {
    "duration": 264,
    "start_time": "2022-12-02T22:59:37.490Z"
   },
   {
    "duration": 13,
    "start_time": "2022-12-02T22:59:37.756Z"
   },
   {
    "duration": 236,
    "start_time": "2022-12-02T22:59:37.771Z"
   },
   {
    "duration": 267,
    "start_time": "2022-12-02T22:59:38.015Z"
   },
   {
    "duration": 83,
    "start_time": "2022-12-02T22:59:38.283Z"
   },
   {
    "duration": 79,
    "start_time": "2022-12-02T22:59:38.367Z"
   },
   {
    "duration": 56,
    "start_time": "2022-12-02T22:59:38.447Z"
   },
   {
    "duration": 18,
    "start_time": "2022-12-02T22:59:38.504Z"
   },
   {
    "duration": 117,
    "start_time": "2022-12-02T22:59:38.524Z"
   },
   {
    "duration": 60,
    "start_time": "2022-12-02T22:59:38.643Z"
   },
   {
    "duration": 75,
    "start_time": "2022-12-02T22:59:38.715Z"
   },
   {
    "duration": 39,
    "start_time": "2022-12-02T22:59:38.792Z"
   },
   {
    "duration": 33,
    "start_time": "2022-12-02T22:59:38.834Z"
   },
   {
    "duration": 695,
    "start_time": "2022-12-02T22:59:38.869Z"
   },
   {
    "duration": 0,
    "start_time": "2022-12-02T22:59:39.566Z"
   },
   {
    "duration": 875,
    "start_time": "2022-12-02T23:00:43.711Z"
   },
   {
    "duration": 632,
    "start_time": "2022-12-02T23:00:57.648Z"
   },
   {
    "duration": 3,
    "start_time": "2022-12-02T23:01:08.196Z"
   },
   {
    "duration": 173,
    "start_time": "2022-12-02T23:01:08.201Z"
   },
   {
    "duration": 68,
    "start_time": "2022-12-02T23:01:08.376Z"
   },
   {
    "duration": 103,
    "start_time": "2022-12-02T23:01:08.445Z"
   },
   {
    "duration": 22,
    "start_time": "2022-12-02T23:01:08.550Z"
   },
   {
    "duration": 96,
    "start_time": "2022-12-02T23:01:08.574Z"
   },
   {
    "duration": 19,
    "start_time": "2022-12-02T23:01:08.672Z"
   },
   {
    "duration": 52,
    "start_time": "2022-12-02T23:01:08.692Z"
   },
   {
    "duration": 73,
    "start_time": "2022-12-02T23:01:08.745Z"
   },
   {
    "duration": 115,
    "start_time": "2022-12-02T23:01:08.819Z"
   },
   {
    "duration": 48,
    "start_time": "2022-12-02T23:01:08.936Z"
   },
   {
    "duration": 90,
    "start_time": "2022-12-02T23:01:08.986Z"
   },
   {
    "duration": 23,
    "start_time": "2022-12-02T23:01:09.078Z"
   },
   {
    "duration": 5,
    "start_time": "2022-12-02T23:01:09.117Z"
   },
   {
    "duration": 25,
    "start_time": "2022-12-02T23:01:09.123Z"
   },
   {
    "duration": 229,
    "start_time": "2022-12-02T23:01:09.150Z"
   },
   {
    "duration": 13,
    "start_time": "2022-12-02T23:01:09.380Z"
   },
   {
    "duration": 244,
    "start_time": "2022-12-02T23:01:09.394Z"
   },
   {
    "duration": 185,
    "start_time": "2022-12-02T23:01:09.640Z"
   },
   {
    "duration": 74,
    "start_time": "2022-12-02T23:01:09.827Z"
   },
   {
    "duration": 66,
    "start_time": "2022-12-02T23:01:09.915Z"
   },
   {
    "duration": 69,
    "start_time": "2022-12-02T23:01:09.982Z"
   },
   {
    "duration": 11,
    "start_time": "2022-12-02T23:01:10.053Z"
   },
   {
    "duration": 125,
    "start_time": "2022-12-02T23:01:10.065Z"
   },
   {
    "duration": 71,
    "start_time": "2022-12-02T23:01:10.191Z"
   },
   {
    "duration": 89,
    "start_time": "2022-12-02T23:01:10.263Z"
   },
   {
    "duration": 28,
    "start_time": "2022-12-02T23:01:10.354Z"
   },
   {
    "duration": 51,
    "start_time": "2022-12-02T23:01:10.383Z"
   },
   {
    "duration": 629,
    "start_time": "2022-12-02T23:01:10.436Z"
   },
   {
    "duration": 0,
    "start_time": "2022-12-02T23:01:11.067Z"
   },
   {
    "duration": 628,
    "start_time": "2022-12-02T23:01:33.723Z"
   },
   {
    "duration": 16,
    "start_time": "2022-12-02T23:01:46.383Z"
   },
   {
    "duration": 231,
    "start_time": "2022-12-02T23:02:03.703Z"
   },
   {
    "duration": 235,
    "start_time": "2022-12-02T23:02:40.051Z"
   },
   {
    "duration": 655,
    "start_time": "2022-12-02T23:04:09.721Z"
   },
   {
    "duration": 1372,
    "start_time": "2022-12-02T23:07:49.408Z"
   },
   {
    "duration": 45,
    "start_time": "2022-12-02T23:08:33.785Z"
   },
   {
    "duration": 1482,
    "start_time": "2022-12-02T23:08:43.767Z"
   },
   {
    "duration": 110,
    "start_time": "2022-12-02T23:09:23.049Z"
   },
   {
    "duration": 34,
    "start_time": "2022-12-02T23:09:48.185Z"
   },
   {
    "duration": 201,
    "start_time": "2022-12-02T23:10:53.859Z"
   },
   {
    "duration": 27,
    "start_time": "2022-12-02T23:10:56.884Z"
   },
   {
    "duration": 123,
    "start_time": "2022-12-02T23:14:29.412Z"
   },
   {
    "duration": 115,
    "start_time": "2022-12-02T23:14:38.183Z"
   },
   {
    "duration": 197,
    "start_time": "2022-12-02T23:14:44.544Z"
   },
   {
    "duration": 195,
    "start_time": "2022-12-02T23:14:59.882Z"
   },
   {
    "duration": 195,
    "start_time": "2022-12-02T23:15:28.588Z"
   },
   {
    "duration": 186,
    "start_time": "2022-12-02T23:16:06.595Z"
   },
   {
    "duration": 27,
    "start_time": "2022-12-02T23:16:38.700Z"
   },
   {
    "duration": 23,
    "start_time": "2022-12-02T23:17:54.908Z"
   },
   {
    "duration": 18,
    "start_time": "2022-12-02T23:18:23.583Z"
   },
   {
    "duration": 3,
    "start_time": "2022-12-02T23:18:43.385Z"
   },
   {
    "duration": 187,
    "start_time": "2022-12-02T23:18:43.390Z"
   },
   {
    "duration": 85,
    "start_time": "2022-12-02T23:18:43.579Z"
   },
   {
    "duration": 111,
    "start_time": "2022-12-02T23:18:43.666Z"
   },
   {
    "duration": 22,
    "start_time": "2022-12-02T23:18:43.779Z"
   },
   {
    "duration": 90,
    "start_time": "2022-12-02T23:18:43.803Z"
   },
   {
    "duration": 34,
    "start_time": "2022-12-02T23:18:43.894Z"
   },
   {
    "duration": 53,
    "start_time": "2022-12-02T23:18:43.930Z"
   },
   {
    "duration": 87,
    "start_time": "2022-12-02T23:18:43.985Z"
   },
   {
    "duration": 121,
    "start_time": "2022-12-02T23:18:44.075Z"
   },
   {
    "duration": 56,
    "start_time": "2022-12-02T23:18:44.197Z"
   },
   {
    "duration": 98,
    "start_time": "2022-12-02T23:18:44.255Z"
   },
   {
    "duration": 25,
    "start_time": "2022-12-02T23:18:44.355Z"
   },
   {
    "duration": 5,
    "start_time": "2022-12-02T23:18:44.381Z"
   },
   {
    "duration": 7,
    "start_time": "2022-12-02T23:18:44.387Z"
   },
   {
    "duration": 237,
    "start_time": "2022-12-02T23:18:44.415Z"
   },
   {
    "duration": 13,
    "start_time": "2022-12-02T23:18:44.654Z"
   },
   {
    "duration": 255,
    "start_time": "2022-12-02T23:18:44.669Z"
   },
   {
    "duration": 322,
    "start_time": "2022-12-02T23:18:44.926Z"
   },
   {
    "duration": 119,
    "start_time": "2022-12-02T23:18:45.249Z"
   },
   {
    "duration": 81,
    "start_time": "2022-12-02T23:18:45.370Z"
   },
   {
    "duration": 66,
    "start_time": "2022-12-02T23:18:45.453Z"
   },
   {
    "duration": 10,
    "start_time": "2022-12-02T23:18:45.521Z"
   },
   {
    "duration": 144,
    "start_time": "2022-12-02T23:18:45.533Z"
   },
   {
    "duration": 63,
    "start_time": "2022-12-02T23:18:45.679Z"
   },
   {
    "duration": 207,
    "start_time": "2022-12-02T23:18:45.743Z"
   },
   {
    "duration": 20,
    "start_time": "2022-12-02T23:18:45.951Z"
   },
   {
    "duration": 56,
    "start_time": "2022-12-02T23:18:45.974Z"
   },
   {
    "duration": 429,
    "start_time": "2022-12-02T23:18:46.031Z"
   },
   {
    "duration": 20,
    "start_time": "2022-12-02T23:19:24.282Z"
   },
   {
    "duration": 19,
    "start_time": "2022-12-02T23:19:31.250Z"
   },
   {
    "duration": 53,
    "start_time": "2022-12-02T23:20:13.164Z"
   },
   {
    "duration": 20,
    "start_time": "2022-12-02T23:20:18.454Z"
   },
   {
    "duration": 3,
    "start_time": "2022-12-02T23:21:10.821Z"
   },
   {
    "duration": 175,
    "start_time": "2022-12-02T23:21:10.826Z"
   },
   {
    "duration": 80,
    "start_time": "2022-12-02T23:21:11.003Z"
   },
   {
    "duration": 106,
    "start_time": "2022-12-02T23:21:11.084Z"
   },
   {
    "duration": 26,
    "start_time": "2022-12-02T23:21:11.193Z"
   },
   {
    "duration": 78,
    "start_time": "2022-12-02T23:21:11.221Z"
   },
   {
    "duration": 32,
    "start_time": "2022-12-02T23:21:11.300Z"
   },
   {
    "duration": 38,
    "start_time": "2022-12-02T23:21:11.334Z"
   },
   {
    "duration": 83,
    "start_time": "2022-12-02T23:21:11.374Z"
   },
   {
    "duration": 114,
    "start_time": "2022-12-02T23:21:11.459Z"
   },
   {
    "duration": 60,
    "start_time": "2022-12-02T23:21:11.574Z"
   },
   {
    "duration": 86,
    "start_time": "2022-12-02T23:21:11.636Z"
   },
   {
    "duration": 26,
    "start_time": "2022-12-02T23:21:11.724Z"
   },
   {
    "duration": 5,
    "start_time": "2022-12-02T23:21:11.753Z"
   },
   {
    "duration": 7,
    "start_time": "2022-12-02T23:21:11.759Z"
   },
   {
    "duration": 265,
    "start_time": "2022-12-02T23:21:11.768Z"
   },
   {
    "duration": 14,
    "start_time": "2022-12-02T23:21:12.034Z"
   },
   {
    "duration": 254,
    "start_time": "2022-12-02T23:21:12.050Z"
   },
   {
    "duration": 204,
    "start_time": "2022-12-02T23:21:12.305Z"
   },
   {
    "duration": 75,
    "start_time": "2022-12-02T23:21:12.515Z"
   },
   {
    "duration": 76,
    "start_time": "2022-12-02T23:21:12.591Z"
   },
   {
    "duration": 67,
    "start_time": "2022-12-02T23:21:12.668Z"
   },
   {
    "duration": 9,
    "start_time": "2022-12-02T23:21:12.737Z"
   },
   {
    "duration": 122,
    "start_time": "2022-12-02T23:21:12.748Z"
   },
   {
    "duration": 67,
    "start_time": "2022-12-02T23:21:12.872Z"
   },
   {
    "duration": 181,
    "start_time": "2022-12-02T23:21:12.941Z"
   },
   {
    "duration": 20,
    "start_time": "2022-12-02T23:21:13.123Z"
   },
   {
    "duration": 251,
    "start_time": "2022-12-02T23:21:13.144Z"
   },
   {
    "duration": 16,
    "start_time": "2022-12-02T23:25:46.786Z"
   },
   {
    "duration": 16,
    "start_time": "2022-12-02T23:26:48.899Z"
   },
   {
    "duration": 19,
    "start_time": "2022-12-02T23:27:09.781Z"
   },
   {
    "duration": 48,
    "start_time": "2022-12-02T23:27:19.982Z"
   },
   {
    "duration": 848,
    "start_time": "2022-12-02T23:27:25.173Z"
   },
   {
    "duration": 272,
    "start_time": "2022-12-02T23:27:48.508Z"
   },
   {
    "duration": 263,
    "start_time": "2022-12-02T23:28:39.134Z"
   },
   {
    "duration": 283,
    "start_time": "2022-12-02T23:30:45.121Z"
   },
   {
    "duration": 171,
    "start_time": "2022-12-02T23:32:45.133Z"
   },
   {
    "duration": 165,
    "start_time": "2022-12-02T23:33:02.890Z"
   },
   {
    "duration": 12,
    "start_time": "2022-12-02T23:40:50.714Z"
   },
   {
    "duration": 61,
    "start_time": "2022-12-02T23:41:18.639Z"
   },
   {
    "duration": 3,
    "start_time": "2022-12-02T23:41:25.110Z"
   },
   {
    "duration": 175,
    "start_time": "2022-12-02T23:41:25.115Z"
   },
   {
    "duration": 69,
    "start_time": "2022-12-02T23:41:25.292Z"
   },
   {
    "duration": 110,
    "start_time": "2022-12-02T23:41:25.362Z"
   },
   {
    "duration": 22,
    "start_time": "2022-12-02T23:41:25.475Z"
   },
   {
    "duration": 91,
    "start_time": "2022-12-02T23:41:25.499Z"
   },
   {
    "duration": 27,
    "start_time": "2022-12-02T23:41:25.591Z"
   },
   {
    "duration": 53,
    "start_time": "2022-12-02T23:41:25.620Z"
   },
   {
    "duration": 82,
    "start_time": "2022-12-02T23:41:25.674Z"
   },
   {
    "duration": 133,
    "start_time": "2022-12-02T23:41:25.758Z"
   },
   {
    "duration": 61,
    "start_time": "2022-12-02T23:41:25.893Z"
   },
   {
    "duration": 98,
    "start_time": "2022-12-02T23:41:25.956Z"
   },
   {
    "duration": 27,
    "start_time": "2022-12-02T23:41:26.057Z"
   },
   {
    "duration": 19,
    "start_time": "2022-12-02T23:41:26.085Z"
   },
   {
    "duration": 48,
    "start_time": "2022-12-02T23:41:26.105Z"
   },
   {
    "duration": 325,
    "start_time": "2022-12-02T23:41:26.155Z"
   },
   {
    "duration": 13,
    "start_time": "2022-12-02T23:41:26.483Z"
   },
   {
    "duration": 248,
    "start_time": "2022-12-02T23:41:26.498Z"
   },
   {
    "duration": 191,
    "start_time": "2022-12-02T23:41:26.748Z"
   },
   {
    "duration": 89,
    "start_time": "2022-12-02T23:41:26.941Z"
   },
   {
    "duration": 67,
    "start_time": "2022-12-02T23:41:27.032Z"
   },
   {
    "duration": 60,
    "start_time": "2022-12-02T23:41:27.115Z"
   },
   {
    "duration": 11,
    "start_time": "2022-12-02T23:41:27.177Z"
   },
   {
    "duration": 130,
    "start_time": "2022-12-02T23:41:27.189Z"
   },
   {
    "duration": 60,
    "start_time": "2022-12-02T23:41:27.320Z"
   },
   {
    "duration": 191,
    "start_time": "2022-12-02T23:41:27.382Z"
   },
   {
    "duration": 21,
    "start_time": "2022-12-02T23:41:27.574Z"
   },
   {
    "duration": 71,
    "start_time": "2022-12-02T23:41:27.597Z"
   },
   {
    "duration": 12,
    "start_time": "2022-12-02T23:42:32.861Z"
   },
   {
    "duration": 677,
    "start_time": "2022-12-02T23:43:28.552Z"
   },
   {
    "duration": 719,
    "start_time": "2022-12-02T23:44:27.539Z"
   },
   {
    "duration": 833,
    "start_time": "2022-12-02T23:44:59.594Z"
   },
   {
    "duration": 3,
    "start_time": "2022-12-02T23:45:34.965Z"
   },
   {
    "duration": 175,
    "start_time": "2022-12-02T23:45:34.970Z"
   },
   {
    "duration": 80,
    "start_time": "2022-12-02T23:45:35.147Z"
   },
   {
    "duration": 126,
    "start_time": "2022-12-02T23:45:35.229Z"
   },
   {
    "duration": 22,
    "start_time": "2022-12-02T23:45:35.357Z"
   },
   {
    "duration": 83,
    "start_time": "2022-12-02T23:45:35.381Z"
   },
   {
    "duration": 19,
    "start_time": "2022-12-02T23:45:35.465Z"
   },
   {
    "duration": 149,
    "start_time": "2022-12-02T23:45:35.485Z"
   },
   {
    "duration": 67,
    "start_time": "2022-12-02T23:45:35.635Z"
   },
   {
    "duration": 130,
    "start_time": "2022-12-02T23:45:35.705Z"
   },
   {
    "duration": 50,
    "start_time": "2022-12-02T23:45:35.839Z"
   },
   {
    "duration": 94,
    "start_time": "2022-12-02T23:45:35.891Z"
   },
   {
    "duration": 39,
    "start_time": "2022-12-02T23:45:35.987Z"
   },
   {
    "duration": 5,
    "start_time": "2022-12-02T23:45:36.028Z"
   },
   {
    "duration": 9,
    "start_time": "2022-12-02T23:45:36.034Z"
   },
   {
    "duration": 242,
    "start_time": "2022-12-02T23:45:36.044Z"
   },
   {
    "duration": 13,
    "start_time": "2022-12-02T23:45:36.288Z"
   },
   {
    "duration": 332,
    "start_time": "2022-12-02T23:45:36.303Z"
   },
   {
    "duration": 191,
    "start_time": "2022-12-02T23:45:36.636Z"
   },
   {
    "duration": 88,
    "start_time": "2022-12-02T23:45:36.829Z"
   },
   {
    "duration": 68,
    "start_time": "2022-12-02T23:45:36.918Z"
   },
   {
    "duration": 69,
    "start_time": "2022-12-02T23:45:36.988Z"
   },
   {
    "duration": 9,
    "start_time": "2022-12-02T23:45:37.058Z"
   },
   {
    "duration": 121,
    "start_time": "2022-12-02T23:45:37.069Z"
   },
   {
    "duration": 66,
    "start_time": "2022-12-02T23:45:37.191Z"
   },
   {
    "duration": 190,
    "start_time": "2022-12-02T23:45:37.259Z"
   },
   {
    "duration": 20,
    "start_time": "2022-12-02T23:45:37.450Z"
   },
   {
    "duration": 788,
    "start_time": "2022-12-02T23:45:37.471Z"
   },
   {
    "duration": 764,
    "start_time": "2022-12-02T23:45:46.528Z"
   },
   {
    "duration": 794,
    "start_time": "2022-12-02T23:45:56.273Z"
   },
   {
    "duration": 206,
    "start_time": "2022-12-02T23:46:35.504Z"
   },
   {
    "duration": 204,
    "start_time": "2022-12-02T23:47:02.890Z"
   },
   {
    "duration": 741,
    "start_time": "2022-12-02T23:48:28.904Z"
   },
   {
    "duration": 873,
    "start_time": "2022-12-02T23:48:51.809Z"
   },
   {
    "duration": 984,
    "start_time": "2022-12-02T23:49:49.453Z"
   },
   {
    "duration": 918,
    "start_time": "2022-12-02T23:50:10.852Z"
   },
   {
    "duration": 953,
    "start_time": "2022-12-02T23:50:24.876Z"
   },
   {
    "duration": 744,
    "start_time": "2022-12-03T00:18:34.907Z"
   },
   {
    "duration": 13,
    "start_time": "2022-12-03T00:18:48.468Z"
   },
   {
    "duration": 51,
    "start_time": "2022-12-03T00:19:18.016Z"
   },
   {
    "duration": 349,
    "start_time": "2022-12-03T00:19:24.496Z"
   },
   {
    "duration": 10,
    "start_time": "2022-12-03T00:19:46.155Z"
   },
   {
    "duration": 9,
    "start_time": "2022-12-03T00:22:52.125Z"
   },
   {
    "duration": 8,
    "start_time": "2022-12-03T00:23:02.776Z"
   },
   {
    "duration": 8,
    "start_time": "2022-12-03T00:23:52.973Z"
   },
   {
    "duration": 8,
    "start_time": "2022-12-03T00:26:15.514Z"
   },
   {
    "duration": 5,
    "start_time": "2022-12-03T00:26:22.628Z"
   },
   {
    "duration": 373,
    "start_time": "2022-12-03T00:27:57.000Z"
   },
   {
    "duration": 10,
    "start_time": "2022-12-03T00:29:28.706Z"
   },
   {
    "duration": 10,
    "start_time": "2022-12-03T00:31:17.472Z"
   },
   {
    "duration": 10,
    "start_time": "2022-12-03T00:33:24.331Z"
   },
   {
    "duration": 368,
    "start_time": "2022-12-03T00:33:33.935Z"
   },
   {
    "duration": 13,
    "start_time": "2022-12-03T00:35:13.552Z"
   },
   {
    "duration": 6,
    "start_time": "2022-12-03T00:36:01.730Z"
   },
   {
    "duration": 10,
    "start_time": "2022-12-03T00:36:47.542Z"
   },
   {
    "duration": 5,
    "start_time": "2022-12-03T00:37:00.879Z"
   },
   {
    "duration": 3,
    "start_time": "2022-12-03T00:37:22.038Z"
   },
   {
    "duration": 5,
    "start_time": "2022-12-03T00:38:47.721Z"
   },
   {
    "duration": 9,
    "start_time": "2022-12-03T00:39:06.348Z"
   },
   {
    "duration": 7,
    "start_time": "2022-12-03T00:39:22.767Z"
   },
   {
    "duration": 736,
    "start_time": "2022-12-03T00:39:30.355Z"
   },
   {
    "duration": 7,
    "start_time": "2022-12-03T00:39:37.390Z"
   },
   {
    "duration": 6,
    "start_time": "2022-12-03T00:41:08.554Z"
   },
   {
    "duration": 101,
    "start_time": "2022-12-03T00:44:20.929Z"
   },
   {
    "duration": 7,
    "start_time": "2022-12-03T00:46:16.684Z"
   },
   {
    "duration": 2,
    "start_time": "2022-12-03T00:48:16.031Z"
   },
   {
    "duration": 10,
    "start_time": "2022-12-03T00:48:48.325Z"
   },
   {
    "duration": 9,
    "start_time": "2022-12-03T00:49:12.287Z"
   },
   {
    "duration": 3,
    "start_time": "2022-12-03T00:50:32.937Z"
   },
   {
    "duration": 177,
    "start_time": "2022-12-03T00:50:32.941Z"
   },
   {
    "duration": 69,
    "start_time": "2022-12-03T00:50:33.120Z"
   },
   {
    "duration": 109,
    "start_time": "2022-12-03T00:50:33.191Z"
   },
   {
    "duration": 27,
    "start_time": "2022-12-03T00:50:33.302Z"
   },
   {
    "duration": 87,
    "start_time": "2022-12-03T00:50:33.330Z"
   },
   {
    "duration": 19,
    "start_time": "2022-12-03T00:50:33.419Z"
   },
   {
    "duration": 40,
    "start_time": "2022-12-03T00:50:33.439Z"
   },
   {
    "duration": 93,
    "start_time": "2022-12-03T00:50:33.480Z"
   },
   {
    "duration": 116,
    "start_time": "2022-12-03T00:50:33.575Z"
   },
   {
    "duration": 57,
    "start_time": "2022-12-03T00:50:33.692Z"
   },
   {
    "duration": 84,
    "start_time": "2022-12-03T00:50:33.751Z"
   },
   {
    "duration": 23,
    "start_time": "2022-12-03T00:50:33.837Z"
   },
   {
    "duration": 5,
    "start_time": "2022-12-03T00:50:33.862Z"
   },
   {
    "duration": 3,
    "start_time": "2022-12-03T00:50:33.868Z"
   },
   {
    "duration": 257,
    "start_time": "2022-12-03T00:50:33.872Z"
   },
   {
    "duration": 13,
    "start_time": "2022-12-03T00:50:34.130Z"
   },
   {
    "duration": 227,
    "start_time": "2022-12-03T00:50:34.144Z"
   },
   {
    "duration": 194,
    "start_time": "2022-12-03T00:50:34.372Z"
   },
   {
    "duration": 90,
    "start_time": "2022-12-03T00:50:34.567Z"
   },
   {
    "duration": 76,
    "start_time": "2022-12-03T00:50:34.659Z"
   },
   {
    "duration": 61,
    "start_time": "2022-12-03T00:50:34.737Z"
   },
   {
    "duration": 23,
    "start_time": "2022-12-03T00:50:34.800Z"
   },
   {
    "duration": 123,
    "start_time": "2022-12-03T00:50:34.825Z"
   },
   {
    "duration": 71,
    "start_time": "2022-12-03T00:50:34.949Z"
   },
   {
    "duration": 183,
    "start_time": "2022-12-03T00:50:35.021Z"
   },
   {
    "duration": 22,
    "start_time": "2022-12-03T00:50:35.205Z"
   },
   {
    "duration": 988,
    "start_time": "2022-12-03T00:50:35.230Z"
   },
   {
    "duration": 11,
    "start_time": "2022-12-03T00:50:36.220Z"
   },
   {
    "duration": 23,
    "start_time": "2022-12-03T00:50:36.233Z"
   },
   {
    "duration": 10,
    "start_time": "2022-12-03T00:50:51.858Z"
   },
   {
    "duration": 7,
    "start_time": "2022-12-03T00:51:41.577Z"
   },
   {
    "duration": 6,
    "start_time": "2022-12-03T00:54:44.344Z"
   },
   {
    "duration": 8,
    "start_time": "2022-12-03T00:56:15.684Z"
   },
   {
    "duration": 7,
    "start_time": "2022-12-03T00:56:20.425Z"
   },
   {
    "duration": 8,
    "start_time": "2022-12-03T00:56:25.661Z"
   },
   {
    "duration": 6,
    "start_time": "2022-12-03T00:56:27.134Z"
   },
   {
    "duration": 7,
    "start_time": "2022-12-03T00:56:36.554Z"
   },
   {
    "duration": 7,
    "start_time": "2022-12-03T00:56:38.341Z"
   },
   {
    "duration": 22,
    "start_time": "2022-12-03T01:01:25.574Z"
   },
   {
    "duration": 4,
    "start_time": "2022-12-03T01:02:27.916Z"
   },
   {
    "duration": 226,
    "start_time": "2022-12-03T01:02:27.923Z"
   },
   {
    "duration": 83,
    "start_time": "2022-12-03T01:02:28.151Z"
   },
   {
    "duration": 116,
    "start_time": "2022-12-03T01:02:28.236Z"
   },
   {
    "duration": 30,
    "start_time": "2022-12-03T01:02:28.354Z"
   },
   {
    "duration": 121,
    "start_time": "2022-12-03T01:02:28.387Z"
   },
   {
    "duration": 19,
    "start_time": "2022-12-03T01:02:28.515Z"
   },
   {
    "duration": 43,
    "start_time": "2022-12-03T01:02:28.535Z"
   },
   {
    "duration": 86,
    "start_time": "2022-12-03T01:02:28.580Z"
   },
   {
    "duration": 123,
    "start_time": "2022-12-03T01:02:28.669Z"
   },
   {
    "duration": 60,
    "start_time": "2022-12-03T01:02:28.793Z"
   },
   {
    "duration": 92,
    "start_time": "2022-12-03T01:02:28.855Z"
   },
   {
    "duration": 25,
    "start_time": "2022-12-03T01:02:28.948Z"
   },
   {
    "duration": 5,
    "start_time": "2022-12-03T01:02:28.975Z"
   },
   {
    "duration": 35,
    "start_time": "2022-12-03T01:02:28.981Z"
   },
   {
    "duration": 242,
    "start_time": "2022-12-03T01:02:29.017Z"
   },
   {
    "duration": 13,
    "start_time": "2022-12-03T01:02:29.261Z"
   },
   {
    "duration": 240,
    "start_time": "2022-12-03T01:02:29.276Z"
   },
   {
    "duration": 198,
    "start_time": "2022-12-03T01:02:29.518Z"
   },
   {
    "duration": 76,
    "start_time": "2022-12-03T01:02:29.717Z"
   },
   {
    "duration": 84,
    "start_time": "2022-12-03T01:02:29.795Z"
   },
   {
    "duration": 71,
    "start_time": "2022-12-03T01:02:29.881Z"
   },
   {
    "duration": 10,
    "start_time": "2022-12-03T01:02:29.954Z"
   },
   {
    "duration": 143,
    "start_time": "2022-12-03T01:02:29.966Z"
   },
   {
    "duration": 65,
    "start_time": "2022-12-03T01:02:30.115Z"
   },
   {
    "duration": 189,
    "start_time": "2022-12-03T01:02:30.182Z"
   },
   {
    "duration": 21,
    "start_time": "2022-12-03T01:02:30.372Z"
   },
   {
    "duration": 1137,
    "start_time": "2022-12-03T01:02:30.396Z"
   },
   {
    "duration": 9,
    "start_time": "2022-12-03T01:02:31.535Z"
   },
   {
    "duration": 21,
    "start_time": "2022-12-03T01:02:31.546Z"
   },
   {
    "duration": 51,
    "start_time": "2022-12-03T11:53:25.423Z"
   },
   {
    "duration": 7,
    "start_time": "2022-12-03T11:54:17.525Z"
   },
   {
    "duration": 6,
    "start_time": "2022-12-03T11:57:49.998Z"
   },
   {
    "duration": 9,
    "start_time": "2022-12-03T11:58:06.545Z"
   },
   {
    "duration": 1305,
    "start_time": "2022-12-03T11:58:10.698Z"
   },
   {
    "duration": 823,
    "start_time": "2022-12-03T11:58:12.005Z"
   },
   {
    "duration": 98,
    "start_time": "2022-12-03T11:58:12.830Z"
   },
   {
    "duration": 147,
    "start_time": "2022-12-03T11:58:12.931Z"
   },
   {
    "duration": 22,
    "start_time": "2022-12-03T11:58:13.079Z"
   },
   {
    "duration": 98,
    "start_time": "2022-12-03T11:58:13.103Z"
   },
   {
    "duration": 25,
    "start_time": "2022-12-03T11:58:13.203Z"
   },
   {
    "duration": 45,
    "start_time": "2022-12-03T11:58:13.230Z"
   },
   {
    "duration": 99,
    "start_time": "2022-12-03T11:58:13.276Z"
   },
   {
    "duration": 116,
    "start_time": "2022-12-03T11:58:13.378Z"
   },
   {
    "duration": 60,
    "start_time": "2022-12-03T11:58:13.496Z"
   },
   {
    "duration": 90,
    "start_time": "2022-12-03T11:58:13.558Z"
   },
   {
    "duration": 26,
    "start_time": "2022-12-03T11:58:13.650Z"
   },
   {
    "duration": 13,
    "start_time": "2022-12-03T11:58:13.678Z"
   },
   {
    "duration": 7,
    "start_time": "2022-12-03T11:58:13.693Z"
   },
   {
    "duration": 284,
    "start_time": "2022-12-03T11:58:13.702Z"
   },
   {
    "duration": 14,
    "start_time": "2022-12-03T11:58:13.988Z"
   },
   {
    "duration": 292,
    "start_time": "2022-12-03T11:58:14.004Z"
   },
   {
    "duration": 204,
    "start_time": "2022-12-03T11:58:14.299Z"
   },
   {
    "duration": 88,
    "start_time": "2022-12-03T11:58:14.505Z"
   },
   {
    "duration": 85,
    "start_time": "2022-12-03T11:58:14.595Z"
   },
   {
    "duration": 76,
    "start_time": "2022-12-03T11:58:14.682Z"
   },
   {
    "duration": 11,
    "start_time": "2022-12-03T11:58:14.760Z"
   },
   {
    "duration": 141,
    "start_time": "2022-12-03T11:58:14.773Z"
   },
   {
    "duration": 86,
    "start_time": "2022-12-03T11:58:14.916Z"
   },
   {
    "duration": 204,
    "start_time": "2022-12-03T11:58:15.004Z"
   },
   {
    "duration": 29,
    "start_time": "2022-12-03T11:58:15.210Z"
   },
   {
    "duration": 1091,
    "start_time": "2022-12-03T11:58:15.242Z"
   },
   {
    "duration": 10,
    "start_time": "2022-12-03T11:58:16.335Z"
   },
   {
    "duration": 17,
    "start_time": "2022-12-03T11:58:16.346Z"
   },
   {
    "duration": 89,
    "start_time": "2022-12-03T11:58:16.365Z"
   },
   {
    "duration": 1,
    "start_time": "2022-12-03T11:58:16.455Z"
   },
   {
    "duration": 79,
    "start_time": "2022-12-03T11:59:18.599Z"
   },
   {
    "duration": 82,
    "start_time": "2022-12-03T11:59:38.614Z"
   },
   {
    "duration": 83,
    "start_time": "2022-12-03T11:59:46.546Z"
   },
   {
    "duration": 89,
    "start_time": "2022-12-03T12:00:22.832Z"
   },
   {
    "duration": 80,
    "start_time": "2022-12-03T12:00:46.532Z"
   },
   {
    "duration": 110,
    "start_time": "2022-12-03T12:05:24.596Z"
   },
   {
    "duration": 70,
    "start_time": "2022-12-03T12:07:36.797Z"
   },
   {
    "duration": 5,
    "start_time": "2022-12-03T12:07:55.299Z"
   },
   {
    "duration": 1216,
    "start_time": "2022-12-03T12:08:17.119Z"
   },
   {
    "duration": 17,
    "start_time": "2022-12-03T12:08:33.220Z"
   },
   {
    "duration": 6,
    "start_time": "2022-12-03T12:08:42.242Z"
   },
   {
    "duration": 17,
    "start_time": "2022-12-03T12:08:43.750Z"
   },
   {
    "duration": 6,
    "start_time": "2022-12-03T12:08:57.568Z"
   },
   {
    "duration": 16,
    "start_time": "2022-12-03T12:08:59.045Z"
   },
   {
    "duration": 6,
    "start_time": "2022-12-03T12:09:08.669Z"
   },
   {
    "duration": 12,
    "start_time": "2022-12-03T12:09:10.278Z"
   },
   {
    "duration": 4,
    "start_time": "2022-12-03T12:11:17.059Z"
   },
   {
    "duration": 188,
    "start_time": "2022-12-03T12:11:17.066Z"
   },
   {
    "duration": 94,
    "start_time": "2022-12-03T12:11:17.255Z"
   },
   {
    "duration": 129,
    "start_time": "2022-12-03T12:11:17.351Z"
   },
   {
    "duration": 23,
    "start_time": "2022-12-03T12:11:17.481Z"
   },
   {
    "duration": 83,
    "start_time": "2022-12-03T12:11:17.521Z"
   },
   {
    "duration": 27,
    "start_time": "2022-12-03T12:11:17.605Z"
   },
   {
    "duration": 40,
    "start_time": "2022-12-03T12:11:17.634Z"
   },
   {
    "duration": 97,
    "start_time": "2022-12-03T12:11:17.676Z"
   },
   {
    "duration": 177,
    "start_time": "2022-12-03T12:11:17.778Z"
   },
   {
    "duration": 51,
    "start_time": "2022-12-03T12:11:17.957Z"
   },
   {
    "duration": 119,
    "start_time": "2022-12-03T12:11:18.022Z"
   },
   {
    "duration": 27,
    "start_time": "2022-12-03T12:11:18.143Z"
   },
   {
    "duration": 7,
    "start_time": "2022-12-03T12:11:18.172Z"
   },
   {
    "duration": 10,
    "start_time": "2022-12-03T12:11:18.180Z"
   },
   {
    "duration": 276,
    "start_time": "2022-12-03T12:11:18.191Z"
   },
   {
    "duration": 14,
    "start_time": "2022-12-03T12:11:18.469Z"
   },
   {
    "duration": 240,
    "start_time": "2022-12-03T12:11:18.486Z"
   },
   {
    "duration": 218,
    "start_time": "2022-12-03T12:11:18.728Z"
   },
   {
    "duration": 119,
    "start_time": "2022-12-03T12:11:18.948Z"
   },
   {
    "duration": 107,
    "start_time": "2022-12-03T12:11:19.069Z"
   },
   {
    "duration": 12,
    "start_time": "2022-12-03T12:11:19.178Z"
   },
   {
    "duration": 249,
    "start_time": "2022-12-03T12:11:19.192Z"
   },
   {
    "duration": 111,
    "start_time": "2022-12-03T12:11:19.443Z"
   },
   {
    "duration": 218,
    "start_time": "2022-12-03T12:11:19.556Z"
   },
   {
    "duration": 34,
    "start_time": "2022-12-03T12:11:19.776Z"
   },
   {
    "duration": 1147,
    "start_time": "2022-12-03T12:11:19.823Z"
   },
   {
    "duration": 11,
    "start_time": "2022-12-03T12:11:20.973Z"
   },
   {
    "duration": 29,
    "start_time": "2022-12-03T12:11:20.986Z"
   },
   {
    "duration": 19,
    "start_time": "2022-12-03T12:11:21.024Z"
   },
   {
    "duration": 34,
    "start_time": "2022-12-03T12:11:21.045Z"
   },
   {
    "duration": 1147,
    "start_time": "2022-12-03T12:11:53.952Z"
   },
   {
    "duration": 1066,
    "start_time": "2022-12-03T12:12:05.105Z"
   },
   {
    "duration": 1368,
    "start_time": "2022-12-03T12:12:38.426Z"
   },
   {
    "duration": 1130,
    "start_time": "2022-12-03T12:12:48.489Z"
   },
   {
    "duration": 14,
    "start_time": "2022-12-03T12:13:51.560Z"
   },
   {
    "duration": 4,
    "start_time": "2022-12-03T12:14:06.092Z"
   },
   {
    "duration": 176,
    "start_time": "2022-12-03T12:14:06.098Z"
   },
   {
    "duration": 85,
    "start_time": "2022-12-03T12:14:06.275Z"
   },
   {
    "duration": 113,
    "start_time": "2022-12-03T12:14:06.362Z"
   },
   {
    "duration": 24,
    "start_time": "2022-12-03T12:14:06.477Z"
   },
   {
    "duration": 97,
    "start_time": "2022-12-03T12:14:06.503Z"
   },
   {
    "duration": 30,
    "start_time": "2022-12-03T12:14:06.601Z"
   },
   {
    "duration": 42,
    "start_time": "2022-12-03T12:14:06.632Z"
   },
   {
    "duration": 92,
    "start_time": "2022-12-03T12:14:06.676Z"
   },
   {
    "duration": 119,
    "start_time": "2022-12-03T12:14:06.771Z"
   },
   {
    "duration": 63,
    "start_time": "2022-12-03T12:14:06.892Z"
   },
   {
    "duration": 116,
    "start_time": "2022-12-03T12:14:06.956Z"
   },
   {
    "duration": 50,
    "start_time": "2022-12-03T12:14:07.074Z"
   },
   {
    "duration": 6,
    "start_time": "2022-12-03T12:14:07.126Z"
   },
   {
    "duration": 5,
    "start_time": "2022-12-03T12:14:07.133Z"
   },
   {
    "duration": 250,
    "start_time": "2022-12-03T12:14:07.139Z"
   },
   {
    "duration": 14,
    "start_time": "2022-12-03T12:14:07.391Z"
   },
   {
    "duration": 211,
    "start_time": "2022-12-03T12:14:07.421Z"
   },
   {
    "duration": 203,
    "start_time": "2022-12-03T12:14:07.634Z"
   },
   {
    "duration": 87,
    "start_time": "2022-12-03T12:14:07.839Z"
   },
   {
    "duration": 67,
    "start_time": "2022-12-03T12:14:07.928Z"
   },
   {
    "duration": 10,
    "start_time": "2022-12-03T12:14:07.997Z"
   },
   {
    "duration": 136,
    "start_time": "2022-12-03T12:14:08.022Z"
   },
   {
    "duration": 89,
    "start_time": "2022-12-03T12:14:08.160Z"
   },
   {
    "duration": 209,
    "start_time": "2022-12-03T12:14:08.251Z"
   },
   {
    "duration": 22,
    "start_time": "2022-12-03T12:14:08.462Z"
   },
   {
    "duration": 1065,
    "start_time": "2022-12-03T12:14:08.486Z"
   },
   {
    "duration": 10,
    "start_time": "2022-12-03T12:14:09.554Z"
   },
   {
    "duration": 8,
    "start_time": "2022-12-03T12:14:09.565Z"
   },
   {
    "duration": 120,
    "start_time": "2022-12-03T12:14:09.575Z"
   },
   {
    "duration": 26,
    "start_time": "2022-12-03T12:14:09.697Z"
   },
   {
    "duration": 11,
    "start_time": "2022-12-03T12:14:09.725Z"
   },
   {
    "duration": 13,
    "start_time": "2022-12-03T12:14:46.359Z"
   },
   {
    "duration": 14,
    "start_time": "2022-12-03T12:15:11.827Z"
   },
   {
    "duration": 16,
    "start_time": "2022-12-03T12:15:20.370Z"
   },
   {
    "duration": 3,
    "start_time": "2022-12-03T12:15:42.542Z"
   },
   {
    "duration": 195,
    "start_time": "2022-12-03T12:15:42.547Z"
   },
   {
    "duration": 90,
    "start_time": "2022-12-03T12:15:42.743Z"
   },
   {
    "duration": 115,
    "start_time": "2022-12-03T12:15:42.835Z"
   },
   {
    "duration": 27,
    "start_time": "2022-12-03T12:15:42.952Z"
   },
   {
    "duration": 137,
    "start_time": "2022-12-03T12:15:42.982Z"
   },
   {
    "duration": 21,
    "start_time": "2022-12-03T12:15:43.122Z"
   },
   {
    "duration": 89,
    "start_time": "2022-12-03T12:15:43.146Z"
   },
   {
    "duration": 85,
    "start_time": "2022-12-03T12:15:43.237Z"
   },
   {
    "duration": 132,
    "start_time": "2022-12-03T12:15:43.326Z"
   },
   {
    "duration": 64,
    "start_time": "2022-12-03T12:15:43.460Z"
   },
   {
    "duration": 131,
    "start_time": "2022-12-03T12:15:43.526Z"
   },
   {
    "duration": 40,
    "start_time": "2022-12-03T12:15:43.659Z"
   },
   {
    "duration": 24,
    "start_time": "2022-12-03T12:15:43.701Z"
   },
   {
    "duration": 6,
    "start_time": "2022-12-03T12:15:43.728Z"
   },
   {
    "duration": 361,
    "start_time": "2022-12-03T12:15:43.736Z"
   },
   {
    "duration": 28,
    "start_time": "2022-12-03T12:15:44.098Z"
   },
   {
    "duration": 294,
    "start_time": "2022-12-03T12:15:44.128Z"
   },
   {
    "duration": 210,
    "start_time": "2022-12-03T12:15:44.423Z"
   },
   {
    "duration": 100,
    "start_time": "2022-12-03T12:15:44.636Z"
   },
   {
    "duration": 62,
    "start_time": "2022-12-03T12:15:44.737Z"
   },
   {
    "duration": 27,
    "start_time": "2022-12-03T12:15:44.800Z"
   },
   {
    "duration": 145,
    "start_time": "2022-12-03T12:15:44.829Z"
   },
   {
    "duration": 103,
    "start_time": "2022-12-03T12:15:44.976Z"
   },
   {
    "duration": 213,
    "start_time": "2022-12-03T12:15:45.081Z"
   },
   {
    "duration": 35,
    "start_time": "2022-12-03T12:15:45.296Z"
   },
   {
    "duration": 1100,
    "start_time": "2022-12-03T12:15:45.332Z"
   },
   {
    "duration": 12,
    "start_time": "2022-12-03T12:15:46.435Z"
   },
   {
    "duration": 16,
    "start_time": "2022-12-03T12:15:46.448Z"
   },
   {
    "duration": 15,
    "start_time": "2022-12-03T12:15:46.465Z"
   },
   {
    "duration": 41,
    "start_time": "2022-12-03T12:15:46.482Z"
   },
   {
    "duration": 29,
    "start_time": "2022-12-03T12:15:46.525Z"
   },
   {
    "duration": 28,
    "start_time": "2022-12-03T12:15:46.556Z"
   },
   {
    "duration": 22,
    "start_time": "2022-12-03T12:17:05.992Z"
   },
   {
    "duration": 6,
    "start_time": "2022-12-03T12:17:11.373Z"
   },
   {
    "duration": 193,
    "start_time": "2022-12-03T12:17:11.381Z"
   },
   {
    "duration": 95,
    "start_time": "2022-12-03T12:17:11.576Z"
   },
   {
    "duration": 123,
    "start_time": "2022-12-03T12:17:11.673Z"
   },
   {
    "duration": 33,
    "start_time": "2022-12-03T12:17:11.798Z"
   },
   {
    "duration": 98,
    "start_time": "2022-12-03T12:17:11.833Z"
   },
   {
    "duration": 19,
    "start_time": "2022-12-03T12:17:11.932Z"
   },
   {
    "duration": 46,
    "start_time": "2022-12-03T12:17:11.953Z"
   },
   {
    "duration": 89,
    "start_time": "2022-12-03T12:17:12.001Z"
   },
   {
    "duration": 132,
    "start_time": "2022-12-03T12:17:12.093Z"
   },
   {
    "duration": 53,
    "start_time": "2022-12-03T12:17:12.227Z"
   },
   {
    "duration": 134,
    "start_time": "2022-12-03T12:17:12.281Z"
   },
   {
    "duration": 27,
    "start_time": "2022-12-03T12:17:12.422Z"
   },
   {
    "duration": 6,
    "start_time": "2022-12-03T12:17:12.452Z"
   },
   {
    "duration": 6,
    "start_time": "2022-12-03T12:17:12.460Z"
   },
   {
    "duration": 286,
    "start_time": "2022-12-03T12:17:12.468Z"
   },
   {
    "duration": 14,
    "start_time": "2022-12-03T12:17:12.756Z"
   },
   {
    "duration": 270,
    "start_time": "2022-12-03T12:17:12.772Z"
   },
   {
    "duration": 206,
    "start_time": "2022-12-03T12:17:13.044Z"
   },
   {
    "duration": 82,
    "start_time": "2022-12-03T12:17:13.252Z"
   },
   {
    "duration": 60,
    "start_time": "2022-12-03T12:17:13.335Z"
   },
   {
    "duration": 27,
    "start_time": "2022-12-03T12:17:13.397Z"
   },
   {
    "duration": 143,
    "start_time": "2022-12-03T12:17:13.427Z"
   },
   {
    "duration": 91,
    "start_time": "2022-12-03T12:17:13.572Z"
   },
   {
    "duration": 203,
    "start_time": "2022-12-03T12:17:13.665Z"
   },
   {
    "duration": 30,
    "start_time": "2022-12-03T12:17:13.870Z"
   },
   {
    "duration": 1289,
    "start_time": "2022-12-03T12:17:13.902Z"
   },
   {
    "duration": 13,
    "start_time": "2022-12-03T12:17:15.193Z"
   },
   {
    "duration": 18,
    "start_time": "2022-12-03T12:17:15.208Z"
   },
   {
    "duration": 7,
    "start_time": "2022-12-03T12:17:15.228Z"
   },
   {
    "duration": 15,
    "start_time": "2022-12-03T12:17:15.237Z"
   },
   {
    "duration": 11,
    "start_time": "2022-12-03T12:17:15.254Z"
   },
   {
    "duration": 14,
    "start_time": "2022-12-03T12:17:15.267Z"
   },
   {
    "duration": 24,
    "start_time": "2022-12-03T12:17:49.929Z"
   },
   {
    "duration": 4,
    "start_time": "2022-12-03T12:21:52.792Z"
   },
   {
    "duration": 190,
    "start_time": "2022-12-03T12:21:52.798Z"
   },
   {
    "duration": 81,
    "start_time": "2022-12-03T12:21:52.990Z"
   },
   {
    "duration": 122,
    "start_time": "2022-12-03T12:21:53.073Z"
   },
   {
    "duration": 27,
    "start_time": "2022-12-03T12:21:53.201Z"
   },
   {
    "duration": 97,
    "start_time": "2022-12-03T12:21:53.230Z"
   },
   {
    "duration": 18,
    "start_time": "2022-12-03T12:21:53.329Z"
   },
   {
    "duration": 44,
    "start_time": "2022-12-03T12:21:53.349Z"
   },
   {
    "duration": 73,
    "start_time": "2022-12-03T12:21:53.421Z"
   },
   {
    "duration": 125,
    "start_time": "2022-12-03T12:21:53.497Z"
   },
   {
    "duration": 52,
    "start_time": "2022-12-03T12:21:53.624Z"
   },
   {
    "duration": 133,
    "start_time": "2022-12-03T12:21:53.678Z"
   },
   {
    "duration": 30,
    "start_time": "2022-12-03T12:21:53.813Z"
   },
   {
    "duration": 6,
    "start_time": "2022-12-03T12:21:53.845Z"
   },
   {
    "duration": 12,
    "start_time": "2022-12-03T12:21:53.853Z"
   },
   {
    "duration": 316,
    "start_time": "2022-12-03T12:21:53.867Z"
   },
   {
    "duration": 21,
    "start_time": "2022-12-03T12:21:54.186Z"
   },
   {
    "duration": 273,
    "start_time": "2022-12-03T12:21:54.209Z"
   },
   {
    "duration": 217,
    "start_time": "2022-12-03T12:21:54.483Z"
   },
   {
    "duration": 79,
    "start_time": "2022-12-03T12:21:54.702Z"
   },
   {
    "duration": 75,
    "start_time": "2022-12-03T12:21:54.783Z"
   },
   {
    "duration": 11,
    "start_time": "2022-12-03T12:21:54.860Z"
   },
   {
    "duration": 149,
    "start_time": "2022-12-03T12:21:54.873Z"
   },
   {
    "duration": 32,
    "start_time": "2022-12-03T12:21:55.023Z"
   },
   {
    "duration": 0,
    "start_time": "2022-12-03T12:21:55.057Z"
   },
   {
    "duration": 0,
    "start_time": "2022-12-03T12:21:55.059Z"
   },
   {
    "duration": 0,
    "start_time": "2022-12-03T12:21:55.060Z"
   },
   {
    "duration": 0,
    "start_time": "2022-12-03T12:21:55.061Z"
   },
   {
    "duration": 0,
    "start_time": "2022-12-03T12:21:55.063Z"
   },
   {
    "duration": 0,
    "start_time": "2022-12-03T12:21:55.064Z"
   },
   {
    "duration": 0,
    "start_time": "2022-12-03T12:21:55.065Z"
   },
   {
    "duration": 0,
    "start_time": "2022-12-03T12:21:55.067Z"
   },
   {
    "duration": 0,
    "start_time": "2022-12-03T12:21:55.068Z"
   },
   {
    "duration": 117,
    "start_time": "2022-12-03T12:22:17.439Z"
   },
   {
    "duration": 5,
    "start_time": "2022-12-03T12:22:21.524Z"
   },
   {
    "duration": 210,
    "start_time": "2022-12-03T12:22:21.531Z"
   },
   {
    "duration": 123,
    "start_time": "2022-12-03T12:22:21.744Z"
   },
   {
    "duration": 155,
    "start_time": "2022-12-03T12:22:21.869Z"
   },
   {
    "duration": 27,
    "start_time": "2022-12-03T12:22:22.026Z"
   },
   {
    "duration": 104,
    "start_time": "2022-12-03T12:22:22.055Z"
   },
   {
    "duration": 21,
    "start_time": "2022-12-03T12:22:22.161Z"
   },
   {
    "duration": 64,
    "start_time": "2022-12-03T12:22:22.184Z"
   },
   {
    "duration": 106,
    "start_time": "2022-12-03T12:22:22.250Z"
   },
   {
    "duration": 121,
    "start_time": "2022-12-03T12:22:22.359Z"
   },
   {
    "duration": 66,
    "start_time": "2022-12-03T12:22:22.483Z"
   },
   {
    "duration": 128,
    "start_time": "2022-12-03T12:22:22.551Z"
   },
   {
    "duration": 43,
    "start_time": "2022-12-03T12:22:22.681Z"
   },
   {
    "duration": 7,
    "start_time": "2022-12-03T12:22:22.725Z"
   },
   {
    "duration": 17,
    "start_time": "2022-12-03T12:22:22.736Z"
   },
   {
    "duration": 275,
    "start_time": "2022-12-03T12:22:22.756Z"
   },
   {
    "duration": 16,
    "start_time": "2022-12-03T12:22:23.032Z"
   },
   {
    "duration": 241,
    "start_time": "2022-12-03T12:22:23.050Z"
   },
   {
    "duration": 226,
    "start_time": "2022-12-03T12:22:23.293Z"
   },
   {
    "duration": 108,
    "start_time": "2022-12-03T12:22:23.522Z"
   },
   {
    "duration": 63,
    "start_time": "2022-12-03T12:22:23.632Z"
   },
   {
    "duration": 26,
    "start_time": "2022-12-03T12:22:23.696Z"
   },
   {
    "duration": 150,
    "start_time": "2022-12-03T12:22:23.724Z"
   },
   {
    "duration": 116,
    "start_time": "2022-12-03T12:22:23.876Z"
   },
   {
    "duration": 266,
    "start_time": "2022-12-03T12:22:23.994Z"
   },
   {
    "duration": 31,
    "start_time": "2022-12-03T12:22:24.263Z"
   },
   {
    "duration": 1138,
    "start_time": "2022-12-03T12:22:24.296Z"
   },
   {
    "duration": 15,
    "start_time": "2022-12-03T12:22:25.439Z"
   },
   {
    "duration": 17,
    "start_time": "2022-12-03T12:22:25.456Z"
   },
   {
    "duration": 22,
    "start_time": "2022-12-03T12:22:25.477Z"
   },
   {
    "duration": 23,
    "start_time": "2022-12-03T12:22:25.502Z"
   },
   {
    "duration": 16,
    "start_time": "2022-12-03T12:22:25.527Z"
   },
   {
    "duration": 17,
    "start_time": "2022-12-03T12:22:25.545Z"
   },
   {
    "duration": 110,
    "start_time": "2022-12-03T12:23:09.796Z"
   },
   {
    "duration": 198,
    "start_time": "2022-12-03T12:23:12.429Z"
   },
   {
    "duration": 22,
    "start_time": "2022-12-03T12:23:17.150Z"
   },
   {
    "duration": 198,
    "start_time": "2022-12-03T12:23:36.759Z"
   },
   {
    "duration": 23,
    "start_time": "2022-12-03T12:23:39.125Z"
   },
   {
    "duration": 1095,
    "start_time": "2022-12-03T12:23:44.418Z"
   },
   {
    "duration": 11,
    "start_time": "2022-12-03T12:23:53.334Z"
   },
   {
    "duration": 7,
    "start_time": "2022-12-03T12:23:55.131Z"
   },
   {
    "duration": 10,
    "start_time": "2022-12-03T12:24:10.908Z"
   },
   {
    "duration": 9,
    "start_time": "2022-12-03T12:24:13.529Z"
   },
   {
    "duration": 9,
    "start_time": "2022-12-03T12:24:15.647Z"
   },
   {
    "duration": 10,
    "start_time": "2022-12-03T12:24:18.312Z"
   },
   {
    "duration": 5,
    "start_time": "2022-12-03T12:26:24.480Z"
   },
   {
    "duration": 4,
    "start_time": "2022-12-03T12:26:27.197Z"
   },
   {
    "duration": 189,
    "start_time": "2022-12-03T12:26:27.205Z"
   },
   {
    "duration": 90,
    "start_time": "2022-12-03T12:26:27.395Z"
   },
   {
    "duration": 134,
    "start_time": "2022-12-03T12:26:27.488Z"
   },
   {
    "duration": 24,
    "start_time": "2022-12-03T12:26:27.624Z"
   },
   {
    "duration": 106,
    "start_time": "2022-12-03T12:26:27.651Z"
   },
   {
    "duration": 23,
    "start_time": "2022-12-03T12:26:27.760Z"
   },
   {
    "duration": 62,
    "start_time": "2022-12-03T12:26:27.786Z"
   },
   {
    "duration": 101,
    "start_time": "2022-12-03T12:26:27.850Z"
   },
   {
    "duration": 125,
    "start_time": "2022-12-03T12:26:27.954Z"
   },
   {
    "duration": 62,
    "start_time": "2022-12-03T12:26:28.081Z"
   },
   {
    "duration": 125,
    "start_time": "2022-12-03T12:26:28.145Z"
   },
   {
    "duration": 26,
    "start_time": "2022-12-03T12:26:28.272Z"
   },
   {
    "duration": 24,
    "start_time": "2022-12-03T12:26:28.299Z"
   },
   {
    "duration": 34,
    "start_time": "2022-12-03T12:26:28.325Z"
   },
   {
    "duration": 268,
    "start_time": "2022-12-03T12:26:28.361Z"
   },
   {
    "duration": 14,
    "start_time": "2022-12-03T12:26:28.631Z"
   },
   {
    "duration": 217,
    "start_time": "2022-12-03T12:26:28.647Z"
   },
   {
    "duration": 207,
    "start_time": "2022-12-03T12:26:28.866Z"
   },
   {
    "duration": 78,
    "start_time": "2022-12-03T12:26:29.074Z"
   },
   {
    "duration": 74,
    "start_time": "2022-12-03T12:26:29.153Z"
   },
   {
    "duration": 12,
    "start_time": "2022-12-03T12:26:29.229Z"
   },
   {
    "duration": 147,
    "start_time": "2022-12-03T12:26:29.242Z"
   },
   {
    "duration": 122,
    "start_time": "2022-12-03T12:26:29.391Z"
   },
   {
    "duration": 198,
    "start_time": "2022-12-03T12:26:29.514Z"
   },
   {
    "duration": 33,
    "start_time": "2022-12-03T12:26:29.713Z"
   },
   {
    "duration": 1156,
    "start_time": "2022-12-03T12:26:29.749Z"
   },
   {
    "duration": 14,
    "start_time": "2022-12-03T12:26:30.909Z"
   },
   {
    "duration": 27,
    "start_time": "2022-12-03T12:26:30.925Z"
   },
   {
    "duration": 38,
    "start_time": "2022-12-03T12:26:30.953Z"
   },
   {
    "duration": 26,
    "start_time": "2022-12-03T12:26:30.993Z"
   },
   {
    "duration": 23,
    "start_time": "2022-12-03T12:26:31.021Z"
   },
   {
    "duration": 26,
    "start_time": "2022-12-03T12:26:31.046Z"
   },
   {
    "duration": 188,
    "start_time": "2022-12-03T12:27:36.665Z"
   },
   {
    "duration": 23,
    "start_time": "2022-12-03T12:27:39.608Z"
   },
   {
    "duration": 4,
    "start_time": "2022-12-03T12:27:47.668Z"
   },
   {
    "duration": 187,
    "start_time": "2022-12-03T12:27:47.674Z"
   },
   {
    "duration": 92,
    "start_time": "2022-12-03T12:27:47.862Z"
   },
   {
    "duration": 135,
    "start_time": "2022-12-03T12:27:47.956Z"
   },
   {
    "duration": 30,
    "start_time": "2022-12-03T12:27:48.093Z"
   },
   {
    "duration": 78,
    "start_time": "2022-12-03T12:27:48.125Z"
   },
   {
    "duration": 30,
    "start_time": "2022-12-03T12:27:48.205Z"
   },
   {
    "duration": 46,
    "start_time": "2022-12-03T12:27:48.237Z"
   },
   {
    "duration": 85,
    "start_time": "2022-12-03T12:27:48.284Z"
   },
   {
    "duration": 113,
    "start_time": "2022-12-03T12:27:48.372Z"
   },
   {
    "duration": 62,
    "start_time": "2022-12-03T12:27:48.487Z"
   },
   {
    "duration": 116,
    "start_time": "2022-12-03T12:27:48.551Z"
   },
   {
    "duration": 25,
    "start_time": "2022-12-03T12:27:48.669Z"
   },
   {
    "duration": 26,
    "start_time": "2022-12-03T12:27:48.696Z"
   },
   {
    "duration": 5,
    "start_time": "2022-12-03T12:27:48.724Z"
   },
   {
    "duration": 250,
    "start_time": "2022-12-03T12:27:48.730Z"
   },
   {
    "duration": 15,
    "start_time": "2022-12-03T12:27:48.982Z"
   },
   {
    "duration": 245,
    "start_time": "2022-12-03T12:27:48.999Z"
   },
   {
    "duration": 205,
    "start_time": "2022-12-03T12:27:49.245Z"
   },
   {
    "duration": 80,
    "start_time": "2022-12-03T12:27:49.452Z"
   },
   {
    "duration": 61,
    "start_time": "2022-12-03T12:27:49.533Z"
   },
   {
    "duration": 13,
    "start_time": "2022-12-03T12:27:49.595Z"
   },
   {
    "duration": 135,
    "start_time": "2022-12-03T12:27:49.624Z"
   },
   {
    "duration": 113,
    "start_time": "2022-12-03T12:27:49.762Z"
   },
   {
    "duration": 195,
    "start_time": "2022-12-03T12:27:49.876Z"
   },
   {
    "duration": 21,
    "start_time": "2022-12-03T12:27:50.073Z"
   },
   {
    "duration": 1127,
    "start_time": "2022-12-03T12:27:50.096Z"
   },
   {
    "duration": 9,
    "start_time": "2022-12-03T12:27:51.227Z"
   },
   {
    "duration": 8,
    "start_time": "2022-12-03T12:27:51.238Z"
   },
   {
    "duration": 8,
    "start_time": "2022-12-03T12:27:51.248Z"
   },
   {
    "duration": 17,
    "start_time": "2022-12-03T12:27:51.258Z"
   },
   {
    "duration": 12,
    "start_time": "2022-12-03T12:27:51.277Z"
   },
   {
    "duration": 31,
    "start_time": "2022-12-03T12:27:51.291Z"
   },
   {
    "duration": 203,
    "start_time": "2022-12-03T12:28:15.442Z"
   },
   {
    "duration": 26,
    "start_time": "2022-12-03T12:28:19.091Z"
   },
   {
    "duration": 91,
    "start_time": "2022-12-03T12:29:08.658Z"
   },
   {
    "duration": 90,
    "start_time": "2022-12-03T12:29:13.491Z"
   },
   {
    "duration": 178,
    "start_time": "2022-12-03T12:29:18.346Z"
   },
   {
    "duration": 215,
    "start_time": "2022-12-03T12:29:28.201Z"
   },
   {
    "duration": 191,
    "start_time": "2022-12-03T12:29:43.927Z"
   },
   {
    "duration": 4,
    "start_time": "2022-12-03T12:31:10.491Z"
   },
   {
    "duration": 177,
    "start_time": "2022-12-03T12:31:10.497Z"
   },
   {
    "duration": 85,
    "start_time": "2022-12-03T12:31:10.676Z"
   },
   {
    "duration": 116,
    "start_time": "2022-12-03T12:31:10.763Z"
   },
   {
    "duration": 21,
    "start_time": "2022-12-03T12:31:10.881Z"
   },
   {
    "duration": 93,
    "start_time": "2022-12-03T12:31:10.904Z"
   },
   {
    "duration": 27,
    "start_time": "2022-12-03T12:31:10.999Z"
   },
   {
    "duration": 42,
    "start_time": "2022-12-03T12:31:11.027Z"
   },
   {
    "duration": 88,
    "start_time": "2022-12-03T12:31:11.071Z"
   },
   {
    "duration": 115,
    "start_time": "2022-12-03T12:31:11.161Z"
   },
   {
    "duration": 59,
    "start_time": "2022-12-03T12:31:11.278Z"
   },
   {
    "duration": 113,
    "start_time": "2022-12-03T12:31:11.339Z"
   },
   {
    "duration": 25,
    "start_time": "2022-12-03T12:31:11.454Z"
   },
   {
    "duration": 6,
    "start_time": "2022-12-03T12:31:11.482Z"
   },
   {
    "duration": 23,
    "start_time": "2022-12-03T12:31:11.489Z"
   },
   {
    "duration": 256,
    "start_time": "2022-12-03T12:31:11.522Z"
   },
   {
    "duration": 15,
    "start_time": "2022-12-03T12:31:11.780Z"
   },
   {
    "duration": 220,
    "start_time": "2022-12-03T12:31:11.796Z"
   },
   {
    "duration": 195,
    "start_time": "2022-12-03T12:31:12.022Z"
   },
   {
    "duration": 74,
    "start_time": "2022-12-03T12:31:12.221Z"
   },
   {
    "duration": 77,
    "start_time": "2022-12-03T12:31:12.297Z"
   },
   {
    "duration": 11,
    "start_time": "2022-12-03T12:31:12.376Z"
   },
   {
    "duration": 142,
    "start_time": "2022-12-03T12:31:12.389Z"
   },
   {
    "duration": 105,
    "start_time": "2022-12-03T12:31:12.532Z"
   },
   {
    "duration": 192,
    "start_time": "2022-12-03T12:31:12.639Z"
   },
   {
    "duration": 20,
    "start_time": "2022-12-03T12:31:12.833Z"
   },
   {
    "duration": 987,
    "start_time": "2022-12-03T12:31:12.854Z"
   },
   {
    "duration": 12,
    "start_time": "2022-12-03T12:31:13.842Z"
   },
   {
    "duration": 9,
    "start_time": "2022-12-03T12:31:13.856Z"
   },
   {
    "duration": 24,
    "start_time": "2022-12-03T12:31:13.866Z"
   },
   {
    "duration": 21,
    "start_time": "2022-12-03T12:31:13.891Z"
   },
   {
    "duration": 10,
    "start_time": "2022-12-03T12:31:13.914Z"
   },
   {
    "duration": 10,
    "start_time": "2022-12-03T12:31:13.925Z"
   },
   {
    "duration": 10,
    "start_time": "2022-12-03T12:32:22.708Z"
   },
   {
    "duration": 9,
    "start_time": "2022-12-03T12:32:41.743Z"
   },
   {
    "duration": 188,
    "start_time": "2022-12-03T12:34:27.541Z"
   },
   {
    "duration": 21,
    "start_time": "2022-12-03T12:34:32.316Z"
   },
   {
    "duration": 4,
    "start_time": "2022-12-03T12:34:36.240Z"
   },
   {
    "duration": 175,
    "start_time": "2022-12-03T12:34:36.247Z"
   },
   {
    "duration": 79,
    "start_time": "2022-12-03T12:34:36.424Z"
   },
   {
    "duration": 130,
    "start_time": "2022-12-03T12:34:36.506Z"
   },
   {
    "duration": 22,
    "start_time": "2022-12-03T12:34:36.638Z"
   },
   {
    "duration": 97,
    "start_time": "2022-12-03T12:34:36.662Z"
   },
   {
    "duration": 19,
    "start_time": "2022-12-03T12:34:36.760Z"
   },
   {
    "duration": 51,
    "start_time": "2022-12-03T12:34:36.780Z"
   },
   {
    "duration": 74,
    "start_time": "2022-12-03T12:34:36.833Z"
   },
   {
    "duration": 113,
    "start_time": "2022-12-03T12:34:36.921Z"
   },
   {
    "duration": 53,
    "start_time": "2022-12-03T12:34:37.035Z"
   },
   {
    "duration": 133,
    "start_time": "2022-12-03T12:34:37.090Z"
   },
   {
    "duration": 26,
    "start_time": "2022-12-03T12:34:37.224Z"
   },
   {
    "duration": 6,
    "start_time": "2022-12-03T12:34:37.252Z"
   },
   {
    "duration": 12,
    "start_time": "2022-12-03T12:34:37.259Z"
   },
   {
    "duration": 270,
    "start_time": "2022-12-03T12:34:37.273Z"
   },
   {
    "duration": 14,
    "start_time": "2022-12-03T12:34:37.544Z"
   },
   {
    "duration": 221,
    "start_time": "2022-12-03T12:34:37.560Z"
   },
   {
    "duration": 225,
    "start_time": "2022-12-03T12:34:37.783Z"
   },
   {
    "duration": 77,
    "start_time": "2022-12-03T12:34:38.010Z"
   },
   {
    "duration": 70,
    "start_time": "2022-12-03T12:34:38.089Z"
   },
   {
    "duration": 10,
    "start_time": "2022-12-03T12:34:38.161Z"
   },
   {
    "duration": 258,
    "start_time": "2022-12-03T12:34:38.173Z"
   },
   {
    "duration": 109,
    "start_time": "2022-12-03T12:34:38.433Z"
   },
   {
    "duration": 192,
    "start_time": "2022-12-03T12:34:38.543Z"
   },
   {
    "duration": 20,
    "start_time": "2022-12-03T12:34:38.737Z"
   },
   {
    "duration": 991,
    "start_time": "2022-12-03T12:34:38.759Z"
   },
   {
    "duration": 10,
    "start_time": "2022-12-03T12:34:39.753Z"
   },
   {
    "duration": 12,
    "start_time": "2022-12-03T12:34:39.764Z"
   },
   {
    "duration": 17,
    "start_time": "2022-12-03T12:34:39.778Z"
   },
   {
    "duration": 27,
    "start_time": "2022-12-03T12:34:39.797Z"
   },
   {
    "duration": 15,
    "start_time": "2022-12-03T12:34:39.826Z"
   },
   {
    "duration": 22,
    "start_time": "2022-12-03T12:34:39.842Z"
   },
   {
    "duration": 176,
    "start_time": "2022-12-03T12:36:01.260Z"
   },
   {
    "duration": 22,
    "start_time": "2022-12-03T12:36:05.605Z"
   },
   {
    "duration": 3,
    "start_time": "2022-12-03T12:36:14.406Z"
   },
   {
    "duration": 157,
    "start_time": "2022-12-03T12:36:14.411Z"
   },
   {
    "duration": 77,
    "start_time": "2022-12-03T12:36:14.570Z"
   },
   {
    "duration": 109,
    "start_time": "2022-12-03T12:36:14.649Z"
   },
   {
    "duration": 21,
    "start_time": "2022-12-03T12:36:14.760Z"
   },
   {
    "duration": 96,
    "start_time": "2022-12-03T12:36:14.782Z"
   },
   {
    "duration": 19,
    "start_time": "2022-12-03T12:36:14.880Z"
   },
   {
    "duration": 57,
    "start_time": "2022-12-03T12:36:14.901Z"
   },
   {
    "duration": 87,
    "start_time": "2022-12-03T12:36:14.960Z"
   },
   {
    "duration": 121,
    "start_time": "2022-12-03T12:36:15.050Z"
   },
   {
    "duration": 58,
    "start_time": "2022-12-03T12:36:15.172Z"
   },
   {
    "duration": 115,
    "start_time": "2022-12-03T12:36:15.231Z"
   },
   {
    "duration": 25,
    "start_time": "2022-12-03T12:36:15.347Z"
   },
   {
    "duration": 5,
    "start_time": "2022-12-03T12:36:15.373Z"
   },
   {
    "duration": 4,
    "start_time": "2022-12-03T12:36:15.380Z"
   },
   {
    "duration": 265,
    "start_time": "2022-12-03T12:36:15.386Z"
   },
   {
    "duration": 14,
    "start_time": "2022-12-03T12:36:15.653Z"
   },
   {
    "duration": 240,
    "start_time": "2022-12-03T12:36:15.669Z"
   },
   {
    "duration": 211,
    "start_time": "2022-12-03T12:36:15.911Z"
   },
   {
    "duration": 76,
    "start_time": "2022-12-03T12:36:16.123Z"
   },
   {
    "duration": 73,
    "start_time": "2022-12-03T12:36:16.201Z"
   },
   {
    "duration": 13,
    "start_time": "2022-12-03T12:36:16.276Z"
   },
   {
    "duration": 150,
    "start_time": "2022-12-03T12:36:16.291Z"
   },
   {
    "duration": 117,
    "start_time": "2022-12-03T12:36:16.442Z"
   },
   {
    "duration": 205,
    "start_time": "2022-12-03T12:36:16.561Z"
   },
   {
    "duration": 22,
    "start_time": "2022-12-03T12:36:16.768Z"
   },
   {
    "duration": 1040,
    "start_time": "2022-12-03T12:36:16.791Z"
   },
   {
    "duration": 11,
    "start_time": "2022-12-03T12:36:17.835Z"
   },
   {
    "duration": 13,
    "start_time": "2022-12-03T12:36:17.848Z"
   },
   {
    "duration": 9,
    "start_time": "2022-12-03T12:36:17.863Z"
   },
   {
    "duration": 19,
    "start_time": "2022-12-03T12:36:17.874Z"
   },
   {
    "duration": 28,
    "start_time": "2022-12-03T12:36:17.894Z"
   },
   {
    "duration": 10,
    "start_time": "2022-12-03T12:36:17.923Z"
   },
   {
    "duration": 8,
    "start_time": "2022-12-03T12:36:57.705Z"
   },
   {
    "duration": 3,
    "start_time": "2022-12-03T12:37:05.615Z"
   },
   {
    "duration": 162,
    "start_time": "2022-12-03T12:37:05.621Z"
   },
   {
    "duration": 98,
    "start_time": "2022-12-03T12:37:05.785Z"
   },
   {
    "duration": 115,
    "start_time": "2022-12-03T12:37:05.885Z"
   },
   {
    "duration": 29,
    "start_time": "2022-12-03T12:37:06.003Z"
   },
   {
    "duration": 89,
    "start_time": "2022-12-03T12:37:06.034Z"
   },
   {
    "duration": 24,
    "start_time": "2022-12-03T12:37:06.125Z"
   },
   {
    "duration": 45,
    "start_time": "2022-12-03T12:37:06.151Z"
   },
   {
    "duration": 95,
    "start_time": "2022-12-03T12:37:06.197Z"
   },
   {
    "duration": 128,
    "start_time": "2022-12-03T12:37:06.295Z"
   },
   {
    "duration": 51,
    "start_time": "2022-12-03T12:37:06.425Z"
   },
   {
    "duration": 126,
    "start_time": "2022-12-03T12:37:06.478Z"
   },
   {
    "duration": 37,
    "start_time": "2022-12-03T12:37:06.605Z"
   },
   {
    "duration": 5,
    "start_time": "2022-12-03T12:37:06.645Z"
   },
   {
    "duration": 7,
    "start_time": "2022-12-03T12:37:06.652Z"
   },
   {
    "duration": 258,
    "start_time": "2022-12-03T12:37:06.660Z"
   },
   {
    "duration": 14,
    "start_time": "2022-12-03T12:37:06.922Z"
   },
   {
    "duration": 218,
    "start_time": "2022-12-03T12:37:06.938Z"
   },
   {
    "duration": 323,
    "start_time": "2022-12-03T12:37:07.157Z"
   },
   {
    "duration": 81,
    "start_time": "2022-12-03T12:37:07.482Z"
   },
   {
    "duration": 73,
    "start_time": "2022-12-03T12:37:07.564Z"
   },
   {
    "duration": 11,
    "start_time": "2022-12-03T12:37:07.639Z"
   },
   {
    "duration": 138,
    "start_time": "2022-12-03T12:37:07.652Z"
   },
   {
    "duration": 117,
    "start_time": "2022-12-03T12:37:07.792Z"
   },
   {
    "duration": 188,
    "start_time": "2022-12-03T12:37:07.911Z"
   },
   {
    "duration": 7,
    "start_time": "2022-12-03T12:37:08.101Z"
   },
   {
    "duration": 1014,
    "start_time": "2022-12-03T12:37:08.110Z"
   },
   {
    "duration": 10,
    "start_time": "2022-12-03T12:37:09.126Z"
   },
   {
    "duration": 11,
    "start_time": "2022-12-03T12:37:09.137Z"
   },
   {
    "duration": 6,
    "start_time": "2022-12-03T12:37:09.149Z"
   },
   {
    "duration": 14,
    "start_time": "2022-12-03T12:37:09.157Z"
   },
   {
    "duration": 11,
    "start_time": "2022-12-03T12:37:09.172Z"
   },
   {
    "duration": 12,
    "start_time": "2022-12-03T12:37:09.184Z"
   },
   {
    "duration": 15,
    "start_time": "2022-12-03T12:37:30.394Z"
   },
   {
    "duration": 13,
    "start_time": "2022-12-03T12:37:42.605Z"
   },
   {
    "duration": 14,
    "start_time": "2022-12-03T12:38:17.027Z"
   },
   {
    "duration": 13,
    "start_time": "2022-12-03T12:38:20.769Z"
   },
   {
    "duration": 92,
    "start_time": "2022-12-03T12:41:24.078Z"
   },
   {
    "duration": 21,
    "start_time": "2022-12-03T12:41:45.334Z"
   },
   {
    "duration": 4,
    "start_time": "2022-12-03T12:41:56.166Z"
   },
   {
    "duration": 177,
    "start_time": "2022-12-03T12:41:56.172Z"
   },
   {
    "duration": 94,
    "start_time": "2022-12-03T12:41:56.351Z"
   },
   {
    "duration": 120,
    "start_time": "2022-12-03T12:41:56.447Z"
   },
   {
    "duration": 22,
    "start_time": "2022-12-03T12:41:56.569Z"
   },
   {
    "duration": 105,
    "start_time": "2022-12-03T12:41:56.593Z"
   },
   {
    "duration": 24,
    "start_time": "2022-12-03T12:41:56.699Z"
   },
   {
    "duration": 45,
    "start_time": "2022-12-03T12:41:56.724Z"
   },
   {
    "duration": 92,
    "start_time": "2022-12-03T12:41:56.771Z"
   },
   {
    "duration": 123,
    "start_time": "2022-12-03T12:41:56.866Z"
   },
   {
    "duration": 66,
    "start_time": "2022-12-03T12:41:56.991Z"
   },
   {
    "duration": 117,
    "start_time": "2022-12-03T12:41:57.058Z"
   },
   {
    "duration": 45,
    "start_time": "2022-12-03T12:41:57.177Z"
   },
   {
    "duration": 8,
    "start_time": "2022-12-03T12:41:57.224Z"
   },
   {
    "duration": 15,
    "start_time": "2022-12-03T12:41:57.234Z"
   },
   {
    "duration": 271,
    "start_time": "2022-12-03T12:41:57.251Z"
   },
   {
    "duration": 20,
    "start_time": "2022-12-03T12:41:57.524Z"
   },
   {
    "duration": 223,
    "start_time": "2022-12-03T12:41:57.545Z"
   },
   {
    "duration": 233,
    "start_time": "2022-12-03T12:41:57.769Z"
   },
   {
    "duration": 85,
    "start_time": "2022-12-03T12:41:58.003Z"
   },
   {
    "duration": 74,
    "start_time": "2022-12-03T12:41:58.090Z"
   },
   {
    "duration": 10,
    "start_time": "2022-12-03T12:41:58.166Z"
   },
   {
    "duration": 155,
    "start_time": "2022-12-03T12:41:58.178Z"
   },
   {
    "duration": 117,
    "start_time": "2022-12-03T12:41:58.336Z"
   },
   {
    "duration": 221,
    "start_time": "2022-12-03T12:41:58.455Z"
   },
   {
    "duration": 19,
    "start_time": "2022-12-03T12:41:58.677Z"
   },
   {
    "duration": 1098,
    "start_time": "2022-12-03T12:41:58.697Z"
   },
   {
    "duration": 10,
    "start_time": "2022-12-03T12:41:59.799Z"
   },
   {
    "duration": 39,
    "start_time": "2022-12-03T12:41:59.822Z"
   },
   {
    "duration": 19,
    "start_time": "2022-12-03T12:41:59.863Z"
   },
   {
    "duration": 21,
    "start_time": "2022-12-03T12:41:59.884Z"
   },
   {
    "duration": 128,
    "start_time": "2022-12-03T12:41:59.907Z"
   },
   {
    "duration": 10,
    "start_time": "2022-12-03T12:42:00.037Z"
   },
   {
    "duration": 20,
    "start_time": "2022-12-03T12:42:24.155Z"
   },
   {
    "duration": 17,
    "start_time": "2022-12-03T12:42:50.029Z"
   },
   {
    "duration": 13,
    "start_time": "2022-12-03T12:43:00.388Z"
   },
   {
    "duration": 3,
    "start_time": "2022-12-03T12:43:04.509Z"
   },
   {
    "duration": 170,
    "start_time": "2022-12-03T12:43:04.514Z"
   },
   {
    "duration": 83,
    "start_time": "2022-12-03T12:43:04.686Z"
   },
   {
    "duration": 119,
    "start_time": "2022-12-03T12:43:04.771Z"
   },
   {
    "duration": 21,
    "start_time": "2022-12-03T12:43:04.892Z"
   },
   {
    "duration": 88,
    "start_time": "2022-12-03T12:43:04.925Z"
   },
   {
    "duration": 24,
    "start_time": "2022-12-03T12:43:05.023Z"
   },
   {
    "duration": 50,
    "start_time": "2022-12-03T12:43:05.049Z"
   },
   {
    "duration": 88,
    "start_time": "2022-12-03T12:43:05.101Z"
   },
   {
    "duration": 124,
    "start_time": "2022-12-03T12:43:05.192Z"
   },
   {
    "duration": 54,
    "start_time": "2022-12-03T12:43:05.321Z"
   },
   {
    "duration": 128,
    "start_time": "2022-12-03T12:43:05.377Z"
   },
   {
    "duration": 37,
    "start_time": "2022-12-03T12:43:05.507Z"
   },
   {
    "duration": 6,
    "start_time": "2022-12-03T12:43:05.546Z"
   },
   {
    "duration": 19,
    "start_time": "2022-12-03T12:43:05.554Z"
   },
   {
    "duration": 274,
    "start_time": "2022-12-03T12:43:05.575Z"
   },
   {
    "duration": 18,
    "start_time": "2022-12-03T12:43:05.851Z"
   },
   {
    "duration": 236,
    "start_time": "2022-12-03T12:43:05.871Z"
   },
   {
    "duration": 219,
    "start_time": "2022-12-03T12:43:06.109Z"
   },
   {
    "duration": 75,
    "start_time": "2022-12-03T12:43:06.330Z"
   },
   {
    "duration": 73,
    "start_time": "2022-12-03T12:43:06.407Z"
   },
   {
    "duration": 12,
    "start_time": "2022-12-03T12:43:06.482Z"
   },
   {
    "duration": 157,
    "start_time": "2022-12-03T12:43:06.496Z"
   },
   {
    "duration": 117,
    "start_time": "2022-12-03T12:43:06.654Z"
   },
   {
    "duration": 193,
    "start_time": "2022-12-03T12:43:06.773Z"
   },
   {
    "duration": 7,
    "start_time": "2022-12-03T12:43:06.968Z"
   },
   {
    "duration": 1041,
    "start_time": "2022-12-03T12:43:06.976Z"
   },
   {
    "duration": 12,
    "start_time": "2022-12-03T12:43:08.024Z"
   },
   {
    "duration": 11,
    "start_time": "2022-12-03T12:43:08.038Z"
   },
   {
    "duration": 9,
    "start_time": "2022-12-03T12:43:08.050Z"
   },
   {
    "duration": 15,
    "start_time": "2022-12-03T12:43:08.061Z"
   },
   {
    "duration": 10,
    "start_time": "2022-12-03T12:43:08.077Z"
   },
   {
    "duration": 37,
    "start_time": "2022-12-03T12:43:08.088Z"
   },
   {
    "duration": 5,
    "start_time": "2022-12-03T12:43:53.689Z"
   },
   {
    "duration": 9,
    "start_time": "2022-12-03T12:43:55.056Z"
   },
   {
    "duration": 15,
    "start_time": "2022-12-03T12:49:39.756Z"
   },
   {
    "duration": 16,
    "start_time": "2022-12-03T12:49:57.304Z"
   },
   {
    "duration": 14,
    "start_time": "2022-12-03T12:50:36.342Z"
   },
   {
    "duration": 6,
    "start_time": "2022-12-03T12:51:15.197Z"
   },
   {
    "duration": 12,
    "start_time": "2022-12-03T12:51:17.616Z"
   },
   {
    "duration": 1172,
    "start_time": "2022-12-03T12:51:49.189Z"
   },
   {
    "duration": 10,
    "start_time": "2022-12-03T12:51:56.881Z"
   },
   {
    "duration": 4,
    "start_time": "2022-12-03T12:52:11.549Z"
   },
   {
    "duration": 187,
    "start_time": "2022-12-03T12:52:11.555Z"
   },
   {
    "duration": 89,
    "start_time": "2022-12-03T12:52:11.745Z"
   },
   {
    "duration": 122,
    "start_time": "2022-12-03T12:52:11.836Z"
   },
   {
    "duration": 23,
    "start_time": "2022-12-03T12:52:11.960Z"
   },
   {
    "duration": 98,
    "start_time": "2022-12-03T12:52:11.985Z"
   },
   {
    "duration": 18,
    "start_time": "2022-12-03T12:52:12.085Z"
   },
   {
    "duration": 53,
    "start_time": "2022-12-03T12:52:12.104Z"
   },
   {
    "duration": 90,
    "start_time": "2022-12-03T12:52:12.159Z"
   },
   {
    "duration": 123,
    "start_time": "2022-12-03T12:52:12.251Z"
   },
   {
    "duration": 59,
    "start_time": "2022-12-03T12:52:12.376Z"
   },
   {
    "duration": 129,
    "start_time": "2022-12-03T12:52:12.437Z"
   },
   {
    "duration": 27,
    "start_time": "2022-12-03T12:52:12.568Z"
   },
   {
    "duration": 26,
    "start_time": "2022-12-03T12:52:12.597Z"
   },
   {
    "duration": 4,
    "start_time": "2022-12-03T12:52:12.625Z"
   },
   {
    "duration": 260,
    "start_time": "2022-12-03T12:52:12.631Z"
   },
   {
    "duration": 29,
    "start_time": "2022-12-03T12:52:12.893Z"
   },
   {
    "duration": 214,
    "start_time": "2022-12-03T12:52:12.924Z"
   },
   {
    "duration": 208,
    "start_time": "2022-12-03T12:52:13.140Z"
   },
   {
    "duration": 100,
    "start_time": "2022-12-03T12:52:13.350Z"
   },
   {
    "duration": 71,
    "start_time": "2022-12-03T12:52:13.452Z"
   },
   {
    "duration": 12,
    "start_time": "2022-12-03T12:52:13.525Z"
   },
   {
    "duration": 143,
    "start_time": "2022-12-03T12:52:13.539Z"
   },
   {
    "duration": 122,
    "start_time": "2022-12-03T12:52:13.686Z"
   },
   {
    "duration": 211,
    "start_time": "2022-12-03T12:52:13.811Z"
   },
   {
    "duration": 9,
    "start_time": "2022-12-03T12:52:14.024Z"
   },
   {
    "duration": 1074,
    "start_time": "2022-12-03T12:52:14.035Z"
   },
   {
    "duration": 16,
    "start_time": "2022-12-03T12:52:15.111Z"
   },
   {
    "duration": 14,
    "start_time": "2022-12-03T12:52:15.129Z"
   },
   {
    "duration": 8,
    "start_time": "2022-12-03T12:52:15.145Z"
   },
   {
    "duration": 16,
    "start_time": "2022-12-03T12:52:15.156Z"
   },
   {
    "duration": 10,
    "start_time": "2022-12-03T12:52:15.174Z"
   },
   {
    "duration": 145,
    "start_time": "2022-12-03T12:52:15.186Z"
   },
   {
    "duration": 10,
    "start_time": "2022-12-03T12:52:30.464Z"
   },
   {
    "duration": 9,
    "start_time": "2022-12-03T12:53:06.914Z"
   },
   {
    "duration": 4,
    "start_time": "2022-12-03T12:53:08.254Z"
   },
   {
    "duration": 176,
    "start_time": "2022-12-03T12:53:08.260Z"
   },
   {
    "duration": 91,
    "start_time": "2022-12-03T12:53:08.437Z"
   },
   {
    "duration": 117,
    "start_time": "2022-12-03T12:53:08.530Z"
   },
   {
    "duration": 23,
    "start_time": "2022-12-03T12:53:08.650Z"
   },
   {
    "duration": 100,
    "start_time": "2022-12-03T12:53:08.674Z"
   },
   {
    "duration": 19,
    "start_time": "2022-12-03T12:53:08.776Z"
   },
   {
    "duration": 62,
    "start_time": "2022-12-03T12:53:08.797Z"
   },
   {
    "duration": 106,
    "start_time": "2022-12-03T12:53:08.862Z"
   },
   {
    "duration": 129,
    "start_time": "2022-12-03T12:53:08.970Z"
   },
   {
    "duration": 59,
    "start_time": "2022-12-03T12:53:09.101Z"
   },
   {
    "duration": 134,
    "start_time": "2022-12-03T12:53:09.162Z"
   },
   {
    "duration": 40,
    "start_time": "2022-12-03T12:53:09.299Z"
   },
   {
    "duration": 6,
    "start_time": "2022-12-03T12:53:09.343Z"
   },
   {
    "duration": 5,
    "start_time": "2022-12-03T12:53:09.351Z"
   },
   {
    "duration": 287,
    "start_time": "2022-12-03T12:53:09.358Z"
   },
   {
    "duration": 14,
    "start_time": "2022-12-03T12:53:09.648Z"
   },
   {
    "duration": 279,
    "start_time": "2022-12-03T12:53:09.664Z"
   },
   {
    "duration": 213,
    "start_time": "2022-12-03T12:53:09.945Z"
   },
   {
    "duration": 82,
    "start_time": "2022-12-03T12:53:10.159Z"
   },
   {
    "duration": 65,
    "start_time": "2022-12-03T12:53:10.243Z"
   },
   {
    "duration": 20,
    "start_time": "2022-12-03T12:53:10.310Z"
   },
   {
    "duration": 148,
    "start_time": "2022-12-03T12:53:10.332Z"
   },
   {
    "duration": 120,
    "start_time": "2022-12-03T12:53:10.482Z"
   },
   {
    "duration": 201,
    "start_time": "2022-12-03T12:53:10.604Z"
   },
   {
    "duration": 8,
    "start_time": "2022-12-03T12:53:10.807Z"
   },
   {
    "duration": 1074,
    "start_time": "2022-12-03T12:53:10.823Z"
   },
   {
    "duration": 9,
    "start_time": "2022-12-03T12:53:11.899Z"
   },
   {
    "duration": 17,
    "start_time": "2022-12-03T12:53:11.909Z"
   },
   {
    "duration": 9,
    "start_time": "2022-12-03T12:53:11.927Z"
   },
   {
    "duration": 21,
    "start_time": "2022-12-03T12:53:11.938Z"
   },
   {
    "duration": 11,
    "start_time": "2022-12-03T12:53:11.961Z"
   },
   {
    "duration": 14,
    "start_time": "2022-12-03T12:53:11.974Z"
   },
   {
    "duration": 6,
    "start_time": "2022-12-03T12:54:17.409Z"
   },
   {
    "duration": 10,
    "start_time": "2022-12-03T12:54:21.207Z"
   },
   {
    "duration": 4,
    "start_time": "2022-12-03T12:54:26.380Z"
   },
   {
    "duration": 165,
    "start_time": "2022-12-03T12:54:26.386Z"
   },
   {
    "duration": 87,
    "start_time": "2022-12-03T12:54:26.553Z"
   },
   {
    "duration": 109,
    "start_time": "2022-12-03T12:54:26.643Z"
   },
   {
    "duration": 23,
    "start_time": "2022-12-03T12:54:26.754Z"
   },
   {
    "duration": 101,
    "start_time": "2022-12-03T12:54:26.778Z"
   },
   {
    "duration": 19,
    "start_time": "2022-12-03T12:54:26.880Z"
   },
   {
    "duration": 56,
    "start_time": "2022-12-03T12:54:26.900Z"
   },
   {
    "duration": 78,
    "start_time": "2022-12-03T12:54:26.958Z"
   },
   {
    "duration": 126,
    "start_time": "2022-12-03T12:54:27.039Z"
   },
   {
    "duration": 58,
    "start_time": "2022-12-03T12:54:27.167Z"
   },
   {
    "duration": 117,
    "start_time": "2022-12-03T12:54:27.226Z"
   },
   {
    "duration": 25,
    "start_time": "2022-12-03T12:54:27.345Z"
   },
   {
    "duration": 6,
    "start_time": "2022-12-03T12:54:27.372Z"
   },
   {
    "duration": 4,
    "start_time": "2022-12-03T12:54:27.379Z"
   },
   {
    "duration": 278,
    "start_time": "2022-12-03T12:54:27.385Z"
   },
   {
    "duration": 15,
    "start_time": "2022-12-03T12:54:27.665Z"
   },
   {
    "duration": 242,
    "start_time": "2022-12-03T12:54:27.682Z"
   },
   {
    "duration": 210,
    "start_time": "2022-12-03T12:54:27.926Z"
   },
   {
    "duration": 88,
    "start_time": "2022-12-03T12:54:28.137Z"
   },
   {
    "duration": 67,
    "start_time": "2022-12-03T12:54:28.227Z"
   },
   {
    "duration": 27,
    "start_time": "2022-12-03T12:54:28.296Z"
   },
   {
    "duration": 137,
    "start_time": "2022-12-03T12:54:28.325Z"
   },
   {
    "duration": 114,
    "start_time": "2022-12-03T12:54:28.463Z"
   },
   {
    "duration": 187,
    "start_time": "2022-12-03T12:54:28.579Z"
   },
   {
    "duration": 8,
    "start_time": "2022-12-03T12:54:28.768Z"
   },
   {
    "duration": 1048,
    "start_time": "2022-12-03T12:54:28.777Z"
   },
   {
    "duration": 10,
    "start_time": "2022-12-03T12:54:29.829Z"
   },
   {
    "duration": 56,
    "start_time": "2022-12-03T12:54:29.841Z"
   },
   {
    "duration": 48,
    "start_time": "2022-12-03T12:54:29.899Z"
   },
   {
    "duration": 15,
    "start_time": "2022-12-03T12:54:29.949Z"
   },
   {
    "duration": 172,
    "start_time": "2022-12-03T12:54:29.966Z"
   },
   {
    "duration": 11,
    "start_time": "2022-12-03T12:54:30.140Z"
   },
   {
    "duration": 13,
    "start_time": "2022-12-03T12:55:57.536Z"
   },
   {
    "duration": 13,
    "start_time": "2022-12-03T12:56:31.280Z"
   },
   {
    "duration": 7,
    "start_time": "2022-12-03T12:56:46.862Z"
   },
   {
    "duration": 14,
    "start_time": "2022-12-03T12:57:01.861Z"
   },
   {
    "duration": 12,
    "start_time": "2022-12-03T12:57:08.668Z"
   },
   {
    "duration": 71,
    "start_time": "2022-12-03T12:58:16.629Z"
   },
   {
    "duration": 12,
    "start_time": "2022-12-03T12:58:57.903Z"
   },
   {
    "duration": 6,
    "start_time": "2022-12-03T12:59:30.503Z"
   },
   {
    "duration": 10,
    "start_time": "2022-12-03T12:59:32.202Z"
   },
   {
    "duration": 11,
    "start_time": "2022-12-03T13:00:15.411Z"
   },
   {
    "duration": 16,
    "start_time": "2022-12-03T13:00:31.670Z"
   },
   {
    "duration": 4,
    "start_time": "2022-12-03T13:00:41.838Z"
   },
   {
    "duration": 183,
    "start_time": "2022-12-03T13:00:41.845Z"
   },
   {
    "duration": 74,
    "start_time": "2022-12-03T13:00:42.029Z"
   },
   {
    "duration": 121,
    "start_time": "2022-12-03T13:00:42.105Z"
   },
   {
    "duration": 22,
    "start_time": "2022-12-03T13:00:42.228Z"
   },
   {
    "duration": 103,
    "start_time": "2022-12-03T13:00:42.252Z"
   },
   {
    "duration": 19,
    "start_time": "2022-12-03T13:00:42.357Z"
   },
   {
    "duration": 58,
    "start_time": "2022-12-03T13:00:42.378Z"
   },
   {
    "duration": 87,
    "start_time": "2022-12-03T13:00:42.438Z"
   },
   {
    "duration": 127,
    "start_time": "2022-12-03T13:00:42.528Z"
   },
   {
    "duration": 69,
    "start_time": "2022-12-03T13:00:42.657Z"
   },
   {
    "duration": 127,
    "start_time": "2022-12-03T13:00:42.728Z"
   },
   {
    "duration": 29,
    "start_time": "2022-12-03T13:00:42.857Z"
   },
   {
    "duration": 7,
    "start_time": "2022-12-03T13:00:42.888Z"
   },
   {
    "duration": 4,
    "start_time": "2022-12-03T13:00:42.923Z"
   },
   {
    "duration": 274,
    "start_time": "2022-12-03T13:00:42.928Z"
   },
   {
    "duration": 23,
    "start_time": "2022-12-03T13:00:43.204Z"
   },
   {
    "duration": 236,
    "start_time": "2022-12-03T13:00:43.228Z"
   },
   {
    "duration": 210,
    "start_time": "2022-12-03T13:00:43.466Z"
   },
   {
    "duration": 88,
    "start_time": "2022-12-03T13:00:43.678Z"
   },
   {
    "duration": 73,
    "start_time": "2022-12-03T13:00:43.767Z"
   },
   {
    "duration": 13,
    "start_time": "2022-12-03T13:00:43.841Z"
   },
   {
    "duration": 176,
    "start_time": "2022-12-03T13:00:43.856Z"
   },
   {
    "duration": 142,
    "start_time": "2022-12-03T13:00:44.035Z"
   },
   {
    "duration": 227,
    "start_time": "2022-12-03T13:00:44.180Z"
   },
   {
    "duration": 16,
    "start_time": "2022-12-03T13:00:44.409Z"
   },
   {
    "duration": 1042,
    "start_time": "2022-12-03T13:00:44.427Z"
   },
   {
    "duration": 10,
    "start_time": "2022-12-03T13:00:45.473Z"
   },
   {
    "duration": 10,
    "start_time": "2022-12-03T13:00:45.485Z"
   },
   {
    "duration": 31,
    "start_time": "2022-12-03T13:00:45.497Z"
   },
   {
    "duration": 0,
    "start_time": "2022-12-03T13:00:45.530Z"
   },
   {
    "duration": 0,
    "start_time": "2022-12-03T13:00:45.531Z"
   },
   {
    "duration": 0,
    "start_time": "2022-12-03T13:00:45.532Z"
   },
   {
    "duration": 0,
    "start_time": "2022-12-03T13:00:45.533Z"
   },
   {
    "duration": 16,
    "start_time": "2022-12-03T13:01:03.567Z"
   },
   {
    "duration": 6,
    "start_time": "2022-12-03T13:01:30.608Z"
   },
   {
    "duration": 11,
    "start_time": "2022-12-03T13:01:32.776Z"
   },
   {
    "duration": 117,
    "start_time": "2022-12-03T13:08:44.595Z"
   },
   {
    "duration": 9,
    "start_time": "2022-12-03T13:09:30.006Z"
   },
   {
    "duration": 5,
    "start_time": "2022-12-03T13:09:33.468Z"
   },
   {
    "duration": 3,
    "start_time": "2022-12-03T13:09:36.170Z"
   },
   {
    "duration": 176,
    "start_time": "2022-12-03T13:09:36.175Z"
   },
   {
    "duration": 86,
    "start_time": "2022-12-03T13:09:36.353Z"
   },
   {
    "duration": 116,
    "start_time": "2022-12-03T13:09:36.441Z"
   },
   {
    "duration": 32,
    "start_time": "2022-12-03T13:09:36.559Z"
   },
   {
    "duration": 102,
    "start_time": "2022-12-03T13:09:36.593Z"
   },
   {
    "duration": 36,
    "start_time": "2022-12-03T13:09:36.698Z"
   },
   {
    "duration": 40,
    "start_time": "2022-12-03T13:09:36.736Z"
   },
   {
    "duration": 87,
    "start_time": "2022-12-03T13:09:36.778Z"
   },
   {
    "duration": 130,
    "start_time": "2022-12-03T13:09:36.868Z"
   },
   {
    "duration": 65,
    "start_time": "2022-12-03T13:09:37.000Z"
   },
   {
    "duration": 122,
    "start_time": "2022-12-03T13:09:37.067Z"
   },
   {
    "duration": 47,
    "start_time": "2022-12-03T13:09:37.190Z"
   },
   {
    "duration": 6,
    "start_time": "2022-12-03T13:09:37.238Z"
   },
   {
    "duration": 4,
    "start_time": "2022-12-03T13:09:37.245Z"
   },
   {
    "duration": 263,
    "start_time": "2022-12-03T13:09:37.251Z"
   },
   {
    "duration": 30,
    "start_time": "2022-12-03T13:09:37.515Z"
   },
   {
    "duration": 219,
    "start_time": "2022-12-03T13:09:37.547Z"
   },
   {
    "duration": 216,
    "start_time": "2022-12-03T13:09:37.768Z"
   },
   {
    "duration": 79,
    "start_time": "2022-12-03T13:09:37.985Z"
   },
   {
    "duration": 74,
    "start_time": "2022-12-03T13:09:38.066Z"
   },
   {
    "duration": 11,
    "start_time": "2022-12-03T13:09:38.142Z"
   },
   {
    "duration": 136,
    "start_time": "2022-12-03T13:09:38.154Z"
   },
   {
    "duration": 109,
    "start_time": "2022-12-03T13:09:38.292Z"
   },
   {
    "duration": 197,
    "start_time": "2022-12-03T13:09:38.403Z"
   },
   {
    "duration": 8,
    "start_time": "2022-12-03T13:09:38.601Z"
   },
   {
    "duration": 1040,
    "start_time": "2022-12-03T13:09:38.610Z"
   },
   {
    "duration": 11,
    "start_time": "2022-12-03T13:09:39.653Z"
   },
   {
    "duration": 24,
    "start_time": "2022-12-03T13:09:39.666Z"
   },
   {
    "duration": 35,
    "start_time": "2022-12-03T13:09:39.693Z"
   },
   {
    "duration": 45,
    "start_time": "2022-12-03T13:09:39.731Z"
   },
   {
    "duration": 30,
    "start_time": "2022-12-03T13:09:39.778Z"
   },
   {
    "duration": 136,
    "start_time": "2022-12-03T13:09:39.810Z"
   },
   {
    "duration": 9,
    "start_time": "2022-12-03T13:09:45.099Z"
   },
   {
    "duration": 15,
    "start_time": "2022-12-03T13:10:46.317Z"
   },
   {
    "duration": 20,
    "start_time": "2022-12-03T13:10:48.966Z"
   },
   {
    "duration": 6,
    "start_time": "2022-12-03T13:11:10.932Z"
   },
   {
    "duration": 11,
    "start_time": "2022-12-03T13:11:13.013Z"
   },
   {
    "duration": 16,
    "start_time": "2022-12-03T13:12:58.619Z"
   },
   {
    "duration": 9,
    "start_time": "2022-12-03T13:13:00.585Z"
   },
   {
    "duration": 3,
    "start_time": "2022-12-03T13:13:08.681Z"
   },
   {
    "duration": 173,
    "start_time": "2022-12-03T13:13:08.686Z"
   },
   {
    "duration": 94,
    "start_time": "2022-12-03T13:13:08.860Z"
   },
   {
    "duration": 111,
    "start_time": "2022-12-03T13:13:08.956Z"
   },
   {
    "duration": 21,
    "start_time": "2022-12-03T13:13:09.069Z"
   },
   {
    "duration": 105,
    "start_time": "2022-12-03T13:13:09.092Z"
   },
   {
    "duration": 23,
    "start_time": "2022-12-03T13:13:09.199Z"
   },
   {
    "duration": 41,
    "start_time": "2022-12-03T13:13:09.227Z"
   },
   {
    "duration": 89,
    "start_time": "2022-12-03T13:13:09.270Z"
   },
   {
    "duration": 138,
    "start_time": "2022-12-03T13:13:09.362Z"
   },
   {
    "duration": 59,
    "start_time": "2022-12-03T13:13:09.502Z"
   },
   {
    "duration": 133,
    "start_time": "2022-12-03T13:13:09.563Z"
   },
   {
    "duration": 34,
    "start_time": "2022-12-03T13:13:09.698Z"
   },
   {
    "duration": 9,
    "start_time": "2022-12-03T13:13:09.733Z"
   },
   {
    "duration": 3,
    "start_time": "2022-12-03T13:13:09.743Z"
   },
   {
    "duration": 293,
    "start_time": "2022-12-03T13:13:09.748Z"
   },
   {
    "duration": 14,
    "start_time": "2022-12-03T13:13:10.043Z"
   },
   {
    "duration": 247,
    "start_time": "2022-12-03T13:13:10.059Z"
   },
   {
    "duration": 242,
    "start_time": "2022-12-03T13:13:10.308Z"
   },
   {
    "duration": 88,
    "start_time": "2022-12-03T13:13:10.551Z"
   },
   {
    "duration": 61,
    "start_time": "2022-12-03T13:13:10.641Z"
   },
   {
    "duration": 33,
    "start_time": "2022-12-03T13:13:10.703Z"
   },
   {
    "duration": 138,
    "start_time": "2022-12-03T13:13:10.743Z"
   },
   {
    "duration": 109,
    "start_time": "2022-12-03T13:13:10.883Z"
   },
   {
    "duration": 203,
    "start_time": "2022-12-03T13:13:10.993Z"
   },
   {
    "duration": 8,
    "start_time": "2022-12-03T13:13:11.197Z"
   },
   {
    "duration": 1051,
    "start_time": "2022-12-03T13:13:11.224Z"
   },
   {
    "duration": 9,
    "start_time": "2022-12-03T13:13:12.278Z"
   },
   {
    "duration": 10,
    "start_time": "2022-12-03T13:13:12.289Z"
   },
   {
    "duration": 23,
    "start_time": "2022-12-03T13:13:12.301Z"
   },
   {
    "duration": 27,
    "start_time": "2022-12-03T13:13:12.326Z"
   },
   {
    "duration": 13,
    "start_time": "2022-12-03T13:13:12.355Z"
   },
   {
    "duration": 11,
    "start_time": "2022-12-03T13:13:12.370Z"
   },
   {
    "duration": 7,
    "start_time": "2022-12-03T13:13:21.298Z"
   },
   {
    "duration": 4,
    "start_time": "2022-12-03T13:15:35.156Z"
   },
   {
    "duration": 173,
    "start_time": "2022-12-03T13:15:35.162Z"
   },
   {
    "duration": 98,
    "start_time": "2022-12-03T13:15:35.337Z"
   },
   {
    "duration": 108,
    "start_time": "2022-12-03T13:15:35.438Z"
   },
   {
    "duration": 21,
    "start_time": "2022-12-03T13:15:35.548Z"
   },
   {
    "duration": 102,
    "start_time": "2022-12-03T13:15:35.570Z"
   },
   {
    "duration": 19,
    "start_time": "2022-12-03T13:15:35.673Z"
   },
   {
    "duration": 66,
    "start_time": "2022-12-03T13:15:35.694Z"
   },
   {
    "duration": 88,
    "start_time": "2022-12-03T13:15:35.761Z"
   },
   {
    "duration": 137,
    "start_time": "2022-12-03T13:15:35.853Z"
   },
   {
    "duration": 56,
    "start_time": "2022-12-03T13:15:35.992Z"
   },
   {
    "duration": 119,
    "start_time": "2022-12-03T13:15:36.050Z"
   },
   {
    "duration": 27,
    "start_time": "2022-12-03T13:15:36.170Z"
   },
   {
    "duration": 23,
    "start_time": "2022-12-03T13:15:36.199Z"
   },
   {
    "duration": 6,
    "start_time": "2022-12-03T13:15:36.226Z"
   },
   {
    "duration": 269,
    "start_time": "2022-12-03T13:15:36.234Z"
   },
   {
    "duration": 29,
    "start_time": "2022-12-03T13:15:36.505Z"
   },
   {
    "duration": 254,
    "start_time": "2022-12-03T13:15:36.537Z"
   },
   {
    "duration": 219,
    "start_time": "2022-12-03T13:15:36.793Z"
   },
   {
    "duration": 83,
    "start_time": "2022-12-03T13:15:37.013Z"
   },
   {
    "duration": 69,
    "start_time": "2022-12-03T13:15:37.098Z"
   },
   {
    "duration": 12,
    "start_time": "2022-12-03T13:15:37.169Z"
   },
   {
    "duration": 155,
    "start_time": "2022-12-03T13:15:37.182Z"
   },
   {
    "duration": 103,
    "start_time": "2022-12-03T13:15:37.339Z"
   },
   {
    "duration": 192,
    "start_time": "2022-12-03T13:15:37.444Z"
   },
   {
    "duration": 7,
    "start_time": "2022-12-03T13:15:37.637Z"
   },
   {
    "duration": 1025,
    "start_time": "2022-12-03T13:15:37.645Z"
   },
   {
    "duration": 10,
    "start_time": "2022-12-03T13:15:38.674Z"
   },
   {
    "duration": 8,
    "start_time": "2022-12-03T13:15:38.686Z"
   },
   {
    "duration": 9,
    "start_time": "2022-12-03T13:15:38.696Z"
   },
   {
    "duration": 35,
    "start_time": "2022-12-03T13:15:38.706Z"
   },
   {
    "duration": 120,
    "start_time": "2022-12-03T13:15:38.744Z"
   },
   {
    "duration": 8,
    "start_time": "2022-12-03T13:15:38.866Z"
   },
   {
    "duration": 49,
    "start_time": "2022-12-04T20:56:47.759Z"
   },
   {
    "duration": 1225,
    "start_time": "2022-12-04T20:56:57.013Z"
   },
   {
    "duration": 300,
    "start_time": "2022-12-04T20:56:58.240Z"
   },
   {
    "duration": 93,
    "start_time": "2022-12-04T20:56:58.542Z"
   },
   {
    "duration": 129,
    "start_time": "2022-12-04T20:56:58.637Z"
   },
   {
    "duration": 22,
    "start_time": "2022-12-04T20:56:58.768Z"
   },
   {
    "duration": 102,
    "start_time": "2022-12-04T20:56:58.792Z"
   },
   {
    "duration": 28,
    "start_time": "2022-12-04T20:56:58.895Z"
   },
   {
    "duration": 42,
    "start_time": "2022-12-04T20:56:58.924Z"
   },
   {
    "duration": 84,
    "start_time": "2022-12-04T20:56:58.968Z"
   },
   {
    "duration": 114,
    "start_time": "2022-12-04T20:56:59.055Z"
   },
   {
    "duration": 57,
    "start_time": "2022-12-04T20:56:59.171Z"
   },
   {
    "duration": 110,
    "start_time": "2022-12-04T20:56:59.230Z"
   },
   {
    "duration": 24,
    "start_time": "2022-12-04T20:56:59.341Z"
   },
   {
    "duration": 5,
    "start_time": "2022-12-04T20:56:59.367Z"
   },
   {
    "duration": 13,
    "start_time": "2022-12-04T20:56:59.373Z"
   },
   {
    "duration": 256,
    "start_time": "2022-12-04T20:56:59.387Z"
   },
   {
    "duration": 14,
    "start_time": "2022-12-04T20:56:59.645Z"
   },
   {
    "duration": 245,
    "start_time": "2022-12-04T20:56:59.660Z"
   },
   {
    "duration": 193,
    "start_time": "2022-12-04T20:56:59.906Z"
   },
   {
    "duration": 71,
    "start_time": "2022-12-04T20:57:00.101Z"
   },
   {
    "duration": 67,
    "start_time": "2022-12-04T20:57:00.173Z"
   },
   {
    "duration": 10,
    "start_time": "2022-12-04T20:57:00.242Z"
   },
   {
    "duration": 132,
    "start_time": "2022-12-04T20:57:00.253Z"
   },
   {
    "duration": 91,
    "start_time": "2022-12-04T20:57:00.387Z"
   },
   {
    "duration": 204,
    "start_time": "2022-12-04T20:57:00.480Z"
   },
   {
    "duration": 7,
    "start_time": "2022-12-04T20:57:00.686Z"
   },
   {
    "duration": 1005,
    "start_time": "2022-12-04T20:57:00.695Z"
   },
   {
    "duration": 13,
    "start_time": "2022-12-04T20:57:01.703Z"
   },
   {
    "duration": 27,
    "start_time": "2022-12-04T20:57:01.717Z"
   },
   {
    "duration": 31,
    "start_time": "2022-12-04T20:57:01.745Z"
   },
   {
    "duration": 65,
    "start_time": "2022-12-04T20:57:01.778Z"
   },
   {
    "duration": 16,
    "start_time": "2022-12-04T20:57:01.844Z"
   },
   {
    "duration": 28,
    "start_time": "2022-12-04T20:57:01.861Z"
   },
   {
    "duration": 61,
    "start_time": "2022-12-04T20:57:01.891Z"
   },
   {
    "duration": 5,
    "start_time": "2022-12-04T20:57:13.276Z"
   },
   {
    "duration": 5,
    "start_time": "2022-12-04T20:57:46.739Z"
   },
   {
    "duration": 10,
    "start_time": "2022-12-04T20:57:58.493Z"
   },
   {
    "duration": 5,
    "start_time": "2022-12-04T20:58:05.079Z"
   },
   {
    "duration": 4,
    "start_time": "2022-12-04T21:00:15.652Z"
   },
   {
    "duration": 9,
    "start_time": "2022-12-04T21:00:25.476Z"
   },
   {
    "duration": 9,
    "start_time": "2022-12-04T21:00:42.901Z"
   },
   {
    "duration": 7,
    "start_time": "2022-12-04T21:00:59.098Z"
   },
   {
    "duration": 4,
    "start_time": "2022-12-04T21:01:56.602Z"
   },
   {
    "duration": 7,
    "start_time": "2022-12-04T21:01:58.488Z"
   },
   {
    "duration": 4,
    "start_time": "2022-12-04T21:02:29.376Z"
   },
   {
    "duration": 186,
    "start_time": "2022-12-04T21:02:29.382Z"
   },
   {
    "duration": 93,
    "start_time": "2022-12-04T21:02:29.570Z"
   },
   {
    "duration": 123,
    "start_time": "2022-12-04T21:02:29.665Z"
   },
   {
    "duration": 31,
    "start_time": "2022-12-04T21:02:29.789Z"
   },
   {
    "duration": 77,
    "start_time": "2022-12-04T21:02:29.822Z"
   },
   {
    "duration": 31,
    "start_time": "2022-12-04T21:02:29.901Z"
   },
   {
    "duration": 40,
    "start_time": "2022-12-04T21:02:29.934Z"
   },
   {
    "duration": 88,
    "start_time": "2022-12-04T21:02:29.976Z"
   },
   {
    "duration": 124,
    "start_time": "2022-12-04T21:02:30.067Z"
   },
   {
    "duration": 59,
    "start_time": "2022-12-04T21:02:30.193Z"
   },
   {
    "duration": 113,
    "start_time": "2022-12-04T21:02:30.254Z"
   },
   {
    "duration": 24,
    "start_time": "2022-12-04T21:02:30.368Z"
   },
   {
    "duration": 24,
    "start_time": "2022-12-04T21:02:30.393Z"
   },
   {
    "duration": 25,
    "start_time": "2022-12-04T21:02:30.418Z"
   },
   {
    "duration": 242,
    "start_time": "2022-12-04T21:02:30.444Z"
   },
   {
    "duration": 14,
    "start_time": "2022-12-04T21:02:30.687Z"
   },
   {
    "duration": 272,
    "start_time": "2022-12-04T21:02:30.703Z"
   },
   {
    "duration": 190,
    "start_time": "2022-12-04T21:02:30.977Z"
   },
   {
    "duration": 75,
    "start_time": "2022-12-04T21:02:31.169Z"
   },
   {
    "duration": 71,
    "start_time": "2022-12-04T21:02:31.246Z"
   },
   {
    "duration": 10,
    "start_time": "2022-12-04T21:02:31.319Z"
   },
   {
    "duration": 182,
    "start_time": "2022-12-04T21:02:31.331Z"
   },
   {
    "duration": 92,
    "start_time": "2022-12-04T21:02:31.515Z"
   },
   {
    "duration": 174,
    "start_time": "2022-12-04T21:02:31.615Z"
   },
   {
    "duration": 7,
    "start_time": "2022-12-04T21:02:31.791Z"
   },
   {
    "duration": 1002,
    "start_time": "2022-12-04T21:02:31.800Z"
   },
   {
    "duration": 14,
    "start_time": "2022-12-04T21:02:32.805Z"
   },
   {
    "duration": 66,
    "start_time": "2022-12-04T21:02:32.821Z"
   },
   {
    "duration": 92,
    "start_time": "2022-12-04T21:02:32.889Z"
   },
   {
    "duration": 79,
    "start_time": "2022-12-04T21:02:32.983Z"
   },
   {
    "duration": 41,
    "start_time": "2022-12-04T21:02:33.064Z"
   },
   {
    "duration": 42,
    "start_time": "2022-12-04T21:02:33.107Z"
   },
   {
    "duration": 30,
    "start_time": "2022-12-04T21:02:33.150Z"
   },
   {
    "duration": 58,
    "start_time": "2022-12-04T21:02:33.182Z"
   },
   {
    "duration": 41,
    "start_time": "2022-12-04T21:02:33.242Z"
   },
   {
    "duration": 42,
    "start_time": "2022-12-04T21:02:33.285Z"
   },
   {
    "duration": 3,
    "start_time": "2022-12-04T21:03:53.436Z"
   },
   {
    "duration": 7,
    "start_time": "2022-12-04T21:03:54.990Z"
   },
   {
    "duration": 9,
    "start_time": "2022-12-04T21:08:49.463Z"
   },
   {
    "duration": 9,
    "start_time": "2022-12-04T21:08:55.457Z"
   },
   {
    "duration": 6,
    "start_time": "2022-12-04T21:09:06.990Z"
   },
   {
    "duration": 3,
    "start_time": "2022-12-04T21:17:04.563Z"
   },
   {
    "duration": 177,
    "start_time": "2022-12-04T21:17:04.568Z"
   },
   {
    "duration": 86,
    "start_time": "2022-12-04T21:17:04.747Z"
   },
   {
    "duration": 110,
    "start_time": "2022-12-04T21:17:04.835Z"
   },
   {
    "duration": 23,
    "start_time": "2022-12-04T21:17:04.947Z"
   },
   {
    "duration": 96,
    "start_time": "2022-12-04T21:17:04.972Z"
   },
   {
    "duration": 18,
    "start_time": "2022-12-04T21:17:05.070Z"
   },
   {
    "duration": 55,
    "start_time": "2022-12-04T21:17:05.090Z"
   },
   {
    "duration": 87,
    "start_time": "2022-12-04T21:17:05.147Z"
   },
   {
    "duration": 124,
    "start_time": "2022-12-04T21:17:05.237Z"
   },
   {
    "duration": 61,
    "start_time": "2022-12-04T21:17:05.363Z"
   },
   {
    "duration": 117,
    "start_time": "2022-12-04T21:17:05.426Z"
   },
   {
    "duration": 27,
    "start_time": "2022-12-04T21:17:05.545Z"
   },
   {
    "duration": 6,
    "start_time": "2022-12-04T21:17:05.574Z"
   },
   {
    "duration": 10,
    "start_time": "2022-12-04T21:17:05.582Z"
   },
   {
    "duration": 257,
    "start_time": "2022-12-04T21:17:05.594Z"
   },
   {
    "duration": 14,
    "start_time": "2022-12-04T21:17:05.853Z"
   },
   {
    "duration": 247,
    "start_time": "2022-12-04T21:17:05.868Z"
   },
   {
    "duration": 220,
    "start_time": "2022-12-04T21:17:06.117Z"
   },
   {
    "duration": 87,
    "start_time": "2022-12-04T21:17:06.339Z"
   },
   {
    "duration": 55,
    "start_time": "2022-12-04T21:17:06.428Z"
   },
   {
    "duration": 10,
    "start_time": "2022-12-04T21:17:06.485Z"
   },
   {
    "duration": 147,
    "start_time": "2022-12-04T21:17:06.497Z"
   },
   {
    "duration": 102,
    "start_time": "2022-12-04T21:17:06.646Z"
   },
   {
    "duration": 176,
    "start_time": "2022-12-04T21:17:06.750Z"
   },
   {
    "duration": 7,
    "start_time": "2022-12-04T21:17:06.927Z"
   },
   {
    "duration": 902,
    "start_time": "2022-12-04T21:17:06.935Z"
   },
   {
    "duration": 5,
    "start_time": "2022-12-04T21:17:07.840Z"
   },
   {
    "duration": 8,
    "start_time": "2022-12-04T21:17:07.846Z"
   },
   {
    "duration": 14,
    "start_time": "2022-12-04T21:17:07.855Z"
   },
   {
    "duration": 9,
    "start_time": "2022-12-04T21:17:07.871Z"
   },
   {
    "duration": 8,
    "start_time": "2022-12-04T21:17:07.881Z"
   },
   {
    "duration": 5,
    "start_time": "2022-12-04T21:21:03.262Z"
   },
   {
    "duration": 13,
    "start_time": "2022-12-04T21:21:04.629Z"
   },
   {
    "duration": 4,
    "start_time": "2022-12-04T21:21:17.631Z"
   },
   {
    "duration": 6,
    "start_time": "2022-12-04T21:21:21.064Z"
   },
   {
    "duration": 4,
    "start_time": "2022-12-04T21:22:31.302Z"
   },
   {
    "duration": 4,
    "start_time": "2022-12-04T21:22:54.627Z"
   },
   {
    "duration": 167,
    "start_time": "2022-12-04T21:22:54.633Z"
   },
   {
    "duration": 80,
    "start_time": "2022-12-04T21:22:54.802Z"
   },
   {
    "duration": 99,
    "start_time": "2022-12-04T21:22:54.884Z"
   },
   {
    "duration": 31,
    "start_time": "2022-12-04T21:22:54.985Z"
   },
   {
    "duration": 80,
    "start_time": "2022-12-04T21:22:55.018Z"
   },
   {
    "duration": 27,
    "start_time": "2022-12-04T21:22:55.099Z"
   },
   {
    "duration": 39,
    "start_time": "2022-12-04T21:22:55.128Z"
   },
   {
    "duration": 91,
    "start_time": "2022-12-04T21:22:55.169Z"
   },
   {
    "duration": 122,
    "start_time": "2022-12-04T21:22:55.263Z"
   },
   {
    "duration": 70,
    "start_time": "2022-12-04T21:22:55.387Z"
   },
   {
    "duration": 119,
    "start_time": "2022-12-04T21:22:55.459Z"
   },
   {
    "duration": 37,
    "start_time": "2022-12-04T21:22:55.580Z"
   },
   {
    "duration": 6,
    "start_time": "2022-12-04T21:22:55.618Z"
   },
   {
    "duration": 6,
    "start_time": "2022-12-04T21:22:55.626Z"
   },
   {
    "duration": 254,
    "start_time": "2022-12-04T21:22:55.634Z"
   },
   {
    "duration": 12,
    "start_time": "2022-12-04T21:22:55.890Z"
   },
   {
    "duration": 244,
    "start_time": "2022-12-04T21:22:55.903Z"
   },
   {
    "duration": 250,
    "start_time": "2022-12-04T21:22:56.149Z"
   },
   {
    "duration": 78,
    "start_time": "2022-12-04T21:22:56.401Z"
   },
   {
    "duration": 72,
    "start_time": "2022-12-04T21:22:56.481Z"
   },
   {
    "duration": 12,
    "start_time": "2022-12-04T21:22:56.554Z"
   },
   {
    "duration": 215,
    "start_time": "2022-12-04T21:22:56.567Z"
   },
   {
    "duration": 107,
    "start_time": "2022-12-04T21:22:56.784Z"
   },
   {
    "duration": 192,
    "start_time": "2022-12-04T21:22:56.893Z"
   },
   {
    "duration": 7,
    "start_time": "2022-12-04T21:22:57.086Z"
   },
   {
    "duration": 902,
    "start_time": "2022-12-04T21:22:57.094Z"
   },
   {
    "duration": 5,
    "start_time": "2022-12-04T21:22:57.999Z"
   },
   {
    "duration": 13,
    "start_time": "2022-12-04T21:22:58.005Z"
   },
   {
    "duration": 13,
    "start_time": "2022-12-04T21:22:58.019Z"
   },
   {
    "duration": 29,
    "start_time": "2022-12-04T21:22:58.033Z"
   },
   {
    "duration": 20,
    "start_time": "2022-12-04T21:22:58.063Z"
   },
   {
    "duration": 4,
    "start_time": "2022-12-04T21:26:43.750Z"
   },
   {
    "duration": 6,
    "start_time": "2022-12-04T21:26:45.966Z"
   },
   {
    "duration": 662,
    "start_time": "2022-12-04T21:27:35.858Z"
   },
   {
    "duration": 674,
    "start_time": "2022-12-04T21:27:55.787Z"
   },
   {
    "duration": 684,
    "start_time": "2022-12-04T21:29:13.251Z"
   },
   {
    "duration": 327,
    "start_time": "2022-12-04T21:29:27.889Z"
   },
   {
    "duration": 16,
    "start_time": "2022-12-04T21:30:09.347Z"
   },
   {
    "duration": 3,
    "start_time": "2022-12-04T21:30:24.034Z"
   },
   {
    "duration": 178,
    "start_time": "2022-12-04T21:30:24.039Z"
   },
   {
    "duration": 70,
    "start_time": "2022-12-04T21:30:24.219Z"
   },
   {
    "duration": 102,
    "start_time": "2022-12-04T21:30:24.291Z"
   },
   {
    "duration": 32,
    "start_time": "2022-12-04T21:30:24.394Z"
   },
   {
    "duration": 73,
    "start_time": "2022-12-04T21:30:24.427Z"
   },
   {
    "duration": 26,
    "start_time": "2022-12-04T21:30:24.502Z"
   },
   {
    "duration": 38,
    "start_time": "2022-12-04T21:30:24.529Z"
   },
   {
    "duration": 84,
    "start_time": "2022-12-04T21:30:24.569Z"
   },
   {
    "duration": 123,
    "start_time": "2022-12-04T21:30:24.655Z"
   },
   {
    "duration": 57,
    "start_time": "2022-12-04T21:30:24.779Z"
   },
   {
    "duration": 117,
    "start_time": "2022-12-04T21:30:24.838Z"
   },
   {
    "duration": 25,
    "start_time": "2022-12-04T21:30:24.957Z"
   },
   {
    "duration": 5,
    "start_time": "2022-12-04T21:30:24.984Z"
   },
   {
    "duration": 26,
    "start_time": "2022-12-04T21:30:24.991Z"
   },
   {
    "duration": 229,
    "start_time": "2022-12-04T21:30:25.018Z"
   },
   {
    "duration": 13,
    "start_time": "2022-12-04T21:30:25.249Z"
   },
   {
    "duration": 226,
    "start_time": "2022-12-04T21:30:25.263Z"
   },
   {
    "duration": 185,
    "start_time": "2022-12-04T21:30:25.491Z"
   },
   {
    "duration": 73,
    "start_time": "2022-12-04T21:30:25.677Z"
   },
   {
    "duration": 65,
    "start_time": "2022-12-04T21:30:25.752Z"
   },
   {
    "duration": 10,
    "start_time": "2022-12-04T21:30:25.818Z"
   },
   {
    "duration": 133,
    "start_time": "2022-12-04T21:30:25.829Z"
   },
   {
    "duration": 98,
    "start_time": "2022-12-04T21:30:25.963Z"
   },
   {
    "duration": 218,
    "start_time": "2022-12-04T21:30:26.063Z"
   },
   {
    "duration": 11,
    "start_time": "2022-12-04T21:30:26.283Z"
   },
   {
    "duration": 889,
    "start_time": "2022-12-04T21:30:26.296Z"
   },
   {
    "duration": 16,
    "start_time": "2022-12-04T21:30:27.188Z"
   },
   {
    "duration": 0,
    "start_time": "2022-12-04T21:30:27.206Z"
   },
   {
    "duration": 0,
    "start_time": "2022-12-04T21:30:27.207Z"
   },
   {
    "duration": 0,
    "start_time": "2022-12-04T21:30:27.215Z"
   },
   {
    "duration": 0,
    "start_time": "2022-12-04T21:30:27.216Z"
   },
   {
    "duration": 6,
    "start_time": "2022-12-04T21:31:39.728Z"
   },
   {
    "duration": 4,
    "start_time": "2022-12-04T21:32:14.149Z"
   },
   {
    "duration": 7,
    "start_time": "2022-12-04T21:32:16.042Z"
   },
   {
    "duration": 4,
    "start_time": "2022-12-04T21:32:32.776Z"
   },
   {
    "duration": 4,
    "start_time": "2022-12-04T21:32:43.153Z"
   },
   {
    "duration": 6,
    "start_time": "2022-12-04T21:32:44.569Z"
   },
   {
    "duration": 4,
    "start_time": "2022-12-04T21:33:11.363Z"
   },
   {
    "duration": 172,
    "start_time": "2022-12-04T21:33:11.369Z"
   },
   {
    "duration": 85,
    "start_time": "2022-12-04T21:33:11.542Z"
   },
   {
    "duration": 129,
    "start_time": "2022-12-04T21:33:11.629Z"
   },
   {
    "duration": 38,
    "start_time": "2022-12-04T21:33:11.761Z"
   },
   {
    "duration": 102,
    "start_time": "2022-12-04T21:33:11.801Z"
   },
   {
    "duration": 28,
    "start_time": "2022-12-04T21:33:11.905Z"
   },
   {
    "duration": 41,
    "start_time": "2022-12-04T21:33:11.935Z"
   },
   {
    "duration": 128,
    "start_time": "2022-12-04T21:33:11.978Z"
   },
   {
    "duration": 136,
    "start_time": "2022-12-04T21:33:12.108Z"
   },
   {
    "duration": 52,
    "start_time": "2022-12-04T21:33:12.246Z"
   },
   {
    "duration": 118,
    "start_time": "2022-12-04T21:33:12.299Z"
   },
   {
    "duration": 25,
    "start_time": "2022-12-04T21:33:12.418Z"
   },
   {
    "duration": 5,
    "start_time": "2022-12-04T21:33:12.446Z"
   },
   {
    "duration": 6,
    "start_time": "2022-12-04T21:33:12.452Z"
   },
   {
    "duration": 260,
    "start_time": "2022-12-04T21:33:12.459Z"
   },
   {
    "duration": 14,
    "start_time": "2022-12-04T21:33:12.721Z"
   },
   {
    "duration": 234,
    "start_time": "2022-12-04T21:33:12.736Z"
   },
   {
    "duration": 264,
    "start_time": "2022-12-04T21:33:12.972Z"
   },
   {
    "duration": 65,
    "start_time": "2022-12-04T21:33:13.238Z"
   },
   {
    "duration": 65,
    "start_time": "2022-12-04T21:33:13.304Z"
   },
   {
    "duration": 10,
    "start_time": "2022-12-04T21:33:13.371Z"
   },
   {
    "duration": 136,
    "start_time": "2022-12-04T21:33:13.383Z"
   },
   {
    "duration": 104,
    "start_time": "2022-12-04T21:33:13.520Z"
   },
   {
    "duration": 187,
    "start_time": "2022-12-04T21:33:13.626Z"
   },
   {
    "duration": 7,
    "start_time": "2022-12-04T21:33:13.815Z"
   },
   {
    "duration": 894,
    "start_time": "2022-12-04T21:33:13.823Z"
   },
   {
    "duration": 5,
    "start_time": "2022-12-04T21:33:14.718Z"
   },
   {
    "duration": 16,
    "start_time": "2022-12-04T21:33:14.724Z"
   },
   {
    "duration": 37,
    "start_time": "2022-12-04T21:33:14.741Z"
   },
   {
    "duration": 8,
    "start_time": "2022-12-04T21:33:14.780Z"
   },
   {
    "duration": 25,
    "start_time": "2022-12-04T21:33:14.789Z"
   },
   {
    "duration": 4,
    "start_time": "2022-12-04T21:33:55.764Z"
   },
   {
    "duration": 176,
    "start_time": "2022-12-04T21:33:55.770Z"
   },
   {
    "duration": 81,
    "start_time": "2022-12-04T21:33:55.947Z"
   },
   {
    "duration": 104,
    "start_time": "2022-12-04T21:33:56.030Z"
   },
   {
    "duration": 23,
    "start_time": "2022-12-04T21:33:56.136Z"
   },
   {
    "duration": 109,
    "start_time": "2022-12-04T21:33:56.161Z"
   },
   {
    "duration": 21,
    "start_time": "2022-12-04T21:33:56.272Z"
   },
   {
    "duration": 65,
    "start_time": "2022-12-04T21:33:56.295Z"
   },
   {
    "duration": 96,
    "start_time": "2022-12-04T21:33:56.362Z"
   },
   {
    "duration": 130,
    "start_time": "2022-12-04T21:33:56.461Z"
   },
   {
    "duration": 54,
    "start_time": "2022-12-04T21:33:56.593Z"
   },
   {
    "duration": 127,
    "start_time": "2022-12-04T21:33:56.648Z"
   },
   {
    "duration": 24,
    "start_time": "2022-12-04T21:33:56.777Z"
   },
   {
    "duration": 5,
    "start_time": "2022-12-04T21:33:56.815Z"
   },
   {
    "duration": 21,
    "start_time": "2022-12-04T21:33:56.822Z"
   },
   {
    "duration": 230,
    "start_time": "2022-12-04T21:33:56.844Z"
   },
   {
    "duration": 12,
    "start_time": "2022-12-04T21:33:57.076Z"
   },
   {
    "duration": 243,
    "start_time": "2022-12-04T21:33:57.089Z"
   },
   {
    "duration": 188,
    "start_time": "2022-12-04T21:33:57.334Z"
   },
   {
    "duration": 67,
    "start_time": "2022-12-04T21:33:57.524Z"
   },
   {
    "duration": 69,
    "start_time": "2022-12-04T21:33:57.593Z"
   },
   {
    "duration": 10,
    "start_time": "2022-12-04T21:33:57.663Z"
   },
   {
    "duration": 126,
    "start_time": "2022-12-04T21:33:57.674Z"
   },
   {
    "duration": 96,
    "start_time": "2022-12-04T21:33:57.801Z"
   },
   {
    "duration": 183,
    "start_time": "2022-12-04T21:33:57.898Z"
   },
   {
    "duration": 7,
    "start_time": "2022-12-04T21:33:58.083Z"
   },
   {
    "duration": 892,
    "start_time": "2022-12-04T21:33:58.091Z"
   },
   {
    "duration": 5,
    "start_time": "2022-12-04T21:33:58.987Z"
   },
   {
    "duration": 20,
    "start_time": "2022-12-04T21:33:58.994Z"
   },
   {
    "duration": 14,
    "start_time": "2022-12-04T21:33:59.015Z"
   },
   {
    "duration": 13,
    "start_time": "2022-12-04T21:33:59.030Z"
   },
   {
    "duration": 98,
    "start_time": "2022-12-04T21:33:59.044Z"
   },
   {
    "duration": 5,
    "start_time": "2022-12-04T21:37:59.006Z"
   },
   {
    "duration": 5,
    "start_time": "2022-12-04T21:38:16.673Z"
   },
   {
    "duration": 53,
    "start_time": "2022-12-04T21:39:24.968Z"
   },
   {
    "duration": 45,
    "start_time": "2022-12-04T21:39:50.876Z"
   },
   {
    "duration": 64,
    "start_time": "2022-12-04T21:45:16.187Z"
   },
   {
    "duration": 24,
    "start_time": "2022-12-04T21:46:07.002Z"
   },
   {
    "duration": 29,
    "start_time": "2022-12-04T21:57:44.736Z"
   },
   {
    "duration": 23,
    "start_time": "2022-12-04T21:58:20.971Z"
   },
   {
    "duration": 54,
    "start_time": "2022-12-04T21:59:02.427Z"
   },
   {
    "duration": 46,
    "start_time": "2022-12-05T11:08:41.856Z"
   },
   {
    "duration": 1300,
    "start_time": "2022-12-05T11:08:45.831Z"
   },
   {
    "duration": 326,
    "start_time": "2022-12-05T11:08:47.133Z"
   },
   {
    "duration": 87,
    "start_time": "2022-12-05T11:08:47.460Z"
   },
   {
    "duration": 129,
    "start_time": "2022-12-05T11:08:47.549Z"
   },
   {
    "duration": 21,
    "start_time": "2022-12-05T11:08:47.680Z"
   },
   {
    "duration": 103,
    "start_time": "2022-12-05T11:08:47.702Z"
   },
   {
    "duration": 25,
    "start_time": "2022-12-05T11:08:47.815Z"
   },
   {
    "duration": 41,
    "start_time": "2022-12-05T11:08:47.842Z"
   },
   {
    "duration": 101,
    "start_time": "2022-12-05T11:08:47.885Z"
   },
   {
    "duration": 139,
    "start_time": "2022-12-05T11:08:47.989Z"
   },
   {
    "duration": 55,
    "start_time": "2022-12-05T11:08:48.130Z"
   },
   {
    "duration": 124,
    "start_time": "2022-12-05T11:08:48.187Z"
   },
   {
    "duration": 34,
    "start_time": "2022-12-05T11:08:48.313Z"
   },
   {
    "duration": 5,
    "start_time": "2022-12-05T11:08:48.349Z"
   },
   {
    "duration": 4,
    "start_time": "2022-12-05T11:08:48.356Z"
   },
   {
    "duration": 267,
    "start_time": "2022-12-05T11:08:48.361Z"
   },
   {
    "duration": 16,
    "start_time": "2022-12-05T11:08:48.632Z"
   },
   {
    "duration": 257,
    "start_time": "2022-12-05T11:08:48.651Z"
   },
   {
    "duration": 223,
    "start_time": "2022-12-05T11:08:48.910Z"
   },
   {
    "duration": 77,
    "start_time": "2022-12-05T11:08:49.135Z"
   },
   {
    "duration": 64,
    "start_time": "2022-12-05T11:08:49.215Z"
   },
   {
    "duration": 10,
    "start_time": "2022-12-05T11:08:49.280Z"
   },
   {
    "duration": 146,
    "start_time": "2022-12-05T11:08:49.291Z"
   },
   {
    "duration": 95,
    "start_time": "2022-12-05T11:08:49.438Z"
   },
   {
    "duration": 216,
    "start_time": "2022-12-05T11:08:49.535Z"
   },
   {
    "duration": 6,
    "start_time": "2022-12-05T11:08:49.753Z"
   },
   {
    "duration": 1118,
    "start_time": "2022-12-05T11:08:49.761Z"
   },
   {
    "duration": 5,
    "start_time": "2022-12-05T11:08:50.882Z"
   },
   {
    "duration": 15,
    "start_time": "2022-12-05T11:08:50.888Z"
   },
   {
    "duration": 55,
    "start_time": "2022-12-05T11:08:50.904Z"
   },
   {
    "duration": 19,
    "start_time": "2022-12-05T11:08:50.960Z"
   },
   {
    "duration": 62,
    "start_time": "2022-12-05T11:08:50.981Z"
   },
   {
    "duration": 8,
    "start_time": "2022-12-05T11:08:51.045Z"
   },
   {
    "duration": 11,
    "start_time": "2022-12-05T11:08:51.055Z"
   },
   {
    "duration": 260,
    "start_time": "2022-12-05T11:15:09.935Z"
   },
   {
    "duration": 12,
    "start_time": "2022-12-05T11:15:18.213Z"
   },
   {
    "duration": 194,
    "start_time": "2022-12-05T11:15:18.228Z"
   },
   {
    "duration": 73,
    "start_time": "2022-12-05T11:15:18.429Z"
   },
   {
    "duration": 123,
    "start_time": "2022-12-05T11:15:18.504Z"
   },
   {
    "duration": 24,
    "start_time": "2022-12-05T11:15:18.629Z"
   },
   {
    "duration": 97,
    "start_time": "2022-12-05T11:15:18.655Z"
   },
   {
    "duration": 18,
    "start_time": "2022-12-05T11:15:18.753Z"
   },
   {
    "duration": 55,
    "start_time": "2022-12-05T11:15:18.773Z"
   },
   {
    "duration": 68,
    "start_time": "2022-12-05T11:15:18.830Z"
   },
   {
    "duration": 132,
    "start_time": "2022-12-05T11:15:18.901Z"
   },
   {
    "duration": 51,
    "start_time": "2022-12-05T11:15:19.035Z"
   },
   {
    "duration": 122,
    "start_time": "2022-12-05T11:15:19.088Z"
   },
   {
    "duration": 29,
    "start_time": "2022-12-05T11:15:19.216Z"
   },
   {
    "duration": 6,
    "start_time": "2022-12-05T11:15:19.246Z"
   },
   {
    "duration": 6,
    "start_time": "2022-12-05T11:15:19.253Z"
   },
   {
    "duration": 256,
    "start_time": "2022-12-05T11:15:19.260Z"
   },
   {
    "duration": 16,
    "start_time": "2022-12-05T11:15:19.519Z"
   },
   {
    "duration": 245,
    "start_time": "2022-12-05T11:15:19.537Z"
   },
   {
    "duration": 208,
    "start_time": "2022-12-05T11:15:19.784Z"
   },
   {
    "duration": 89,
    "start_time": "2022-12-05T11:15:19.993Z"
   },
   {
    "duration": 74,
    "start_time": "2022-12-05T11:15:20.083Z"
   },
   {
    "duration": 10,
    "start_time": "2022-12-05T11:15:20.159Z"
   },
   {
    "duration": 137,
    "start_time": "2022-12-05T11:15:20.170Z"
   },
   {
    "duration": 98,
    "start_time": "2022-12-05T11:15:20.308Z"
   },
   {
    "duration": 205,
    "start_time": "2022-12-05T11:15:20.407Z"
   },
   {
    "duration": 11,
    "start_time": "2022-12-05T11:15:20.615Z"
   },
   {
    "duration": 934,
    "start_time": "2022-12-05T11:15:20.628Z"
   },
   {
    "duration": 5,
    "start_time": "2022-12-05T11:15:21.565Z"
   },
   {
    "duration": 8,
    "start_time": "2022-12-05T11:15:21.571Z"
   },
   {
    "duration": 7,
    "start_time": "2022-12-05T11:15:21.580Z"
   },
   {
    "duration": 28,
    "start_time": "2022-12-05T11:15:21.588Z"
   },
   {
    "duration": 28,
    "start_time": "2022-12-05T11:15:21.617Z"
   },
   {
    "duration": 10,
    "start_time": "2022-12-05T11:15:21.647Z"
   },
   {
    "duration": 9,
    "start_time": "2022-12-05T11:15:21.658Z"
   },
   {
    "duration": 192,
    "start_time": "2022-12-05T11:18:17.955Z"
   },
   {
    "duration": 64,
    "start_time": "2022-12-05T11:18:45.411Z"
   },
   {
    "duration": 86,
    "start_time": "2022-12-05T11:19:06.665Z"
   },
   {
    "duration": 56,
    "start_time": "2022-12-05T11:19:12.655Z"
   },
   {
    "duration": 62,
    "start_time": "2022-12-05T11:21:18.909Z"
   },
   {
    "duration": 49,
    "start_time": "2022-12-05T11:31:33.544Z"
   },
   {
    "duration": 83,
    "start_time": "2022-12-05T11:33:03.859Z"
   },
   {
    "duration": 128,
    "start_time": "2022-12-05T11:34:40.211Z"
   },
   {
    "duration": 113,
    "start_time": "2022-12-05T11:35:01.096Z"
   },
   {
    "duration": 124,
    "start_time": "2022-12-05T11:35:52.338Z"
   },
   {
    "duration": 116,
    "start_time": "2022-12-05T11:36:39.817Z"
   },
   {
    "duration": 57,
    "start_time": "2022-12-05T11:39:39.666Z"
   },
   {
    "duration": 189,
    "start_time": "2022-12-05T11:40:48.536Z"
   },
   {
    "duration": 64,
    "start_time": "2022-12-05T11:53:41.129Z"
   },
   {
    "duration": 67,
    "start_time": "2022-12-05T11:53:59.477Z"
   },
   {
    "duration": 52,
    "start_time": "2022-12-05T11:54:28.999Z"
   },
   {
    "duration": 42,
    "start_time": "2022-12-05T12:28:47.177Z"
   },
   {
    "duration": 65,
    "start_time": "2022-12-05T13:03:54.730Z"
   },
   {
    "duration": 11,
    "start_time": "2022-12-05T13:04:23.231Z"
   },
   {
    "duration": 56,
    "start_time": "2022-12-05T13:10:01.348Z"
   },
   {
    "duration": 6,
    "start_time": "2022-12-05T13:12:02.360Z"
   },
   {
    "duration": 8,
    "start_time": "2022-12-05T13:12:03.699Z"
   },
   {
    "duration": 3,
    "start_time": "2022-12-05T13:12:07.568Z"
   },
   {
    "duration": 180,
    "start_time": "2022-12-05T13:12:07.573Z"
   },
   {
    "duration": 84,
    "start_time": "2022-12-05T13:12:07.755Z"
   },
   {
    "duration": 118,
    "start_time": "2022-12-05T13:12:07.840Z"
   },
   {
    "duration": 22,
    "start_time": "2022-12-05T13:12:07.961Z"
   },
   {
    "duration": 99,
    "start_time": "2022-12-05T13:12:07.985Z"
   },
   {
    "duration": 30,
    "start_time": "2022-12-05T13:12:08.086Z"
   },
   {
    "duration": 40,
    "start_time": "2022-12-05T13:12:08.118Z"
   },
   {
    "duration": 84,
    "start_time": "2022-12-05T13:12:08.160Z"
   },
   {
    "duration": 121,
    "start_time": "2022-12-05T13:12:08.245Z"
   },
   {
    "duration": 57,
    "start_time": "2022-12-05T13:12:08.369Z"
   },
   {
    "duration": 113,
    "start_time": "2022-12-05T13:12:08.428Z"
   },
   {
    "duration": 24,
    "start_time": "2022-12-05T13:12:08.543Z"
   },
   {
    "duration": 5,
    "start_time": "2022-12-05T13:12:08.569Z"
   },
   {
    "duration": 16,
    "start_time": "2022-12-05T13:12:08.576Z"
   },
   {
    "duration": 242,
    "start_time": "2022-12-05T13:12:08.593Z"
   },
   {
    "duration": 12,
    "start_time": "2022-12-05T13:12:08.837Z"
   },
   {
    "duration": 229,
    "start_time": "2022-12-05T13:12:08.850Z"
   },
   {
    "duration": 194,
    "start_time": "2022-12-05T13:12:09.081Z"
   },
   {
    "duration": 60,
    "start_time": "2022-12-05T13:12:09.276Z"
   },
   {
    "duration": 53,
    "start_time": "2022-12-05T13:12:09.338Z"
   },
   {
    "duration": 9,
    "start_time": "2022-12-05T13:12:09.393Z"
   },
   {
    "duration": 210,
    "start_time": "2022-12-05T13:12:09.416Z"
   },
   {
    "duration": 89,
    "start_time": "2022-12-05T13:12:09.627Z"
   },
   {
    "duration": 181,
    "start_time": "2022-12-05T13:12:09.717Z"
   },
   {
    "duration": 7,
    "start_time": "2022-12-05T13:12:09.900Z"
   },
   {
    "duration": 923,
    "start_time": "2022-12-05T13:12:09.908Z"
   },
   {
    "duration": 5,
    "start_time": "2022-12-05T13:12:10.832Z"
   },
   {
    "duration": 10,
    "start_time": "2022-12-05T13:12:10.840Z"
   },
   {
    "duration": 8,
    "start_time": "2022-12-05T13:12:10.851Z"
   },
   {
    "duration": 12,
    "start_time": "2022-12-05T13:12:10.860Z"
   },
   {
    "duration": 8,
    "start_time": "2022-12-05T13:12:10.873Z"
   },
   {
    "duration": 17,
    "start_time": "2022-12-05T13:12:10.883Z"
   },
   {
    "duration": 18,
    "start_time": "2022-12-05T13:12:10.902Z"
   },
   {
    "duration": 11,
    "start_time": "2022-12-05T13:12:10.922Z"
   },
   {
    "duration": 4,
    "start_time": "2022-12-05T13:12:45.152Z"
   },
   {
    "duration": 177,
    "start_time": "2022-12-05T13:12:45.158Z"
   },
   {
    "duration": 87,
    "start_time": "2022-12-05T13:12:45.337Z"
   },
   {
    "duration": 107,
    "start_time": "2022-12-05T13:12:45.426Z"
   },
   {
    "duration": 24,
    "start_time": "2022-12-05T13:12:45.535Z"
   },
   {
    "duration": 107,
    "start_time": "2022-12-05T13:12:45.561Z"
   },
   {
    "duration": 18,
    "start_time": "2022-12-05T13:12:45.669Z"
   },
   {
    "duration": 55,
    "start_time": "2022-12-05T13:12:45.688Z"
   },
   {
    "duration": 77,
    "start_time": "2022-12-05T13:12:45.745Z"
   },
   {
    "duration": 120,
    "start_time": "2022-12-05T13:12:45.824Z"
   },
   {
    "duration": 49,
    "start_time": "2022-12-05T13:12:45.946Z"
   },
   {
    "duration": 129,
    "start_time": "2022-12-05T13:12:45.996Z"
   },
   {
    "duration": 22,
    "start_time": "2022-12-05T13:12:46.128Z"
   },
   {
    "duration": 4,
    "start_time": "2022-12-05T13:12:46.152Z"
   },
   {
    "duration": 6,
    "start_time": "2022-12-05T13:12:46.158Z"
   },
   {
    "duration": 280,
    "start_time": "2022-12-05T13:12:46.166Z"
   },
   {
    "duration": 16,
    "start_time": "2022-12-05T13:12:46.448Z"
   },
   {
    "duration": 281,
    "start_time": "2022-12-05T13:12:46.465Z"
   },
   {
    "duration": 223,
    "start_time": "2022-12-05T13:12:46.748Z"
   },
   {
    "duration": 66,
    "start_time": "2022-12-05T13:12:46.973Z"
   },
   {
    "duration": 57,
    "start_time": "2022-12-05T13:12:47.041Z"
   },
   {
    "duration": 21,
    "start_time": "2022-12-05T13:12:47.100Z"
   },
   {
    "duration": 129,
    "start_time": "2022-12-05T13:12:47.123Z"
   },
   {
    "duration": 87,
    "start_time": "2022-12-05T13:12:47.254Z"
   },
   {
    "duration": 184,
    "start_time": "2022-12-05T13:12:47.343Z"
   },
   {
    "duration": 6,
    "start_time": "2022-12-05T13:12:47.529Z"
   },
   {
    "duration": 945,
    "start_time": "2022-12-05T13:12:47.536Z"
   },
   {
    "duration": 5,
    "start_time": "2022-12-05T13:12:48.483Z"
   },
   {
    "duration": 10,
    "start_time": "2022-12-05T13:12:48.489Z"
   },
   {
    "duration": 15,
    "start_time": "2022-12-05T13:12:48.500Z"
   },
   {
    "duration": 10,
    "start_time": "2022-12-05T13:12:48.517Z"
   },
   {
    "duration": 9,
    "start_time": "2022-12-05T13:12:48.528Z"
   },
   {
    "duration": 17,
    "start_time": "2022-12-05T13:12:48.538Z"
   },
   {
    "duration": 12,
    "start_time": "2022-12-05T13:12:48.557Z"
   },
   {
    "duration": 10,
    "start_time": "2022-12-05T13:12:48.571Z"
   },
   {
    "duration": 9,
    "start_time": "2022-12-05T13:13:18.077Z"
   },
   {
    "duration": 3,
    "start_time": "2022-12-05T13:13:20.450Z"
   },
   {
    "duration": 198,
    "start_time": "2022-12-05T13:13:20.455Z"
   },
   {
    "duration": 83,
    "start_time": "2022-12-05T13:13:20.655Z"
   },
   {
    "duration": 103,
    "start_time": "2022-12-05T13:13:20.741Z"
   },
   {
    "duration": 24,
    "start_time": "2022-12-05T13:13:20.846Z"
   },
   {
    "duration": 93,
    "start_time": "2022-12-05T13:13:20.872Z"
   },
   {
    "duration": 20,
    "start_time": "2022-12-05T13:13:20.966Z"
   },
   {
    "duration": 57,
    "start_time": "2022-12-05T13:13:20.988Z"
   },
   {
    "duration": 83,
    "start_time": "2022-12-05T13:13:21.048Z"
   },
   {
    "duration": 122,
    "start_time": "2022-12-05T13:13:21.132Z"
   },
   {
    "duration": 59,
    "start_time": "2022-12-05T13:13:21.256Z"
   },
   {
    "duration": 114,
    "start_time": "2022-12-05T13:13:21.317Z"
   },
   {
    "duration": 23,
    "start_time": "2022-12-05T13:13:21.433Z"
   },
   {
    "duration": 5,
    "start_time": "2022-12-05T13:13:21.458Z"
   },
   {
    "duration": 5,
    "start_time": "2022-12-05T13:13:21.465Z"
   },
   {
    "duration": 259,
    "start_time": "2022-12-05T13:13:21.471Z"
   },
   {
    "duration": 12,
    "start_time": "2022-12-05T13:13:21.732Z"
   },
   {
    "duration": 236,
    "start_time": "2022-12-05T13:13:21.745Z"
   },
   {
    "duration": 306,
    "start_time": "2022-12-05T13:13:21.983Z"
   },
   {
    "duration": 58,
    "start_time": "2022-12-05T13:13:22.291Z"
   },
   {
    "duration": 68,
    "start_time": "2022-12-05T13:13:22.350Z"
   },
   {
    "duration": 11,
    "start_time": "2022-12-05T13:13:22.420Z"
   },
   {
    "duration": 150,
    "start_time": "2022-12-05T13:13:22.432Z"
   },
   {
    "duration": 84,
    "start_time": "2022-12-05T13:13:22.586Z"
   },
   {
    "duration": 180,
    "start_time": "2022-12-05T13:13:22.672Z"
   },
   {
    "duration": 7,
    "start_time": "2022-12-05T13:13:22.854Z"
   },
   {
    "duration": 928,
    "start_time": "2022-12-05T13:13:22.862Z"
   },
   {
    "duration": 6,
    "start_time": "2022-12-05T13:13:23.792Z"
   },
   {
    "duration": 19,
    "start_time": "2022-12-05T13:13:23.799Z"
   },
   {
    "duration": 6,
    "start_time": "2022-12-05T13:13:23.820Z"
   },
   {
    "duration": 11,
    "start_time": "2022-12-05T13:13:23.827Z"
   },
   {
    "duration": 5,
    "start_time": "2022-12-05T13:13:23.839Z"
   },
   {
    "duration": 16,
    "start_time": "2022-12-05T13:13:23.845Z"
   },
   {
    "duration": 8,
    "start_time": "2022-12-05T13:13:23.862Z"
   },
   {
    "duration": 12,
    "start_time": "2022-12-05T13:13:23.872Z"
   },
   {
    "duration": 7,
    "start_time": "2022-12-05T13:14:44.861Z"
   },
   {
    "duration": 4,
    "start_time": "2022-12-05T13:14:47.164Z"
   },
   {
    "duration": 184,
    "start_time": "2022-12-05T13:14:47.170Z"
   },
   {
    "duration": 82,
    "start_time": "2022-12-05T13:14:47.356Z"
   },
   {
    "duration": 105,
    "start_time": "2022-12-05T13:14:47.441Z"
   },
   {
    "duration": 23,
    "start_time": "2022-12-05T13:14:47.548Z"
   },
   {
    "duration": 94,
    "start_time": "2022-12-05T13:14:47.573Z"
   },
   {
    "duration": 18,
    "start_time": "2022-12-05T13:14:47.669Z"
   },
   {
    "duration": 53,
    "start_time": "2022-12-05T13:14:47.689Z"
   },
   {
    "duration": 81,
    "start_time": "2022-12-05T13:14:47.743Z"
   },
   {
    "duration": 126,
    "start_time": "2022-12-05T13:14:47.826Z"
   },
   {
    "duration": 51,
    "start_time": "2022-12-05T13:14:47.954Z"
   },
   {
    "duration": 122,
    "start_time": "2022-12-05T13:14:48.016Z"
   },
   {
    "duration": 26,
    "start_time": "2022-12-05T13:14:48.139Z"
   },
   {
    "duration": 8,
    "start_time": "2022-12-05T13:14:48.167Z"
   },
   {
    "duration": 11,
    "start_time": "2022-12-05T13:14:48.177Z"
   },
   {
    "duration": 256,
    "start_time": "2022-12-05T13:14:48.190Z"
   },
   {
    "duration": 12,
    "start_time": "2022-12-05T13:14:48.448Z"
   },
   {
    "duration": 256,
    "start_time": "2022-12-05T13:14:48.462Z"
   },
   {
    "duration": 213,
    "start_time": "2022-12-05T13:14:48.719Z"
   },
   {
    "duration": 60,
    "start_time": "2022-12-05T13:14:48.934Z"
   },
   {
    "duration": 72,
    "start_time": "2022-12-05T13:14:48.996Z"
   },
   {
    "duration": 12,
    "start_time": "2022-12-05T13:14:49.070Z"
   },
   {
    "duration": 177,
    "start_time": "2022-12-05T13:14:49.084Z"
   },
   {
    "duration": 93,
    "start_time": "2022-12-05T13:14:49.263Z"
   },
   {
    "duration": 183,
    "start_time": "2022-12-05T13:14:49.357Z"
   },
   {
    "duration": 7,
    "start_time": "2022-12-05T13:14:49.542Z"
   },
   {
    "duration": 1017,
    "start_time": "2022-12-05T13:14:49.551Z"
   },
   {
    "duration": 6,
    "start_time": "2022-12-05T13:14:50.571Z"
   },
   {
    "duration": 20,
    "start_time": "2022-12-05T13:14:50.579Z"
   },
   {
    "duration": 6,
    "start_time": "2022-12-05T13:14:50.601Z"
   },
   {
    "duration": 105,
    "start_time": "2022-12-05T13:14:50.615Z"
   },
   {
    "duration": 11,
    "start_time": "2022-12-05T13:14:50.721Z"
   },
   {
    "duration": 19,
    "start_time": "2022-12-05T13:14:50.734Z"
   },
   {
    "duration": 22,
    "start_time": "2022-12-05T13:14:50.755Z"
   },
   {
    "duration": 13,
    "start_time": "2022-12-05T13:14:50.778Z"
   },
   {
    "duration": 5,
    "start_time": "2022-12-05T13:15:36.651Z"
   },
   {
    "duration": 11,
    "start_time": "2022-12-05T13:15:38.055Z"
   },
   {
    "duration": 4,
    "start_time": "2022-12-05T13:15:40.198Z"
   },
   {
    "duration": 183,
    "start_time": "2022-12-05T13:15:40.204Z"
   },
   {
    "duration": 73,
    "start_time": "2022-12-05T13:15:40.388Z"
   },
   {
    "duration": 107,
    "start_time": "2022-12-05T13:15:40.463Z"
   },
   {
    "duration": 22,
    "start_time": "2022-12-05T13:15:40.572Z"
   },
   {
    "duration": 87,
    "start_time": "2022-12-05T13:15:40.596Z"
   },
   {
    "duration": 19,
    "start_time": "2022-12-05T13:15:40.684Z"
   },
   {
    "duration": 38,
    "start_time": "2022-12-05T13:15:40.715Z"
   },
   {
    "duration": 89,
    "start_time": "2022-12-05T13:15:40.755Z"
   },
   {
    "duration": 126,
    "start_time": "2022-12-05T13:15:40.847Z"
   },
   {
    "duration": 68,
    "start_time": "2022-12-05T13:15:40.975Z"
   },
   {
    "duration": 126,
    "start_time": "2022-12-05T13:15:41.045Z"
   },
   {
    "duration": 26,
    "start_time": "2022-12-05T13:15:41.173Z"
   },
   {
    "duration": 19,
    "start_time": "2022-12-05T13:15:41.201Z"
   },
   {
    "duration": 5,
    "start_time": "2022-12-05T13:15:41.221Z"
   },
   {
    "duration": 245,
    "start_time": "2022-12-05T13:15:41.228Z"
   },
   {
    "duration": 12,
    "start_time": "2022-12-05T13:15:41.475Z"
   },
   {
    "duration": 243,
    "start_time": "2022-12-05T13:15:41.489Z"
   },
   {
    "duration": 197,
    "start_time": "2022-12-05T13:15:41.733Z"
   },
   {
    "duration": 55,
    "start_time": "2022-12-05T13:15:41.931Z"
   },
   {
    "duration": 78,
    "start_time": "2022-12-05T13:15:41.987Z"
   },
   {
    "duration": 12,
    "start_time": "2022-12-05T13:15:42.067Z"
   },
   {
    "duration": 142,
    "start_time": "2022-12-05T13:15:42.081Z"
   },
   {
    "duration": 77,
    "start_time": "2022-12-05T13:15:42.225Z"
   },
   {
    "duration": 186,
    "start_time": "2022-12-05T13:15:42.315Z"
   },
   {
    "duration": 13,
    "start_time": "2022-12-05T13:15:42.503Z"
   },
   {
    "duration": 902,
    "start_time": "2022-12-05T13:15:42.518Z"
   },
   {
    "duration": 15,
    "start_time": "2022-12-05T13:15:43.423Z"
   },
   {
    "duration": 11,
    "start_time": "2022-12-05T13:15:43.440Z"
   },
   {
    "duration": 7,
    "start_time": "2022-12-05T13:15:43.453Z"
   },
   {
    "duration": 10,
    "start_time": "2022-12-05T13:15:43.461Z"
   },
   {
    "duration": 5,
    "start_time": "2022-12-05T13:15:43.472Z"
   },
   {
    "duration": 15,
    "start_time": "2022-12-05T13:15:43.478Z"
   },
   {
    "duration": 22,
    "start_time": "2022-12-05T13:15:43.494Z"
   },
   {
    "duration": 17,
    "start_time": "2022-12-05T13:15:43.518Z"
   },
   {
    "duration": 7,
    "start_time": "2022-12-05T13:15:59.237Z"
   },
   {
    "duration": 3,
    "start_time": "2022-12-05T13:16:01.052Z"
   },
   {
    "duration": 212,
    "start_time": "2022-12-05T13:16:01.057Z"
   },
   {
    "duration": 78,
    "start_time": "2022-12-05T13:16:01.270Z"
   },
   {
    "duration": 111,
    "start_time": "2022-12-05T13:16:01.350Z"
   },
   {
    "duration": 23,
    "start_time": "2022-12-05T13:16:01.462Z"
   },
   {
    "duration": 94,
    "start_time": "2022-12-05T13:16:01.487Z"
   },
   {
    "duration": 20,
    "start_time": "2022-12-05T13:16:01.583Z"
   },
   {
    "duration": 79,
    "start_time": "2022-12-05T13:16:01.615Z"
   },
   {
    "duration": 73,
    "start_time": "2022-12-05T13:16:01.698Z"
   },
   {
    "duration": 127,
    "start_time": "2022-12-05T13:16:01.773Z"
   },
   {
    "duration": 64,
    "start_time": "2022-12-05T13:16:01.902Z"
   },
   {
    "duration": 120,
    "start_time": "2022-12-05T13:16:01.967Z"
   },
   {
    "duration": 39,
    "start_time": "2022-12-05T13:16:02.089Z"
   },
   {
    "duration": 6,
    "start_time": "2022-12-05T13:16:02.130Z"
   },
   {
    "duration": 32,
    "start_time": "2022-12-05T13:16:02.138Z"
   },
   {
    "duration": 236,
    "start_time": "2022-12-05T13:16:02.172Z"
   },
   {
    "duration": 12,
    "start_time": "2022-12-05T13:16:02.416Z"
   },
   {
    "duration": 262,
    "start_time": "2022-12-05T13:16:02.430Z"
   },
   {
    "duration": 198,
    "start_time": "2022-12-05T13:16:02.694Z"
   },
   {
    "duration": 60,
    "start_time": "2022-12-05T13:16:02.893Z"
   },
   {
    "duration": 69,
    "start_time": "2022-12-05T13:16:02.955Z"
   },
   {
    "duration": 10,
    "start_time": "2022-12-05T13:16:03.025Z"
   },
   {
    "duration": 132,
    "start_time": "2022-12-05T13:16:03.036Z"
   },
   {
    "duration": 86,
    "start_time": "2022-12-05T13:16:03.170Z"
   },
   {
    "duration": 186,
    "start_time": "2022-12-05T13:16:03.258Z"
   },
   {
    "duration": 7,
    "start_time": "2022-12-05T13:16:03.445Z"
   },
   {
    "duration": 944,
    "start_time": "2022-12-05T13:16:03.453Z"
   },
   {
    "duration": 6,
    "start_time": "2022-12-05T13:16:04.399Z"
   },
   {
    "duration": 13,
    "start_time": "2022-12-05T13:16:04.406Z"
   },
   {
    "duration": 10,
    "start_time": "2022-12-05T13:16:04.420Z"
   },
   {
    "duration": 126,
    "start_time": "2022-12-05T13:16:04.432Z"
   },
   {
    "duration": 24,
    "start_time": "2022-12-05T13:16:04.559Z"
   },
   {
    "duration": 21,
    "start_time": "2022-12-05T13:16:04.584Z"
   },
   {
    "duration": 15,
    "start_time": "2022-12-05T13:16:04.606Z"
   },
   {
    "duration": 22,
    "start_time": "2022-12-05T13:16:04.623Z"
   },
   {
    "duration": 1201,
    "start_time": "2022-12-05T15:49:37.377Z"
   },
   {
    "duration": 1233,
    "start_time": "2022-12-05T15:49:38.580Z"
   },
   {
    "duration": 88,
    "start_time": "2022-12-05T15:49:39.815Z"
   },
   {
    "duration": 135,
    "start_time": "2022-12-05T15:49:39.905Z"
   },
   {
    "duration": 20,
    "start_time": "2022-12-05T15:49:40.042Z"
   },
   {
    "duration": 87,
    "start_time": "2022-12-05T15:49:40.063Z"
   },
   {
    "duration": 16,
    "start_time": "2022-12-05T15:49:40.152Z"
   },
   {
    "duration": 67,
    "start_time": "2022-12-05T15:49:40.170Z"
   },
   {
    "duration": 71,
    "start_time": "2022-12-05T15:49:40.238Z"
   },
   {
    "duration": 189,
    "start_time": "2022-12-05T15:49:40.311Z"
   },
   {
    "duration": 0,
    "start_time": "2022-12-05T15:49:40.502Z"
   },
   {
    "duration": 0,
    "start_time": "2022-12-05T15:49:40.503Z"
   },
   {
    "duration": 0,
    "start_time": "2022-12-05T15:49:40.504Z"
   },
   {
    "duration": 0,
    "start_time": "2022-12-05T15:49:40.505Z"
   },
   {
    "duration": 0,
    "start_time": "2022-12-05T15:49:40.506Z"
   },
   {
    "duration": 0,
    "start_time": "2022-12-05T15:49:40.508Z"
   },
   {
    "duration": 0,
    "start_time": "2022-12-05T15:49:40.509Z"
   },
   {
    "duration": 0,
    "start_time": "2022-12-05T15:49:40.510Z"
   },
   {
    "duration": 0,
    "start_time": "2022-12-05T15:49:40.511Z"
   },
   {
    "duration": 0,
    "start_time": "2022-12-05T15:49:40.526Z"
   },
   {
    "duration": 0,
    "start_time": "2022-12-05T15:49:40.528Z"
   },
   {
    "duration": 0,
    "start_time": "2022-12-05T15:49:40.529Z"
   },
   {
    "duration": 0,
    "start_time": "2022-12-05T15:49:40.530Z"
   },
   {
    "duration": 0,
    "start_time": "2022-12-05T15:49:40.531Z"
   },
   {
    "duration": 0,
    "start_time": "2022-12-05T15:49:40.532Z"
   },
   {
    "duration": 0,
    "start_time": "2022-12-05T15:49:40.533Z"
   },
   {
    "duration": 0,
    "start_time": "2022-12-05T15:49:40.534Z"
   },
   {
    "duration": 0,
    "start_time": "2022-12-05T15:49:40.535Z"
   },
   {
    "duration": 0,
    "start_time": "2022-12-05T15:49:40.536Z"
   },
   {
    "duration": 0,
    "start_time": "2022-12-05T15:49:40.537Z"
   },
   {
    "duration": 0,
    "start_time": "2022-12-05T15:49:40.538Z"
   },
   {
    "duration": 0,
    "start_time": "2022-12-05T15:49:40.539Z"
   },
   {
    "duration": 0,
    "start_time": "2022-12-05T15:49:40.540Z"
   },
   {
    "duration": 0,
    "start_time": "2022-12-05T15:49:40.541Z"
   },
   {
    "duration": 0,
    "start_time": "2022-12-05T15:49:40.542Z"
   },
   {
    "duration": 1222,
    "start_time": "2022-12-05T16:31:39.460Z"
   },
   {
    "duration": 824,
    "start_time": "2022-12-05T16:31:40.684Z"
   },
   {
    "duration": 87,
    "start_time": "2022-12-05T16:31:41.510Z"
   },
   {
    "duration": 142,
    "start_time": "2022-12-05T16:31:41.599Z"
   },
   {
    "duration": 22,
    "start_time": "2022-12-05T16:31:41.743Z"
   },
   {
    "duration": 95,
    "start_time": "2022-12-05T16:31:41.766Z"
   },
   {
    "duration": 18,
    "start_time": "2022-12-05T16:31:41.863Z"
   },
   {
    "duration": 58,
    "start_time": "2022-12-05T16:31:41.883Z"
   },
   {
    "duration": 83,
    "start_time": "2022-12-05T16:31:41.943Z"
   },
   {
    "duration": 198,
    "start_time": "2022-12-05T16:31:42.028Z"
   },
   {
    "duration": 0,
    "start_time": "2022-12-05T16:31:42.228Z"
   },
   {
    "duration": 0,
    "start_time": "2022-12-05T16:31:42.229Z"
   },
   {
    "duration": 0,
    "start_time": "2022-12-05T16:31:42.231Z"
   },
   {
    "duration": 0,
    "start_time": "2022-12-05T16:31:42.232Z"
   },
   {
    "duration": 0,
    "start_time": "2022-12-05T16:31:42.234Z"
   },
   {
    "duration": 0,
    "start_time": "2022-12-05T16:31:42.235Z"
   },
   {
    "duration": 0,
    "start_time": "2022-12-05T16:31:42.237Z"
   },
   {
    "duration": 0,
    "start_time": "2022-12-05T16:31:42.238Z"
   },
   {
    "duration": 1,
    "start_time": "2022-12-05T16:31:42.239Z"
   },
   {
    "duration": 0,
    "start_time": "2022-12-05T16:31:42.241Z"
   },
   {
    "duration": 0,
    "start_time": "2022-12-05T16:31:42.243Z"
   },
   {
    "duration": 0,
    "start_time": "2022-12-05T16:31:42.244Z"
   },
   {
    "duration": 0,
    "start_time": "2022-12-05T16:31:42.246Z"
   },
   {
    "duration": 0,
    "start_time": "2022-12-05T16:31:42.247Z"
   },
   {
    "duration": 0,
    "start_time": "2022-12-05T16:31:42.248Z"
   },
   {
    "duration": 0,
    "start_time": "2022-12-05T16:31:42.250Z"
   },
   {
    "duration": 0,
    "start_time": "2022-12-05T16:31:42.251Z"
   },
   {
    "duration": 0,
    "start_time": "2022-12-05T16:31:42.253Z"
   },
   {
    "duration": 0,
    "start_time": "2022-12-05T16:31:42.254Z"
   },
   {
    "duration": 0,
    "start_time": "2022-12-05T16:31:42.256Z"
   },
   {
    "duration": 0,
    "start_time": "2022-12-05T16:31:42.257Z"
   },
   {
    "duration": 0,
    "start_time": "2022-12-05T16:31:42.258Z"
   },
   {
    "duration": 0,
    "start_time": "2022-12-05T16:31:42.260Z"
   },
   {
    "duration": 0,
    "start_time": "2022-12-05T16:31:42.261Z"
   },
   {
    "duration": 0,
    "start_time": "2022-12-05T16:31:42.262Z"
   },
   {
    "duration": 110,
    "start_time": "2022-12-05T16:32:11.636Z"
   },
   {
    "duration": 3,
    "start_time": "2022-12-05T16:32:14.421Z"
   },
   {
    "duration": 178,
    "start_time": "2022-12-05T16:32:14.426Z"
   },
   {
    "duration": 90,
    "start_time": "2022-12-05T16:32:14.605Z"
   },
   {
    "duration": 126,
    "start_time": "2022-12-05T16:32:14.696Z"
   },
   {
    "duration": 21,
    "start_time": "2022-12-05T16:32:14.823Z"
   },
   {
    "duration": 97,
    "start_time": "2022-12-05T16:32:14.846Z"
   },
   {
    "duration": 18,
    "start_time": "2022-12-05T16:32:14.945Z"
   },
   {
    "duration": 57,
    "start_time": "2022-12-05T16:32:14.965Z"
   },
   {
    "duration": 72,
    "start_time": "2022-12-05T16:32:15.024Z"
   },
   {
    "duration": 111,
    "start_time": "2022-12-05T16:32:15.098Z"
   },
   {
    "duration": 59,
    "start_time": "2022-12-05T16:32:15.211Z"
   },
   {
    "duration": 120,
    "start_time": "2022-12-05T16:32:15.272Z"
   },
   {
    "duration": 31,
    "start_time": "2022-12-05T16:32:15.394Z"
   },
   {
    "duration": 6,
    "start_time": "2022-12-05T16:32:15.426Z"
   },
   {
    "duration": 16,
    "start_time": "2022-12-05T16:32:15.433Z"
   },
   {
    "duration": 282,
    "start_time": "2022-12-05T16:32:15.450Z"
   },
   {
    "duration": 13,
    "start_time": "2022-12-05T16:32:15.734Z"
   },
   {
    "duration": 226,
    "start_time": "2022-12-05T16:32:15.748Z"
   },
   {
    "duration": 196,
    "start_time": "2022-12-05T16:32:15.976Z"
   },
   {
    "duration": 58,
    "start_time": "2022-12-05T16:32:16.174Z"
   },
   {
    "duration": 59,
    "start_time": "2022-12-05T16:32:16.234Z"
   },
   {
    "duration": 28,
    "start_time": "2022-12-05T16:32:16.295Z"
   },
   {
    "duration": 129,
    "start_time": "2022-12-05T16:32:16.324Z"
   },
   {
    "duration": 85,
    "start_time": "2022-12-05T16:32:16.455Z"
   },
   {
    "duration": 201,
    "start_time": "2022-12-05T16:32:16.542Z"
   },
   {
    "duration": 7,
    "start_time": "2022-12-05T16:32:16.744Z"
   },
   {
    "duration": 1036,
    "start_time": "2022-12-05T16:32:16.752Z"
   },
   {
    "duration": 5,
    "start_time": "2022-12-05T16:32:17.789Z"
   },
   {
    "duration": 6,
    "start_time": "2022-12-05T16:32:17.797Z"
   },
   {
    "duration": 20,
    "start_time": "2022-12-05T16:32:17.805Z"
   },
   {
    "duration": 18,
    "start_time": "2022-12-05T16:32:17.827Z"
   },
   {
    "duration": 7,
    "start_time": "2022-12-05T16:32:17.847Z"
   },
   {
    "duration": 24,
    "start_time": "2022-12-05T16:32:17.855Z"
   },
   {
    "duration": 12,
    "start_time": "2022-12-05T16:32:17.881Z"
   },
   {
    "duration": 9,
    "start_time": "2022-12-05T16:32:17.895Z"
   },
   {
    "duration": 3,
    "start_time": "2022-12-05T16:34:15.319Z"
   },
   {
    "duration": 176,
    "start_time": "2022-12-05T16:34:15.324Z"
   },
   {
    "duration": 86,
    "start_time": "2022-12-05T16:34:15.502Z"
   },
   {
    "duration": 125,
    "start_time": "2022-12-05T16:34:15.590Z"
   },
   {
    "duration": 23,
    "start_time": "2022-12-05T16:34:15.718Z"
   },
   {
    "duration": 105,
    "start_time": "2022-12-05T16:34:15.743Z"
   },
   {
    "duration": 24,
    "start_time": "2022-12-05T16:34:15.850Z"
   },
   {
    "duration": 56,
    "start_time": "2022-12-05T16:34:15.877Z"
   },
   {
    "duration": 77,
    "start_time": "2022-12-05T16:34:15.935Z"
   },
   {
    "duration": 119,
    "start_time": "2022-12-05T16:34:16.014Z"
   },
   {
    "duration": 46,
    "start_time": "2022-12-05T16:34:16.136Z"
   },
   {
    "duration": 126,
    "start_time": "2022-12-05T16:34:16.184Z"
   },
   {
    "duration": 30,
    "start_time": "2022-12-05T16:34:16.312Z"
   },
   {
    "duration": 6,
    "start_time": "2022-12-05T16:34:16.344Z"
   },
   {
    "duration": 5,
    "start_time": "2022-12-05T16:34:16.352Z"
   },
   {
    "duration": 248,
    "start_time": "2022-12-05T16:34:16.359Z"
   },
   {
    "duration": 24,
    "start_time": "2022-12-05T16:34:16.609Z"
   },
   {
    "duration": 205,
    "start_time": "2022-12-05T16:34:16.635Z"
   },
   {
    "duration": 202,
    "start_time": "2022-12-05T16:34:16.842Z"
   },
   {
    "duration": 58,
    "start_time": "2022-12-05T16:34:17.046Z"
   },
   {
    "duration": 60,
    "start_time": "2022-12-05T16:34:17.121Z"
   },
   {
    "duration": 10,
    "start_time": "2022-12-05T16:34:17.182Z"
   },
   {
    "duration": 139,
    "start_time": "2022-12-05T16:34:17.194Z"
   },
   {
    "duration": 76,
    "start_time": "2022-12-05T16:34:17.334Z"
   },
   {
    "duration": 193,
    "start_time": "2022-12-05T16:34:17.422Z"
   },
   {
    "duration": 12,
    "start_time": "2022-12-05T16:34:17.617Z"
   },
   {
    "duration": 1027,
    "start_time": "2022-12-05T16:34:17.630Z"
   },
   {
    "duration": 6,
    "start_time": "2022-12-05T16:34:18.658Z"
   },
   {
    "duration": 8,
    "start_time": "2022-12-05T16:34:18.667Z"
   },
   {
    "duration": 6,
    "start_time": "2022-12-05T16:34:18.676Z"
   },
   {
    "duration": 13,
    "start_time": "2022-12-05T16:34:18.684Z"
   },
   {
    "duration": 23,
    "start_time": "2022-12-05T16:34:18.699Z"
   },
   {
    "duration": 9,
    "start_time": "2022-12-05T16:34:18.724Z"
   },
   {
    "duration": 14,
    "start_time": "2022-12-05T16:34:18.735Z"
   },
   {
    "duration": 12,
    "start_time": "2022-12-05T16:34:18.750Z"
   },
   {
    "duration": 1219,
    "start_time": "2022-12-06T06:34:42.952Z"
   },
   {
    "duration": 856,
    "start_time": "2022-12-06T06:34:44.173Z"
   },
   {
    "duration": 84,
    "start_time": "2022-12-06T06:34:45.030Z"
   },
   {
    "duration": 124,
    "start_time": "2022-12-06T06:34:45.115Z"
   },
   {
    "duration": 20,
    "start_time": "2022-12-06T06:34:45.241Z"
   },
   {
    "duration": 86,
    "start_time": "2022-12-06T06:34:45.262Z"
   },
   {
    "duration": 34,
    "start_time": "2022-12-06T06:34:45.349Z"
   },
   {
    "duration": 43,
    "start_time": "2022-12-06T06:34:45.385Z"
   },
   {
    "duration": 96,
    "start_time": "2022-12-06T06:34:45.430Z"
   },
   {
    "duration": 104,
    "start_time": "2022-12-06T06:34:45.529Z"
   },
   {
    "duration": 57,
    "start_time": "2022-12-06T06:34:45.635Z"
   },
   {
    "duration": 128,
    "start_time": "2022-12-06T06:34:45.694Z"
   },
   {
    "duration": 24,
    "start_time": "2022-12-06T06:34:45.823Z"
   },
   {
    "duration": 6,
    "start_time": "2022-12-06T06:34:45.848Z"
   },
   {
    "duration": 25,
    "start_time": "2022-12-06T06:34:45.855Z"
   },
   {
    "duration": 253,
    "start_time": "2022-12-06T06:34:45.881Z"
   },
   {
    "duration": 12,
    "start_time": "2022-12-06T06:34:46.135Z"
   },
   {
    "duration": 201,
    "start_time": "2022-12-06T06:34:46.149Z"
   },
   {
    "duration": 180,
    "start_time": "2022-12-06T06:34:46.351Z"
   },
   {
    "duration": 61,
    "start_time": "2022-12-06T06:34:46.532Z"
   },
   {
    "duration": 55,
    "start_time": "2022-12-06T06:34:46.595Z"
   },
   {
    "duration": 27,
    "start_time": "2022-12-06T06:34:46.652Z"
   },
   {
    "duration": 120,
    "start_time": "2022-12-06T06:34:46.680Z"
   },
   {
    "duration": 80,
    "start_time": "2022-12-06T06:34:46.802Z"
   },
   {
    "duration": 197,
    "start_time": "2022-12-06T06:34:46.883Z"
   },
   {
    "duration": 7,
    "start_time": "2022-12-06T06:34:47.081Z"
   },
   {
    "duration": 989,
    "start_time": "2022-12-06T06:34:47.089Z"
   },
   {
    "duration": 5,
    "start_time": "2022-12-06T06:34:48.081Z"
   },
   {
    "duration": 14,
    "start_time": "2022-12-06T06:34:48.088Z"
   },
   {
    "duration": 6,
    "start_time": "2022-12-06T06:34:48.104Z"
   },
   {
    "duration": 13,
    "start_time": "2022-12-06T06:34:48.111Z"
   },
   {
    "duration": 6,
    "start_time": "2022-12-06T06:34:48.126Z"
   },
   {
    "duration": 15,
    "start_time": "2022-12-06T06:34:48.134Z"
   },
   {
    "duration": 27,
    "start_time": "2022-12-06T06:34:48.151Z"
   },
   {
    "duration": 9,
    "start_time": "2022-12-06T06:34:48.180Z"
   },
   {
    "duration": 5,
    "start_time": "2022-12-06T06:40:17.568Z"
   },
   {
    "duration": 4,
    "start_time": "2022-12-06T06:40:21.419Z"
   },
   {
    "duration": 4,
    "start_time": "2022-12-06T06:44:43.810Z"
   },
   {
    "duration": 81,
    "start_time": "2022-12-06T10:58:18.633Z"
   },
   {
    "duration": 51,
    "start_time": "2022-12-06T10:59:55.187Z"
   },
   {
    "duration": 68,
    "start_time": "2022-12-06T11:55:18.085Z"
   },
   {
    "duration": 9,
    "start_time": "2022-12-06T11:58:05.622Z"
   },
   {
    "duration": 7,
    "start_time": "2022-12-06T12:02:16.227Z"
   },
   {
    "duration": 1265,
    "start_time": "2022-12-06T12:02:19.764Z"
   },
   {
    "duration": 835,
    "start_time": "2022-12-06T12:02:21.031Z"
   },
   {
    "duration": 92,
    "start_time": "2022-12-06T12:02:21.868Z"
   },
   {
    "duration": 145,
    "start_time": "2022-12-06T12:02:21.962Z"
   },
   {
    "duration": 20,
    "start_time": "2022-12-06T12:02:22.109Z"
   },
   {
    "duration": 86,
    "start_time": "2022-12-06T12:02:22.130Z"
   },
   {
    "duration": 17,
    "start_time": "2022-12-06T12:02:22.217Z"
   },
   {
    "duration": 56,
    "start_time": "2022-12-06T12:02:22.236Z"
   },
   {
    "duration": 72,
    "start_time": "2022-12-06T12:02:22.294Z"
   },
   {
    "duration": 110,
    "start_time": "2022-12-06T12:02:22.369Z"
   },
   {
    "duration": 46,
    "start_time": "2022-12-06T12:02:22.481Z"
   },
   {
    "duration": 114,
    "start_time": "2022-12-06T12:02:22.528Z"
   },
   {
    "duration": 23,
    "start_time": "2022-12-06T12:02:22.644Z"
   },
   {
    "duration": 5,
    "start_time": "2022-12-06T12:02:22.678Z"
   },
   {
    "duration": 7,
    "start_time": "2022-12-06T12:02:22.685Z"
   },
   {
    "duration": 247,
    "start_time": "2022-12-06T12:02:22.694Z"
   },
   {
    "duration": 14,
    "start_time": "2022-12-06T12:02:22.943Z"
   },
   {
    "duration": 199,
    "start_time": "2022-12-06T12:02:22.959Z"
   },
   {
    "duration": 190,
    "start_time": "2022-12-06T12:02:23.159Z"
   },
   {
    "duration": 65,
    "start_time": "2022-12-06T12:02:23.351Z"
   },
   {
    "duration": 64,
    "start_time": "2022-12-06T12:02:23.417Z"
   },
   {
    "duration": 107,
    "start_time": "2022-12-06T12:02:23.483Z"
   },
   {
    "duration": 10,
    "start_time": "2022-12-06T12:02:23.592Z"
   },
   {
    "duration": 138,
    "start_time": "2022-12-06T12:02:23.604Z"
   },
   {
    "duration": 63,
    "start_time": "2022-12-06T12:02:23.743Z"
   },
   {
    "duration": 223,
    "start_time": "2022-12-06T12:02:23.807Z"
   },
   {
    "duration": 9,
    "start_time": "2022-12-06T12:02:24.032Z"
   },
   {
    "duration": 1056,
    "start_time": "2022-12-06T12:02:24.044Z"
   },
   {
    "duration": 9,
    "start_time": "2022-12-06T12:02:25.101Z"
   },
   {
    "duration": 23,
    "start_time": "2022-12-06T12:02:25.111Z"
   },
   {
    "duration": 21,
    "start_time": "2022-12-06T12:02:25.136Z"
   },
   {
    "duration": 15,
    "start_time": "2022-12-06T12:02:25.158Z"
   },
   {
    "duration": 18,
    "start_time": "2022-12-06T12:02:25.174Z"
   },
   {
    "duration": 1375,
    "start_time": "2022-12-06T12:02:25.194Z"
   },
   {
    "duration": 1389,
    "start_time": "2022-12-06T12:03:25.198Z"
   },
   {
    "duration": 11,
    "start_time": "2022-12-06T12:03:32.115Z"
   },
   {
    "duration": 9,
    "start_time": "2022-12-06T12:03:36.420Z"
   },
   {
    "duration": 9,
    "start_time": "2022-12-06T12:03:42.604Z"
   },
   {
    "duration": 1275,
    "start_time": "2022-12-06T12:03:56.169Z"
   },
   {
    "duration": 4,
    "start_time": "2022-12-06T12:04:03.694Z"
   },
   {
    "duration": 225,
    "start_time": "2022-12-06T12:04:03.700Z"
   },
   {
    "duration": 110,
    "start_time": "2022-12-06T12:04:03.927Z"
   },
   {
    "duration": 153,
    "start_time": "2022-12-06T12:04:04.039Z"
   },
   {
    "duration": 29,
    "start_time": "2022-12-06T12:04:04.195Z"
   },
   {
    "duration": 102,
    "start_time": "2022-12-06T12:04:04.226Z"
   },
   {
    "duration": 17,
    "start_time": "2022-12-06T12:04:04.331Z"
   },
   {
    "duration": 62,
    "start_time": "2022-12-06T12:04:04.350Z"
   },
   {
    "duration": 72,
    "start_time": "2022-12-06T12:04:04.414Z"
   },
   {
    "duration": 109,
    "start_time": "2022-12-06T12:04:04.488Z"
   },
   {
    "duration": 47,
    "start_time": "2022-12-06T12:04:04.600Z"
   },
   {
    "duration": 131,
    "start_time": "2022-12-06T12:04:04.649Z"
   },
   {
    "duration": 25,
    "start_time": "2022-12-06T12:04:04.781Z"
   },
   {
    "duration": 53,
    "start_time": "2022-12-06T12:04:04.809Z"
   },
   {
    "duration": 8,
    "start_time": "2022-12-06T12:04:04.864Z"
   },
   {
    "duration": 243,
    "start_time": "2022-12-06T12:04:04.874Z"
   },
   {
    "duration": 15,
    "start_time": "2022-12-06T12:04:05.119Z"
   },
   {
    "duration": 213,
    "start_time": "2022-12-06T12:04:05.135Z"
   },
   {
    "duration": 194,
    "start_time": "2022-12-06T12:04:05.350Z"
   },
   {
    "duration": 59,
    "start_time": "2022-12-06T12:04:05.545Z"
   },
   {
    "duration": 60,
    "start_time": "2022-12-06T12:04:05.605Z"
   },
   {
    "duration": 137,
    "start_time": "2022-12-06T12:04:05.666Z"
   },
   {
    "duration": 11,
    "start_time": "2022-12-06T12:04:05.805Z"
   },
   {
    "duration": 127,
    "start_time": "2022-12-06T12:04:05.817Z"
   },
   {
    "duration": 66,
    "start_time": "2022-12-06T12:04:05.945Z"
   },
   {
    "duration": 187,
    "start_time": "2022-12-06T12:04:06.013Z"
   },
   {
    "duration": 8,
    "start_time": "2022-12-06T12:04:06.201Z"
   },
   {
    "duration": 1033,
    "start_time": "2022-12-06T12:04:06.211Z"
   },
   {
    "duration": 8,
    "start_time": "2022-12-06T12:04:07.247Z"
   },
   {
    "duration": 10,
    "start_time": "2022-12-06T12:04:07.257Z"
   },
   {
    "duration": 16,
    "start_time": "2022-12-06T12:04:07.278Z"
   },
   {
    "duration": 17,
    "start_time": "2022-12-06T12:04:07.296Z"
   },
   {
    "duration": 11,
    "start_time": "2022-12-06T12:04:07.315Z"
   },
   {
    "duration": 1084,
    "start_time": "2022-12-06T12:04:07.327Z"
   },
   {
    "duration": 5,
    "start_time": "2022-12-06T12:05:07.526Z"
   },
   {
    "duration": 168,
    "start_time": "2022-12-06T12:05:07.532Z"
   },
   {
    "duration": 87,
    "start_time": "2022-12-06T12:05:07.702Z"
   },
   {
    "duration": 119,
    "start_time": "2022-12-06T12:05:07.791Z"
   },
   {
    "duration": 20,
    "start_time": "2022-12-06T12:05:07.913Z"
   },
   {
    "duration": 91,
    "start_time": "2022-12-06T12:05:07.934Z"
   },
   {
    "duration": 21,
    "start_time": "2022-12-06T12:05:08.026Z"
   },
   {
    "duration": 58,
    "start_time": "2022-12-06T12:05:08.048Z"
   },
   {
    "duration": 85,
    "start_time": "2022-12-06T12:05:08.107Z"
   },
   {
    "duration": 115,
    "start_time": "2022-12-06T12:05:08.194Z"
   },
   {
    "duration": 46,
    "start_time": "2022-12-06T12:05:08.311Z"
   },
   {
    "duration": 125,
    "start_time": "2022-12-06T12:05:08.359Z"
   },
   {
    "duration": 23,
    "start_time": "2022-12-06T12:05:08.486Z"
   },
   {
    "duration": 5,
    "start_time": "2022-12-06T12:05:08.511Z"
   },
   {
    "duration": 22,
    "start_time": "2022-12-06T12:05:08.518Z"
   },
   {
    "duration": 232,
    "start_time": "2022-12-06T12:05:08.542Z"
   },
   {
    "duration": 13,
    "start_time": "2022-12-06T12:05:08.777Z"
   },
   {
    "duration": 213,
    "start_time": "2022-12-06T12:05:08.792Z"
   },
   {
    "duration": 186,
    "start_time": "2022-12-06T12:05:09.007Z"
   },
   {
    "duration": 52,
    "start_time": "2022-12-06T12:05:09.195Z"
   },
   {
    "duration": 71,
    "start_time": "2022-12-06T12:05:09.249Z"
   },
   {
    "duration": 114,
    "start_time": "2022-12-06T12:05:09.322Z"
   },
   {
    "duration": 10,
    "start_time": "2022-12-06T12:05:09.437Z"
   },
   {
    "duration": 118,
    "start_time": "2022-12-06T12:05:09.449Z"
   },
   {
    "duration": 61,
    "start_time": "2022-12-06T12:05:09.569Z"
   },
   {
    "duration": 189,
    "start_time": "2022-12-06T12:05:09.631Z"
   },
   {
    "duration": 8,
    "start_time": "2022-12-06T12:05:09.823Z"
   },
   {
    "duration": 968,
    "start_time": "2022-12-06T12:05:09.833Z"
   },
   {
    "duration": 9,
    "start_time": "2022-12-06T12:05:10.805Z"
   },
   {
    "duration": 44,
    "start_time": "2022-12-06T12:05:10.815Z"
   },
   {
    "duration": 42,
    "start_time": "2022-12-06T12:05:10.861Z"
   },
   {
    "duration": 39,
    "start_time": "2022-12-06T12:05:10.905Z"
   },
   {
    "duration": 45,
    "start_time": "2022-12-06T12:05:10.946Z"
   },
   {
    "duration": 1544,
    "start_time": "2022-12-06T12:05:10.993Z"
   },
   {
    "duration": 8,
    "start_time": "2022-12-06T12:05:23.333Z"
   },
   {
    "duration": 1126,
    "start_time": "2022-12-06T12:05:34.646Z"
   },
   {
    "duration": 1261,
    "start_time": "2022-12-06T15:33:57.129Z"
   },
   {
    "duration": 333,
    "start_time": "2022-12-06T15:33:58.392Z"
   },
   {
    "duration": 97,
    "start_time": "2022-12-06T15:33:58.728Z"
   },
   {
    "duration": 134,
    "start_time": "2022-12-06T15:33:58.828Z"
   },
   {
    "duration": 23,
    "start_time": "2022-12-06T15:33:58.964Z"
   },
   {
    "duration": 106,
    "start_time": "2022-12-06T15:33:58.989Z"
   },
   {
    "duration": 28,
    "start_time": "2022-12-06T15:33:59.096Z"
   },
   {
    "duration": 46,
    "start_time": "2022-12-06T15:33:59.126Z"
   },
   {
    "duration": 91,
    "start_time": "2022-12-06T15:33:59.174Z"
   },
   {
    "duration": 122,
    "start_time": "2022-12-06T15:33:59.266Z"
   },
   {
    "duration": 65,
    "start_time": "2022-12-06T15:33:59.390Z"
   },
   {
    "duration": 118,
    "start_time": "2022-12-06T15:33:59.457Z"
   },
   {
    "duration": 24,
    "start_time": "2022-12-06T15:33:59.577Z"
   },
   {
    "duration": 8,
    "start_time": "2022-12-06T15:33:59.618Z"
   },
   {
    "duration": 10,
    "start_time": "2022-12-06T15:33:59.628Z"
   },
   {
    "duration": 273,
    "start_time": "2022-12-06T15:33:59.640Z"
   },
   {
    "duration": 18,
    "start_time": "2022-12-06T15:33:59.917Z"
   },
   {
    "duration": 264,
    "start_time": "2022-12-06T15:33:59.936Z"
   },
   {
    "duration": 208,
    "start_time": "2022-12-06T15:34:00.202Z"
   },
   {
    "duration": 67,
    "start_time": "2022-12-06T15:34:00.411Z"
   },
   {
    "duration": 77,
    "start_time": "2022-12-06T15:34:00.480Z"
   },
   {
    "duration": 114,
    "start_time": "2022-12-06T15:34:00.559Z"
   },
   {
    "duration": 9,
    "start_time": "2022-12-06T15:34:00.675Z"
   },
   {
    "duration": 139,
    "start_time": "2022-12-06T15:34:00.686Z"
   },
   {
    "duration": 66,
    "start_time": "2022-12-06T15:34:00.827Z"
   },
   {
    "duration": 229,
    "start_time": "2022-12-06T15:34:00.895Z"
   },
   {
    "duration": 9,
    "start_time": "2022-12-06T15:34:01.127Z"
   },
   {
    "duration": 1099,
    "start_time": "2022-12-06T15:34:01.137Z"
   },
   {
    "duration": 8,
    "start_time": "2022-12-06T15:34:02.238Z"
   },
   {
    "duration": 17,
    "start_time": "2022-12-06T15:34:02.247Z"
   },
   {
    "duration": 17,
    "start_time": "2022-12-06T15:34:02.265Z"
   },
   {
    "duration": 19,
    "start_time": "2022-12-06T15:34:02.284Z"
   },
   {
    "duration": 35,
    "start_time": "2022-12-06T15:34:02.305Z"
   },
   {
    "duration": 999,
    "start_time": "2022-12-06T15:34:02.342Z"
   },
   {
    "duration": 6,
    "start_time": "2022-12-06T15:37:22.763Z"
   },
   {
    "duration": 3,
    "start_time": "2022-12-06T15:37:26.747Z"
   },
   {
    "duration": 194,
    "start_time": "2022-12-06T15:37:26.752Z"
   },
   {
    "duration": 79,
    "start_time": "2022-12-06T15:37:26.947Z"
   },
   {
    "duration": 112,
    "start_time": "2022-12-06T15:37:27.028Z"
   },
   {
    "duration": 21,
    "start_time": "2022-12-06T15:37:27.141Z"
   },
   {
    "duration": 98,
    "start_time": "2022-12-06T15:37:27.163Z"
   },
   {
    "duration": 18,
    "start_time": "2022-12-06T15:37:27.263Z"
   },
   {
    "duration": 58,
    "start_time": "2022-12-06T15:37:27.283Z"
   },
   {
    "duration": 84,
    "start_time": "2022-12-06T15:37:27.343Z"
   },
   {
    "duration": 132,
    "start_time": "2022-12-06T15:37:27.429Z"
   },
   {
    "duration": 67,
    "start_time": "2022-12-06T15:37:27.564Z"
   },
   {
    "duration": 111,
    "start_time": "2022-12-06T15:37:27.633Z"
   },
   {
    "duration": 22,
    "start_time": "2022-12-06T15:37:27.746Z"
   },
   {
    "duration": 5,
    "start_time": "2022-12-06T15:37:27.769Z"
   },
   {
    "duration": 5,
    "start_time": "2022-12-06T15:37:27.776Z"
   },
   {
    "duration": 258,
    "start_time": "2022-12-06T15:37:27.782Z"
   },
   {
    "duration": 13,
    "start_time": "2022-12-06T15:37:28.042Z"
   },
   {
    "duration": 248,
    "start_time": "2022-12-06T15:37:28.056Z"
   },
   {
    "duration": 205,
    "start_time": "2022-12-06T15:37:28.306Z"
   },
   {
    "duration": 61,
    "start_time": "2022-12-06T15:37:28.513Z"
   },
   {
    "duration": 70,
    "start_time": "2022-12-06T15:37:28.576Z"
   },
   {
    "duration": 113,
    "start_time": "2022-12-06T15:37:28.648Z"
   },
   {
    "duration": 10,
    "start_time": "2022-12-06T15:37:28.762Z"
   },
   {
    "duration": 123,
    "start_time": "2022-12-06T15:37:28.773Z"
   },
   {
    "duration": 78,
    "start_time": "2022-12-06T15:37:28.897Z"
   },
   {
    "duration": 181,
    "start_time": "2022-12-06T15:37:28.976Z"
   },
   {
    "duration": 7,
    "start_time": "2022-12-06T15:37:29.159Z"
   },
   {
    "duration": 1005,
    "start_time": "2022-12-06T15:37:29.168Z"
   },
   {
    "duration": 7,
    "start_time": "2022-12-06T15:37:30.176Z"
   },
   {
    "duration": 15,
    "start_time": "2022-12-06T15:37:30.184Z"
   },
   {
    "duration": 22,
    "start_time": "2022-12-06T15:37:30.200Z"
   },
   {
    "duration": 0,
    "start_time": "2022-12-06T15:37:30.223Z"
   },
   {
    "duration": 0,
    "start_time": "2022-12-06T15:37:30.224Z"
   },
   {
    "duration": 0,
    "start_time": "2022-12-06T15:37:30.225Z"
   },
   {
    "duration": 790,
    "start_time": "2022-12-06T15:38:06.059Z"
   },
   {
    "duration": 769,
    "start_time": "2022-12-06T15:38:19.905Z"
   },
   {
    "duration": 8,
    "start_time": "2022-12-06T15:39:38.492Z"
   },
   {
    "duration": 8,
    "start_time": "2022-12-06T15:39:44.970Z"
   },
   {
    "duration": 13,
    "start_time": "2022-12-06T15:40:21.292Z"
   },
   {
    "duration": 13,
    "start_time": "2022-12-06T15:40:44.858Z"
   },
   {
    "duration": 4,
    "start_time": "2022-12-06T15:41:23.715Z"
   },
   {
    "duration": 4,
    "start_time": "2022-12-06T15:41:30.450Z"
   },
   {
    "duration": 704,
    "start_time": "2022-12-06T15:41:47.687Z"
   },
   {
    "duration": 5,
    "start_time": "2022-12-06T15:41:56.418Z"
   },
   {
    "duration": 4,
    "start_time": "2022-12-06T15:42:27.874Z"
   },
   {
    "duration": 7,
    "start_time": "2022-12-06T15:43:59.970Z"
   },
   {
    "duration": 4,
    "start_time": "2022-12-06T15:44:42.259Z"
   },
   {
    "duration": 229,
    "start_time": "2022-12-06T15:44:42.265Z"
   },
   {
    "duration": 122,
    "start_time": "2022-12-06T15:44:42.497Z"
   },
   {
    "duration": 127,
    "start_time": "2022-12-06T15:44:42.622Z"
   },
   {
    "duration": 30,
    "start_time": "2022-12-06T15:44:42.751Z"
   },
   {
    "duration": 100,
    "start_time": "2022-12-06T15:44:42.784Z"
   },
   {
    "duration": 31,
    "start_time": "2022-12-06T15:44:42.886Z"
   },
   {
    "duration": 53,
    "start_time": "2022-12-06T15:44:42.918Z"
   },
   {
    "duration": 109,
    "start_time": "2022-12-06T15:44:42.973Z"
   },
   {
    "duration": 182,
    "start_time": "2022-12-06T15:44:43.085Z"
   },
   {
    "duration": 67,
    "start_time": "2022-12-06T15:44:43.269Z"
   },
   {
    "duration": 119,
    "start_time": "2022-12-06T15:44:43.338Z"
   },
   {
    "duration": 29,
    "start_time": "2022-12-06T15:44:43.459Z"
   },
   {
    "duration": 25,
    "start_time": "2022-12-06T15:44:43.490Z"
   },
   {
    "duration": 7,
    "start_time": "2022-12-06T15:44:43.519Z"
   },
   {
    "duration": 342,
    "start_time": "2022-12-06T15:44:43.530Z"
   },
   {
    "duration": 19,
    "start_time": "2022-12-06T15:44:43.874Z"
   },
   {
    "duration": 254,
    "start_time": "2022-12-06T15:44:43.894Z"
   },
   {
    "duration": 198,
    "start_time": "2022-12-06T15:44:44.150Z"
   },
   {
    "duration": 56,
    "start_time": "2022-12-06T15:44:44.349Z"
   },
   {
    "duration": 58,
    "start_time": "2022-12-06T15:44:44.416Z"
   },
   {
    "duration": 123,
    "start_time": "2022-12-06T15:44:44.476Z"
   },
   {
    "duration": 16,
    "start_time": "2022-12-06T15:44:44.600Z"
   },
   {
    "duration": 117,
    "start_time": "2022-12-06T15:44:44.618Z"
   },
   {
    "duration": 63,
    "start_time": "2022-12-06T15:44:44.736Z"
   },
   {
    "duration": 192,
    "start_time": "2022-12-06T15:44:44.801Z"
   },
   {
    "duration": 8,
    "start_time": "2022-12-06T15:44:44.995Z"
   },
   {
    "duration": 960,
    "start_time": "2022-12-06T15:44:45.015Z"
   },
   {
    "duration": 8,
    "start_time": "2022-12-06T15:44:45.977Z"
   },
   {
    "duration": 14,
    "start_time": "2022-12-06T15:44:45.986Z"
   },
   {
    "duration": 14,
    "start_time": "2022-12-06T15:44:46.002Z"
   },
   {
    "duration": 10,
    "start_time": "2022-12-06T15:44:46.018Z"
   },
   {
    "duration": 10,
    "start_time": "2022-12-06T15:44:46.029Z"
   },
   {
    "duration": 9,
    "start_time": "2022-12-06T15:44:46.041Z"
   },
   {
    "duration": 762,
    "start_time": "2022-12-06T15:44:46.052Z"
   },
   {
    "duration": 4,
    "start_time": "2022-12-06T15:46:40.555Z"
   },
   {
    "duration": 8,
    "start_time": "2022-12-06T15:46:53.135Z"
   },
   {
    "duration": 883,
    "start_time": "2022-12-06T16:05:24.511Z"
   },
   {
    "duration": 702,
    "start_time": "2022-12-06T16:06:20.644Z"
   },
   {
    "duration": 4,
    "start_time": "2022-12-06T16:06:50.719Z"
   },
   {
    "duration": 194,
    "start_time": "2022-12-06T16:06:50.725Z"
   },
   {
    "duration": 104,
    "start_time": "2022-12-06T16:06:50.921Z"
   },
   {
    "duration": 161,
    "start_time": "2022-12-06T16:06:51.028Z"
   },
   {
    "duration": 37,
    "start_time": "2022-12-06T16:06:51.191Z"
   },
   {
    "duration": 92,
    "start_time": "2022-12-06T16:06:51.230Z"
   },
   {
    "duration": 20,
    "start_time": "2022-12-06T16:06:51.324Z"
   },
   {
    "duration": 41,
    "start_time": "2022-12-06T16:06:51.346Z"
   },
   {
    "duration": 98,
    "start_time": "2022-12-06T16:06:51.390Z"
   },
   {
    "duration": 144,
    "start_time": "2022-12-06T16:06:51.490Z"
   },
   {
    "duration": 56,
    "start_time": "2022-12-06T16:06:51.636Z"
   },
   {
    "duration": 138,
    "start_time": "2022-12-06T16:06:51.693Z"
   },
   {
    "duration": 24,
    "start_time": "2022-12-06T16:06:51.833Z"
   },
   {
    "duration": 5,
    "start_time": "2022-12-06T16:06:51.858Z"
   },
   {
    "duration": 15,
    "start_time": "2022-12-06T16:06:51.865Z"
   },
   {
    "duration": 290,
    "start_time": "2022-12-06T16:06:51.881Z"
   },
   {
    "duration": 14,
    "start_time": "2022-12-06T16:06:52.173Z"
   },
   {
    "duration": 252,
    "start_time": "2022-12-06T16:06:52.189Z"
   },
   {
    "duration": 231,
    "start_time": "2022-12-06T16:06:52.443Z"
   },
   {
    "duration": 62,
    "start_time": "2022-12-06T16:06:52.675Z"
   },
   {
    "duration": 90,
    "start_time": "2022-12-06T16:06:52.739Z"
   },
   {
    "duration": 114,
    "start_time": "2022-12-06T16:06:52.831Z"
   },
   {
    "duration": 9,
    "start_time": "2022-12-06T16:06:52.947Z"
   },
   {
    "duration": 203,
    "start_time": "2022-12-06T16:06:52.960Z"
   },
   {
    "duration": 74,
    "start_time": "2022-12-06T16:06:53.165Z"
   },
   {
    "duration": 183,
    "start_time": "2022-12-06T16:06:53.241Z"
   },
   {
    "duration": 9,
    "start_time": "2022-12-06T16:06:53.425Z"
   },
   {
    "duration": 926,
    "start_time": "2022-12-06T16:06:53.436Z"
   },
   {
    "duration": 8,
    "start_time": "2022-12-06T16:06:54.364Z"
   },
   {
    "duration": 14,
    "start_time": "2022-12-06T16:06:54.374Z"
   },
   {
    "duration": 20,
    "start_time": "2022-12-06T16:06:54.389Z"
   },
   {
    "duration": 14,
    "start_time": "2022-12-06T16:06:54.416Z"
   },
   {
    "duration": 10,
    "start_time": "2022-12-06T16:06:54.432Z"
   },
   {
    "duration": 10,
    "start_time": "2022-12-06T16:06:54.444Z"
   },
   {
    "duration": 759,
    "start_time": "2022-12-06T16:06:54.455Z"
   },
   {
    "duration": 8,
    "start_time": "2022-12-06T16:07:24.370Z"
   },
   {
    "duration": 65,
    "start_time": "2022-12-06T16:11:48.509Z"
   },
   {
    "duration": 1153,
    "start_time": "2022-12-07T06:51:46.155Z"
   },
   {
    "duration": 893,
    "start_time": "2022-12-07T06:51:47.311Z"
   },
   {
    "duration": 91,
    "start_time": "2022-12-07T06:51:48.206Z"
   },
   {
    "duration": 148,
    "start_time": "2022-12-07T06:51:48.298Z"
   },
   {
    "duration": 24,
    "start_time": "2022-12-07T06:51:48.448Z"
   },
   {
    "duration": 104,
    "start_time": "2022-12-07T06:51:48.474Z"
   },
   {
    "duration": 21,
    "start_time": "2022-12-07T06:51:48.579Z"
   },
   {
    "duration": 65,
    "start_time": "2022-12-07T06:51:48.602Z"
   },
   {
    "duration": 91,
    "start_time": "2022-12-07T06:51:48.669Z"
   },
   {
    "duration": 158,
    "start_time": "2022-12-07T06:51:48.762Z"
   },
   {
    "duration": 77,
    "start_time": "2022-12-07T06:51:48.922Z"
   },
   {
    "duration": 173,
    "start_time": "2022-12-07T06:51:49.001Z"
   },
   {
    "duration": 29,
    "start_time": "2022-12-07T06:51:49.175Z"
   },
   {
    "duration": 6,
    "start_time": "2022-12-07T06:51:49.206Z"
   },
   {
    "duration": 25,
    "start_time": "2022-12-07T06:51:49.214Z"
   },
   {
    "duration": 277,
    "start_time": "2022-12-07T06:51:49.241Z"
   },
   {
    "duration": 23,
    "start_time": "2022-12-07T06:51:49.520Z"
   },
   {
    "duration": 256,
    "start_time": "2022-12-07T06:51:49.545Z"
   },
   {
    "duration": 219,
    "start_time": "2022-12-07T06:51:49.803Z"
   },
   {
    "duration": 63,
    "start_time": "2022-12-07T06:51:50.024Z"
   },
   {
    "duration": 77,
    "start_time": "2022-12-07T06:51:50.089Z"
   },
   {
    "duration": 118,
    "start_time": "2022-12-07T06:51:50.168Z"
   },
   {
    "duration": 12,
    "start_time": "2022-12-07T06:51:50.288Z"
   },
   {
    "duration": 131,
    "start_time": "2022-12-07T06:51:50.302Z"
   },
   {
    "duration": 66,
    "start_time": "2022-12-07T06:51:50.438Z"
   },
   {
    "duration": 225,
    "start_time": "2022-12-07T06:51:50.506Z"
   },
   {
    "duration": 9,
    "start_time": "2022-12-07T06:51:50.737Z"
   },
   {
    "duration": 1118,
    "start_time": "2022-12-07T06:51:50.749Z"
   },
   {
    "duration": 7,
    "start_time": "2022-12-07T06:51:51.869Z"
   },
   {
    "duration": 14,
    "start_time": "2022-12-07T06:51:51.878Z"
   },
   {
    "duration": 19,
    "start_time": "2022-12-07T06:51:51.894Z"
   },
   {
    "duration": 20,
    "start_time": "2022-12-07T06:51:51.915Z"
   },
   {
    "duration": 11,
    "start_time": "2022-12-07T06:51:51.938Z"
   },
   {
    "duration": 9,
    "start_time": "2022-12-07T06:51:51.950Z"
   },
   {
    "duration": 5,
    "start_time": "2022-12-07T06:55:20.928Z"
   },
   {
    "duration": 1426,
    "start_time": "2022-12-22T13:30:07.749Z"
   },
   {
    "duration": 3,
    "start_time": "2022-12-22T13:30:37.274Z"
   },
   {
    "duration": 679,
    "start_time": "2022-12-22T13:32:46.597Z"
   },
   {
    "duration": 117,
    "start_time": "2022-12-28T20:31:09.807Z"
   },
   {
    "duration": 53,
    "start_time": "2023-02-01T12:48:21.015Z"
   },
   {
    "duration": 1227,
    "start_time": "2023-02-01T13:06:14.134Z"
   },
   {
    "duration": 730,
    "start_time": "2023-02-01T13:06:15.363Z"
   },
   {
    "duration": 85,
    "start_time": "2023-02-01T13:06:16.094Z"
   },
   {
    "duration": 135,
    "start_time": "2023-02-01T13:06:16.181Z"
   },
   {
    "duration": 21,
    "start_time": "2023-02-01T13:06:16.318Z"
   },
   {
    "duration": 108,
    "start_time": "2023-02-01T13:06:16.341Z"
   },
   {
    "duration": 18,
    "start_time": "2023-02-01T13:06:16.451Z"
   },
   {
    "duration": 59,
    "start_time": "2023-02-01T13:06:16.470Z"
   },
   {
    "duration": 85,
    "start_time": "2023-02-01T13:06:16.530Z"
   },
   {
    "duration": 114,
    "start_time": "2023-02-01T13:06:16.617Z"
   },
   {
    "duration": 46,
    "start_time": "2023-02-01T13:06:16.733Z"
   },
   {
    "duration": 122,
    "start_time": "2023-02-01T13:06:16.782Z"
   },
   {
    "duration": 21,
    "start_time": "2023-02-01T13:06:16.906Z"
   },
   {
    "duration": 5,
    "start_time": "2023-02-01T13:06:16.929Z"
   },
   {
    "duration": 6,
    "start_time": "2023-02-01T13:06:16.936Z"
   },
   {
    "duration": 280,
    "start_time": "2023-02-01T13:06:16.944Z"
   },
   {
    "duration": 14,
    "start_time": "2023-02-01T13:06:17.225Z"
   },
   {
    "duration": 202,
    "start_time": "2023-02-01T13:06:17.240Z"
   },
   {
    "duration": 175,
    "start_time": "2023-02-01T13:06:17.444Z"
   },
   {
    "duration": 51,
    "start_time": "2023-02-01T13:06:17.621Z"
   },
   {
    "duration": 69,
    "start_time": "2023-02-01T13:06:17.673Z"
   },
   {
    "duration": 107,
    "start_time": "2023-02-01T13:06:17.743Z"
   },
   {
    "duration": 10,
    "start_time": "2023-02-01T13:06:17.852Z"
   },
   {
    "duration": 118,
    "start_time": "2023-02-01T13:06:17.863Z"
   },
   {
    "duration": 65,
    "start_time": "2023-02-01T13:06:17.983Z"
   },
   {
    "duration": 203,
    "start_time": "2023-02-01T13:06:18.049Z"
   },
   {
    "duration": 8,
    "start_time": "2023-02-01T13:06:18.254Z"
   },
   {
    "duration": 1018,
    "start_time": "2023-02-01T13:06:18.264Z"
   },
   {
    "duration": 16,
    "start_time": "2023-02-01T13:06:19.283Z"
   },
   {
    "duration": 15,
    "start_time": "2023-02-01T13:06:19.301Z"
   },
   {
    "duration": 14,
    "start_time": "2023-02-01T13:06:19.318Z"
   },
   {
    "duration": 9,
    "start_time": "2023-02-01T13:06:19.334Z"
   },
   {
    "duration": 10,
    "start_time": "2023-02-01T13:06:19.345Z"
   },
   {
    "duration": 10,
    "start_time": "2023-02-01T13:06:19.357Z"
   },
   {
    "duration": 61,
    "start_time": "2023-02-07T19:04:15.538Z"
   },
   {
    "duration": 1292,
    "start_time": "2023-02-07T19:04:19.443Z"
   },
   {
    "duration": 950,
    "start_time": "2023-02-07T19:04:20.737Z"
   },
   {
    "duration": 112,
    "start_time": "2023-02-07T19:04:21.689Z"
   },
   {
    "duration": 167,
    "start_time": "2023-02-07T19:04:21.802Z"
   },
   {
    "duration": 35,
    "start_time": "2023-02-07T19:04:21.978Z"
   },
   {
    "duration": 115,
    "start_time": "2023-02-07T19:04:22.015Z"
   },
   {
    "duration": 25,
    "start_time": "2023-02-07T19:04:22.132Z"
   },
   {
    "duration": 71,
    "start_time": "2023-02-07T19:04:22.158Z"
   },
   {
    "duration": 107,
    "start_time": "2023-02-07T19:04:22.230Z"
   },
   {
    "duration": 171,
    "start_time": "2023-02-07T19:04:22.340Z"
   },
   {
    "duration": 76,
    "start_time": "2023-02-07T19:04:22.513Z"
   },
   {
    "duration": 138,
    "start_time": "2023-02-07T19:04:22.591Z"
   },
   {
    "duration": 51,
    "start_time": "2023-02-07T19:04:22.731Z"
   },
   {
    "duration": 6,
    "start_time": "2023-02-07T19:04:22.789Z"
   },
   {
    "duration": 6,
    "start_time": "2023-02-07T19:04:22.796Z"
   },
   {
    "duration": 307,
    "start_time": "2023-02-07T19:04:22.804Z"
   },
   {
    "duration": 14,
    "start_time": "2023-02-07T19:04:23.112Z"
   },
   {
    "duration": 314,
    "start_time": "2023-02-07T19:04:23.128Z"
   },
   {
    "duration": 252,
    "start_time": "2023-02-07T19:04:23.444Z"
   },
   {
    "duration": 79,
    "start_time": "2023-02-07T19:04:23.698Z"
   },
   {
    "duration": 82,
    "start_time": "2023-02-07T19:04:23.780Z"
   },
   {
    "duration": 132,
    "start_time": "2023-02-07T19:04:23.865Z"
   },
   {
    "duration": 11,
    "start_time": "2023-02-07T19:04:23.998Z"
   },
   {
    "duration": 134,
    "start_time": "2023-02-07T19:04:24.012Z"
   },
   {
    "duration": 78,
    "start_time": "2023-02-07T19:04:24.148Z"
   },
   {
    "duration": 265,
    "start_time": "2023-02-07T19:04:24.228Z"
   },
   {
    "duration": 8,
    "start_time": "2023-02-07T19:04:24.495Z"
   },
   {
    "duration": 1253,
    "start_time": "2023-02-07T19:04:24.506Z"
   },
   {
    "duration": 8,
    "start_time": "2023-02-07T19:04:25.763Z"
   },
   {
    "duration": 19,
    "start_time": "2023-02-07T19:04:25.779Z"
   },
   {
    "duration": 12,
    "start_time": "2023-02-07T19:04:25.800Z"
   },
   {
    "duration": 14,
    "start_time": "2023-02-07T19:04:25.815Z"
   },
   {
    "duration": 14,
    "start_time": "2023-02-07T19:04:25.831Z"
   },
   {
    "duration": 23,
    "start_time": "2023-02-07T19:04:25.847Z"
   },
   {
    "duration": 25,
    "start_time": "2023-02-07T19:04:25.874Z"
   },
   {
    "duration": 5,
    "start_time": "2023-02-07T19:05:07.440Z"
   }
  ],
  "kernelspec": {
   "display_name": "Python 3 (ipykernel)",
   "language": "python",
   "name": "python3"
  },
  "language_info": {
   "codemirror_mode": {
    "name": "ipython",
    "version": 3
   },
   "file_extension": ".py",
   "mimetype": "text/x-python",
   "name": "python",
   "nbconvert_exporter": "python",
   "pygments_lexer": "ipython3",
   "version": "3.9.13"
  },
  "toc": {
   "base_numbering": "",
   "nav_menu": {},
   "number_sections": false,
   "sideBar": true,
   "skip_h1_title": true,
   "title_cell": "Table of Contents",
   "title_sidebar": "Contents",
   "toc_cell": false,
   "toc_position": {
    "height": "calc(100% - 180px)",
    "left": "10px",
    "top": "150px",
    "width": "165px"
   },
   "toc_section_display": true,
   "toc_window_display": false
  }
 },
 "nbformat": 4,
 "nbformat_minor": 2
}
